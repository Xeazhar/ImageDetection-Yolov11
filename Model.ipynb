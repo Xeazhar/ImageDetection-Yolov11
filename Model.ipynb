{
 "cells": [
  {
   "cell_type": "code",
   "execution_count": null,
   "id": "6e847c1d-1495-4e96-9a38-dae19e3a6d58",
   "metadata": {},
   "outputs": [],
   "source": [
    "pip install --upgrade ultralytics"
   ]
  },
  {
   "cell_type": "code",
   "execution_count": null,
   "id": "f5c3cf32-dbe0-4f4e-a351-b7e86ff88e58",
   "metadata": {},
   "outputs": [],
   "source": [
    "# Cuts the dataset into 5 folds (images only, no labels)\n",
    "import os\n",
    "import shutil\n",
    "from sklearn.model_selection import StratifiedKFold\n",
    "from pathlib import Path\n",
    "\n",
    "# Parameters: adjust these paths as needed\n",
    "dataset_dir = r\"C:\\Users\\jazzb\\ImageDetection-Yolov11\\Road_Damage\"\n",
    "output_dir = r\"C:\\Users\\jazzb\\ImageDetection-Yolov11\\Road_Damage\\folds\"\n",
    "n_splits = 5\n",
    "random_state = 42\n",
    "copy_files = True  # Set to False to use symlinks instead of copying\n",
    "\n",
    "# Gather all samples and class labels\n",
    "train_dir = Path(dataset_dir) / 'train'\n",
    "test_dir = Path(dataset_dir) / 'test'\n",
    "samples = []  # (img_path, class_name) - Removed label_path\n",
    "class_names = []\n",
    "for cls_dir in sorted(train_dir.iterdir()):\n",
    "    if not cls_dir.is_dir():\n",
    "        continue\n",
    "    cls = cls_dir.name\n",
    "    class_names.append(cls)\n",
    "    for img_path in (cls_dir / 'images').glob('*.*'):\n",
    "        samples.append((img_path, cls))  # Removed lbl_path\n",
    "\n",
    "# Prepare arrays for stratification\n",
    "image_paths = [s[0] for s in samples]\n",
    "y = [class_names.index(s[1]) for s in samples]  # Changed index to use the class_name from the simplified samples\n",
    "\n",
    "# Initialize StratifiedKFold\n",
    "skf = StratifiedKFold(n_splits=n_splits, shuffle=True, random_state=random_state)\n",
    "summary = {}\n",
    "\n",
    "# Create folds\n",
    "for fold_idx, (train_idx, val_idx) in enumerate(skf.split(image_paths, y), start=1):\n",
    "    fold_base = Path(output_dir) / f\"fold_{fold_idx}\"\n",
    "    summary[fold_idx] = {'train': len(train_idx), 'val': len(val_idx), 'test': 0}\n",
    "\n",
    "    # Train/val splits\n",
    "    for split, idxs in [('train', train_idx), ('val', val_idx)]:\n",
    "        for cls in class_names:\n",
    "            (fold_base / split / cls / 'images').mkdir(parents=True, exist_ok=True)\n",
    "        for i in idxs:\n",
    "            img_src, cls_name = image_paths[i], samples[i][1]  # Removed lbl_src\n",
    "            img_dst = fold_base / split / cls_name / 'images' / img_src.name\n",
    "            if copy_files:\n",
    "                shutil.copy(img_src, img_dst)\n",
    "            else:\n",
    "                os.symlink(img_src.resolve(), img_dst)\n",
    "\n",
    "    # Copy test set unchanged\n",
    "    if test_dir.exists():\n",
    "        dst_test = fold_base / 'test'\n",
    "        if dst_test.exists():\n",
    "            shutil.rmtree(dst_test)\n",
    "        shutil.copytree(test_dir, dst_test)\n",
    "        test_images_dir = dst_test / 'images'\n",
    "        summary[fold_idx]['test'] = len(list(test_images_dir.glob('*.*')))\n",
    "\n",
    "# Print out summary to verify\n",
    "print(\"K-fold generation summary:\")\n",
    "for fold, counts in summary.items():\n",
    "    print(f\"Fold {fold}: train={counts['train']}, val={counts['val']}, test={counts['test']}\")"
   ]
  },
  {
   "cell_type": "code",
   "execution_count": 1,
   "id": "d1a2f968-455e-418f-9c8c-677ca0dffe25",
   "metadata": {},
   "outputs": [
    {
     "name": "stdout",
     "output_type": "stream",
     "text": [
      "Using device: cuda\n",
      "\n",
      "\n",
      "=== Training Fold 1/5 on folder C:\\Users\\jazzb\\ImageDetection-Yolov11\\Road_Damage\\folds\\fold_1 ===\n",
      "Ultralytics 8.3.133  Python-3.9.21 torch-2.5.1+cu121 CUDA:0 (NVIDIA GeForce RTX 4060 Laptop GPU, 8188MiB)\n",
      "\u001b[34m\u001b[1mengine\\trainer: \u001b[0magnostic_nms=False, amp=False, augment=False, auto_augment=randaugment, batch=8, bgr=0.0, box=7.5, cache=False, cfg=None, classes=None, close_mosaic=10, cls=0.5, conf=None, copy_paste=0.0, copy_paste_mode=flip, cos_lr=False, cutmix=0.0, data=C:\\Users\\jazzb\\ImageDetection-Yolov11\\Road_Damage\\folds\\fold_1, degrees=0.0, deterministic=True, device=0, dfl=1.5, dnn=False, dropout=0.2, dynamic=False, embed=None, epochs=100, erasing=0.4, exist_ok=True, fliplr=0.5, flipud=0.0, format=torchscript, fraction=1.0, freeze=None, half=False, hsv_h=0.015, hsv_s=0.7, hsv_v=0.4, imgsz=640, int8=False, iou=0.7, keras=False, kobj=1.0, line_width=None, lr0=0.01, lrf=0.01, mask_ratio=4, max_det=300, mixup=0.0, mode=train, model=models\\yolo11n-cls.pt, momentum=0.937, mosaic=1.0, multi_scale=False, name=results, nbs=64, nms=False, opset=None, optimize=False, optimizer=auto, overlap_mask=True, patience=5, perspective=0.0, plots=True, pose=12.0, pretrained=True, profile=False, project=C:\\Users\\jazzb\\ImageDetection-Yolov11\\Road_Damage\\folds\\fold_1, rect=False, resume=False, retina_masks=False, save=True, save_conf=False, save_crop=False, save_dir=C:\\Users\\jazzb\\ImageDetection-Yolov11\\Road_Damage\\folds\\fold_1\\results, save_frames=False, save_json=False, save_period=-1, save_txt=False, scale=0.5, seed=0, shear=0.0, show=False, show_boxes=True, show_conf=True, show_labels=True, simplify=True, single_cls=False, source=None, split=val, stream_buffer=False, task=classify, time=None, tracker=botsort.yaml, translate=0.1, val=True, verbose=True, vid_stride=1, visualize=False, warmup_bias_lr=0.1, warmup_epochs=3.0, warmup_momentum=0.8, weight_decay=0.0005, workers=8, workspace=None\n",
      "\u001b[34m\u001b[1mtrain:\u001b[0m C:\\Users\\jazzb\\ImageDetection-Yolov11\\Road_Damage\\folds\\fold_1\\train... found 1202 images in 5 classes  \n",
      "\u001b[34m\u001b[1mval:\u001b[0m C:\\Users\\jazzb\\ImageDetection-Yolov11\\Road_Damage\\folds\\fold_1\\val... found 301 images in 5 classes  \n",
      "\u001b[34m\u001b[1mtest:\u001b[0m C:\\Users\\jazzb\\ImageDetection-Yolov11\\Road_Damage\\folds\\fold_1\\test... found 48 images in 5 classes  \n",
      "Overriding model.yaml nc=80 with nc=5\n",
      "\n",
      "                   from  n    params  module                                       arguments                     \n",
      "  0                  -1  1       464  ultralytics.nn.modules.conv.Conv             [3, 16, 3, 2]                 \n",
      "  1                  -1  1      4672  ultralytics.nn.modules.conv.Conv             [16, 32, 3, 2]                \n",
      "  2                  -1  1      6640  ultralytics.nn.modules.block.C3k2            [32, 64, 1, False, 0.25]      \n",
      "  3                  -1  1     36992  ultralytics.nn.modules.conv.Conv             [64, 64, 3, 2]                \n",
      "  4                  -1  1     26080  ultralytics.nn.modules.block.C3k2            [64, 128, 1, False, 0.25]     \n",
      "  5                  -1  1    147712  ultralytics.nn.modules.conv.Conv             [128, 128, 3, 2]              \n",
      "  6                  -1  1     87040  ultralytics.nn.modules.block.C3k2            [128, 128, 1, True]           \n",
      "  7                  -1  1    295424  ultralytics.nn.modules.conv.Conv             [128, 256, 3, 2]              \n",
      "  8                  -1  1    346112  ultralytics.nn.modules.block.C3k2            [256, 256, 1, True]           \n",
      "  9                  -1  1    249728  ultralytics.nn.modules.block.C2PSA           [256, 256, 1]                 \n",
      " 10                  -1  1    336645  ultralytics.nn.modules.head.Classify         [256, 5]                      \n",
      "YOLO11n-cls summary: 86 layers, 1,537,509 parameters, 1,537,509 gradients, 3.3 GFLOPs\n",
      "Transferred 234/236 items from pretrained weights\n",
      "\u001b[34m\u001b[1mtrain: \u001b[0mFast image access  (ping: 0.10.0 ms, read: 229.135.1 MB/s, size: 163.5 KB)\n"
     ]
    },
    {
     "name": "stderr",
     "output_type": "stream",
     "text": [
      "\u001b[34m\u001b[1mtrain: \u001b[0mScanning C:\\Users\\jazzb\\ImageDetection-Yolov11\\Road_Damage\\folds\\fold_1\\train... 1202 images, 0 corrupt: 100%|██████████| 1202/1202 [00:00<?, ?it/s]\n"
     ]
    },
    {
     "name": "stdout",
     "output_type": "stream",
     "text": [
      "\u001b[34m\u001b[1mval: \u001b[0mFast image access  (ping: 0.20.0 ms, read: 295.973.1 MB/s, size: 168.5 KB)\n"
     ]
    },
    {
     "name": "stderr",
     "output_type": "stream",
     "text": [
      "\u001b[34m\u001b[1mval: \u001b[0mScanning C:\\Users\\jazzb\\ImageDetection-Yolov11\\Road_Damage\\folds\\fold_1\\val... 301 images, 0 corrupt: 100%|██████████| 301/301 [00:00<?, ?it/s]\n"
     ]
    },
    {
     "name": "stdout",
     "output_type": "stream",
     "text": [
      "\u001b[34m\u001b[1moptimizer:\u001b[0m 'optimizer=auto' found, ignoring 'lr0=0.01' and 'momentum=0.937' and determining best 'optimizer', 'lr0' and 'momentum' automatically... \n",
      "\u001b[34m\u001b[1moptimizer:\u001b[0m AdamW(lr=0.001111, momentum=0.9) with parameter groups 39 weight(decay=0.0), 40 weight(decay=0.0005), 40 bias(decay=0.0)\n",
      "Image sizes 640 train, 640 val\n",
      "Using 8 dataloader workers\n",
      "Logging results to \u001b[1mC:\\Users\\jazzb\\ImageDetection-Yolov11\\Road_Damage\\folds\\fold_1\\results\u001b[0m\n",
      "Starting training for 100 epochs...\n",
      "\n",
      "      Epoch    GPU_mem       loss  Instances       Size\n"
     ]
    },
    {
     "name": "stderr",
     "output_type": "stream",
     "text": [
      "      1/100       1.6G      1.056          2        640: 100%|██████████| 151/151 [00:11<00:00, 13.23it/s]\n",
      "               classes   top1_acc   top5_acc: 100%|██████████| 19/19 [00:00<00:00, 21.91it/s]"
     ]
    },
    {
     "name": "stdout",
     "output_type": "stream",
     "text": [
      "                   all      0.817          1\n"
     ]
    },
    {
     "name": "stderr",
     "output_type": "stream",
     "text": [
      "\n"
     ]
    },
    {
     "name": "stdout",
     "output_type": "stream",
     "text": [
      "\n",
      "      Epoch    GPU_mem       loss  Instances       Size\n"
     ]
    },
    {
     "name": "stderr",
     "output_type": "stream",
     "text": [
      "      2/100       1.8G     0.4839          2        640: 100%|██████████| 151/151 [00:08<00:00, 17.58it/s]\n",
      "               classes   top1_acc   top5_acc: 100%|██████████| 19/19 [00:00<00:00, 25.14it/s]"
     ]
    },
    {
     "name": "stdout",
     "output_type": "stream",
     "text": [
      "                   all      0.927          1\n"
     ]
    },
    {
     "name": "stderr",
     "output_type": "stream",
     "text": [
      "\n"
     ]
    },
    {
     "name": "stdout",
     "output_type": "stream",
     "text": [
      "\n",
      "      Epoch    GPU_mem       loss  Instances       Size\n"
     ]
    },
    {
     "name": "stderr",
     "output_type": "stream",
     "text": [
      "      3/100       1.8G     0.4158          2        640: 100%|██████████| 151/151 [00:08<00:00, 17.70it/s]\n",
      "               classes   top1_acc   top5_acc: 100%|██████████| 19/19 [00:00<00:00, 25.34it/s]"
     ]
    },
    {
     "name": "stdout",
     "output_type": "stream",
     "text": [
      "                   all      0.934          1\n"
     ]
    },
    {
     "name": "stderr",
     "output_type": "stream",
     "text": [
      "\n"
     ]
    },
    {
     "name": "stdout",
     "output_type": "stream",
     "text": [
      "\n",
      "      Epoch    GPU_mem       loss  Instances       Size\n"
     ]
    },
    {
     "name": "stderr",
     "output_type": "stream",
     "text": [
      "      4/100       1.8G     0.3604          2        640: 100%|██████████| 151/151 [00:08<00:00, 18.15it/s]\n",
      "               classes   top1_acc   top5_acc: 100%|██████████| 19/19 [00:00<00:00, 26.56it/s]"
     ]
    },
    {
     "name": "stdout",
     "output_type": "stream",
     "text": [
      "                   all      0.914          1\n"
     ]
    },
    {
     "name": "stderr",
     "output_type": "stream",
     "text": [
      "\n"
     ]
    },
    {
     "name": "stdout",
     "output_type": "stream",
     "text": [
      "\n",
      "      Epoch    GPU_mem       loss  Instances       Size\n"
     ]
    },
    {
     "name": "stderr",
     "output_type": "stream",
     "text": [
      "      5/100       1.8G     0.3295          2        640: 100%|██████████| 151/151 [00:08<00:00, 17.76it/s]\n",
      "               classes   top1_acc   top5_acc: 100%|██████████| 19/19 [00:00<00:00, 25.69it/s]"
     ]
    },
    {
     "name": "stdout",
     "output_type": "stream",
     "text": [
      "                   all      0.944          1\n"
     ]
    },
    {
     "name": "stderr",
     "output_type": "stream",
     "text": [
      "\n"
     ]
    },
    {
     "name": "stdout",
     "output_type": "stream",
     "text": [
      "\n",
      "      Epoch    GPU_mem       loss  Instances       Size\n"
     ]
    },
    {
     "name": "stderr",
     "output_type": "stream",
     "text": [
      "      6/100       1.8G     0.2423          2        640: 100%|██████████| 151/151 [00:08<00:00, 17.96it/s]\n",
      "               classes   top1_acc   top5_acc: 100%|██████████| 19/19 [00:00<00:00, 26.36it/s]"
     ]
    },
    {
     "name": "stdout",
     "output_type": "stream",
     "text": [
      "                   all      0.973          1\n"
     ]
    },
    {
     "name": "stderr",
     "output_type": "stream",
     "text": [
      "\n"
     ]
    },
    {
     "name": "stdout",
     "output_type": "stream",
     "text": [
      "\n",
      "      Epoch    GPU_mem       loss  Instances       Size\n"
     ]
    },
    {
     "name": "stderr",
     "output_type": "stream",
     "text": [
      "      7/100       1.8G     0.2531          2        640: 100%|██████████| 151/151 [00:08<00:00, 17.74it/s]\n",
      "               classes   top1_acc   top5_acc: 100%|██████████| 19/19 [00:00<00:00, 25.62it/s]"
     ]
    },
    {
     "name": "stdout",
     "output_type": "stream",
     "text": [
      "                   all      0.957          1\n"
     ]
    },
    {
     "name": "stderr",
     "output_type": "stream",
     "text": [
      "\n"
     ]
    },
    {
     "name": "stdout",
     "output_type": "stream",
     "text": [
      "\n",
      "      Epoch    GPU_mem       loss  Instances       Size\n"
     ]
    },
    {
     "name": "stderr",
     "output_type": "stream",
     "text": [
      "      8/100       1.8G      0.289          2        640: 100%|██████████| 151/151 [00:08<00:00, 17.93it/s]\n",
      "               classes   top1_acc   top5_acc: 100%|██████████| 19/19 [00:00<00:00, 25.65it/s]"
     ]
    },
    {
     "name": "stdout",
     "output_type": "stream",
     "text": [
      "                   all      0.944          1\n"
     ]
    },
    {
     "name": "stderr",
     "output_type": "stream",
     "text": [
      "\n"
     ]
    },
    {
     "name": "stdout",
     "output_type": "stream",
     "text": [
      "\n",
      "      Epoch    GPU_mem       loss  Instances       Size\n"
     ]
    },
    {
     "name": "stderr",
     "output_type": "stream",
     "text": [
      "      9/100       1.8G     0.1764          2        640: 100%|██████████| 151/151 [00:08<00:00, 18.25it/s]\n",
      "               classes   top1_acc   top5_acc: 100%|██████████| 19/19 [00:00<00:00, 25.90it/s]"
     ]
    },
    {
     "name": "stdout",
     "output_type": "stream",
     "text": [
      "                   all      0.977          1\n"
     ]
    },
    {
     "name": "stderr",
     "output_type": "stream",
     "text": [
      "\n"
     ]
    },
    {
     "name": "stdout",
     "output_type": "stream",
     "text": [
      "\n",
      "      Epoch    GPU_mem       loss  Instances       Size\n"
     ]
    },
    {
     "name": "stderr",
     "output_type": "stream",
     "text": [
      "     10/100       1.8G     0.1628          2        640: 100%|██████████| 151/151 [00:08<00:00, 17.31it/s]\n",
      "               classes   top1_acc   top5_acc: 100%|██████████| 19/19 [00:00<00:00, 26.40it/s]"
     ]
    },
    {
     "name": "stdout",
     "output_type": "stream",
     "text": [
      "                   all      0.973          1\n"
     ]
    },
    {
     "name": "stderr",
     "output_type": "stream",
     "text": [
      "\n"
     ]
    },
    {
     "name": "stdout",
     "output_type": "stream",
     "text": [
      "\n",
      "      Epoch    GPU_mem       loss  Instances       Size\n"
     ]
    },
    {
     "name": "stderr",
     "output_type": "stream",
     "text": [
      "     11/100       1.8G     0.1846          2        640: 100%|██████████| 151/151 [00:08<00:00, 17.82it/s]\n",
      "               classes   top1_acc   top5_acc: 100%|██████████| 19/19 [00:00<00:00, 25.48it/s]"
     ]
    },
    {
     "name": "stdout",
     "output_type": "stream",
     "text": [
      "                   all      0.987          1\n"
     ]
    },
    {
     "name": "stderr",
     "output_type": "stream",
     "text": [
      "\n"
     ]
    },
    {
     "name": "stdout",
     "output_type": "stream",
     "text": [
      "\n",
      "      Epoch    GPU_mem       loss  Instances       Size\n"
     ]
    },
    {
     "name": "stderr",
     "output_type": "stream",
     "text": [
      "     12/100       1.8G      0.197          2        640: 100%|██████████| 151/151 [00:08<00:00, 17.30it/s]\n",
      "               classes   top1_acc   top5_acc: 100%|██████████| 19/19 [00:00<00:00, 24.39it/s]"
     ]
    },
    {
     "name": "stdout",
     "output_type": "stream",
     "text": [
      "                   all      0.977          1\n"
     ]
    },
    {
     "name": "stderr",
     "output_type": "stream",
     "text": [
      "\n"
     ]
    },
    {
     "name": "stdout",
     "output_type": "stream",
     "text": [
      "\n",
      "      Epoch    GPU_mem       loss  Instances       Size\n"
     ]
    },
    {
     "name": "stderr",
     "output_type": "stream",
     "text": [
      "     13/100       1.8G     0.1935          2        640: 100%|██████████| 151/151 [00:08<00:00, 17.88it/s]\n",
      "               classes   top1_acc   top5_acc: 100%|██████████| 19/19 [00:00<00:00, 25.50it/s]"
     ]
    },
    {
     "name": "stdout",
     "output_type": "stream",
     "text": [
      "                   all      0.987          1\n"
     ]
    },
    {
     "name": "stderr",
     "output_type": "stream",
     "text": [
      "\n"
     ]
    },
    {
     "name": "stdout",
     "output_type": "stream",
     "text": [
      "\n",
      "      Epoch    GPU_mem       loss  Instances       Size\n"
     ]
    },
    {
     "name": "stderr",
     "output_type": "stream",
     "text": [
      "     14/100       1.8G     0.1656          2        640: 100%|██████████| 151/151 [00:08<00:00, 17.64it/s]\n",
      "               classes   top1_acc   top5_acc: 100%|██████████| 19/19 [00:00<00:00, 26.00it/s]"
     ]
    },
    {
     "name": "stdout",
     "output_type": "stream",
     "text": [
      "                   all      0.963          1\n"
     ]
    },
    {
     "name": "stderr",
     "output_type": "stream",
     "text": [
      "\n"
     ]
    },
    {
     "name": "stdout",
     "output_type": "stream",
     "text": [
      "\n",
      "      Epoch    GPU_mem       loss  Instances       Size\n"
     ]
    },
    {
     "name": "stderr",
     "output_type": "stream",
     "text": [
      "     15/100       1.8G     0.1363          2        640: 100%|██████████| 151/151 [00:08<00:00, 17.27it/s]\n",
      "               classes   top1_acc   top5_acc: 100%|██████████| 19/19 [00:00<00:00, 25.50it/s]"
     ]
    },
    {
     "name": "stdout",
     "output_type": "stream",
     "text": [
      "                   all      0.973          1\n"
     ]
    },
    {
     "name": "stderr",
     "output_type": "stream",
     "text": [
      "\n"
     ]
    },
    {
     "name": "stdout",
     "output_type": "stream",
     "text": [
      "\n",
      "      Epoch    GPU_mem       loss  Instances       Size\n"
     ]
    },
    {
     "name": "stderr",
     "output_type": "stream",
     "text": [
      "     16/100       1.8G     0.1714          2        640: 100%|██████████| 151/151 [00:08<00:00, 17.62it/s]\n",
      "               classes   top1_acc   top5_acc: 100%|██████████| 19/19 [00:00<00:00, 26.16it/s]"
     ]
    },
    {
     "name": "stdout",
     "output_type": "stream",
     "text": [
      "                   all       0.99          1\n"
     ]
    },
    {
     "name": "stderr",
     "output_type": "stream",
     "text": [
      "\n"
     ]
    },
    {
     "name": "stdout",
     "output_type": "stream",
     "text": [
      "\n",
      "      Epoch    GPU_mem       loss  Instances       Size\n"
     ]
    },
    {
     "name": "stderr",
     "output_type": "stream",
     "text": [
      "     17/100       1.8G     0.1517          2        640: 100%|██████████| 151/151 [00:08<00:00, 17.78it/s]\n",
      "               classes   top1_acc   top5_acc: 100%|██████████| 19/19 [00:00<00:00, 25.53it/s]"
     ]
    },
    {
     "name": "stdout",
     "output_type": "stream",
     "text": [
      "                   all      0.987          1\n"
     ]
    },
    {
     "name": "stderr",
     "output_type": "stream",
     "text": [
      "\n"
     ]
    },
    {
     "name": "stdout",
     "output_type": "stream",
     "text": [
      "\n",
      "      Epoch    GPU_mem       loss  Instances       Size\n"
     ]
    },
    {
     "name": "stderr",
     "output_type": "stream",
     "text": [
      "     18/100       1.8G     0.1398          2        640: 100%|██████████| 151/151 [00:08<00:00, 17.89it/s]\n",
      "               classes   top1_acc   top5_acc: 100%|██████████| 19/19 [00:00<00:00, 26.08it/s]"
     ]
    },
    {
     "name": "stdout",
     "output_type": "stream",
     "text": [
      "                   all       0.98          1\n"
     ]
    },
    {
     "name": "stderr",
     "output_type": "stream",
     "text": [
      "\n"
     ]
    },
    {
     "name": "stdout",
     "output_type": "stream",
     "text": [
      "\n",
      "      Epoch    GPU_mem       loss  Instances       Size\n"
     ]
    },
    {
     "name": "stderr",
     "output_type": "stream",
     "text": [
      "     19/100       1.8G     0.1265          2        640: 100%|██████████| 151/151 [00:08<00:00, 17.83it/s]\n",
      "               classes   top1_acc   top5_acc: 100%|██████████| 19/19 [00:00<00:00, 25.29it/s]"
     ]
    },
    {
     "name": "stdout",
     "output_type": "stream",
     "text": [
      "                   all      0.997          1\n"
     ]
    },
    {
     "name": "stderr",
     "output_type": "stream",
     "text": [
      "\n"
     ]
    },
    {
     "name": "stdout",
     "output_type": "stream",
     "text": [
      "\n",
      "      Epoch    GPU_mem       loss  Instances       Size\n"
     ]
    },
    {
     "name": "stderr",
     "output_type": "stream",
     "text": [
      "     20/100       1.8G    0.09982          2        640: 100%|██████████| 151/151 [00:08<00:00, 17.51it/s]\n",
      "               classes   top1_acc   top5_acc: 100%|██████████| 19/19 [00:00<00:00, 25.59it/s]"
     ]
    },
    {
     "name": "stdout",
     "output_type": "stream",
     "text": [
      "                   all      0.977          1\n"
     ]
    },
    {
     "name": "stderr",
     "output_type": "stream",
     "text": [
      "\n"
     ]
    },
    {
     "name": "stdout",
     "output_type": "stream",
     "text": [
      "\n",
      "      Epoch    GPU_mem       loss  Instances       Size\n"
     ]
    },
    {
     "name": "stderr",
     "output_type": "stream",
     "text": [
      "     21/100       1.8G     0.1084          2        640: 100%|██████████| 151/151 [00:08<00:00, 17.80it/s]\n",
      "               classes   top1_acc   top5_acc: 100%|██████████| 19/19 [00:00<00:00, 24.46it/s]"
     ]
    },
    {
     "name": "stdout",
     "output_type": "stream",
     "text": [
      "                   all      0.997          1\n"
     ]
    },
    {
     "name": "stderr",
     "output_type": "stream",
     "text": [
      "\n"
     ]
    },
    {
     "name": "stdout",
     "output_type": "stream",
     "text": [
      "\n",
      "      Epoch    GPU_mem       loss  Instances       Size\n"
     ]
    },
    {
     "name": "stderr",
     "output_type": "stream",
     "text": [
      "     22/100       1.8G     0.0953          2        640: 100%|██████████| 151/151 [00:08<00:00, 17.34it/s]\n",
      "               classes   top1_acc   top5_acc: 100%|██████████| 19/19 [00:00<00:00, 25.10it/s]"
     ]
    },
    {
     "name": "stdout",
     "output_type": "stream",
     "text": [
      "                   all      0.977          1\n"
     ]
    },
    {
     "name": "stderr",
     "output_type": "stream",
     "text": [
      "\n"
     ]
    },
    {
     "name": "stdout",
     "output_type": "stream",
     "text": [
      "\n",
      "      Epoch    GPU_mem       loss  Instances       Size\n"
     ]
    },
    {
     "name": "stderr",
     "output_type": "stream",
     "text": [
      "     23/100       1.8G    0.09946          2        640: 100%|██████████| 151/151 [00:08<00:00, 17.91it/s]\n",
      "               classes   top1_acc   top5_acc: 100%|██████████| 19/19 [00:00<00:00, 25.34it/s]"
     ]
    },
    {
     "name": "stdout",
     "output_type": "stream",
     "text": [
      "                   all      0.977          1\n"
     ]
    },
    {
     "name": "stderr",
     "output_type": "stream",
     "text": [
      "\n"
     ]
    },
    {
     "name": "stdout",
     "output_type": "stream",
     "text": [
      "\n",
      "      Epoch    GPU_mem       loss  Instances       Size\n"
     ]
    },
    {
     "name": "stderr",
     "output_type": "stream",
     "text": [
      "     24/100       1.8G    0.08063          2        640: 100%|██████████| 151/151 [00:08<00:00, 17.58it/s]\n",
      "               classes   top1_acc   top5_acc: 100%|██████████| 19/19 [00:00<00:00, 26.09it/s]"
     ]
    },
    {
     "name": "stdout",
     "output_type": "stream",
     "text": [
      "                   all       0.99          1\n"
     ]
    },
    {
     "name": "stderr",
     "output_type": "stream",
     "text": [
      "\n"
     ]
    },
    {
     "name": "stdout",
     "output_type": "stream",
     "text": [
      "\u001b[34m\u001b[1mEarlyStopping: \u001b[0mTraining stopped early as no improvement observed in last 5 epochs. Best results observed at epoch 19, best model saved as best.pt.\n",
      "To update EarlyStopping(patience=5) pass a new patience value, i.e. `patience=300` or use `patience=0` to disable EarlyStopping.\n",
      "\n",
      "24 epochs completed in 0.064 hours.\n",
      "Optimizer stripped from C:\\Users\\jazzb\\ImageDetection-Yolov11\\Road_Damage\\folds\\fold_1\\results\\weights\\last.pt, 3.2MB\n",
      "Optimizer stripped from C:\\Users\\jazzb\\ImageDetection-Yolov11\\Road_Damage\\folds\\fold_1\\results\\weights\\best.pt, 3.2MB\n",
      "\n",
      "Validating C:\\Users\\jazzb\\ImageDetection-Yolov11\\Road_Damage\\folds\\fold_1\\results\\weights\\best.pt...\n",
      "Ultralytics 8.3.133  Python-3.9.21 torch-2.5.1+cu121 CUDA:0 (NVIDIA GeForce RTX 4060 Laptop GPU, 8188MiB)\n",
      "YOLO11n-cls summary (fused): 47 layers, 1,532,429 parameters, 0 gradients, 3.2 GFLOPs\n",
      "\u001b[34m\u001b[1mtrain:\u001b[0m C:\\Users\\jazzb\\ImageDetection-Yolov11\\Road_Damage\\folds\\fold_1\\train... found 1202 images in 5 classes  \n",
      "\u001b[34m\u001b[1mval:\u001b[0m C:\\Users\\jazzb\\ImageDetection-Yolov11\\Road_Damage\\folds\\fold_1\\val... found 301 images in 5 classes  \n",
      "\u001b[34m\u001b[1mtest:\u001b[0m C:\\Users\\jazzb\\ImageDetection-Yolov11\\Road_Damage\\folds\\fold_1\\test... found 48 images in 5 classes  \n"
     ]
    },
    {
     "name": "stderr",
     "output_type": "stream",
     "text": [
      "               classes   top1_acc   top5_acc: 100%|██████████| 19/19 [00:00<00:00, 23.67it/s]\n"
     ]
    },
    {
     "name": "stdout",
     "output_type": "stream",
     "text": [
      "                   all      0.997          1\n",
      "Speed: 0.5ms preprocess, 1.7ms inference, 0.0ms loss, 0.0ms postprocess per image\n",
      "Results saved to \u001b[1mC:\\Users\\jazzb\\ImageDetection-Yolov11\\Road_Damage\\folds\\fold_1\\results\u001b[0m\n",
      "--- Fold 1 complete. Best weights in C:\\Users\\jazzb\\ImageDetection-Yolov11\\Road_Damage\\folds\\fold_1/results ---\n",
      "\n",
      "=== Training Fold 2/5 on folder C:\\Users\\jazzb\\ImageDetection-Yolov11\\Road_Damage\\folds\\fold_2 ===\n",
      "Ultralytics 8.3.133  Python-3.9.21 torch-2.5.1+cu121 CUDA:0 (NVIDIA GeForce RTX 4060 Laptop GPU, 8188MiB)\n",
      "\u001b[34m\u001b[1mengine\\trainer: \u001b[0magnostic_nms=False, amp=False, augment=False, auto_augment=randaugment, batch=8, bgr=0.0, box=7.5, cache=False, cfg=None, classes=None, close_mosaic=10, cls=0.5, conf=None, copy_paste=0.0, copy_paste_mode=flip, cos_lr=False, cutmix=0.0, data=C:\\Users\\jazzb\\ImageDetection-Yolov11\\Road_Damage\\folds\\fold_2, degrees=0.0, deterministic=True, device=0, dfl=1.5, dnn=False, dropout=0.2, dynamic=False, embed=None, epochs=100, erasing=0.4, exist_ok=True, fliplr=0.5, flipud=0.0, format=torchscript, fraction=1.0, freeze=None, half=False, hsv_h=0.015, hsv_s=0.7, hsv_v=0.4, imgsz=640, int8=False, iou=0.7, keras=False, kobj=1.0, line_width=None, lr0=0.01, lrf=0.01, mask_ratio=4, max_det=300, mixup=0.0, mode=train, model=models\\yolo11n-cls.pt, momentum=0.937, mosaic=1.0, multi_scale=False, name=results, nbs=64, nms=False, opset=None, optimize=False, optimizer=auto, overlap_mask=True, patience=5, perspective=0.0, plots=True, pose=12.0, pretrained=True, profile=False, project=C:\\Users\\jazzb\\ImageDetection-Yolov11\\Road_Damage\\folds\\fold_2, rect=False, resume=False, retina_masks=False, save=True, save_conf=False, save_crop=False, save_dir=C:\\Users\\jazzb\\ImageDetection-Yolov11\\Road_Damage\\folds\\fold_2\\results, save_frames=False, save_json=False, save_period=-1, save_txt=False, scale=0.5, seed=0, shear=0.0, show=False, show_boxes=True, show_conf=True, show_labels=True, simplify=True, single_cls=False, source=None, split=val, stream_buffer=False, task=classify, time=None, tracker=botsort.yaml, translate=0.1, val=True, verbose=True, vid_stride=1, visualize=False, warmup_bias_lr=0.1, warmup_epochs=3.0, warmup_momentum=0.8, weight_decay=0.0005, workers=8, workspace=None\n",
      "\u001b[34m\u001b[1mtrain:\u001b[0m C:\\Users\\jazzb\\ImageDetection-Yolov11\\Road_Damage\\folds\\fold_2\\train... found 1202 images in 5 classes  \n",
      "\u001b[34m\u001b[1mval:\u001b[0m C:\\Users\\jazzb\\ImageDetection-Yolov11\\Road_Damage\\folds\\fold_2\\val... found 301 images in 5 classes  \n",
      "\u001b[34m\u001b[1mtest:\u001b[0m C:\\Users\\jazzb\\ImageDetection-Yolov11\\Road_Damage\\folds\\fold_2\\test... found 48 images in 5 classes  \n",
      "Overriding model.yaml nc=80 with nc=5\n",
      "\n",
      "                   from  n    params  module                                       arguments                     \n",
      "  0                  -1  1       464  ultralytics.nn.modules.conv.Conv             [3, 16, 3, 2]                 \n",
      "  1                  -1  1      4672  ultralytics.nn.modules.conv.Conv             [16, 32, 3, 2]                \n",
      "  2                  -1  1      6640  ultralytics.nn.modules.block.C3k2            [32, 64, 1, False, 0.25]      \n",
      "  3                  -1  1     36992  ultralytics.nn.modules.conv.Conv             [64, 64, 3, 2]                \n",
      "  4                  -1  1     26080  ultralytics.nn.modules.block.C3k2            [64, 128, 1, False, 0.25]     \n",
      "  5                  -1  1    147712  ultralytics.nn.modules.conv.Conv             [128, 128, 3, 2]              \n",
      "  6                  -1  1     87040  ultralytics.nn.modules.block.C3k2            [128, 128, 1, True]           \n",
      "  7                  -1  1    295424  ultralytics.nn.modules.conv.Conv             [128, 256, 3, 2]              \n",
      "  8                  -1  1    346112  ultralytics.nn.modules.block.C3k2            [256, 256, 1, True]           \n",
      "  9                  -1  1    249728  ultralytics.nn.modules.block.C2PSA           [256, 256, 1]                 \n",
      " 10                  -1  1    336645  ultralytics.nn.modules.head.Classify         [256, 5]                      \n",
      "YOLO11n-cls summary: 86 layers, 1,537,509 parameters, 1,537,509 gradients, 3.3 GFLOPs\n",
      "Transferred 234/236 items from pretrained weights\n",
      "\u001b[34m\u001b[1mtrain: \u001b[0mFast image access  (ping: 0.10.0 ms, read: 352.192.2 MB/s, size: 164.7 KB)\n"
     ]
    },
    {
     "name": "stderr",
     "output_type": "stream",
     "text": [
      "\u001b[34m\u001b[1mtrain: \u001b[0mScanning C:\\Users\\jazzb\\ImageDetection-Yolov11\\Road_Damage\\folds\\fold_2\\train... 1202 images, 0 corrupt: 100%|██████████| 1202/1202 [00:00<?, ?it/s]\n"
     ]
    },
    {
     "name": "stdout",
     "output_type": "stream",
     "text": [
      "\u001b[34m\u001b[1mval: \u001b[0mFast image access  (ping: 0.10.0 ms, read: 1412.2876.6 MB/s, size: 203.7 KB)\n"
     ]
    },
    {
     "name": "stderr",
     "output_type": "stream",
     "text": [
      "\u001b[34m\u001b[1mval: \u001b[0mScanning C:\\Users\\jazzb\\ImageDetection-Yolov11\\Road_Damage\\folds\\fold_2\\val... 301 images, 0 corrupt: 100%|██████████| 301/301 [00:00<?, ?it/s]\n"
     ]
    },
    {
     "name": "stdout",
     "output_type": "stream",
     "text": [
      "\u001b[34m\u001b[1moptimizer:\u001b[0m 'optimizer=auto' found, ignoring 'lr0=0.01' and 'momentum=0.937' and determining best 'optimizer', 'lr0' and 'momentum' automatically... \n",
      "\u001b[34m\u001b[1moptimizer:\u001b[0m AdamW(lr=0.001111, momentum=0.9) with parameter groups 39 weight(decay=0.0), 40 weight(decay=0.0005), 40 bias(decay=0.0)\n",
      "Image sizes 640 train, 640 val\n",
      "Using 8 dataloader workers\n",
      "Logging results to \u001b[1mC:\\Users\\jazzb\\ImageDetection-Yolov11\\Road_Damage\\folds\\fold_2\\results\u001b[0m\n",
      "Starting training for 100 epochs...\n",
      "\n",
      "      Epoch    GPU_mem       loss  Instances       Size\n"
     ]
    },
    {
     "name": "stderr",
     "output_type": "stream",
     "text": [
      "      1/100      1.62G      1.071          2        640: 100%|██████████| 151/151 [00:11<00:00, 12.93it/s]\n",
      "               classes   top1_acc   top5_acc: 100%|██████████| 19/19 [00:00<00:00, 26.35it/s]\n"
     ]
    },
    {
     "name": "stdout",
     "output_type": "stream",
     "text": [
      "                   all      0.864          1\n",
      "\n",
      "      Epoch    GPU_mem       loss  Instances       Size\n"
     ]
    },
    {
     "name": "stderr",
     "output_type": "stream",
     "text": [
      "      2/100      1.81G     0.4792          2        640: 100%|██████████| 151/151 [00:09<00:00, 16.52it/s]\n",
      "               classes   top1_acc   top5_acc: 100%|██████████| 19/19 [00:00<00:00, 24.15it/s]"
     ]
    },
    {
     "name": "stdout",
     "output_type": "stream",
     "text": [
      "                   all      0.837          1\n"
     ]
    },
    {
     "name": "stderr",
     "output_type": "stream",
     "text": [
      "\n"
     ]
    },
    {
     "name": "stdout",
     "output_type": "stream",
     "text": [
      "\n",
      "      Epoch    GPU_mem       loss  Instances       Size\n"
     ]
    },
    {
     "name": "stderr",
     "output_type": "stream",
     "text": [
      "      3/100      1.81G     0.4376          2        640: 100%|██████████| 151/151 [00:08<00:00, 17.58it/s]\n",
      "               classes   top1_acc   top5_acc: 100%|██████████| 19/19 [00:00<00:00, 25.44it/s]"
     ]
    },
    {
     "name": "stdout",
     "output_type": "stream",
     "text": [
      "                   all       0.95          1\n"
     ]
    },
    {
     "name": "stderr",
     "output_type": "stream",
     "text": [
      "\n"
     ]
    },
    {
     "name": "stdout",
     "output_type": "stream",
     "text": [
      "\n",
      "      Epoch    GPU_mem       loss  Instances       Size\n"
     ]
    },
    {
     "name": "stderr",
     "output_type": "stream",
     "text": [
      "      4/100      1.81G     0.3268          2        640: 100%|██████████| 151/151 [00:08<00:00, 17.06it/s]\n",
      "               classes   top1_acc   top5_acc: 100%|██████████| 19/19 [00:00<00:00, 25.22it/s]"
     ]
    },
    {
     "name": "stdout",
     "output_type": "stream",
     "text": [
      "                   all      0.944          1\n"
     ]
    },
    {
     "name": "stderr",
     "output_type": "stream",
     "text": [
      "\n"
     ]
    },
    {
     "name": "stdout",
     "output_type": "stream",
     "text": [
      "\n",
      "      Epoch    GPU_mem       loss  Instances       Size\n"
     ]
    },
    {
     "name": "stderr",
     "output_type": "stream",
     "text": [
      "      5/100      1.81G     0.3501          2        640: 100%|██████████| 151/151 [00:08<00:00, 17.57it/s]\n",
      "               classes   top1_acc   top5_acc: 100%|██████████| 19/19 [00:00<00:00, 24.63it/s]"
     ]
    },
    {
     "name": "stdout",
     "output_type": "stream",
     "text": [
      "                   all      0.963          1\n"
     ]
    },
    {
     "name": "stderr",
     "output_type": "stream",
     "text": [
      "\n"
     ]
    },
    {
     "name": "stdout",
     "output_type": "stream",
     "text": [
      "\n",
      "      Epoch    GPU_mem       loss  Instances       Size\n"
     ]
    },
    {
     "name": "stderr",
     "output_type": "stream",
     "text": [
      "      6/100      1.81G     0.2788          2        640: 100%|██████████| 151/151 [00:08<00:00, 16.83it/s]\n",
      "               classes   top1_acc   top5_acc: 100%|██████████| 19/19 [00:00<00:00, 25.11it/s]\n"
     ]
    },
    {
     "name": "stdout",
     "output_type": "stream",
     "text": [
      "                   all      0.963          1\n",
      "\n",
      "      Epoch    GPU_mem       loss  Instances       Size\n"
     ]
    },
    {
     "name": "stderr",
     "output_type": "stream",
     "text": [
      "      7/100      1.81G     0.2942          2        640: 100%|██████████| 151/151 [00:08<00:00, 17.23it/s]\n",
      "               classes   top1_acc   top5_acc: 100%|██████████| 19/19 [00:00<00:00, 25.21it/s]"
     ]
    },
    {
     "name": "stdout",
     "output_type": "stream",
     "text": [
      "                   all       0.96          1\n"
     ]
    },
    {
     "name": "stderr",
     "output_type": "stream",
     "text": [
      "\n"
     ]
    },
    {
     "name": "stdout",
     "output_type": "stream",
     "text": [
      "\n",
      "      Epoch    GPU_mem       loss  Instances       Size\n"
     ]
    },
    {
     "name": "stderr",
     "output_type": "stream",
     "text": [
      "      8/100      1.81G      0.264          2        640: 100%|██████████| 151/151 [00:08<00:00, 17.61it/s]\n",
      "               classes   top1_acc   top5_acc: 100%|██████████| 19/19 [00:00<00:00, 25.12it/s]"
     ]
    },
    {
     "name": "stdout",
     "output_type": "stream",
     "text": [
      "                   all      0.987          1\n"
     ]
    },
    {
     "name": "stderr",
     "output_type": "stream",
     "text": [
      "\n"
     ]
    },
    {
     "name": "stdout",
     "output_type": "stream",
     "text": [
      "\n",
      "      Epoch    GPU_mem       loss  Instances       Size\n"
     ]
    },
    {
     "name": "stderr",
     "output_type": "stream",
     "text": [
      "      9/100      1.81G     0.2278          2        640: 100%|██████████| 151/151 [00:08<00:00, 17.31it/s]\n",
      "               classes   top1_acc   top5_acc: 100%|██████████| 19/19 [00:00<00:00, 24.57it/s]"
     ]
    },
    {
     "name": "stdout",
     "output_type": "stream",
     "text": [
      "                   all      0.983          1\n"
     ]
    },
    {
     "name": "stderr",
     "output_type": "stream",
     "text": [
      "\n"
     ]
    },
    {
     "name": "stdout",
     "output_type": "stream",
     "text": [
      "\n",
      "      Epoch    GPU_mem       loss  Instances       Size\n"
     ]
    },
    {
     "name": "stderr",
     "output_type": "stream",
     "text": [
      "     10/100      1.81G     0.1572          2        640: 100%|██████████| 151/151 [00:08<00:00, 17.64it/s]\n",
      "               classes   top1_acc   top5_acc: 100%|██████████| 19/19 [00:00<00:00, 24.84it/s]"
     ]
    },
    {
     "name": "stdout",
     "output_type": "stream",
     "text": [
      "                   all      0.983          1\n"
     ]
    },
    {
     "name": "stderr",
     "output_type": "stream",
     "text": [
      "\n"
     ]
    },
    {
     "name": "stdout",
     "output_type": "stream",
     "text": [
      "\n",
      "      Epoch    GPU_mem       loss  Instances       Size\n"
     ]
    },
    {
     "name": "stderr",
     "output_type": "stream",
     "text": [
      "     11/100      1.81G      0.165          2        640: 100%|██████████| 151/151 [00:08<00:00, 17.36it/s]\n",
      "               classes   top1_acc   top5_acc: 100%|██████████| 19/19 [00:00<00:00, 24.45it/s]"
     ]
    },
    {
     "name": "stdout",
     "output_type": "stream",
     "text": [
      "                   all       0.98          1\n"
     ]
    },
    {
     "name": "stderr",
     "output_type": "stream",
     "text": [
      "\n"
     ]
    },
    {
     "name": "stdout",
     "output_type": "stream",
     "text": [
      "\n",
      "      Epoch    GPU_mem       loss  Instances       Size\n"
     ]
    },
    {
     "name": "stderr",
     "output_type": "stream",
     "text": [
      "     12/100      1.81G     0.2063          2        640: 100%|██████████| 151/151 [00:08<00:00, 17.43it/s]\n",
      "               classes   top1_acc   top5_acc: 100%|██████████| 19/19 [00:00<00:00, 24.91it/s]"
     ]
    },
    {
     "name": "stdout",
     "output_type": "stream",
     "text": [
      "                   all       0.98          1\n"
     ]
    },
    {
     "name": "stderr",
     "output_type": "stream",
     "text": [
      "\n"
     ]
    },
    {
     "name": "stdout",
     "output_type": "stream",
     "text": [
      "\n",
      "      Epoch    GPU_mem       loss  Instances       Size\n"
     ]
    },
    {
     "name": "stderr",
     "output_type": "stream",
     "text": [
      "     13/100      1.81G     0.1723          2        640: 100%|██████████| 151/151 [00:08<00:00, 17.59it/s]\n",
      "               classes   top1_acc   top5_acc: 100%|██████████| 19/19 [00:00<00:00, 24.58it/s]"
     ]
    },
    {
     "name": "stdout",
     "output_type": "stream",
     "text": [
      "                   all      0.983          1\n",
      "\u001b[34m\u001b[1mEarlyStopping: \u001b[0mTraining stopped early as no improvement observed in last 5 epochs. Best results observed at epoch 8, best model saved as best.pt.\n",
      "To update EarlyStopping(patience=5) pass a new patience value, i.e. `patience=300` or use `patience=0` to disable EarlyStopping.\n"
     ]
    },
    {
     "name": "stderr",
     "output_type": "stream",
     "text": [
      "\n"
     ]
    },
    {
     "name": "stdout",
     "output_type": "stream",
     "text": [
      "\n",
      "13 epochs completed in 0.036 hours.\n",
      "Optimizer stripped from C:\\Users\\jazzb\\ImageDetection-Yolov11\\Road_Damage\\folds\\fold_2\\results\\weights\\last.pt, 3.2MB\n",
      "Optimizer stripped from C:\\Users\\jazzb\\ImageDetection-Yolov11\\Road_Damage\\folds\\fold_2\\results\\weights\\best.pt, 3.2MB\n",
      "\n",
      "Validating C:\\Users\\jazzb\\ImageDetection-Yolov11\\Road_Damage\\folds\\fold_2\\results\\weights\\best.pt...\n",
      "Ultralytics 8.3.133  Python-3.9.21 torch-2.5.1+cu121 CUDA:0 (NVIDIA GeForce RTX 4060 Laptop GPU, 8188MiB)\n",
      "YOLO11n-cls summary (fused): 47 layers, 1,532,429 parameters, 0 gradients, 3.2 GFLOPs\n",
      "\u001b[34m\u001b[1mtrain:\u001b[0m C:\\Users\\jazzb\\ImageDetection-Yolov11\\Road_Damage\\folds\\fold_2\\train... found 1202 images in 5 classes  \n",
      "\u001b[34m\u001b[1mval:\u001b[0m C:\\Users\\jazzb\\ImageDetection-Yolov11\\Road_Damage\\folds\\fold_2\\val... found 301 images in 5 classes  \n",
      "\u001b[34m\u001b[1mtest:\u001b[0m C:\\Users\\jazzb\\ImageDetection-Yolov11\\Road_Damage\\folds\\fold_2\\test... found 48 images in 5 classes  \n"
     ]
    },
    {
     "name": "stderr",
     "output_type": "stream",
     "text": [
      "               classes   top1_acc   top5_acc: 100%|██████████| 19/19 [00:00<00:00, 21.24it/s]\n"
     ]
    },
    {
     "name": "stdout",
     "output_type": "stream",
     "text": [
      "                   all      0.987          1\n",
      "Speed: 0.6ms preprocess, 2.2ms inference, 0.0ms loss, 0.0ms postprocess per image\n",
      "Results saved to \u001b[1mC:\\Users\\jazzb\\ImageDetection-Yolov11\\Road_Damage\\folds\\fold_2\\results\u001b[0m\n",
      "--- Fold 2 complete. Best weights in C:\\Users\\jazzb\\ImageDetection-Yolov11\\Road_Damage\\folds\\fold_2/results ---\n",
      "\n",
      "=== Training Fold 3/5 on folder C:\\Users\\jazzb\\ImageDetection-Yolov11\\Road_Damage\\folds\\fold_3 ===\n",
      "Ultralytics 8.3.133  Python-3.9.21 torch-2.5.1+cu121 CUDA:0 (NVIDIA GeForce RTX 4060 Laptop GPU, 8188MiB)\n",
      "\u001b[34m\u001b[1mengine\\trainer: \u001b[0magnostic_nms=False, amp=False, augment=False, auto_augment=randaugment, batch=8, bgr=0.0, box=7.5, cache=False, cfg=None, classes=None, close_mosaic=10, cls=0.5, conf=None, copy_paste=0.0, copy_paste_mode=flip, cos_lr=False, cutmix=0.0, data=C:\\Users\\jazzb\\ImageDetection-Yolov11\\Road_Damage\\folds\\fold_3, degrees=0.0, deterministic=True, device=0, dfl=1.5, dnn=False, dropout=0.2, dynamic=False, embed=None, epochs=100, erasing=0.4, exist_ok=True, fliplr=0.5, flipud=0.0, format=torchscript, fraction=1.0, freeze=None, half=False, hsv_h=0.015, hsv_s=0.7, hsv_v=0.4, imgsz=640, int8=False, iou=0.7, keras=False, kobj=1.0, line_width=None, lr0=0.01, lrf=0.01, mask_ratio=4, max_det=300, mixup=0.0, mode=train, model=models\\yolo11n-cls.pt, momentum=0.937, mosaic=1.0, multi_scale=False, name=results, nbs=64, nms=False, opset=None, optimize=False, optimizer=auto, overlap_mask=True, patience=5, perspective=0.0, plots=True, pose=12.0, pretrained=True, profile=False, project=C:\\Users\\jazzb\\ImageDetection-Yolov11\\Road_Damage\\folds\\fold_3, rect=False, resume=False, retina_masks=False, save=True, save_conf=False, save_crop=False, save_dir=C:\\Users\\jazzb\\ImageDetection-Yolov11\\Road_Damage\\folds\\fold_3\\results, save_frames=False, save_json=False, save_period=-1, save_txt=False, scale=0.5, seed=0, shear=0.0, show=False, show_boxes=True, show_conf=True, show_labels=True, simplify=True, single_cls=False, source=None, split=val, stream_buffer=False, task=classify, time=None, tracker=botsort.yaml, translate=0.1, val=True, verbose=True, vid_stride=1, visualize=False, warmup_bias_lr=0.1, warmup_epochs=3.0, warmup_momentum=0.8, weight_decay=0.0005, workers=8, workspace=None\n",
      "\u001b[34m\u001b[1mtrain:\u001b[0m C:\\Users\\jazzb\\ImageDetection-Yolov11\\Road_Damage\\folds\\fold_3\\train... found 1202 images in 5 classes  \n",
      "\u001b[34m\u001b[1mval:\u001b[0m C:\\Users\\jazzb\\ImageDetection-Yolov11\\Road_Damage\\folds\\fold_3\\val... found 301 images in 5 classes  \n",
      "\u001b[34m\u001b[1mtest:\u001b[0m C:\\Users\\jazzb\\ImageDetection-Yolov11\\Road_Damage\\folds\\fold_3\\test... found 48 images in 5 classes  \n",
      "Overriding model.yaml nc=80 with nc=5\n",
      "\n",
      "                   from  n    params  module                                       arguments                     \n",
      "  0                  -1  1       464  ultralytics.nn.modules.conv.Conv             [3, 16, 3, 2]                 \n",
      "  1                  -1  1      4672  ultralytics.nn.modules.conv.Conv             [16, 32, 3, 2]                \n",
      "  2                  -1  1      6640  ultralytics.nn.modules.block.C3k2            [32, 64, 1, False, 0.25]      \n",
      "  3                  -1  1     36992  ultralytics.nn.modules.conv.Conv             [64, 64, 3, 2]                \n",
      "  4                  -1  1     26080  ultralytics.nn.modules.block.C3k2            [64, 128, 1, False, 0.25]     \n",
      "  5                  -1  1    147712  ultralytics.nn.modules.conv.Conv             [128, 128, 3, 2]              \n",
      "  6                  -1  1     87040  ultralytics.nn.modules.block.C3k2            [128, 128, 1, True]           \n",
      "  7                  -1  1    295424  ultralytics.nn.modules.conv.Conv             [128, 256, 3, 2]              \n",
      "  8                  -1  1    346112  ultralytics.nn.modules.block.C3k2            [256, 256, 1, True]           \n",
      "  9                  -1  1    249728  ultralytics.nn.modules.block.C2PSA           [256, 256, 1]                 \n",
      " 10                  -1  1    336645  ultralytics.nn.modules.head.Classify         [256, 5]                      \n",
      "YOLO11n-cls summary: 86 layers, 1,537,509 parameters, 1,537,509 gradients, 3.3 GFLOPs\n",
      "Transferred 234/236 items from pretrained weights\n",
      "\u001b[34m\u001b[1mtrain: \u001b[0mFast image access  (ping: 0.20.1 ms, read: 15.85.2 MB/s, size: 174.1 KB)\n"
     ]
    },
    {
     "name": "stderr",
     "output_type": "stream",
     "text": [
      "\u001b[34m\u001b[1mtrain: \u001b[0mScanning C:\\Users\\jazzb\\ImageDetection-Yolov11\\Road_Damage\\folds\\fold_3\\train... 1202 images, 0 corrupt: 100%|██████████| 1202/1202 [00:01<00:00, 818.16it/s]"
     ]
    },
    {
     "name": "stdout",
     "output_type": "stream",
     "text": [
      "\u001b[34m\u001b[1mtrain: \u001b[0mNew cache created: C:\\Users\\jazzb\\ImageDetection-Yolov11\\Road_Damage\\folds\\fold_3\\train.cache\n"
     ]
    },
    {
     "name": "stderr",
     "output_type": "stream",
     "text": [
      "\n"
     ]
    },
    {
     "name": "stdout",
     "output_type": "stream",
     "text": [
      "\u001b[34m\u001b[1mval: \u001b[0mFast image access  (ping: 1.63.0 ms, read: 8.31.0 MB/s, size: 183.7 KB)\n"
     ]
    },
    {
     "name": "stderr",
     "output_type": "stream",
     "text": [
      "\u001b[34m\u001b[1mval: \u001b[0mScanning C:\\Users\\jazzb\\ImageDetection-Yolov11\\Road_Damage\\folds\\fold_3\\val... 301 images, 0 corrupt: 100%|██████████| 301/301 [00:00<00:00, 533.80it/s]"
     ]
    },
    {
     "name": "stdout",
     "output_type": "stream",
     "text": [
      "\u001b[34m\u001b[1mval: \u001b[0mNew cache created: C:\\Users\\jazzb\\ImageDetection-Yolov11\\Road_Damage\\folds\\fold_3\\val.cache\n"
     ]
    },
    {
     "name": "stderr",
     "output_type": "stream",
     "text": [
      "\n"
     ]
    },
    {
     "name": "stdout",
     "output_type": "stream",
     "text": [
      "\u001b[34m\u001b[1moptimizer:\u001b[0m 'optimizer=auto' found, ignoring 'lr0=0.01' and 'momentum=0.937' and determining best 'optimizer', 'lr0' and 'momentum' automatically... \n",
      "\u001b[34m\u001b[1moptimizer:\u001b[0m AdamW(lr=0.001111, momentum=0.9) with parameter groups 39 weight(decay=0.0), 40 weight(decay=0.0005), 40 bias(decay=0.0)\n",
      "Image sizes 640 train, 640 val\n",
      "Using 8 dataloader workers\n",
      "Logging results to \u001b[1mC:\\Users\\jazzb\\ImageDetection-Yolov11\\Road_Damage\\folds\\fold_3\\results\u001b[0m\n",
      "Starting training for 100 epochs...\n",
      "\n",
      "      Epoch    GPU_mem       loss  Instances       Size\n"
     ]
    },
    {
     "name": "stderr",
     "output_type": "stream",
     "text": [
      "      1/100      1.62G      1.054          2        640: 100%|██████████| 151/151 [00:11<00:00, 13.33it/s]\n",
      "               classes   top1_acc   top5_acc: 100%|██████████| 19/19 [00:00<00:00, 25.72it/s]"
     ]
    },
    {
     "name": "stdout",
     "output_type": "stream",
     "text": [
      "                   all      0.834          1\n"
     ]
    },
    {
     "name": "stderr",
     "output_type": "stream",
     "text": [
      "\n"
     ]
    },
    {
     "name": "stdout",
     "output_type": "stream",
     "text": [
      "\n",
      "      Epoch    GPU_mem       loss  Instances       Size\n"
     ]
    },
    {
     "name": "stderr",
     "output_type": "stream",
     "text": [
      "      2/100      1.82G     0.4578          2        640: 100%|██████████| 151/151 [00:08<00:00, 16.86it/s]\n",
      "               classes   top1_acc   top5_acc: 100%|██████████| 19/19 [00:00<00:00, 20.04it/s]"
     ]
    },
    {
     "name": "stdout",
     "output_type": "stream",
     "text": [
      "                   all       0.91          1\n"
     ]
    },
    {
     "name": "stderr",
     "output_type": "stream",
     "text": [
      "\n"
     ]
    },
    {
     "name": "stdout",
     "output_type": "stream",
     "text": [
      "\n",
      "      Epoch    GPU_mem       loss  Instances       Size\n"
     ]
    },
    {
     "name": "stderr",
     "output_type": "stream",
     "text": [
      "      3/100      1.82G     0.4425          2        640: 100%|██████████| 151/151 [00:10<00:00, 14.68it/s]\n",
      "               classes   top1_acc   top5_acc: 100%|██████████| 19/19 [00:00<00:00, 20.39it/s]"
     ]
    },
    {
     "name": "stdout",
     "output_type": "stream",
     "text": [
      "                   all       0.93          1\n"
     ]
    },
    {
     "name": "stderr",
     "output_type": "stream",
     "text": [
      "\n"
     ]
    },
    {
     "name": "stdout",
     "output_type": "stream",
     "text": [
      "\n",
      "      Epoch    GPU_mem       loss  Instances       Size\n"
     ]
    },
    {
     "name": "stderr",
     "output_type": "stream",
     "text": [
      "      4/100      1.82G     0.3654          2        640: 100%|██████████| 151/151 [00:11<00:00, 13.51it/s]\n",
      "               classes   top1_acc   top5_acc: 100%|██████████| 19/19 [00:01<00:00, 18.78it/s]"
     ]
    },
    {
     "name": "stdout",
     "output_type": "stream",
     "text": [
      "                   all      0.957          1\n"
     ]
    },
    {
     "name": "stderr",
     "output_type": "stream",
     "text": [
      "\n"
     ]
    },
    {
     "name": "stdout",
     "output_type": "stream",
     "text": [
      "\n",
      "      Epoch    GPU_mem       loss  Instances       Size\n"
     ]
    },
    {
     "name": "stderr",
     "output_type": "stream",
     "text": [
      "      5/100      1.82G     0.3603          2        640: 100%|██████████| 151/151 [00:10<00:00, 14.34it/s]\n",
      "               classes   top1_acc   top5_acc: 100%|██████████| 19/19 [00:00<00:00, 19.87it/s]"
     ]
    },
    {
     "name": "stdout",
     "output_type": "stream",
     "text": [
      "                   all       0.94          1\n"
     ]
    },
    {
     "name": "stderr",
     "output_type": "stream",
     "text": [
      "\n"
     ]
    },
    {
     "name": "stdout",
     "output_type": "stream",
     "text": [
      "\n",
      "      Epoch    GPU_mem       loss  Instances       Size\n"
     ]
    },
    {
     "name": "stderr",
     "output_type": "stream",
     "text": [
      "      6/100      1.82G     0.2847          2        640: 100%|██████████| 151/151 [00:10<00:00, 15.07it/s]\n",
      "               classes   top1_acc   top5_acc: 100%|██████████| 19/19 [00:00<00:00, 25.40it/s]"
     ]
    },
    {
     "name": "stdout",
     "output_type": "stream",
     "text": [
      "                   all       0.96          1\n"
     ]
    },
    {
     "name": "stderr",
     "output_type": "stream",
     "text": [
      "\n"
     ]
    },
    {
     "name": "stdout",
     "output_type": "stream",
     "text": [
      "\n",
      "      Epoch    GPU_mem       loss  Instances       Size\n"
     ]
    },
    {
     "name": "stderr",
     "output_type": "stream",
     "text": [
      "      7/100      1.82G     0.2662          2        640: 100%|██████████| 151/151 [00:08<00:00, 17.12it/s]\n",
      "               classes   top1_acc   top5_acc: 100%|██████████| 19/19 [00:00<00:00, 26.30it/s]"
     ]
    },
    {
     "name": "stdout",
     "output_type": "stream",
     "text": [
      "                   all       0.97          1\n"
     ]
    },
    {
     "name": "stderr",
     "output_type": "stream",
     "text": [
      "\n"
     ]
    },
    {
     "name": "stdout",
     "output_type": "stream",
     "text": [
      "\n",
      "      Epoch    GPU_mem       loss  Instances       Size\n"
     ]
    },
    {
     "name": "stderr",
     "output_type": "stream",
     "text": [
      "      8/100      1.82G     0.2326          2        640: 100%|██████████| 151/151 [00:08<00:00, 17.28it/s]\n",
      "               classes   top1_acc   top5_acc: 100%|██████████| 19/19 [00:00<00:00, 25.74it/s]"
     ]
    },
    {
     "name": "stdout",
     "output_type": "stream",
     "text": [
      "                   all       0.96          1\n"
     ]
    },
    {
     "name": "stderr",
     "output_type": "stream",
     "text": [
      "\n"
     ]
    },
    {
     "name": "stdout",
     "output_type": "stream",
     "text": [
      "\n",
      "      Epoch    GPU_mem       loss  Instances       Size\n"
     ]
    },
    {
     "name": "stderr",
     "output_type": "stream",
     "text": [
      "      9/100      1.82G     0.2315          2        640: 100%|██████████| 151/151 [00:08<00:00, 17.64it/s]\n",
      "               classes   top1_acc   top5_acc: 100%|██████████| 19/19 [00:00<00:00, 24.64it/s]"
     ]
    },
    {
     "name": "stdout",
     "output_type": "stream",
     "text": [
      "                   all      0.967          1\n"
     ]
    },
    {
     "name": "stderr",
     "output_type": "stream",
     "text": [
      "\n"
     ]
    },
    {
     "name": "stdout",
     "output_type": "stream",
     "text": [
      "\n",
      "      Epoch    GPU_mem       loss  Instances       Size\n"
     ]
    },
    {
     "name": "stderr",
     "output_type": "stream",
     "text": [
      "     10/100      1.82G      0.197          2        640: 100%|██████████| 151/151 [00:08<00:00, 17.20it/s]\n",
      "               classes   top1_acc   top5_acc: 100%|██████████| 19/19 [00:00<00:00, 24.62it/s]"
     ]
    },
    {
     "name": "stdout",
     "output_type": "stream",
     "text": [
      "                   all      0.993          1\n"
     ]
    },
    {
     "name": "stderr",
     "output_type": "stream",
     "text": [
      "\n"
     ]
    },
    {
     "name": "stdout",
     "output_type": "stream",
     "text": [
      "\n",
      "      Epoch    GPU_mem       loss  Instances       Size\n"
     ]
    },
    {
     "name": "stderr",
     "output_type": "stream",
     "text": [
      "     11/100      1.82G     0.1816          2        640: 100%|██████████| 151/151 [00:08<00:00, 17.75it/s]\n",
      "               classes   top1_acc   top5_acc: 100%|██████████| 19/19 [00:00<00:00, 25.34it/s]"
     ]
    },
    {
     "name": "stdout",
     "output_type": "stream",
     "text": [
      "                   all      0.973          1\n"
     ]
    },
    {
     "name": "stderr",
     "output_type": "stream",
     "text": [
      "\n"
     ]
    },
    {
     "name": "stdout",
     "output_type": "stream",
     "text": [
      "\n",
      "      Epoch    GPU_mem       loss  Instances       Size\n"
     ]
    },
    {
     "name": "stderr",
     "output_type": "stream",
     "text": [
      "     12/100      1.82G     0.1895          2        640: 100%|██████████| 151/151 [00:08<00:00, 17.82it/s]\n",
      "               classes   top1_acc   top5_acc: 100%|██████████| 19/19 [00:00<00:00, 26.58it/s]"
     ]
    },
    {
     "name": "stdout",
     "output_type": "stream",
     "text": [
      "                   all      0.977          1\n"
     ]
    },
    {
     "name": "stderr",
     "output_type": "stream",
     "text": [
      "\n"
     ]
    },
    {
     "name": "stdout",
     "output_type": "stream",
     "text": [
      "\n",
      "      Epoch    GPU_mem       loss  Instances       Size\n"
     ]
    },
    {
     "name": "stderr",
     "output_type": "stream",
     "text": [
      "     13/100      1.82G      0.144          2        640: 100%|██████████| 151/151 [00:08<00:00, 17.44it/s]\n",
      "               classes   top1_acc   top5_acc: 100%|██████████| 19/19 [00:00<00:00, 26.65it/s]"
     ]
    },
    {
     "name": "stdout",
     "output_type": "stream",
     "text": [
      "                   all          1          1\n"
     ]
    },
    {
     "name": "stderr",
     "output_type": "stream",
     "text": [
      "\n"
     ]
    },
    {
     "name": "stdout",
     "output_type": "stream",
     "text": [
      "\n",
      "      Epoch    GPU_mem       loss  Instances       Size\n"
     ]
    },
    {
     "name": "stderr",
     "output_type": "stream",
     "text": [
      "     14/100      1.82G     0.1706          2        640: 100%|██████████| 151/151 [00:08<00:00, 17.82it/s]\n",
      "               classes   top1_acc   top5_acc: 100%|██████████| 19/19 [00:00<00:00, 26.04it/s]"
     ]
    },
    {
     "name": "stdout",
     "output_type": "stream",
     "text": [
      "                   all       0.98          1\n"
     ]
    },
    {
     "name": "stderr",
     "output_type": "stream",
     "text": [
      "\n"
     ]
    },
    {
     "name": "stdout",
     "output_type": "stream",
     "text": [
      "\n",
      "      Epoch    GPU_mem       loss  Instances       Size\n"
     ]
    },
    {
     "name": "stderr",
     "output_type": "stream",
     "text": [
      "     15/100      1.82G     0.1224          2        640: 100%|██████████| 151/151 [00:08<00:00, 17.63it/s]\n",
      "               classes   top1_acc   top5_acc: 100%|██████████| 19/19 [00:00<00:00, 26.05it/s]"
     ]
    },
    {
     "name": "stdout",
     "output_type": "stream",
     "text": [
      "                   all      0.987          1\n"
     ]
    },
    {
     "name": "stderr",
     "output_type": "stream",
     "text": [
      "\n"
     ]
    },
    {
     "name": "stdout",
     "output_type": "stream",
     "text": [
      "\n",
      "      Epoch    GPU_mem       loss  Instances       Size\n"
     ]
    },
    {
     "name": "stderr",
     "output_type": "stream",
     "text": [
      "     16/100      1.82G     0.1312          2        640: 100%|██████████| 151/151 [00:08<00:00, 17.59it/s]\n",
      "               classes   top1_acc   top5_acc: 100%|██████████| 19/19 [00:00<00:00, 24.48it/s]"
     ]
    },
    {
     "name": "stdout",
     "output_type": "stream",
     "text": [
      "                   all      0.993          1\n"
     ]
    },
    {
     "name": "stderr",
     "output_type": "stream",
     "text": [
      "\n"
     ]
    },
    {
     "name": "stdout",
     "output_type": "stream",
     "text": [
      "\n",
      "      Epoch    GPU_mem       loss  Instances       Size\n"
     ]
    },
    {
     "name": "stderr",
     "output_type": "stream",
     "text": [
      "     17/100      1.82G     0.1082          2        640: 100%|██████████| 151/151 [00:08<00:00, 17.68it/s]\n",
      "               classes   top1_acc   top5_acc: 100%|██████████| 19/19 [00:00<00:00, 25.77it/s]"
     ]
    },
    {
     "name": "stdout",
     "output_type": "stream",
     "text": [
      "                   all       0.98          1\n"
     ]
    },
    {
     "name": "stderr",
     "output_type": "stream",
     "text": [
      "\n"
     ]
    },
    {
     "name": "stdout",
     "output_type": "stream",
     "text": [
      "\n",
      "      Epoch    GPU_mem       loss  Instances       Size\n"
     ]
    },
    {
     "name": "stderr",
     "output_type": "stream",
     "text": [
      "     18/100      1.82G     0.1311          2        640: 100%|██████████| 151/151 [00:09<00:00, 16.62it/s]\n",
      "               classes   top1_acc   top5_acc: 100%|██████████| 19/19 [00:00<00:00, 26.60it/s]"
     ]
    },
    {
     "name": "stdout",
     "output_type": "stream",
     "text": [
      "                   all       0.99          1\n",
      "\u001b[34m\u001b[1mEarlyStopping: \u001b[0mTraining stopped early as no improvement observed in last 5 epochs. Best results observed at epoch 13, best model saved as best.pt.\n",
      "To update EarlyStopping(patience=5) pass a new patience value, i.e. `patience=300` or use `patience=0` to disable EarlyStopping.\n"
     ]
    },
    {
     "name": "stderr",
     "output_type": "stream",
     "text": [
      "\n"
     ]
    },
    {
     "name": "stdout",
     "output_type": "stream",
     "text": [
      "\n",
      "18 epochs completed in 0.051 hours.\n",
      "Optimizer stripped from C:\\Users\\jazzb\\ImageDetection-Yolov11\\Road_Damage\\folds\\fold_3\\results\\weights\\last.pt, 3.2MB\n",
      "Optimizer stripped from C:\\Users\\jazzb\\ImageDetection-Yolov11\\Road_Damage\\folds\\fold_3\\results\\weights\\best.pt, 3.2MB\n",
      "\n",
      "Validating C:\\Users\\jazzb\\ImageDetection-Yolov11\\Road_Damage\\folds\\fold_3\\results\\weights\\best.pt...\n",
      "Ultralytics 8.3.133  Python-3.9.21 torch-2.5.1+cu121 CUDA:0 (NVIDIA GeForce RTX 4060 Laptop GPU, 8188MiB)\n",
      "YOLO11n-cls summary (fused): 47 layers, 1,532,429 parameters, 0 gradients, 3.2 GFLOPs\n",
      "\u001b[34m\u001b[1mtrain:\u001b[0m C:\\Users\\jazzb\\ImageDetection-Yolov11\\Road_Damage\\folds\\fold_3\\train... found 1202 images in 5 classes  \n",
      "\u001b[34m\u001b[1mval:\u001b[0m C:\\Users\\jazzb\\ImageDetection-Yolov11\\Road_Damage\\folds\\fold_3\\val... found 301 images in 5 classes  \n",
      "\u001b[34m\u001b[1mtest:\u001b[0m C:\\Users\\jazzb\\ImageDetection-Yolov11\\Road_Damage\\folds\\fold_3\\test... found 48 images in 5 classes  \n"
     ]
    },
    {
     "name": "stderr",
     "output_type": "stream",
     "text": [
      "               classes   top1_acc   top5_acc: 100%|██████████| 19/19 [00:00<00:00, 21.91it/s]\n"
     ]
    },
    {
     "name": "stdout",
     "output_type": "stream",
     "text": [
      "                   all          1          1\n",
      "Speed: 0.5ms preprocess, 2.1ms inference, 0.0ms loss, 0.0ms postprocess per image\n",
      "Results saved to \u001b[1mC:\\Users\\jazzb\\ImageDetection-Yolov11\\Road_Damage\\folds\\fold_3\\results\u001b[0m\n",
      "--- Fold 3 complete. Best weights in C:\\Users\\jazzb\\ImageDetection-Yolov11\\Road_Damage\\folds\\fold_3/results ---\n",
      "\n",
      "=== Training Fold 4/5 on folder C:\\Users\\jazzb\\ImageDetection-Yolov11\\Road_Damage\\folds\\fold_4 ===\n",
      "Ultralytics 8.3.133  Python-3.9.21 torch-2.5.1+cu121 CUDA:0 (NVIDIA GeForce RTX 4060 Laptop GPU, 8188MiB)\n",
      "\u001b[34m\u001b[1mengine\\trainer: \u001b[0magnostic_nms=False, amp=False, augment=False, auto_augment=randaugment, batch=8, bgr=0.0, box=7.5, cache=False, cfg=None, classes=None, close_mosaic=10, cls=0.5, conf=None, copy_paste=0.0, copy_paste_mode=flip, cos_lr=False, cutmix=0.0, data=C:\\Users\\jazzb\\ImageDetection-Yolov11\\Road_Damage\\folds\\fold_4, degrees=0.0, deterministic=True, device=0, dfl=1.5, dnn=False, dropout=0.2, dynamic=False, embed=None, epochs=100, erasing=0.4, exist_ok=True, fliplr=0.5, flipud=0.0, format=torchscript, fraction=1.0, freeze=None, half=False, hsv_h=0.015, hsv_s=0.7, hsv_v=0.4, imgsz=640, int8=False, iou=0.7, keras=False, kobj=1.0, line_width=None, lr0=0.01, lrf=0.01, mask_ratio=4, max_det=300, mixup=0.0, mode=train, model=models\\yolo11n-cls.pt, momentum=0.937, mosaic=1.0, multi_scale=False, name=results, nbs=64, nms=False, opset=None, optimize=False, optimizer=auto, overlap_mask=True, patience=5, perspective=0.0, plots=True, pose=12.0, pretrained=True, profile=False, project=C:\\Users\\jazzb\\ImageDetection-Yolov11\\Road_Damage\\folds\\fold_4, rect=False, resume=False, retina_masks=False, save=True, save_conf=False, save_crop=False, save_dir=C:\\Users\\jazzb\\ImageDetection-Yolov11\\Road_Damage\\folds\\fold_4\\results, save_frames=False, save_json=False, save_period=-1, save_txt=False, scale=0.5, seed=0, shear=0.0, show=False, show_boxes=True, show_conf=True, show_labels=True, simplify=True, single_cls=False, source=None, split=val, stream_buffer=False, task=classify, time=None, tracker=botsort.yaml, translate=0.1, val=True, verbose=True, vid_stride=1, visualize=False, warmup_bias_lr=0.1, warmup_epochs=3.0, warmup_momentum=0.8, weight_decay=0.0005, workers=8, workspace=None\n",
      "\u001b[34m\u001b[1mtrain:\u001b[0m C:\\Users\\jazzb\\ImageDetection-Yolov11\\Road_Damage\\folds\\fold_4\\train... found 1203 images in 5 classes  \n",
      "\u001b[34m\u001b[1mval:\u001b[0m C:\\Users\\jazzb\\ImageDetection-Yolov11\\Road_Damage\\folds\\fold_4\\val... found 300 images in 5 classes  \n",
      "\u001b[34m\u001b[1mtest:\u001b[0m C:\\Users\\jazzb\\ImageDetection-Yolov11\\Road_Damage\\folds\\fold_4\\test... found 48 images in 5 classes  \n",
      "Overriding model.yaml nc=80 with nc=5\n",
      "\n",
      "                   from  n    params  module                                       arguments                     \n",
      "  0                  -1  1       464  ultralytics.nn.modules.conv.Conv             [3, 16, 3, 2]                 \n",
      "  1                  -1  1      4672  ultralytics.nn.modules.conv.Conv             [16, 32, 3, 2]                \n",
      "  2                  -1  1      6640  ultralytics.nn.modules.block.C3k2            [32, 64, 1, False, 0.25]      \n",
      "  3                  -1  1     36992  ultralytics.nn.modules.conv.Conv             [64, 64, 3, 2]                \n",
      "  4                  -1  1     26080  ultralytics.nn.modules.block.C3k2            [64, 128, 1, False, 0.25]     \n",
      "  5                  -1  1    147712  ultralytics.nn.modules.conv.Conv             [128, 128, 3, 2]              \n",
      "  6                  -1  1     87040  ultralytics.nn.modules.block.C3k2            [128, 128, 1, True]           \n",
      "  7                  -1  1    295424  ultralytics.nn.modules.conv.Conv             [128, 256, 3, 2]              \n",
      "  8                  -1  1    346112  ultralytics.nn.modules.block.C3k2            [256, 256, 1, True]           \n",
      "  9                  -1  1    249728  ultralytics.nn.modules.block.C2PSA           [256, 256, 1]                 \n",
      " 10                  -1  1    336645  ultralytics.nn.modules.head.Classify         [256, 5]                      \n",
      "YOLO11n-cls summary: 86 layers, 1,537,509 parameters, 1,537,509 gradients, 3.3 GFLOPs\n",
      "Transferred 234/236 items from pretrained weights\n",
      "\u001b[34m\u001b[1mtrain: \u001b[0mFast image access  (ping: 0.20.0 ms, read: 15.53.0 MB/s, size: 163.8 KB)\n"
     ]
    },
    {
     "name": "stderr",
     "output_type": "stream",
     "text": [
      "\u001b[34m\u001b[1mtrain: \u001b[0mScanning C:\\Users\\jazzb\\ImageDetection-Yolov11\\Road_Damage\\folds\\fold_4\\train... 1203 images, 0 corrupt: 100%|██████████| 1203/1203 [00:01<00:00, 797.53it/s]"
     ]
    },
    {
     "name": "stdout",
     "output_type": "stream",
     "text": [
      "\u001b[34m\u001b[1mtrain: \u001b[0mNew cache created: C:\\Users\\jazzb\\ImageDetection-Yolov11\\Road_Damage\\folds\\fold_4\\train.cache\n"
     ]
    },
    {
     "name": "stderr",
     "output_type": "stream",
     "text": [
      "\n"
     ]
    },
    {
     "name": "stdout",
     "output_type": "stream",
     "text": [
      "\u001b[34m\u001b[1mval: \u001b[0mFast image access  (ping: 0.30.2 ms, read: 10.31.6 MB/s, size: 187.5 KB)\n"
     ]
    },
    {
     "name": "stderr",
     "output_type": "stream",
     "text": [
      "\u001b[34m\u001b[1mval: \u001b[0mScanning C:\\Users\\jazzb\\ImageDetection-Yolov11\\Road_Damage\\folds\\fold_4\\val... 300 images, 0 corrupt: 100%|██████████| 300/300 [00:00<00:00, 518.06it/s]"
     ]
    },
    {
     "name": "stdout",
     "output_type": "stream",
     "text": [
      "\u001b[34m\u001b[1mval: \u001b[0mNew cache created: C:\\Users\\jazzb\\ImageDetection-Yolov11\\Road_Damage\\folds\\fold_4\\val.cache\n"
     ]
    },
    {
     "name": "stderr",
     "output_type": "stream",
     "text": [
      "\n"
     ]
    },
    {
     "name": "stdout",
     "output_type": "stream",
     "text": [
      "\u001b[34m\u001b[1moptimizer:\u001b[0m 'optimizer=auto' found, ignoring 'lr0=0.01' and 'momentum=0.937' and determining best 'optimizer', 'lr0' and 'momentum' automatically... \n",
      "\u001b[34m\u001b[1moptimizer:\u001b[0m AdamW(lr=0.001111, momentum=0.9) with parameter groups 39 weight(decay=0.0), 40 weight(decay=0.0005), 40 bias(decay=0.0)\n",
      "Image sizes 640 train, 640 val\n",
      "Using 8 dataloader workers\n",
      "Logging results to \u001b[1mC:\\Users\\jazzb\\ImageDetection-Yolov11\\Road_Damage\\folds\\fold_4\\results\u001b[0m\n",
      "Starting training for 100 epochs...\n",
      "\n",
      "      Epoch    GPU_mem       loss  Instances       Size\n"
     ]
    },
    {
     "name": "stderr",
     "output_type": "stream",
     "text": [
      "      1/100      1.61G      1.037          3        640: 100%|██████████| 151/151 [00:11<00:00, 12.99it/s]\n",
      "               classes   top1_acc   top5_acc: 100%|██████████| 19/19 [00:00<00:00, 22.68it/s]"
     ]
    },
    {
     "name": "stdout",
     "output_type": "stream",
     "text": [
      "                   all       0.85          1\n"
     ]
    },
    {
     "name": "stderr",
     "output_type": "stream",
     "text": [
      "\n"
     ]
    },
    {
     "name": "stdout",
     "output_type": "stream",
     "text": [
      "\n",
      "      Epoch    GPU_mem       loss  Instances       Size\n"
     ]
    },
    {
     "name": "stderr",
     "output_type": "stream",
     "text": [
      "      2/100      1.81G     0.4938          3        640: 100%|██████████| 151/151 [00:08<00:00, 17.12it/s]\n",
      "               classes   top1_acc   top5_acc: 100%|██████████| 19/19 [00:00<00:00, 24.33it/s]"
     ]
    },
    {
     "name": "stdout",
     "output_type": "stream",
     "text": [
      "                   all      0.907          1\n"
     ]
    },
    {
     "name": "stderr",
     "output_type": "stream",
     "text": [
      "\n"
     ]
    },
    {
     "name": "stdout",
     "output_type": "stream",
     "text": [
      "\n",
      "      Epoch    GPU_mem       loss  Instances       Size\n"
     ]
    },
    {
     "name": "stderr",
     "output_type": "stream",
     "text": [
      "      3/100      1.81G     0.4197          3        640: 100%|██████████| 151/151 [00:08<00:00, 17.27it/s]\n",
      "               classes   top1_acc   top5_acc: 100%|██████████| 19/19 [00:00<00:00, 24.39it/s]"
     ]
    },
    {
     "name": "stdout",
     "output_type": "stream",
     "text": [
      "                   all       0.92          1\n"
     ]
    },
    {
     "name": "stderr",
     "output_type": "stream",
     "text": [
      "\n"
     ]
    },
    {
     "name": "stdout",
     "output_type": "stream",
     "text": [
      "\n",
      "      Epoch    GPU_mem       loss  Instances       Size\n"
     ]
    },
    {
     "name": "stderr",
     "output_type": "stream",
     "text": [
      "      4/100      1.81G      0.365          3        640: 100%|██████████| 151/151 [00:08<00:00, 17.52it/s]\n",
      "               classes   top1_acc   top5_acc: 100%|██████████| 19/19 [00:00<00:00, 26.24it/s]"
     ]
    },
    {
     "name": "stdout",
     "output_type": "stream",
     "text": [
      "                   all      0.937          1\n"
     ]
    },
    {
     "name": "stderr",
     "output_type": "stream",
     "text": [
      "\n"
     ]
    },
    {
     "name": "stdout",
     "output_type": "stream",
     "text": [
      "\n",
      "      Epoch    GPU_mem       loss  Instances       Size\n"
     ]
    },
    {
     "name": "stderr",
     "output_type": "stream",
     "text": [
      "      5/100      1.81G      0.334          3        640: 100%|██████████| 151/151 [00:08<00:00, 17.62it/s]\n",
      "               classes   top1_acc   top5_acc: 100%|██████████| 19/19 [00:00<00:00, 25.72it/s]"
     ]
    },
    {
     "name": "stdout",
     "output_type": "stream",
     "text": [
      "                   all       0.93          1\n"
     ]
    },
    {
     "name": "stderr",
     "output_type": "stream",
     "text": [
      "\n"
     ]
    },
    {
     "name": "stdout",
     "output_type": "stream",
     "text": [
      "\n",
      "      Epoch    GPU_mem       loss  Instances       Size\n"
     ]
    },
    {
     "name": "stderr",
     "output_type": "stream",
     "text": [
      "      6/100      1.81G      0.315          3        640: 100%|██████████| 151/151 [00:08<00:00, 17.83it/s]\n",
      "               classes   top1_acc   top5_acc: 100%|██████████| 19/19 [00:00<00:00, 25.42it/s]"
     ]
    },
    {
     "name": "stdout",
     "output_type": "stream",
     "text": [
      "                   all       0.93          1\n"
     ]
    },
    {
     "name": "stderr",
     "output_type": "stream",
     "text": [
      "\n"
     ]
    },
    {
     "name": "stdout",
     "output_type": "stream",
     "text": [
      "\n",
      "      Epoch    GPU_mem       loss  Instances       Size\n"
     ]
    },
    {
     "name": "stderr",
     "output_type": "stream",
     "text": [
      "      7/100      1.81G     0.2542          3        640: 100%|██████████| 151/151 [00:08<00:00, 17.64it/s]\n",
      "               classes   top1_acc   top5_acc: 100%|██████████| 19/19 [00:00<00:00, 25.59it/s]"
     ]
    },
    {
     "name": "stdout",
     "output_type": "stream",
     "text": [
      "                   all      0.967          1\n"
     ]
    },
    {
     "name": "stderr",
     "output_type": "stream",
     "text": [
      "\n"
     ]
    },
    {
     "name": "stdout",
     "output_type": "stream",
     "text": [
      "\n",
      "      Epoch    GPU_mem       loss  Instances       Size\n"
     ]
    },
    {
     "name": "stderr",
     "output_type": "stream",
     "text": [
      "      8/100      1.81G     0.2229          3        640: 100%|██████████| 151/151 [00:08<00:00, 17.32it/s]\n",
      "               classes   top1_acc   top5_acc: 100%|██████████| 19/19 [00:00<00:00, 25.68it/s]"
     ]
    },
    {
     "name": "stdout",
     "output_type": "stream",
     "text": [
      "                   all       0.98          1\n"
     ]
    },
    {
     "name": "stderr",
     "output_type": "stream",
     "text": [
      "\n"
     ]
    },
    {
     "name": "stdout",
     "output_type": "stream",
     "text": [
      "\n",
      "      Epoch    GPU_mem       loss  Instances       Size\n"
     ]
    },
    {
     "name": "stderr",
     "output_type": "stream",
     "text": [
      "      9/100      1.81G     0.2279          3        640: 100%|██████████| 151/151 [00:08<00:00, 17.73it/s]\n",
      "               classes   top1_acc   top5_acc: 100%|██████████| 19/19 [00:00<00:00, 26.15it/s]"
     ]
    },
    {
     "name": "stdout",
     "output_type": "stream",
     "text": [
      "                   all      0.967          1\n"
     ]
    },
    {
     "name": "stderr",
     "output_type": "stream",
     "text": [
      "\n"
     ]
    },
    {
     "name": "stdout",
     "output_type": "stream",
     "text": [
      "\n",
      "      Epoch    GPU_mem       loss  Instances       Size\n"
     ]
    },
    {
     "name": "stderr",
     "output_type": "stream",
     "text": [
      "     10/100      1.81G     0.1724          3        640: 100%|██████████| 151/151 [00:08<00:00, 17.13it/s]\n",
      "               classes   top1_acc   top5_acc: 100%|██████████| 19/19 [00:00<00:00, 25.17it/s]"
     ]
    },
    {
     "name": "stdout",
     "output_type": "stream",
     "text": [
      "                   all      0.967          1\n"
     ]
    },
    {
     "name": "stderr",
     "output_type": "stream",
     "text": [
      "\n"
     ]
    },
    {
     "name": "stdout",
     "output_type": "stream",
     "text": [
      "\n",
      "      Epoch    GPU_mem       loss  Instances       Size\n"
     ]
    },
    {
     "name": "stderr",
     "output_type": "stream",
     "text": [
      "     11/100      1.81G     0.1749          3        640: 100%|██████████| 151/151 [00:08<00:00, 17.10it/s]\n",
      "               classes   top1_acc   top5_acc: 100%|██████████| 19/19 [00:00<00:00, 26.05it/s]"
     ]
    },
    {
     "name": "stdout",
     "output_type": "stream",
     "text": [
      "                   all      0.953          1\n"
     ]
    },
    {
     "name": "stderr",
     "output_type": "stream",
     "text": [
      "\n"
     ]
    },
    {
     "name": "stdout",
     "output_type": "stream",
     "text": [
      "\n",
      "      Epoch    GPU_mem       loss  Instances       Size\n"
     ]
    },
    {
     "name": "stderr",
     "output_type": "stream",
     "text": [
      "     12/100      1.81G     0.1855          3        640: 100%|██████████| 151/151 [00:08<00:00, 17.42it/s]\n",
      "               classes   top1_acc   top5_acc: 100%|██████████| 19/19 [00:00<00:00, 25.38it/s]"
     ]
    },
    {
     "name": "stdout",
     "output_type": "stream",
     "text": [
      "                   all      0.967          1\n"
     ]
    },
    {
     "name": "stderr",
     "output_type": "stream",
     "text": [
      "\n"
     ]
    },
    {
     "name": "stdout",
     "output_type": "stream",
     "text": [
      "\n",
      "      Epoch    GPU_mem       loss  Instances       Size\n"
     ]
    },
    {
     "name": "stderr",
     "output_type": "stream",
     "text": [
      "     13/100      1.81G     0.1503          3        640: 100%|██████████| 151/151 [00:08<00:00, 17.27it/s]\n",
      "               classes   top1_acc   top5_acc: 100%|██████████| 19/19 [00:00<00:00, 26.49it/s]"
     ]
    },
    {
     "name": "stdout",
     "output_type": "stream",
     "text": [
      "                   all      0.967          1\n",
      "\u001b[34m\u001b[1mEarlyStopping: \u001b[0mTraining stopped early as no improvement observed in last 5 epochs. Best results observed at epoch 8, best model saved as best.pt.\n",
      "To update EarlyStopping(patience=5) pass a new patience value, i.e. `patience=300` or use `patience=0` to disable EarlyStopping.\n"
     ]
    },
    {
     "name": "stderr",
     "output_type": "stream",
     "text": [
      "\n"
     ]
    },
    {
     "name": "stdout",
     "output_type": "stream",
     "text": [
      "\n",
      "13 epochs completed in 0.036 hours.\n",
      "Optimizer stripped from C:\\Users\\jazzb\\ImageDetection-Yolov11\\Road_Damage\\folds\\fold_4\\results\\weights\\last.pt, 3.2MB\n",
      "Optimizer stripped from C:\\Users\\jazzb\\ImageDetection-Yolov11\\Road_Damage\\folds\\fold_4\\results\\weights\\best.pt, 3.2MB\n",
      "\n",
      "Validating C:\\Users\\jazzb\\ImageDetection-Yolov11\\Road_Damage\\folds\\fold_4\\results\\weights\\best.pt...\n",
      "Ultralytics 8.3.133  Python-3.9.21 torch-2.5.1+cu121 CUDA:0 (NVIDIA GeForce RTX 4060 Laptop GPU, 8188MiB)\n",
      "YOLO11n-cls summary (fused): 47 layers, 1,532,429 parameters, 0 gradients, 3.2 GFLOPs\n",
      "\u001b[34m\u001b[1mtrain:\u001b[0m C:\\Users\\jazzb\\ImageDetection-Yolov11\\Road_Damage\\folds\\fold_4\\train... found 1203 images in 5 classes  \n",
      "\u001b[34m\u001b[1mval:\u001b[0m C:\\Users\\jazzb\\ImageDetection-Yolov11\\Road_Damage\\folds\\fold_4\\val... found 300 images in 5 classes  \n",
      "\u001b[34m\u001b[1mtest:\u001b[0m C:\\Users\\jazzb\\ImageDetection-Yolov11\\Road_Damage\\folds\\fold_4\\test... found 48 images in 5 classes  \n"
     ]
    },
    {
     "name": "stderr",
     "output_type": "stream",
     "text": [
      "               classes   top1_acc   top5_acc: 100%|██████████| 19/19 [00:00<00:00, 21.98it/s]\n"
     ]
    },
    {
     "name": "stdout",
     "output_type": "stream",
     "text": [
      "                   all       0.98          1\n",
      "Speed: 0.6ms preprocess, 2.0ms inference, 0.0ms loss, 0.0ms postprocess per image\n",
      "Results saved to \u001b[1mC:\\Users\\jazzb\\ImageDetection-Yolov11\\Road_Damage\\folds\\fold_4\\results\u001b[0m\n",
      "--- Fold 4 complete. Best weights in C:\\Users\\jazzb\\ImageDetection-Yolov11\\Road_Damage\\folds\\fold_4/results ---\n",
      "\n",
      "=== Training Fold 5/5 on folder C:\\Users\\jazzb\\ImageDetection-Yolov11\\Road_Damage\\folds\\fold_5 ===\n",
      "Ultralytics 8.3.133  Python-3.9.21 torch-2.5.1+cu121 CUDA:0 (NVIDIA GeForce RTX 4060 Laptop GPU, 8188MiB)\n",
      "\u001b[34m\u001b[1mengine\\trainer: \u001b[0magnostic_nms=False, amp=False, augment=False, auto_augment=randaugment, batch=8, bgr=0.0, box=7.5, cache=False, cfg=None, classes=None, close_mosaic=10, cls=0.5, conf=None, copy_paste=0.0, copy_paste_mode=flip, cos_lr=False, cutmix=0.0, data=C:\\Users\\jazzb\\ImageDetection-Yolov11\\Road_Damage\\folds\\fold_5, degrees=0.0, deterministic=True, device=0, dfl=1.5, dnn=False, dropout=0.2, dynamic=False, embed=None, epochs=100, erasing=0.4, exist_ok=True, fliplr=0.5, flipud=0.0, format=torchscript, fraction=1.0, freeze=None, half=False, hsv_h=0.015, hsv_s=0.7, hsv_v=0.4, imgsz=640, int8=False, iou=0.7, keras=False, kobj=1.0, line_width=None, lr0=0.01, lrf=0.01, mask_ratio=4, max_det=300, mixup=0.0, mode=train, model=models\\yolo11n-cls.pt, momentum=0.937, mosaic=1.0, multi_scale=False, name=results, nbs=64, nms=False, opset=None, optimize=False, optimizer=auto, overlap_mask=True, patience=5, perspective=0.0, plots=True, pose=12.0, pretrained=True, profile=False, project=C:\\Users\\jazzb\\ImageDetection-Yolov11\\Road_Damage\\folds\\fold_5, rect=False, resume=False, retina_masks=False, save=True, save_conf=False, save_crop=False, save_dir=C:\\Users\\jazzb\\ImageDetection-Yolov11\\Road_Damage\\folds\\fold_5\\results, save_frames=False, save_json=False, save_period=-1, save_txt=False, scale=0.5, seed=0, shear=0.0, show=False, show_boxes=True, show_conf=True, show_labels=True, simplify=True, single_cls=False, source=None, split=val, stream_buffer=False, task=classify, time=None, tracker=botsort.yaml, translate=0.1, val=True, verbose=True, vid_stride=1, visualize=False, warmup_bias_lr=0.1, warmup_epochs=3.0, warmup_momentum=0.8, weight_decay=0.0005, workers=8, workspace=None\n",
      "\u001b[34m\u001b[1mtrain:\u001b[0m C:\\Users\\jazzb\\ImageDetection-Yolov11\\Road_Damage\\folds\\fold_5\\train... found 1203 images in 5 classes  \n",
      "\u001b[34m\u001b[1mval:\u001b[0m C:\\Users\\jazzb\\ImageDetection-Yolov11\\Road_Damage\\folds\\fold_5\\val... found 300 images in 5 classes  \n",
      "\u001b[34m\u001b[1mtest:\u001b[0m C:\\Users\\jazzb\\ImageDetection-Yolov11\\Road_Damage\\folds\\fold_5\\test... found 48 images in 5 classes  \n",
      "Overriding model.yaml nc=80 with nc=5\n",
      "\n",
      "                   from  n    params  module                                       arguments                     \n",
      "  0                  -1  1       464  ultralytics.nn.modules.conv.Conv             [3, 16, 3, 2]                 \n",
      "  1                  -1  1      4672  ultralytics.nn.modules.conv.Conv             [16, 32, 3, 2]                \n",
      "  2                  -1  1      6640  ultralytics.nn.modules.block.C3k2            [32, 64, 1, False, 0.25]      \n",
      "  3                  -1  1     36992  ultralytics.nn.modules.conv.Conv             [64, 64, 3, 2]                \n",
      "  4                  -1  1     26080  ultralytics.nn.modules.block.C3k2            [64, 128, 1, False, 0.25]     \n",
      "  5                  -1  1    147712  ultralytics.nn.modules.conv.Conv             [128, 128, 3, 2]              \n",
      "  6                  -1  1     87040  ultralytics.nn.modules.block.C3k2            [128, 128, 1, True]           \n",
      "  7                  -1  1    295424  ultralytics.nn.modules.conv.Conv             [128, 256, 3, 2]              \n",
      "  8                  -1  1    346112  ultralytics.nn.modules.block.C3k2            [256, 256, 1, True]           \n",
      "  9                  -1  1    249728  ultralytics.nn.modules.block.C2PSA           [256, 256, 1]                 \n",
      " 10                  -1  1    336645  ultralytics.nn.modules.head.Classify         [256, 5]                      \n",
      "YOLO11n-cls summary: 86 layers, 1,537,509 parameters, 1,537,509 gradients, 3.3 GFLOPs\n",
      "Transferred 234/236 items from pretrained weights\n",
      "\u001b[34m\u001b[1mtrain: \u001b[0mFast image access  (ping: 0.20.0 ms, read: 19.84.8 MB/s, size: 165.3 KB)\n"
     ]
    },
    {
     "name": "stderr",
     "output_type": "stream",
     "text": [
      "\u001b[34m\u001b[1mtrain: \u001b[0mScanning C:\\Users\\jazzb\\ImageDetection-Yolov11\\Road_Damage\\folds\\fold_5\\train... 1203 images, 0 corrupt: 100%|██████████| 1203/1203 [00:01<00:00, 821.17it/s]"
     ]
    },
    {
     "name": "stdout",
     "output_type": "stream",
     "text": [
      "\u001b[34m\u001b[1mtrain: \u001b[0mNew cache created: C:\\Users\\jazzb\\ImageDetection-Yolov11\\Road_Damage\\folds\\fold_5\\train.cache\n"
     ]
    },
    {
     "name": "stderr",
     "output_type": "stream",
     "text": [
      "\n"
     ]
    },
    {
     "name": "stdout",
     "output_type": "stream",
     "text": [
      "\u001b[34m\u001b[1mval: \u001b[0mFast image access  (ping: 0.30.1 ms, read: 10.80.8 MB/s, size: 188.5 KB)\n"
     ]
    },
    {
     "name": "stderr",
     "output_type": "stream",
     "text": [
      "\u001b[34m\u001b[1mval: \u001b[0mScanning C:\\Users\\jazzb\\ImageDetection-Yolov11\\Road_Damage\\folds\\fold_5\\val... 300 images, 0 corrupt: 100%|██████████| 300/300 [00:00<00:00, 514.55it/s]"
     ]
    },
    {
     "name": "stdout",
     "output_type": "stream",
     "text": [
      "\u001b[34m\u001b[1mval: \u001b[0mNew cache created: C:\\Users\\jazzb\\ImageDetection-Yolov11\\Road_Damage\\folds\\fold_5\\val.cache\n"
     ]
    },
    {
     "name": "stderr",
     "output_type": "stream",
     "text": [
      "\n"
     ]
    },
    {
     "name": "stdout",
     "output_type": "stream",
     "text": [
      "\u001b[34m\u001b[1moptimizer:\u001b[0m 'optimizer=auto' found, ignoring 'lr0=0.01' and 'momentum=0.937' and determining best 'optimizer', 'lr0' and 'momentum' automatically... \n",
      "\u001b[34m\u001b[1moptimizer:\u001b[0m AdamW(lr=0.001111, momentum=0.9) with parameter groups 39 weight(decay=0.0), 40 weight(decay=0.0005), 40 bias(decay=0.0)\n",
      "Image sizes 640 train, 640 val\n",
      "Using 8 dataloader workers\n",
      "Logging results to \u001b[1mC:\\Users\\jazzb\\ImageDetection-Yolov11\\Road_Damage\\folds\\fold_5\\results\u001b[0m\n",
      "Starting training for 100 epochs...\n",
      "\n",
      "      Epoch    GPU_mem       loss  Instances       Size\n"
     ]
    },
    {
     "name": "stderr",
     "output_type": "stream",
     "text": [
      "      1/100      1.61G      1.044          3        640: 100%|██████████| 151/151 [00:11<00:00, 13.60it/s]\n",
      "               classes   top1_acc   top5_acc: 100%|██████████| 19/19 [00:00<00:00, 25.41it/s]"
     ]
    },
    {
     "name": "stdout",
     "output_type": "stream",
     "text": [
      "                   all       0.83          1\n"
     ]
    },
    {
     "name": "stderr",
     "output_type": "stream",
     "text": [
      "\n"
     ]
    },
    {
     "name": "stdout",
     "output_type": "stream",
     "text": [
      "\n",
      "      Epoch    GPU_mem       loss  Instances       Size\n"
     ]
    },
    {
     "name": "stderr",
     "output_type": "stream",
     "text": [
      "      2/100       1.8G     0.5248          3        640: 100%|██████████| 151/151 [00:08<00:00, 17.41it/s]\n",
      "               classes   top1_acc   top5_acc: 100%|██████████| 19/19 [00:00<00:00, 25.89it/s]"
     ]
    },
    {
     "name": "stdout",
     "output_type": "stream",
     "text": [
      "                   all      0.893          1\n"
     ]
    },
    {
     "name": "stderr",
     "output_type": "stream",
     "text": [
      "\n"
     ]
    },
    {
     "name": "stdout",
     "output_type": "stream",
     "text": [
      "\n",
      "      Epoch    GPU_mem       loss  Instances       Size\n"
     ]
    },
    {
     "name": "stderr",
     "output_type": "stream",
     "text": [
      "      3/100       1.8G      0.375          3        640: 100%|██████████| 151/151 [00:08<00:00, 17.51it/s]\n",
      "               classes   top1_acc   top5_acc: 100%|██████████| 19/19 [00:00<00:00, 24.73it/s]"
     ]
    },
    {
     "name": "stdout",
     "output_type": "stream",
     "text": [
      "                   all      0.937          1\n"
     ]
    },
    {
     "name": "stderr",
     "output_type": "stream",
     "text": [
      "\n"
     ]
    },
    {
     "name": "stdout",
     "output_type": "stream",
     "text": [
      "\n",
      "      Epoch    GPU_mem       loss  Instances       Size\n"
     ]
    },
    {
     "name": "stderr",
     "output_type": "stream",
     "text": [
      "      4/100       1.8G     0.3386          3        640: 100%|██████████| 151/151 [00:08<00:00, 17.63it/s]\n",
      "               classes   top1_acc   top5_acc: 100%|██████████| 19/19 [00:00<00:00, 26.28it/s]"
     ]
    },
    {
     "name": "stdout",
     "output_type": "stream",
     "text": [
      "                   all      0.877          1\n"
     ]
    },
    {
     "name": "stderr",
     "output_type": "stream",
     "text": [
      "\n"
     ]
    },
    {
     "name": "stdout",
     "output_type": "stream",
     "text": [
      "\n",
      "      Epoch    GPU_mem       loss  Instances       Size\n"
     ]
    },
    {
     "name": "stderr",
     "output_type": "stream",
     "text": [
      "      5/100       1.8G     0.3292          3        640: 100%|██████████| 151/151 [00:08<00:00, 17.75it/s]\n",
      "               classes   top1_acc   top5_acc: 100%|██████████| 19/19 [00:00<00:00, 25.50it/s]"
     ]
    },
    {
     "name": "stdout",
     "output_type": "stream",
     "text": [
      "                   all      0.967          1\n"
     ]
    },
    {
     "name": "stderr",
     "output_type": "stream",
     "text": [
      "\n"
     ]
    },
    {
     "name": "stdout",
     "output_type": "stream",
     "text": [
      "\n",
      "      Epoch    GPU_mem       loss  Instances       Size\n"
     ]
    },
    {
     "name": "stderr",
     "output_type": "stream",
     "text": [
      "      6/100       1.8G     0.2938          3        640: 100%|██████████| 151/151 [00:08<00:00, 17.61it/s]\n",
      "               classes   top1_acc   top5_acc: 100%|██████████| 19/19 [00:00<00:00, 24.99it/s]"
     ]
    },
    {
     "name": "stdout",
     "output_type": "stream",
     "text": [
      "                   all      0.933          1\n"
     ]
    },
    {
     "name": "stderr",
     "output_type": "stream",
     "text": [
      "\n"
     ]
    },
    {
     "name": "stdout",
     "output_type": "stream",
     "text": [
      "\n",
      "      Epoch    GPU_mem       loss  Instances       Size\n"
     ]
    },
    {
     "name": "stderr",
     "output_type": "stream",
     "text": [
      "      7/100       1.8G     0.2681          3        640: 100%|██████████| 151/151 [00:08<00:00, 17.25it/s]\n",
      "               classes   top1_acc   top5_acc: 100%|██████████| 19/19 [00:00<00:00, 24.86it/s]"
     ]
    },
    {
     "name": "stdout",
     "output_type": "stream",
     "text": [
      "                   all      0.967          1\n"
     ]
    },
    {
     "name": "stderr",
     "output_type": "stream",
     "text": [
      "\n"
     ]
    },
    {
     "name": "stdout",
     "output_type": "stream",
     "text": [
      "\n",
      "      Epoch    GPU_mem       loss  Instances       Size\n"
     ]
    },
    {
     "name": "stderr",
     "output_type": "stream",
     "text": [
      "      8/100       1.8G     0.2233          3        640: 100%|██████████| 151/151 [00:08<00:00, 18.13it/s]\n",
      "               classes   top1_acc   top5_acc: 100%|██████████| 19/19 [00:00<00:00, 24.60it/s]"
     ]
    },
    {
     "name": "stdout",
     "output_type": "stream",
     "text": [
      "                   all       0.98          1\n"
     ]
    },
    {
     "name": "stderr",
     "output_type": "stream",
     "text": [
      "\n"
     ]
    },
    {
     "name": "stdout",
     "output_type": "stream",
     "text": [
      "\n",
      "      Epoch    GPU_mem       loss  Instances       Size\n"
     ]
    },
    {
     "name": "stderr",
     "output_type": "stream",
     "text": [
      "      9/100       1.8G     0.2457          3        640: 100%|██████████| 151/151 [00:08<00:00, 17.58it/s]\n",
      "               classes   top1_acc   top5_acc: 100%|██████████| 19/19 [00:00<00:00, 26.02it/s]"
     ]
    },
    {
     "name": "stdout",
     "output_type": "stream",
     "text": [
      "                   all       0.96          1\n"
     ]
    },
    {
     "name": "stderr",
     "output_type": "stream",
     "text": [
      "\n"
     ]
    },
    {
     "name": "stdout",
     "output_type": "stream",
     "text": [
      "\n",
      "      Epoch    GPU_mem       loss  Instances       Size\n"
     ]
    },
    {
     "name": "stderr",
     "output_type": "stream",
     "text": [
      "     10/100       1.8G     0.1688          3        640: 100%|██████████| 151/151 [00:08<00:00, 17.55it/s]\n",
      "               classes   top1_acc   top5_acc: 100%|██████████| 19/19 [00:00<00:00, 25.88it/s]"
     ]
    },
    {
     "name": "stdout",
     "output_type": "stream",
     "text": [
      "                   all      0.973          1\n"
     ]
    },
    {
     "name": "stderr",
     "output_type": "stream",
     "text": [
      "\n"
     ]
    },
    {
     "name": "stdout",
     "output_type": "stream",
     "text": [
      "\n",
      "      Epoch    GPU_mem       loss  Instances       Size\n"
     ]
    },
    {
     "name": "stderr",
     "output_type": "stream",
     "text": [
      "     11/100       1.8G     0.1739          3        640: 100%|██████████| 151/151 [00:08<00:00, 17.98it/s]\n",
      "               classes   top1_acc   top5_acc: 100%|██████████| 19/19 [00:00<00:00, 26.19it/s]"
     ]
    },
    {
     "name": "stdout",
     "output_type": "stream",
     "text": [
      "                   all      0.977          1\n"
     ]
    },
    {
     "name": "stderr",
     "output_type": "stream",
     "text": [
      "\n"
     ]
    },
    {
     "name": "stdout",
     "output_type": "stream",
     "text": [
      "\n",
      "      Epoch    GPU_mem       loss  Instances       Size\n"
     ]
    },
    {
     "name": "stderr",
     "output_type": "stream",
     "text": [
      "     12/100       1.8G       0.18          3        640: 100%|██████████| 151/151 [00:08<00:00, 17.70it/s]\n",
      "               classes   top1_acc   top5_acc: 100%|██████████| 19/19 [00:00<00:00, 26.04it/s]"
     ]
    },
    {
     "name": "stdout",
     "output_type": "stream",
     "text": [
      "                   all      0.983          1\n"
     ]
    },
    {
     "name": "stderr",
     "output_type": "stream",
     "text": [
      "\n"
     ]
    },
    {
     "name": "stdout",
     "output_type": "stream",
     "text": [
      "\n",
      "      Epoch    GPU_mem       loss  Instances       Size\n"
     ]
    },
    {
     "name": "stderr",
     "output_type": "stream",
     "text": [
      "     13/100       1.8G     0.1596          3        640: 100%|██████████| 151/151 [00:08<00:00, 17.84it/s]\n",
      "               classes   top1_acc   top5_acc: 100%|██████████| 19/19 [00:00<00:00, 26.19it/s]"
     ]
    },
    {
     "name": "stdout",
     "output_type": "stream",
     "text": [
      "                   all       0.98          1\n"
     ]
    },
    {
     "name": "stderr",
     "output_type": "stream",
     "text": [
      "\n"
     ]
    },
    {
     "name": "stdout",
     "output_type": "stream",
     "text": [
      "\n",
      "      Epoch    GPU_mem       loss  Instances       Size\n"
     ]
    },
    {
     "name": "stderr",
     "output_type": "stream",
     "text": [
      "     14/100       1.8G     0.1702          3        640: 100%|██████████| 151/151 [00:08<00:00, 17.74it/s]\n",
      "               classes   top1_acc   top5_acc: 100%|██████████| 19/19 [00:00<00:00, 26.32it/s]"
     ]
    },
    {
     "name": "stdout",
     "output_type": "stream",
     "text": [
      "                   all      0.973          1\n"
     ]
    },
    {
     "name": "stderr",
     "output_type": "stream",
     "text": [
      "\n"
     ]
    },
    {
     "name": "stdout",
     "output_type": "stream",
     "text": [
      "\n",
      "      Epoch    GPU_mem       loss  Instances       Size\n"
     ]
    },
    {
     "name": "stderr",
     "output_type": "stream",
     "text": [
      "     15/100       1.8G     0.1613          3        640: 100%|██████████| 151/151 [00:08<00:00, 17.26it/s]\n",
      "               classes   top1_acc   top5_acc: 100%|██████████| 19/19 [00:00<00:00, 25.30it/s]"
     ]
    },
    {
     "name": "stdout",
     "output_type": "stream",
     "text": [
      "                   all       0.98          1\n"
     ]
    },
    {
     "name": "stderr",
     "output_type": "stream",
     "text": [
      "\n"
     ]
    },
    {
     "name": "stdout",
     "output_type": "stream",
     "text": [
      "\n",
      "      Epoch    GPU_mem       loss  Instances       Size\n"
     ]
    },
    {
     "name": "stderr",
     "output_type": "stream",
     "text": [
      "     16/100       1.8G     0.1321          3        640: 100%|██████████| 151/151 [00:08<00:00, 16.96it/s]\n",
      "               classes   top1_acc   top5_acc: 100%|██████████| 19/19 [00:00<00:00, 24.75it/s]"
     ]
    },
    {
     "name": "stdout",
     "output_type": "stream",
     "text": [
      "                   all       0.99          1\n"
     ]
    },
    {
     "name": "stderr",
     "output_type": "stream",
     "text": [
      "\n"
     ]
    },
    {
     "name": "stdout",
     "output_type": "stream",
     "text": [
      "\n",
      "      Epoch    GPU_mem       loss  Instances       Size\n"
     ]
    },
    {
     "name": "stderr",
     "output_type": "stream",
     "text": [
      "     17/100       1.8G     0.1549          3        640: 100%|██████████| 151/151 [00:08<00:00, 17.27it/s]\n",
      "               classes   top1_acc   top5_acc: 100%|██████████| 19/19 [00:00<00:00, 25.92it/s]"
     ]
    },
    {
     "name": "stdout",
     "output_type": "stream",
     "text": [
      "                   all      0.997          1\n"
     ]
    },
    {
     "name": "stderr",
     "output_type": "stream",
     "text": [
      "\n"
     ]
    },
    {
     "name": "stdout",
     "output_type": "stream",
     "text": [
      "\n",
      "      Epoch    GPU_mem       loss  Instances       Size\n"
     ]
    },
    {
     "name": "stderr",
     "output_type": "stream",
     "text": [
      "     18/100       1.8G     0.1336          3        640: 100%|██████████| 151/151 [00:08<00:00, 17.85it/s]\n",
      "               classes   top1_acc   top5_acc: 100%|██████████| 19/19 [00:00<00:00, 25.41it/s]"
     ]
    },
    {
     "name": "stdout",
     "output_type": "stream",
     "text": [
      "                   all      0.993          1\n"
     ]
    },
    {
     "name": "stderr",
     "output_type": "stream",
     "text": [
      "\n"
     ]
    },
    {
     "name": "stdout",
     "output_type": "stream",
     "text": [
      "\n",
      "      Epoch    GPU_mem       loss  Instances       Size\n"
     ]
    },
    {
     "name": "stderr",
     "output_type": "stream",
     "text": [
      "     19/100       1.8G     0.1153          3        640: 100%|██████████| 151/151 [00:08<00:00, 17.52it/s]\n",
      "               classes   top1_acc   top5_acc: 100%|██████████| 19/19 [00:00<00:00, 25.53it/s]"
     ]
    },
    {
     "name": "stdout",
     "output_type": "stream",
     "text": [
      "                   all      0.987          1\n"
     ]
    },
    {
     "name": "stderr",
     "output_type": "stream",
     "text": [
      "\n"
     ]
    },
    {
     "name": "stdout",
     "output_type": "stream",
     "text": [
      "\n",
      "      Epoch    GPU_mem       loss  Instances       Size\n"
     ]
    },
    {
     "name": "stderr",
     "output_type": "stream",
     "text": [
      "     20/100       1.8G       0.14          3        640: 100%|██████████| 151/151 [00:08<00:00, 17.31it/s]\n",
      "               classes   top1_acc   top5_acc: 100%|██████████| 19/19 [00:00<00:00, 25.10it/s]"
     ]
    },
    {
     "name": "stdout",
     "output_type": "stream",
     "text": [
      "                   all      0.997          1\n"
     ]
    },
    {
     "name": "stderr",
     "output_type": "stream",
     "text": [
      "\n"
     ]
    },
    {
     "name": "stdout",
     "output_type": "stream",
     "text": [
      "\n",
      "      Epoch    GPU_mem       loss  Instances       Size\n"
     ]
    },
    {
     "name": "stderr",
     "output_type": "stream",
     "text": [
      "     21/100       1.8G      0.105          3        640: 100%|██████████| 151/151 [00:08<00:00, 17.53it/s]\n",
      "               classes   top1_acc   top5_acc: 100%|██████████| 19/19 [00:00<00:00, 24.98it/s]"
     ]
    },
    {
     "name": "stdout",
     "output_type": "stream",
     "text": [
      "                   all      0.993          1\n"
     ]
    },
    {
     "name": "stderr",
     "output_type": "stream",
     "text": [
      "\n"
     ]
    },
    {
     "name": "stdout",
     "output_type": "stream",
     "text": [
      "\n",
      "      Epoch    GPU_mem       loss  Instances       Size\n"
     ]
    },
    {
     "name": "stderr",
     "output_type": "stream",
     "text": [
      "     22/100       1.8G     0.1086          3        640: 100%|██████████| 151/151 [00:08<00:00, 17.16it/s]\n",
      "               classes   top1_acc   top5_acc: 100%|██████████| 19/19 [00:00<00:00, 25.86it/s]"
     ]
    },
    {
     "name": "stdout",
     "output_type": "stream",
     "text": [
      "                   all      0.983          1\n",
      "\u001b[34m\u001b[1mEarlyStopping: \u001b[0mTraining stopped early as no improvement observed in last 5 epochs. Best results observed at epoch 17, best model saved as best.pt.\n",
      "To update EarlyStopping(patience=5) pass a new patience value, i.e. `patience=300` or use `patience=0` to disable EarlyStopping.\n"
     ]
    },
    {
     "name": "stderr",
     "output_type": "stream",
     "text": [
      "\n"
     ]
    },
    {
     "name": "stdout",
     "output_type": "stream",
     "text": [
      "\n",
      "22 epochs completed in 0.059 hours.\n",
      "Optimizer stripped from C:\\Users\\jazzb\\ImageDetection-Yolov11\\Road_Damage\\folds\\fold_5\\results\\weights\\last.pt, 3.2MB\n",
      "Optimizer stripped from C:\\Users\\jazzb\\ImageDetection-Yolov11\\Road_Damage\\folds\\fold_5\\results\\weights\\best.pt, 3.2MB\n",
      "\n",
      "Validating C:\\Users\\jazzb\\ImageDetection-Yolov11\\Road_Damage\\folds\\fold_5\\results\\weights\\best.pt...\n",
      "Ultralytics 8.3.133  Python-3.9.21 torch-2.5.1+cu121 CUDA:0 (NVIDIA GeForce RTX 4060 Laptop GPU, 8188MiB)\n",
      "YOLO11n-cls summary (fused): 47 layers, 1,532,429 parameters, 0 gradients, 3.2 GFLOPs\n",
      "\u001b[34m\u001b[1mtrain:\u001b[0m C:\\Users\\jazzb\\ImageDetection-Yolov11\\Road_Damage\\folds\\fold_5\\train... found 1203 images in 5 classes  \n",
      "\u001b[34m\u001b[1mval:\u001b[0m C:\\Users\\jazzb\\ImageDetection-Yolov11\\Road_Damage\\folds\\fold_5\\val... found 300 images in 5 classes  \n",
      "\u001b[34m\u001b[1mtest:\u001b[0m C:\\Users\\jazzb\\ImageDetection-Yolov11\\Road_Damage\\folds\\fold_5\\test... found 48 images in 5 classes  \n"
     ]
    },
    {
     "name": "stderr",
     "output_type": "stream",
     "text": [
      "               classes   top1_acc   top5_acc: 100%|██████████| 19/19 [00:00<00:00, 23.00it/s]\n"
     ]
    },
    {
     "name": "stdout",
     "output_type": "stream",
     "text": [
      "                   all      0.997          1\n",
      "Speed: 0.5ms preprocess, 1.8ms inference, 0.0ms loss, 0.0ms postprocess per image\n",
      "Results saved to \u001b[1mC:\\Users\\jazzb\\ImageDetection-Yolov11\\Road_Damage\\folds\\fold_5\\results\u001b[0m\n",
      "--- Fold 5 complete. Best weights in C:\\Users\\jazzb\\ImageDetection-Yolov11\\Road_Damage\\folds\\fold_5/results ---\n"
     ]
    }
   ],
   "source": [
    "##TRAINS THE MODEL KFOLD\n",
    "\n",
    "import os\n",
    "import gc\n",
    "import torch\n",
    "from ultralytics import YOLO\n",
    "\n",
    "# ---------------- CONFIG ----------------\n",
    "BASE_DIR    = r\"C:\\Users\\jazzb\\ImageDetection-Yolov11\\Road_Damage\\folds\"  # root path where fold_1, …, fold_5 live\n",
    "MODEL_FILE  = r\"models\\yolo11n-cls.pt\"                         # pretrained classification model\n",
    "FOLDS       = 5\n",
    "EPOCHS      = 100\n",
    "IMGSZ       = 640\n",
    "BATCH       = 8                                        # reduced for lower VRAM usage\n",
    "PATIENCE    = 5\n",
    "DEVICE      = \"cuda\" if torch.cuda.is_available() else \"cpu\"\n",
    "MEM_FRACTION = 0.6                                     # 60% GPU memory cap\n",
    "# ----------------------------------------\n",
    "\n",
    "print(f\"Using device: {DEVICE}\\n\")\n",
    "\n",
    "if DEVICE == \"cuda\":\n",
    "    torch.cuda.set_per_process_memory_fraction(MEM_FRACTION, device=0)\n",
    "\n",
    "for fold in range(1, FOLDS + 1):\n",
    "    gc.collect()\n",
    "    torch.cuda.empty_cache()\n",
    "\n",
    "    fold_dir = os.path.join(BASE_DIR, f\"fold_{fold}\")\n",
    "    if not os.path.isdir(os.path.join(fold_dir, 'train')):\n",
    "        raise FileNotFoundError(f\"{fold_dir}/train not found\")\n",
    "\n",
    "    print(f\"\\n=== Training Fold {fold}/{FOLDS} on folder {fold_dir} ===\")\n",
    "    model = YOLO(MODEL_FILE)\n",
    "    model.train(\n",
    "        data=fold_dir,\n",
    "        task='classify',\n",
    "        epochs=EPOCHS,\n",
    "        imgsz=IMGSZ,\n",
    "        batch=BATCH,\n",
    "        patience=PATIENCE,\n",
    "        device=DEVICE,\n",
    "        project=fold_dir,\n",
    "        name='results',\n",
    "        exist_ok=True,\n",
    "        dropout=0.2,\n",
    "        weight_decay=0.0005,\n",
    "        amp=False\n",
    "    )\n",
    "\n",
    "    print(f\"--- Fold {fold} complete. Best weights in {fold_dir}/results ---\")\n"
   ]
  },
  {
   "cell_type": "code",
   "execution_count": 2,
   "id": "1c812c2e-f402-46d7-9cc5-4f9834cee9e9",
   "metadata": {},
   "outputs": [
    {
     "name": "stdout",
     "output_type": "stream",
     "text": [
      "Checking: C:\\Users\\jazzb\\ImageDetection-Yolov11\\Road_Damage\\folds\\fold_1\\results\\results.csv -> Exists: True\n",
      "🔍 Columns in C:\\Users\\jazzb\\ImageDetection-Yolov11\\Road_Damage\\folds\\fold_1\\results\\results.csv:\n",
      "['epoch', 'time', 'train/loss', 'metrics/accuracy_top1', 'metrics/accuracy_top5', 'val/loss', 'lr/pg0', 'lr/pg1', 'lr/pg2']\n",
      "✅ Found column: metrics/accuracy_top1\n",
      "Checking: C:\\Users\\jazzb\\ImageDetection-Yolov11\\Road_Damage\\folds\\fold_2\\results\\results.csv -> Exists: True\n",
      "🔍 Columns in C:\\Users\\jazzb\\ImageDetection-Yolov11\\Road_Damage\\folds\\fold_2\\results\\results.csv:\n",
      "['epoch', 'time', 'train/loss', 'metrics/accuracy_top1', 'metrics/accuracy_top5', 'val/loss', 'lr/pg0', 'lr/pg1', 'lr/pg2']\n",
      "✅ Found column: metrics/accuracy_top1\n",
      "Checking: C:\\Users\\jazzb\\ImageDetection-Yolov11\\Road_Damage\\folds\\fold_3\\results\\results.csv -> Exists: True\n",
      "🔍 Columns in C:\\Users\\jazzb\\ImageDetection-Yolov11\\Road_Damage\\folds\\fold_3\\results\\results.csv:\n",
      "['epoch', 'time', 'train/loss', 'metrics/accuracy_top1', 'metrics/accuracy_top5', 'val/loss', 'lr/pg0', 'lr/pg1', 'lr/pg2']\n",
      "✅ Found column: metrics/accuracy_top1\n",
      "Checking: C:\\Users\\jazzb\\ImageDetection-Yolov11\\Road_Damage\\folds\\fold_4\\results\\results.csv -> Exists: True\n",
      "🔍 Columns in C:\\Users\\jazzb\\ImageDetection-Yolov11\\Road_Damage\\folds\\fold_4\\results\\results.csv:\n",
      "['epoch', 'time', 'train/loss', 'metrics/accuracy_top1', 'metrics/accuracy_top5', 'val/loss', 'lr/pg0', 'lr/pg1', 'lr/pg2']\n",
      "✅ Found column: metrics/accuracy_top1\n",
      "Checking: C:\\Users\\jazzb\\ImageDetection-Yolov11\\Road_Damage\\folds\\fold_5\\results\\results.csv -> Exists: True\n",
      "🔍 Columns in C:\\Users\\jazzb\\ImageDetection-Yolov11\\Road_Damage\\folds\\fold_5\\results\\results.csv:\n",
      "['epoch', 'time', 'train/loss', 'metrics/accuracy_top1', 'metrics/accuracy_top5', 'val/loss', 'lr/pg0', 'lr/pg1', 'lr/pg2']\n",
      "✅ Found column: metrics/accuracy_top1\n",
      "\n",
      "📊 5-Fold Cross-Validation Summary:\n",
      "  Fold  Epoch  Accuracy  Train Loss  Validation Loss  Loss Gap  Learning Rate\n",
      "fold_1     19   0.99668     0.12651          0.01820   0.10831       0.000913\n",
      "fold_2      8   0.98671     0.26403          0.04968   0.21435       0.001034\n",
      "fold_3     13   1.00000     0.14402          0.01560   0.12842       0.000979\n",
      "fold_4      8   0.98000     0.22285          0.08270   0.14015       0.001034\n",
      "fold_5     17   0.99667     0.15490          0.02021   0.13469       0.000935\n",
      "\n",
      "🎯 Selected Best Generalizing Fold: fold_1 (Epoch 19)\n",
      "   Accuracy: 0.9967, Loss Gap: 0.1083\n",
      "📦 Copied best.pt to: C:\\Users\\jazzb\\ImageDetection-Yolov11\\Road_Damage\\folds\\..\\final_model\\best_fold.pt\n"
     ]
    }
   ],
   "source": [
    "#Checks whhich fold is the best\n",
    "import pandas as pd\n",
    "import os\n",
    "import shutil\n",
    "\n",
    "# Set the correct base directory where the folds exist\n",
    "base_dir = r\"C:\\Users\\jazzb\\ImageDetection-Yolov11\\Road_Damage\\folds\"\n",
    "\n",
    "# Dynamically find the fold directories inside the base folder\n",
    "fold_dirs = [f\"fold_{i+1}\" for i in range(5)]\n",
    "\n",
    "results = []\n",
    "\n",
    "for fold in fold_dirs:\n",
    "    csv_path = os.path.join(base_dir, fold, \"results\", \"results.csv\")\n",
    "    print(f\"Checking: {csv_path} -> Exists: {os.path.exists(csv_path)}\")  # Debug line\n",
    "\n",
    "    if not os.path.exists(csv_path):\n",
    "        print(f\"❌ Missing results.csv in {csv_path}\")\n",
    "        continue\n",
    "\n",
    "    df = pd.read_csv(csv_path)\n",
    "    print(f\"🔍 Columns in {csv_path}:\\n{df.columns.tolist()}\")  # Debugging line\n",
    "\n",
    "    # Look for the accuracy column\n",
    "    accuracy_column = None\n",
    "    for col in df.columns:\n",
    "        if 'accuracy' in col.lower():\n",
    "            accuracy_column = col\n",
    "            print(f\"✅ Found column: {col}\")\n",
    "            break\n",
    "\n",
    "    if accuracy_column is None:\n",
    "        print(f\"⚠️ 'accuracy' column not found in {csv_path}\")\n",
    "        continue\n",
    "\n",
    "    best_row = df.loc[df[accuracy_column].idxmax()]\n",
    "    train_loss = best_row[\"train/loss\"]\n",
    "    val_loss = best_row[\"val/loss\"]\n",
    "    loss_gap = abs(train_loss - val_loss)\n",
    "\n",
    "    results.append({\n",
    "        \"Fold\": fold,\n",
    "        \"Epoch\": int(best_row[\"epoch\"]),\n",
    "        \"Accuracy\": best_row[accuracy_column],\n",
    "        \"Train Loss\": train_loss,\n",
    "        \"Validation Loss\": val_loss,\n",
    "        \"Loss Gap\": loss_gap,\n",
    "        \"Learning Rate\": best_row[\"lr/pg0\"]\n",
    "    })\n",
    "\n",
    "results_df = pd.DataFrame(results)\n",
    "\n",
    "if not results_df.empty:\n",
    "    print(\"\\n📊 5-Fold Cross-Validation Summary:\")\n",
    "    print(results_df.to_string(index=False))\n",
    "\n",
    "    # Normalize accuracy and loss gap for ranking\n",
    "    results_df[\"Accuracy Rank\"] = results_df[\"Accuracy\"].rank(ascending=False)\n",
    "    results_df[\"Loss Gap Rank\"] = results_df[\"Loss Gap\"].rank(ascending=True)\n",
    "\n",
    "    # Combined score: prioritize high accuracy + low overfitting\n",
    "    results_df[\"Overall Score\"] = results_df[\"Accuracy Rank\"] + results_df[\"Loss Gap Rank\"]\n",
    "\n",
    "    best_fold = results_df.loc[results_df[\"Overall Score\"].idxmin()]\n",
    "    print(f\"\\n🎯 Selected Best Generalizing Fold: {best_fold['Fold']} (Epoch {best_fold['Epoch']})\")\n",
    "    print(f\"   Accuracy: {best_fold['Accuracy']:.4f}, Loss Gap: {best_fold['Loss Gap']:.4f}\")\n",
    "\n",
    "    # Adjust the model path to match the correct directory structure\n",
    "    best_model_path = os.path.join(base_dir, best_fold[\"Fold\"], \"results\", \"weights\", \"best.pt\")\n",
    "    dest_dir = os.path.join(base_dir, \"..\", \"final_model\")\n",
    "    os.makedirs(dest_dir, exist_ok=True)\n",
    "\n",
    "    if os.path.exists(best_model_path):\n",
    "        shutil.copy(best_model_path, os.path.join(dest_dir, \"best_fold.pt\"))\n",
    "        print(f\"📦 Copied best.pt to: {os.path.join(dest_dir, 'best_fold.pt')}\")\n",
    "    else:\n",
    "        print(f\"❌ Missing best.pt at: {best_model_path}\")\n",
    "else:\n",
    "    print(\"\\n⚠️ No valid results found. Please check the folder structure and CSV files.\")"
   ]
  },
  {
   "cell_type": "code",
   "execution_count": 3,
   "id": "c32b756c-5b8b-46ca-b2fe-cf5a2a1068f0",
   "metadata": {},
   "outputs": [
    {
     "name": "stdout",
     "output_type": "stream",
     "text": [
      "\n",
      "image 1/1 C:\\Users\\jazzb\\ImageDetection-Yolov11\\Road_Damage\\test\\potholes\\images\\4 -  Potholes (10).jpg: 640x640 ravelling 0.85, potholes 0.14, alligator_crack_issues 0.01, open_manhole 0.00, crack_issues 0.00, 15.1ms\n",
      "Speed: 33.5ms preprocess, 15.1ms inference, 0.1ms postprocess per image at shape (1, 3, 640, 640)\n",
      "\n",
      "image 1/1 C:\\Users\\jazzb\\ImageDetection-Yolov11\\Road_Damage\\test\\potholes\\images\\4 -  Potholes (11).jpg: 640x640 potholes 1.00, ravelling 0.00, crack_issues 0.00, open_manhole 0.00, alligator_crack_issues 0.00, 15.4ms\n",
      "Speed: 7.1ms preprocess, 15.4ms inference, 0.1ms postprocess per image at shape (1, 3, 640, 640)\n",
      "\n",
      "image 1/1 C:\\Users\\jazzb\\ImageDetection-Yolov11\\Road_Damage\\test\\potholes\\images\\4 -  Potholes (13).jpg: 640x640 potholes 0.90, crack_issues 0.10, ravelling 0.00, open_manhole 0.00, alligator_crack_issues 0.00, 14.7ms\n",
      "Speed: 6.8ms preprocess, 14.7ms inference, 0.1ms postprocess per image at shape (1, 3, 640, 640)\n",
      "\n",
      "image 1/1 C:\\Users\\jazzb\\ImageDetection-Yolov11\\Road_Damage\\test\\potholes\\images\\4 -  Potholes (3).jpg: 640x640 ravelling 0.98, alligator_crack_issues 0.01, potholes 0.00, crack_issues 0.00, open_manhole 0.00, 15.9ms\n",
      "Speed: 7.0ms preprocess, 15.9ms inference, 0.1ms postprocess per image at shape (1, 3, 640, 640)\n",
      "\n",
      "image 1/1 C:\\Users\\jazzb\\ImageDetection-Yolov11\\Road_Damage\\test\\potholes\\images\\4 -  Potholes (34).jpg: 640x640 potholes 0.98, crack_issues 0.02, open_manhole 0.00, ravelling 0.00, alligator_crack_issues 0.00, 17.4ms\n",
      "Speed: 7.5ms preprocess, 17.4ms inference, 0.1ms postprocess per image at shape (1, 3, 640, 640)\n",
      "\n",
      "image 1/1 C:\\Users\\jazzb\\ImageDetection-Yolov11\\Road_Damage\\test\\potholes\\images\\4 -  Potholes (37).jpg: 640x640 potholes 0.98, ravelling 0.02, crack_issues 0.00, open_manhole 0.00, alligator_crack_issues 0.00, 16.3ms\n",
      "Speed: 6.7ms preprocess, 16.3ms inference, 0.1ms postprocess per image at shape (1, 3, 640, 640)\n",
      "\n",
      "image 1/1 C:\\Users\\jazzb\\ImageDetection-Yolov11\\Road_Damage\\test\\potholes\\images\\4 -  Potholes (4).jpg: 640x640 ravelling 0.96, potholes 0.02, alligator_crack_issues 0.02, open_manhole 0.00, crack_issues 0.00, 16.6ms\n",
      "Speed: 8.2ms preprocess, 16.6ms inference, 0.2ms postprocess per image at shape (1, 3, 640, 640)\n",
      "\n",
      "image 1/1 C:\\Users\\jazzb\\ImageDetection-Yolov11\\Road_Damage\\test\\potholes\\images\\4 -  Potholes (40).jpg: 640x640 potholes 0.71, ravelling 0.28, crack_issues 0.01, open_manhole 0.00, alligator_crack_issues 0.00, 12.7ms\n",
      "Speed: 7.4ms preprocess, 12.7ms inference, 0.1ms postprocess per image at shape (1, 3, 640, 640)\n",
      "\n",
      "image 1/1 C:\\Users\\jazzb\\ImageDetection-Yolov11\\Road_Damage\\test\\potholes\\images\\4 -  Potholes (5).jpg: 640x640 ravelling 0.98, alligator_crack_issues 0.01, potholes 0.00, open_manhole 0.00, crack_issues 0.00, 14.9ms\n",
      "Speed: 6.4ms preprocess, 14.9ms inference, 0.1ms postprocess per image at shape (1, 3, 640, 640)\n",
      "\n",
      "image 1/1 C:\\Users\\jazzb\\ImageDetection-Yolov11\\Road_Damage\\test\\crack_issues\\images\\1 - Cracks (12).jpg: 640x640 crack_issues 1.00, potholes 0.00, ravelling 0.00, alligator_crack_issues 0.00, open_manhole 0.00, 13.9ms\n",
      "Speed: 6.7ms preprocess, 13.9ms inference, 0.1ms postprocess per image at shape (1, 3, 640, 640)\n",
      "\n",
      "image 1/1 C:\\Users\\jazzb\\ImageDetection-Yolov11\\Road_Damage\\test\\crack_issues\\images\\1 - Cracks (13).jpg: 640x640 crack_issues 1.00, potholes 0.00, alligator_crack_issues 0.00, ravelling 0.00, open_manhole 0.00, 14.7ms\n",
      "Speed: 8.3ms preprocess, 14.7ms inference, 0.2ms postprocess per image at shape (1, 3, 640, 640)\n",
      "\n",
      "image 1/1 C:\\Users\\jazzb\\ImageDetection-Yolov11\\Road_Damage\\test\\crack_issues\\images\\1 - Cracks (14).jpg: 640x640 crack_issues 0.87, potholes 0.13, alligator_crack_issues 0.00, open_manhole 0.00, ravelling 0.00, 12.9ms\n",
      "Speed: 7.0ms preprocess, 12.9ms inference, 0.1ms postprocess per image at shape (1, 3, 640, 640)\n",
      "\n",
      "image 1/1 C:\\Users\\jazzb\\ImageDetection-Yolov11\\Road_Damage\\test\\crack_issues\\images\\1 - Cracks (2).jpg: 640x640 ravelling 0.92, alligator_crack_issues 0.04, crack_issues 0.02, open_manhole 0.02, potholes 0.00, 14.1ms\n",
      "Speed: 7.1ms preprocess, 14.1ms inference, 0.2ms postprocess per image at shape (1, 3, 640, 640)\n",
      "\n",
      "image 1/1 C:\\Users\\jazzb\\ImageDetection-Yolov11\\Road_Damage\\test\\crack_issues\\images\\1 - Cracks (20).jpg: 640x640 crack_issues 1.00, potholes 0.00, ravelling 0.00, open_manhole 0.00, alligator_crack_issues 0.00, 12.2ms\n",
      "Speed: 7.4ms preprocess, 12.2ms inference, 0.1ms postprocess per image at shape (1, 3, 640, 640)\n",
      "\n",
      "image 1/1 C:\\Users\\jazzb\\ImageDetection-Yolov11\\Road_Damage\\test\\crack_issues\\images\\1 - Cracks (22).jpg: 640x640 crack_issues 0.70, potholes 0.30, ravelling 0.00, open_manhole 0.00, alligator_crack_issues 0.00, 12.7ms\n",
      "Speed: 7.6ms preprocess, 12.7ms inference, 0.1ms postprocess per image at shape (1, 3, 640, 640)\n",
      "\n",
      "image 1/1 C:\\Users\\jazzb\\ImageDetection-Yolov11\\Road_Damage\\test\\crack_issues\\images\\1 - Cracks (38).jpg: 640x640 potholes 0.99, crack_issues 0.01, ravelling 0.00, alligator_crack_issues 0.00, open_manhole 0.00, 11.4ms\n",
      "Speed: 7.4ms preprocess, 11.4ms inference, 0.1ms postprocess per image at shape (1, 3, 640, 640)\n",
      "\n",
      "image 1/1 C:\\Users\\jazzb\\ImageDetection-Yolov11\\Road_Damage\\test\\crack_issues\\images\\1 - Cracks (43).jpg: 640x640 potholes 0.83, crack_issues 0.16, ravelling 0.01, open_manhole 0.00, alligator_crack_issues 0.00, 13.7ms\n",
      "Speed: 7.8ms preprocess, 13.7ms inference, 0.1ms postprocess per image at shape (1, 3, 640, 640)\n",
      "\n",
      "image 1/1 C:\\Users\\jazzb\\ImageDetection-Yolov11\\Road_Damage\\test\\crack_issues\\images\\1 - Cracks (46).jpg: 640x640 crack_issues 1.00, potholes 0.00, alligator_crack_issues 0.00, ravelling 0.00, open_manhole 0.00, 11.0ms\n",
      "Speed: 9.3ms preprocess, 11.0ms inference, 0.1ms postprocess per image at shape (1, 3, 640, 640)\n",
      "\n",
      "image 1/1 C:\\Users\\jazzb\\ImageDetection-Yolov11\\Road_Damage\\test\\crack_issues\\images\\1 - Cracks (5).jpg: 640x640 crack_issues 1.00, potholes 0.00, ravelling 0.00, open_manhole 0.00, alligator_crack_issues 0.00, 13.8ms\n",
      "Speed: 8.0ms preprocess, 13.8ms inference, 0.1ms postprocess per image at shape (1, 3, 640, 640)\n",
      "\n",
      "image 1/1 C:\\Users\\jazzb\\ImageDetection-Yolov11\\Road_Damage\\test\\alligator_crack_issues\\images\\2 - Alligator Cracks (10).jpg: 640x640 alligator_crack_issues 0.76, potholes 0.19, open_manhole 0.04, ravelling 0.02, crack_issues 0.00, 12.5ms\n",
      "Speed: 7.6ms preprocess, 12.5ms inference, 0.1ms postprocess per image at shape (1, 3, 640, 640)\n",
      "\n",
      "image 1/1 C:\\Users\\jazzb\\ImageDetection-Yolov11\\Road_Damage\\test\\alligator_crack_issues\\images\\2 - Alligator Cracks (15).jpg: 640x640 alligator_crack_issues 1.00, crack_issues 0.00, ravelling 0.00, open_manhole 0.00, potholes 0.00, 10.9ms\n",
      "Speed: 7.2ms preprocess, 10.9ms inference, 0.1ms postprocess per image at shape (1, 3, 640, 640)\n",
      "\n",
      "image 1/1 C:\\Users\\jazzb\\ImageDetection-Yolov11\\Road_Damage\\test\\alligator_crack_issues\\images\\2 - Alligator Cracks (16).jpg: 640x640 alligator_crack_issues 1.00, ravelling 0.00, crack_issues 0.00, open_manhole 0.00, potholes 0.00, 6.0ms\n",
      "Speed: 6.1ms preprocess, 6.0ms inference, 0.1ms postprocess per image at shape (1, 3, 640, 640)\n",
      "\n",
      "image 1/1 C:\\Users\\jazzb\\ImageDetection-Yolov11\\Road_Damage\\test\\alligator_crack_issues\\images\\2 - Alligator Cracks (17).jpg: 640x640 alligator_crack_issues 0.73, potholes 0.17, crack_issues 0.05, open_manhole 0.04, ravelling 0.01, 7.0ms\n",
      "Speed: 6.1ms preprocess, 7.0ms inference, 0.1ms postprocess per image at shape (1, 3, 640, 640)\n",
      "\n",
      "image 1/1 C:\\Users\\jazzb\\ImageDetection-Yolov11\\Road_Damage\\test\\alligator_crack_issues\\images\\2 - Alligator Cracks (22).jpg: 640x640 alligator_crack_issues 1.00, crack_issues 0.00, potholes 0.00, open_manhole 0.00, ravelling 0.00, 6.8ms\n",
      "Speed: 5.5ms preprocess, 6.8ms inference, 0.1ms postprocess per image at shape (1, 3, 640, 640)\n",
      "\n",
      "image 1/1 C:\\Users\\jazzb\\ImageDetection-Yolov11\\Road_Damage\\test\\alligator_crack_issues\\images\\2 - Alligator Cracks (23).jpg: 640x640 alligator_crack_issues 0.93, crack_issues 0.04, potholes 0.02, open_manhole 0.01, ravelling 0.00, 7.6ms\n",
      "Speed: 6.4ms preprocess, 7.6ms inference, 0.1ms postprocess per image at shape (1, 3, 640, 640)\n",
      "\n",
      "image 1/1 C:\\Users\\jazzb\\ImageDetection-Yolov11\\Road_Damage\\test\\alligator_crack_issues\\images\\2 - Alligator Cracks (25).jpg: 640x640 alligator_crack_issues 1.00, crack_issues 0.00, open_manhole 0.00, potholes 0.00, ravelling 0.00, 6.8ms\n",
      "Speed: 5.8ms preprocess, 6.8ms inference, 0.1ms postprocess per image at shape (1, 3, 640, 640)\n",
      "\n",
      "image 1/1 C:\\Users\\jazzb\\ImageDetection-Yolov11\\Road_Damage\\test\\alligator_crack_issues\\images\\2 - Alligator Cracks (40).jpg: 640x640 alligator_crack_issues 1.00, crack_issues 0.00, open_manhole 0.00, ravelling 0.00, potholes 0.00, 6.5ms\n",
      "Speed: 5.4ms preprocess, 6.5ms inference, 0.0ms postprocess per image at shape (1, 3, 640, 640)\n",
      "\n",
      "image 1/1 C:\\Users\\jazzb\\ImageDetection-Yolov11\\Road_Damage\\test\\alligator_crack_issues\\images\\2 - Alligator Cracks (46).jpg: 640x640 alligator_crack_issues 1.00, crack_issues 0.00, potholes 0.00, open_manhole 0.00, ravelling 0.00, 7.5ms\n",
      "Speed: 5.7ms preprocess, 7.5ms inference, 0.1ms postprocess per image at shape (1, 3, 640, 640)\n",
      "\n",
      "image 1/1 C:\\Users\\jazzb\\ImageDetection-Yolov11\\Road_Damage\\test\\ravelling\\images\\1746697115846 ravelling.jpg: 640x640 ravelling 1.00, alligator_crack_issues 0.00, crack_issues 0.00, open_manhole 0.00, potholes 0.00, 6.1ms\n",
      "Speed: 4.9ms preprocess, 6.1ms inference, 0.0ms postprocess per image at shape (1, 3, 640, 640)\n",
      "\n",
      "image 1/1 C:\\Users\\jazzb\\ImageDetection-Yolov11\\Road_Damage\\test\\ravelling\\images\\alligator with ravelling.jpg: 640x640 alligator_crack_issues 1.00, potholes 0.00, open_manhole 0.00, ravelling 0.00, crack_issues 0.00, 6.3ms\n",
      "Speed: 5.7ms preprocess, 6.3ms inference, 0.0ms postprocess per image at shape (1, 3, 640, 640)\n",
      "\n",
      "image 1/1 C:\\Users\\jazzb\\ImageDetection-Yolov11\\Road_Damage\\test\\ravelling\\images\\crack with ravelling.jpg: 640x640 ravelling 0.99, alligator_crack_issues 0.01, crack_issues 0.00, potholes 0.00, open_manhole 0.00, 6.6ms\n",
      "Speed: 5.8ms preprocess, 6.6ms inference, 0.0ms postprocess per image at shape (1, 3, 640, 640)\n",
      "\n",
      "image 1/1 C:\\Users\\jazzb\\ImageDetection-Yolov11\\Road_Damage\\test\\ravelling\\images\\cracks with ravelling.jpg: 640x640 crack_issues 0.65, ravelling 0.26, potholes 0.08, alligator_crack_issues 0.01, open_manhole 0.01, 6.8ms\n",
      "Speed: 5.3ms preprocess, 6.8ms inference, 0.0ms postprocess per image at shape (1, 3, 640, 640)\n",
      "\n",
      "image 1/1 C:\\Users\\jazzb\\ImageDetection-Yolov11\\Road_Damage\\test\\ravelling\\images\\IMG_20250508_133457.jpg: 640x640 ravelling 1.00, crack_issues 0.00, open_manhole 0.00, alligator_crack_issues 0.00, potholes 0.00, 6.6ms\n",
      "Speed: 5.5ms preprocess, 6.6ms inference, 0.1ms postprocess per image at shape (1, 3, 640, 640)\n",
      "\n",
      "image 1/1 C:\\Users\\jazzb\\ImageDetection-Yolov11\\Road_Damage\\test\\ravelling\\images\\IMG_20250508_133644.jpg: 640x640 ravelling 0.99, crack_issues 0.00, alligator_crack_issues 0.00, potholes 0.00, open_manhole 0.00, 7.0ms\n",
      "Speed: 5.8ms preprocess, 7.0ms inference, 0.0ms postprocess per image at shape (1, 3, 640, 640)\n",
      "\n",
      "image 1/1 C:\\Users\\jazzb\\ImageDetection-Yolov11\\Road_Damage\\test\\ravelling\\images\\IMG_20250508_133734.jpg: 640x640 ravelling 1.00, crack_issues 0.00, alligator_crack_issues 0.00, open_manhole 0.00, potholes 0.00, 5.9ms\n",
      "Speed: 5.7ms preprocess, 5.9ms inference, 0.0ms postprocess per image at shape (1, 3, 640, 640)\n",
      "\n",
      "image 1/1 C:\\Users\\jazzb\\ImageDetection-Yolov11\\Road_Damage\\test\\ravelling\\images\\IMG_20250508_135111.jpg: 640x640 ravelling 1.00, alligator_crack_issues 0.00, crack_issues 0.00, potholes 0.00, open_manhole 0.00, 7.0ms\n",
      "Speed: 5.9ms preprocess, 7.0ms inference, 0.1ms postprocess per image at shape (1, 3, 640, 640)\n",
      "\n",
      "image 1/1 C:\\Users\\jazzb\\ImageDetection-Yolov11\\Road_Damage\\test\\ravelling\\images\\IMG_20250508_135348.jpg: 640x640 crack_issues 0.52, ravelling 0.43, alligator_crack_issues 0.05, potholes 0.01, open_manhole 0.00, 5.8ms\n",
      "Speed: 6.3ms preprocess, 5.8ms inference, 0.0ms postprocess per image at shape (1, 3, 640, 640)\n",
      "\n",
      "image 1/1 C:\\Users\\jazzb\\ImageDetection-Yolov11\\Road_Damage\\test\\ravelling\\images\\ravelling1.jpg: 640x640 ravelling 1.00, crack_issues 0.00, potholes 0.00, open_manhole 0.00, alligator_crack_issues 0.00, 6.6ms\n",
      "Speed: 5.4ms preprocess, 6.6ms inference, 0.1ms postprocess per image at shape (1, 3, 640, 640)\n",
      "\n",
      "image 1/1 C:\\Users\\jazzb\\ImageDetection-Yolov11\\Road_Damage\\test\\ravelling\\images\\ravelling20.jpg: 640x640 alligator_crack_issues 0.99, crack_issues 0.01, ravelling 0.00, open_manhole 0.00, potholes 0.00, 6.8ms\n",
      "Speed: 5.3ms preprocess, 6.8ms inference, 0.1ms postprocess per image at shape (1, 3, 640, 640)\n",
      "\n",
      "image 1/1 C:\\Users\\jazzb\\ImageDetection-Yolov11\\Road_Damage\\test\\open_manhole\\images\\3 - Open Manhole (10).jpg: 640x640 open_manhole 1.00, ravelling 0.00, potholes 0.00, alligator_crack_issues 0.00, crack_issues 0.00, 6.6ms\n",
      "Speed: 5.5ms preprocess, 6.6ms inference, 0.1ms postprocess per image at shape (1, 3, 640, 640)\n",
      "\n",
      "image 1/1 C:\\Users\\jazzb\\ImageDetection-Yolov11\\Road_Damage\\test\\open_manhole\\images\\3 - Open Manhole (16).jpg: 640x640 open_manhole 1.00, alligator_crack_issues 0.00, potholes 0.00, crack_issues 0.00, ravelling 0.00, 6.5ms\n",
      "Speed: 4.9ms preprocess, 6.5ms inference, 0.0ms postprocess per image at shape (1, 3, 640, 640)\n",
      "\n",
      "image 1/1 C:\\Users\\jazzb\\ImageDetection-Yolov11\\Road_Damage\\test\\open_manhole\\images\\3 - Open Manhole (17).jpg: 640x640 open_manhole 1.00, ravelling 0.00, alligator_crack_issues 0.00, potholes 0.00, crack_issues 0.00, 6.7ms\n",
      "Speed: 5.7ms preprocess, 6.7ms inference, 0.1ms postprocess per image at shape (1, 3, 640, 640)\n",
      "\n",
      "image 1/1 C:\\Users\\jazzb\\ImageDetection-Yolov11\\Road_Damage\\test\\open_manhole\\images\\3 - Open Manhole (18).jpg: 640x640 open_manhole 1.00, potholes 0.00, crack_issues 0.00, alligator_crack_issues 0.00, ravelling 0.00, 6.8ms\n",
      "Speed: 5.2ms preprocess, 6.8ms inference, 0.0ms postprocess per image at shape (1, 3, 640, 640)\n",
      "\n",
      "image 1/1 C:\\Users\\jazzb\\ImageDetection-Yolov11\\Road_Damage\\test\\open_manhole\\images\\3 - Open Manhole (23).jpg: 640x640 open_manhole 1.00, potholes 0.00, crack_issues 0.00, alligator_crack_issues 0.00, ravelling 0.00, 7.0ms\n",
      "Speed: 5.1ms preprocess, 7.0ms inference, 0.1ms postprocess per image at shape (1, 3, 640, 640)\n",
      "\n",
      "image 1/1 C:\\Users\\jazzb\\ImageDetection-Yolov11\\Road_Damage\\test\\open_manhole\\images\\3 - Open Manhole (24).jpg: 640x640 open_manhole 1.00, potholes 0.00, crack_issues 0.00, ravelling 0.00, alligator_crack_issues 0.00, 6.4ms\n",
      "Speed: 5.4ms preprocess, 6.4ms inference, 0.1ms postprocess per image at shape (1, 3, 640, 640)\n",
      "\n",
      "image 1/1 C:\\Users\\jazzb\\ImageDetection-Yolov11\\Road_Damage\\test\\open_manhole\\images\\3 - Open Manhole (26).jpg: 640x640 open_manhole 1.00, potholes 0.00, crack_issues 0.00, ravelling 0.00, alligator_crack_issues 0.00, 6.8ms\n",
      "Speed: 5.6ms preprocess, 6.8ms inference, 0.1ms postprocess per image at shape (1, 3, 640, 640)\n",
      "\n",
      "image 1/1 C:\\Users\\jazzb\\ImageDetection-Yolov11\\Road_Damage\\test\\open_manhole\\images\\3 - Open Manhole (41).jpg: 640x640 open_manhole 1.00, alligator_crack_issues 0.00, potholes 0.00, crack_issues 0.00, ravelling 0.00, 6.6ms\n",
      "Speed: 5.3ms preprocess, 6.6ms inference, 0.1ms postprocess per image at shape (1, 3, 640, 640)\n",
      "\n",
      "image 1/1 C:\\Users\\jazzb\\ImageDetection-Yolov11\\Road_Damage\\test\\open_manhole\\images\\3 - Open Manhole (47).jpg: 640x640 open_manhole 1.00, ravelling 0.00, potholes 0.00, alligator_crack_issues 0.00, crack_issues 0.00, 6.4ms\n",
      "Speed: 6.0ms preprocess, 6.4ms inference, 0.1ms postprocess per image at shape (1, 3, 640, 640)\n",
      "\n",
      "📊 Classification Report:\n",
      "                        precision    recall  f1-score   support\n",
      "\n",
      "alligator_crack_issues       0.82      1.00      0.90         9\n",
      "          crack_issues       0.78      0.70      0.74        10\n",
      "          open_manhole       1.00      1.00      1.00         9\n",
      "              potholes       0.71      0.56      0.62         9\n",
      "             ravelling       0.58      0.64      0.61        11\n",
      "             no_damage       0.00      0.00      0.00         0\n",
      "\n",
      "              accuracy                           0.77        48\n",
      "             macro avg       0.65      0.65      0.65        48\n",
      "          weighted avg       0.77      0.77      0.77        48\n",
      "\n",
      "Saved confusion matrix to confusion_matrix_with_no_damage.png\n"
     ]
    }
   ],
   "source": [
    "# CONFUSION MATRIX\n",
    "\n",
    "from ultralytics import YOLO\n",
    "from sklearn.metrics import classification_report, confusion_matrix, ConfusionMatrixDisplay\n",
    "import matplotlib.pyplot as plt\n",
    "import os\n",
    "\n",
    "# 1. Reload your trained classification weights\n",
    "weights = \"best_fold.pt\"\n",
    "\n",
    "model   = YOLO(weights)\n",
    "\n",
    "# 2. Grab and extend the model's names dict\n",
    "names = model.names.copy()\n",
    "no_damage_idx = max(names.keys()) + 1\n",
    "names[no_damage_idx] = \"no_damage\"\n",
    "\n",
    "# 3. Validation setup\n",
    "val_root = \"Road_Damage/test\"\n",
    "folders  = [\n",
    "    \"potholes\",\n",
    "    \"crack_issues\",\n",
    "    \"alligator_crack_issues\",\n",
    "    \"ravelling\",\n",
    "    \"open_manhole\"\n",
    "]\n",
    "\n",
    "# 4. Invert for lookup\n",
    "name_to_idx = {v: k for k, v in names.items()}\n",
    "\n",
    "# 5. Choose a confidence threshold below which we call it \"no_damage\"\n",
    "CONF_THRESH = 0.3\n",
    "\n",
    "y_true, y_pred = [], []\n",
    "\n",
    "for folder in folders:\n",
    "    true_idx = name_to_idx[folder]\n",
    "    img_dir  = os.path.join(val_root, folder, \"images\")\n",
    "    for fn in os.listdir(img_dir):\n",
    "        if not fn.lower().endswith((\".jpg\", \".jpeg\", \".png\")):\n",
    "            continue\n",
    "\n",
    "        path = os.path.join(img_dir, fn)\n",
    "        y_true.append(true_idx)\n",
    "\n",
    "        # Run classification\n",
    "        res = model(path, imgsz=640)[0]\n",
    "\n",
    "        # Use top1 and top1conf directly\n",
    "        top_idx  = int(res.probs.top1)\n",
    "        top_conf = float(res.probs.top1conf)\n",
    "\n",
    "        # Assign no_damage if confidence is too low\n",
    "        if top_conf < CONF_THRESH:\n",
    "            pred_idx = no_damage_idx\n",
    "        else:\n",
    "            pred_idx = top_idx\n",
    "\n",
    "        y_pred.append(pred_idx)\n",
    "# 6. Print classification report (include labels for all classes)\n",
    "sorted_idx = sorted(name_to_idx.values())  # e.g. [0,1,2,3,4,5,6]\n",
    "\n",
    "print(\"\\n📊 Classification Report:\")\n",
    "print(classification_report(\n",
    "    y_true,\n",
    "    y_pred,\n",
    "    labels=sorted_idx,\n",
    "    target_names=[names[i] for i in sorted_idx],\n",
    "    zero_division=0\n",
    "))\n",
    "\n",
    "# 7. Build & save the confusion matrix\n",
    "cm = confusion_matrix(\n",
    "    y_true,\n",
    "    y_pred,\n",
    "    labels=sorted_idx\n",
    ")\n",
    "disp = ConfusionMatrixDisplay(\n",
    "    cm,\n",
    "    display_labels=[names[i] for i in sorted_idx]\n",
    ")\n",
    "\n",
    "fig, ax = plt.subplots(figsize=(8, 7))\n",
    "disp.plot(ax=ax, cmap=\"Blues\", xticks_rotation=\"vertical\")\n",
    "plt.title(\"Validation Confusion Matrix (incl. no_damage)\")\n",
    "plt.tight_layout()\n",
    "\n",
    "out_path = \"confusion_matrix_with_no_damage.png\"\n",
    "plt.savefig(out_path, dpi=150)\n",
    "print(f\"Saved confusion matrix to {out_path}\")\n",
    "plt.close(fig)\n"
   ]
  },
  {
   "cell_type": "code",
   "execution_count": null,
   "id": "de9f2b9f-d5c5-42bb-acfa-831398e1ad33",
   "metadata": {},
   "outputs": [],
   "source": [
    "##Checks how many road damages are in the image using window\n",
    "import cv2\n",
    "from ultralytics import YOLO\n",
    "import matplotlib.pyplot as plt\n",
    "\n",
    "# 1. Load model\n",
    "model = YOLO(\"best_fold.pt\")\n",
    "model.eval()\n",
    "\n",
    "# 2. Parameters\n",
    "image_path  = \"Road_Damage/test/crack_issues/images/12- Cracks9 (1).jpg\"\n",
    "patch_size  = 256\n",
    "stride      = 128\n",
    "conf_thresh = 0.7\n",
    "\n",
    "# 3. Read image\n",
    "img_bgr = cv2.imread(image_path)\n",
    "img     = cv2.cvtColor(img_bgr, cv2.COLOR_BGR2RGB)\n",
    "h, w, _  = img.shape\n",
    "\n",
    "# 4. Slide window & collect **all** positive detections\n",
    "all_detections = []\n",
    "for y in range(0, h - patch_size + 1, stride):\n",
    "    for x in range(0, w - patch_size + 1, stride):\n",
    "        patch = img[y:y+patch_size, x:x+patch_size]\n",
    "        res   = model(patch, imgsz=patch_size)[0]\n",
    "        conf  = float(res.probs.top1conf)\n",
    "        cls   = int(res.probs.top1)\n",
    "        if conf >= conf_thresh:\n",
    "            label = model.names.get(cls, str(cls))\n",
    "            all_detections.append({\n",
    "                \"label\": label,\n",
    "                \"conf\":  conf,\n",
    "                \"coords\": (x, y)\n",
    "            })\n",
    "\n",
    "\n",
    "# --- DEBUG: Print Top 8 Patches by Confidence ---\n",
    "all_detections.sort(key=lambda d: d[\"conf\"], reverse=True)\n",
    "top_dets = all_detections[:8]   # only top 8 patches\n",
    "\n",
    "# --- DEBUG: Print Top 8 Patches by Confidence ---\n",
    "print(\"=== Top 8 patch detections ===\")\n",
    "for i, det in enumerate(top_dets, 1):\n",
    "    x, y = det[\"coords\"]\n",
    "    print(f\"{i}. Class: {det['label']:<15} Confidence: {det['conf']:.3f}  at x={x}, y={y}\")\n",
    "print(\"==============================\\n\")\n",
    "\n",
    "\n",
    "# 5. Now build the *unique* label set for severity logic\n",
    "unique_labels = {d[\"label\"] for d in top_dets}\n",
    "\n",
    "# 7. Determine severity\n",
    "n = len(unique_labels)\n",
    "if   n == 0: severity = \"None\"\n",
    "elif n == 1: severity = \"Low\"\n",
    "elif n == 2: severity = \"Moderate\"\n",
    "else:        severity = \"High\"\n",
    "\n",
    "\n",
    "# 7. Print summary & list of found types\n",
    "print(f\"The image has {n} distinct damage{'s' if n!=1 else ''} found, this road is determined to have {severity} severity\")\n",
    "if n > 0:\n",
    "    print(\"Detected damage types:\", \", \".join(sorted(unique_labels)))\n",
    "else:\n",
    "    print(\"No damage types detected above threshold\")\n",
    "\n",
    "# 8. Display full image with title\n",
    "title_lines = [\n",
    "    f\"{n} distinct damage{'s' if n!=1 else ''} → Severity: {severity}\"\n",
    "]\n",
    "if n > 0:\n",
    "    title_lines.append(\"Types: \" + \", \".join(sorted(unique_labels)))\n",
    "\n",
    "plt.figure(figsize=(8,6))\n",
    "plt.imshow(img)\n",
    "plt.axis(\"off\")\n",
    "plt.title(\"\\n\".join(title_lines), fontsize=12)\n",
    "plt.tight_layout()\n",
    "plt.show()\n"
   ]
  },
  {
   "cell_type": "code",
   "execution_count": null,
   "id": "e5edb7fd-1f9e-4a8f-ac7b-34732519e746",
   "metadata": {},
   "outputs": [],
   "source": []
  }
 ],
 "metadata": {
  "kernelspec": {
   "display_name": "Python 3 (ipykernel)",
   "language": "python",
   "name": "python3"
  },
  "language_info": {
   "codemirror_mode": {
    "name": "ipython",
    "version": 3
   },
   "file_extension": ".py",
   "mimetype": "text/x-python",
   "name": "python",
   "nbconvert_exporter": "python",
   "pygments_lexer": "ipython3",
   "version": "3.9.21"
  }
 },
 "nbformat": 4,
 "nbformat_minor": 5
}
