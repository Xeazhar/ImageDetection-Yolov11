{
 "cells": [
  {
   "cell_type": "code",
   "execution_count": null,
   "id": "6e847c1d-1495-4e96-9a38-dae19e3a6d58",
   "metadata": {},
   "outputs": [],
   "source": [
    "pip install --upgrade ultralytics"
   ]
  },
  {
   "cell_type": "code",
   "execution_count": null,
   "id": "f5c3cf32-dbe0-4f4e-a351-b7e86ff88e58",
   "metadata": {},
   "outputs": [],
   "source": [
    "# Cuts the dataset into 5 folds (images only, no labels)\n",
    "import os\n",
    "import shutil\n",
    "from sklearn.model_selection import StratifiedKFold\n",
    "from pathlib import Path\n",
    "\n",
    "# Parameters: adjust these paths as needed\n",
    "dataset_dir = r\"C:\\Users\\jazzb\\ImageDetection-Yolov11\\Road_Damage\"\n",
    "output_dir = r\"C:\\Users\\jazzb\\ImageDetection-Yolov11\\Road_Damage\\folds\"\n",
    "n_splits = 5\n",
    "random_state = 42\n",
    "copy_files = True  # Set to False to use symlinks instead of copying\n",
    "\n",
    "# Gather all samples and class labels\n",
    "train_dir = Path(dataset_dir) / 'train'\n",
    "test_dir = Path(dataset_dir) / 'test'\n",
    "samples = []  # (img_path, class_name) - Removed label_path\n",
    "class_names = []\n",
    "for cls_dir in sorted(train_dir.iterdir()):\n",
    "    if not cls_dir.is_dir():\n",
    "        continue\n",
    "    cls = cls_dir.name\n",
    "    class_names.append(cls)\n",
    "    for img_path in (cls_dir / 'images').glob('*.*'):\n",
    "        samples.append((img_path, cls))  # Removed lbl_path\n",
    "\n",
    "# Prepare arrays for stratification\n",
    "image_paths = [s[0] for s in samples]\n",
    "y = [class_names.index(s[1]) for s in samples]  # Changed index to use the class_name from the simplified samples\n",
    "\n",
    "# Initialize StratifiedKFold\n",
    "skf = StratifiedKFold(n_splits=n_splits, shuffle=True, random_state=random_state)\n",
    "summary = {}\n",
    "\n",
    "# Create folds\n",
    "for fold_idx, (train_idx, val_idx) in enumerate(skf.split(image_paths, y), start=1):\n",
    "    fold_base = Path(output_dir) / f\"fold_{fold_idx}\"\n",
    "    summary[fold_idx] = {'train': len(train_idx), 'val': len(val_idx), 'test': 0}\n",
    "\n",
    "    # Train/val splits\n",
    "    for split, idxs in [('train', train_idx), ('val', val_idx)]:\n",
    "        for cls in class_names:\n",
    "            (fold_base / split / cls / 'images').mkdir(parents=True, exist_ok=True)\n",
    "        for i in idxs:\n",
    "            img_src, cls_name = image_paths[i], samples[i][1]  # Removed lbl_src\n",
    "            img_dst = fold_base / split / cls_name / 'images' / img_src.name\n",
    "            if copy_files:\n",
    "                shutil.copy(img_src, img_dst)\n",
    "            else:\n",
    "                os.symlink(img_src.resolve(), img_dst)\n",
    "\n",
    "    # Copy test set unchanged\n",
    "    if test_dir.exists():\n",
    "        dst_test = fold_base / 'test'\n",
    "        if dst_test.exists():\n",
    "            shutil.rmtree(dst_test)\n",
    "        shutil.copytree(test_dir, dst_test)\n",
    "        test_images_dir = dst_test / 'images'\n",
    "        summary[fold_idx]['test'] = len(list(test_images_dir.glob('*.*')))\n",
    "\n",
    "# Print out summary to verify\n",
    "print(\"K-fold generation summary:\")\n",
    "for fold, counts in summary.items():\n",
    "    print(f\"Fold {fold}: train={counts['train']}, val={counts['val']}, test={counts['test']}\")"
   ]
  },
  {
   "cell_type": "code",
   "execution_count": 6,
   "id": "d1a2f968-455e-418f-9c8c-677ca0dffe25",
   "metadata": {},
   "outputs": [
    {
     "name": "stdout",
     "output_type": "stream",
     "text": [
      "Using device: cuda\n",
      "\n",
      "\n",
      "=== Training Fold 1/5 on folder C:\\Users\\jazzb\\ImageDetection-Yolov11\\Road_Damage\\folds\\fold_1 ===\n",
      "New https://pypi.org/project/ultralytics/8.3.134 available  Update with 'pip install -U ultralytics'\n",
      "Ultralytics 8.3.133  Python-3.9.21 torch-2.5.1+cu121 CUDA:0 (NVIDIA GeForce RTX 4060 Laptop GPU, 8188MiB)\n",
      "\u001b[34m\u001b[1mengine\\trainer: \u001b[0magnostic_nms=False, amp=True, augment=False, auto_augment=randaugment, batch=16, bgr=0.0, box=7.5, cache=False, cfg=None, classes=None, close_mosaic=10, cls=0.5, conf=None, copy_paste=0.0, copy_paste_mode=flip, cos_lr=False, cutmix=0.0, data=C:\\Users\\jazzb\\ImageDetection-Yolov11\\Road_Damage\\folds\\fold_1, degrees=0.0, deterministic=True, device=0, dfl=1.5, dnn=False, dropout=0.0, dynamic=False, embed=None, epochs=100, erasing=0.4, exist_ok=False, fliplr=0.5, flipud=0.0, format=torchscript, fraction=1.0, freeze=None, half=False, hsv_h=0.015, hsv_s=0.7, hsv_v=0.4, imgsz=640, int8=False, iou=0.7, keras=False, kobj=1.0, line_width=None, lr0=0.01, lrf=0.01, mask_ratio=4, max_det=300, mixup=0.0, mode=train, model=models\\yolo11n-cls.pt, momentum=0.937, mosaic=1.0, multi_scale=False, name=results3, nbs=64, nms=False, opset=None, optimize=False, optimizer=auto, overlap_mask=True, patience=25, perspective=0.0, plots=True, pose=12.0, pretrained=True, profile=False, project=C:\\Users\\jazzb\\ImageDetection-Yolov11\\Road_Damage\\folds\\fold_1, rect=False, resume=False, retina_masks=False, save=True, save_conf=False, save_crop=False, save_dir=C:\\Users\\jazzb\\ImageDetection-Yolov11\\Road_Damage\\folds\\fold_1\\results3, save_frames=False, save_json=False, save_period=-1, save_txt=False, scale=0.5, seed=0, shear=0.0, show=False, show_boxes=True, show_conf=True, show_labels=True, simplify=True, single_cls=False, source=None, split=val, stream_buffer=False, task=classify, time=None, tracker=botsort.yaml, translate=0.1, val=True, verbose=True, vid_stride=1, visualize=False, warmup_bias_lr=0.1, warmup_epochs=3.0, warmup_momentum=0.8, weight_decay=0.0005, workers=8, workspace=None\n",
      "\u001b[34m\u001b[1mtrain:\u001b[0m C:\\Users\\jazzb\\ImageDetection-Yolov11\\Road_Damage\\folds\\fold_1\\train... found 695 images in 5 classes  \n",
      "\u001b[34m\u001b[1mval:\u001b[0m C:\\Users\\jazzb\\ImageDetection-Yolov11\\Road_Damage\\folds\\fold_1\\val... found 174 images in 5 classes  \n",
      "\u001b[34m\u001b[1mtest:\u001b[0m C:\\Users\\jazzb\\ImageDetection-Yolov11\\Road_Damage\\folds\\fold_1\\test... found 43 images in 5 classes  \n",
      "Overriding model.yaml nc=80 with nc=5\n",
      "\n",
      "                   from  n    params  module                                       arguments                     \n",
      "  0                  -1  1       464  ultralytics.nn.modules.conv.Conv             [3, 16, 3, 2]                 \n",
      "  1                  -1  1      4672  ultralytics.nn.modules.conv.Conv             [16, 32, 3, 2]                \n",
      "  2                  -1  1      6640  ultralytics.nn.modules.block.C3k2            [32, 64, 1, False, 0.25]      \n",
      "  3                  -1  1     36992  ultralytics.nn.modules.conv.Conv             [64, 64, 3, 2]                \n",
      "  4                  -1  1     26080  ultralytics.nn.modules.block.C3k2            [64, 128, 1, False, 0.25]     \n",
      "  5                  -1  1    147712  ultralytics.nn.modules.conv.Conv             [128, 128, 3, 2]              \n",
      "  6                  -1  1     87040  ultralytics.nn.modules.block.C3k2            [128, 128, 1, True]           \n",
      "  7                  -1  1    295424  ultralytics.nn.modules.conv.Conv             [128, 256, 3, 2]              \n",
      "  8                  -1  1    346112  ultralytics.nn.modules.block.C3k2            [256, 256, 1, True]           \n",
      "  9                  -1  1    249728  ultralytics.nn.modules.block.C2PSA           [256, 256, 1]                 \n",
      " 10                  -1  1    336645  ultralytics.nn.modules.head.Classify         [256, 5]                      \n",
      "YOLO11n-cls summary: 86 layers, 1,537,509 parameters, 1,537,509 gradients, 3.3 GFLOPs\n",
      "Transferred 234/236 items from pretrained weights\n",
      "\u001b[34m\u001b[1mAMP: \u001b[0mrunning Automatic Mixed Precision (AMP) checks...\n",
      "\u001b[34m\u001b[1mAMP: \u001b[0mchecks passed \n",
      "\u001b[34m\u001b[1mtrain: \u001b[0mFast image access  (ping: 0.30.1 ms, read: 238.475.2 MB/s, size: 177.0 KB)\n"
     ]
    },
    {
     "name": "stderr",
     "output_type": "stream",
     "text": [
      "\u001b[34m\u001b[1mtrain: \u001b[0mScanning C:\\Users\\jazzb\\ImageDetection-Yolov11\\Road_Damage\\folds\\fold_1\\train... 695 images, 0 corrupt: 100%|██████████| 695/695 [00:00<?, ?it/s]\n"
     ]
    },
    {
     "name": "stdout",
     "output_type": "stream",
     "text": [
      "\u001b[34m\u001b[1mval: \u001b[0mFast image access  (ping: 0.40.1 ms, read: 294.045.3 MB/s, size: 186.9 KB)\n"
     ]
    },
    {
     "name": "stderr",
     "output_type": "stream",
     "text": [
      "\u001b[34m\u001b[1mval: \u001b[0mScanning C:\\Users\\jazzb\\ImageDetection-Yolov11\\Road_Damage\\folds\\fold_1\\val... 174 images, 0 corrupt: 100%|██████████| 174/174 [00:00<?, ?it/s]\n"
     ]
    },
    {
     "name": "stdout",
     "output_type": "stream",
     "text": [
      "\u001b[34m\u001b[1moptimizer:\u001b[0m 'optimizer=auto' found, ignoring 'lr0=0.01' and 'momentum=0.937' and determining best 'optimizer', 'lr0' and 'momentum' automatically... \n",
      "\u001b[34m\u001b[1moptimizer:\u001b[0m AdamW(lr=0.001111, momentum=0.9) with parameter groups 39 weight(decay=0.0), 40 weight(decay=0.0005), 40 bias(decay=0.0)\n",
      "Image sizes 640 train, 640 val\n",
      "Using 8 dataloader workers\n",
      "Logging results to \u001b[1mC:\\Users\\jazzb\\ImageDetection-Yolov11\\Road_Damage\\folds\\fold_1\\results3\u001b[0m\n",
      "Starting training for 100 epochs...\n",
      "\n",
      "      Epoch    GPU_mem       loss  Instances       Size\n"
     ]
    },
    {
     "name": "stderr",
     "output_type": "stream",
     "text": [
      "      1/100       1.7G      1.112          7        640: 100%|██████████| 44/44 [00:05<00:00,  7.88it/s]\n",
      "               classes   top1_acc   top5_acc: 100%|██████████| 6/6 [00:04<00:00,  1.49it/s]"
     ]
    },
    {
     "name": "stdout",
     "output_type": "stream",
     "text": [
      "                   all      0.828          1\n"
     ]
    },
    {
     "name": "stderr",
     "output_type": "stream",
     "text": [
      "\n"
     ]
    },
    {
     "name": "stdout",
     "output_type": "stream",
     "text": [
      "\n",
      "      Epoch    GPU_mem       loss  Instances       Size\n"
     ]
    },
    {
     "name": "stderr",
     "output_type": "stream",
     "text": [
      "      2/100      1.94G     0.3896          7        640: 100%|██████████| 44/44 [00:03<00:00, 11.45it/s]\n",
      "               classes   top1_acc   top5_acc: 100%|██████████| 6/6 [00:00<00:00, 19.69it/s]"
     ]
    },
    {
     "name": "stdout",
     "output_type": "stream",
     "text": [
      "                   all      0.937          1\n"
     ]
    },
    {
     "name": "stderr",
     "output_type": "stream",
     "text": [
      "\n"
     ]
    },
    {
     "name": "stdout",
     "output_type": "stream",
     "text": [
      "\n",
      "      Epoch    GPU_mem       loss  Instances       Size\n"
     ]
    },
    {
     "name": "stderr",
     "output_type": "stream",
     "text": [
      "      3/100      1.94G     0.3184          7        640: 100%|██████████| 44/44 [00:03<00:00, 12.24it/s]\n",
      "               classes   top1_acc   top5_acc: 100%|██████████| 6/6 [00:00<00:00, 20.09it/s]"
     ]
    },
    {
     "name": "stdout",
     "output_type": "stream",
     "text": [
      "                   all      0.937          1\n"
     ]
    },
    {
     "name": "stderr",
     "output_type": "stream",
     "text": [
      "\n"
     ]
    },
    {
     "name": "stdout",
     "output_type": "stream",
     "text": [
      "\n",
      "      Epoch    GPU_mem       loss  Instances       Size\n"
     ]
    },
    {
     "name": "stderr",
     "output_type": "stream",
     "text": [
      "      4/100      1.94G     0.2546          7        640: 100%|██████████| 44/44 [00:03<00:00, 12.37it/s]\n",
      "               classes   top1_acc   top5_acc: 100%|██████████| 6/6 [00:00<00:00, 20.88it/s]"
     ]
    },
    {
     "name": "stdout",
     "output_type": "stream",
     "text": [
      "                   all      0.948          1\n"
     ]
    },
    {
     "name": "stderr",
     "output_type": "stream",
     "text": [
      "\n"
     ]
    },
    {
     "name": "stdout",
     "output_type": "stream",
     "text": [
      "\n",
      "      Epoch    GPU_mem       loss  Instances       Size\n"
     ]
    },
    {
     "name": "stderr",
     "output_type": "stream",
     "text": [
      "      5/100      1.94G     0.1885          7        640: 100%|██████████| 44/44 [00:03<00:00, 12.62it/s]\n",
      "               classes   top1_acc   top5_acc: 100%|██████████| 6/6 [00:00<00:00, 20.42it/s]"
     ]
    },
    {
     "name": "stdout",
     "output_type": "stream",
     "text": [
      "                   all      0.977          1\n"
     ]
    },
    {
     "name": "stderr",
     "output_type": "stream",
     "text": [
      "\n"
     ]
    },
    {
     "name": "stdout",
     "output_type": "stream",
     "text": [
      "\n",
      "      Epoch    GPU_mem       loss  Instances       Size\n"
     ]
    },
    {
     "name": "stderr",
     "output_type": "stream",
     "text": [
      "      6/100      1.94G     0.2253          7        640: 100%|██████████| 44/44 [00:03<00:00, 12.69it/s]\n",
      "               classes   top1_acc   top5_acc: 100%|██████████| 6/6 [00:00<00:00, 21.29it/s]"
     ]
    },
    {
     "name": "stdout",
     "output_type": "stream",
     "text": [
      "                   all      0.954          1\n"
     ]
    },
    {
     "name": "stderr",
     "output_type": "stream",
     "text": [
      "\n"
     ]
    },
    {
     "name": "stdout",
     "output_type": "stream",
     "text": [
      "\n",
      "      Epoch    GPU_mem       loss  Instances       Size\n"
     ]
    },
    {
     "name": "stderr",
     "output_type": "stream",
     "text": [
      "      7/100      1.94G      0.235          7        640: 100%|██████████| 44/44 [00:03<00:00, 13.03it/s]\n",
      "               classes   top1_acc   top5_acc: 100%|██████████| 6/6 [00:00<00:00, 20.99it/s]"
     ]
    },
    {
     "name": "stdout",
     "output_type": "stream",
     "text": [
      "                   all      0.943          1\n"
     ]
    },
    {
     "name": "stderr",
     "output_type": "stream",
     "text": [
      "\n"
     ]
    },
    {
     "name": "stdout",
     "output_type": "stream",
     "text": [
      "\n",
      "      Epoch    GPU_mem       loss  Instances       Size\n"
     ]
    },
    {
     "name": "stderr",
     "output_type": "stream",
     "text": [
      "      8/100      1.94G     0.2047          7        640: 100%|██████████| 44/44 [00:03<00:00, 12.71it/s]\n",
      "               classes   top1_acc   top5_acc: 100%|██████████| 6/6 [00:00<00:00, 20.96it/s]"
     ]
    },
    {
     "name": "stdout",
     "output_type": "stream",
     "text": [
      "                   all      0.937          1\n"
     ]
    },
    {
     "name": "stderr",
     "output_type": "stream",
     "text": [
      "\n"
     ]
    },
    {
     "name": "stdout",
     "output_type": "stream",
     "text": [
      "\n",
      "      Epoch    GPU_mem       loss  Instances       Size\n"
     ]
    },
    {
     "name": "stderr",
     "output_type": "stream",
     "text": [
      "      9/100      1.94G     0.2389          7        640: 100%|██████████| 44/44 [00:03<00:00, 13.21it/s]\n",
      "               classes   top1_acc   top5_acc: 100%|██████████| 6/6 [00:00<00:00, 20.82it/s]"
     ]
    },
    {
     "name": "stdout",
     "output_type": "stream",
     "text": [
      "                   all      0.966          1\n"
     ]
    },
    {
     "name": "stderr",
     "output_type": "stream",
     "text": [
      "\n"
     ]
    },
    {
     "name": "stdout",
     "output_type": "stream",
     "text": [
      "\n",
      "      Epoch    GPU_mem       loss  Instances       Size\n"
     ]
    },
    {
     "name": "stderr",
     "output_type": "stream",
     "text": [
      "     10/100      1.94G     0.1423          7        640: 100%|██████████| 44/44 [00:03<00:00, 13.11it/s]\n",
      "               classes   top1_acc   top5_acc: 100%|██████████| 6/6 [00:00<00:00, 20.90it/s]"
     ]
    },
    {
     "name": "stdout",
     "output_type": "stream",
     "text": [
      "                   all      0.954          1\n"
     ]
    },
    {
     "name": "stderr",
     "output_type": "stream",
     "text": [
      "\n"
     ]
    },
    {
     "name": "stdout",
     "output_type": "stream",
     "text": [
      "\n",
      "      Epoch    GPU_mem       loss  Instances       Size\n"
     ]
    },
    {
     "name": "stderr",
     "output_type": "stream",
     "text": [
      "     11/100      1.94G     0.1867          7        640: 100%|██████████| 44/44 [00:03<00:00, 13.02it/s]\n",
      "               classes   top1_acc   top5_acc: 100%|██████████| 6/6 [00:00<00:00, 20.84it/s]"
     ]
    },
    {
     "name": "stdout",
     "output_type": "stream",
     "text": [
      "                   all      0.948          1\n"
     ]
    },
    {
     "name": "stderr",
     "output_type": "stream",
     "text": [
      "\n"
     ]
    },
    {
     "name": "stdout",
     "output_type": "stream",
     "text": [
      "\n",
      "      Epoch    GPU_mem       loss  Instances       Size\n"
     ]
    },
    {
     "name": "stderr",
     "output_type": "stream",
     "text": [
      "     12/100      1.94G     0.1444          7        640: 100%|██████████| 44/44 [00:03<00:00, 12.59it/s]\n",
      "               classes   top1_acc   top5_acc: 100%|██████████| 6/6 [00:00<00:00, 21.49it/s]"
     ]
    },
    {
     "name": "stdout",
     "output_type": "stream",
     "text": [
      "                   all      0.971          1\n"
     ]
    },
    {
     "name": "stderr",
     "output_type": "stream",
     "text": [
      "\n"
     ]
    },
    {
     "name": "stdout",
     "output_type": "stream",
     "text": [
      "\n",
      "      Epoch    GPU_mem       loss  Instances       Size\n"
     ]
    },
    {
     "name": "stderr",
     "output_type": "stream",
     "text": [
      "     13/100      1.94G     0.1203          7        640: 100%|██████████| 44/44 [00:03<00:00, 12.93it/s]\n",
      "               classes   top1_acc   top5_acc: 100%|██████████| 6/6 [00:00<00:00, 20.47it/s]"
     ]
    },
    {
     "name": "stdout",
     "output_type": "stream",
     "text": [
      "                   all       0.96          1\n"
     ]
    },
    {
     "name": "stderr",
     "output_type": "stream",
     "text": [
      "\n"
     ]
    },
    {
     "name": "stdout",
     "output_type": "stream",
     "text": [
      "\n",
      "      Epoch    GPU_mem       loss  Instances       Size\n"
     ]
    },
    {
     "name": "stderr",
     "output_type": "stream",
     "text": [
      "     14/100      1.94G     0.1117          7        640: 100%|██████████| 44/44 [00:03<00:00, 12.95it/s]\n",
      "               classes   top1_acc   top5_acc: 100%|██████████| 6/6 [00:00<00:00, 19.11it/s]"
     ]
    },
    {
     "name": "stdout",
     "output_type": "stream",
     "text": [
      "                   all      0.966          1\n"
     ]
    },
    {
     "name": "stderr",
     "output_type": "stream",
     "text": [
      "\n"
     ]
    },
    {
     "name": "stdout",
     "output_type": "stream",
     "text": [
      "\n",
      "      Epoch    GPU_mem       loss  Instances       Size\n"
     ]
    },
    {
     "name": "stderr",
     "output_type": "stream",
     "text": [
      "     15/100      1.94G    0.08632          7        640: 100%|██████████| 44/44 [00:03<00:00, 12.42it/s]\n",
      "               classes   top1_acc   top5_acc: 100%|██████████| 6/6 [00:00<00:00, 21.18it/s]"
     ]
    },
    {
     "name": "stdout",
     "output_type": "stream",
     "text": [
      "                   all       0.96          1\n"
     ]
    },
    {
     "name": "stderr",
     "output_type": "stream",
     "text": [
      "\n"
     ]
    },
    {
     "name": "stdout",
     "output_type": "stream",
     "text": [
      "\n",
      "      Epoch    GPU_mem       loss  Instances       Size\n"
     ]
    },
    {
     "name": "stderr",
     "output_type": "stream",
     "text": [
      "     16/100      1.94G     0.1223          7        640: 100%|██████████| 44/44 [00:03<00:00, 12.64it/s]\n",
      "               classes   top1_acc   top5_acc: 100%|██████████| 6/6 [00:00<00:00, 21.61it/s]"
     ]
    },
    {
     "name": "stdout",
     "output_type": "stream",
     "text": [
      "                   all      0.971          1\n"
     ]
    },
    {
     "name": "stderr",
     "output_type": "stream",
     "text": [
      "\n"
     ]
    },
    {
     "name": "stdout",
     "output_type": "stream",
     "text": [
      "\n",
      "      Epoch    GPU_mem       loss  Instances       Size\n"
     ]
    },
    {
     "name": "stderr",
     "output_type": "stream",
     "text": [
      "     17/100      1.94G     0.1536          7        640: 100%|██████████| 44/44 [00:03<00:00, 11.65it/s]\n",
      "               classes   top1_acc   top5_acc: 100%|██████████| 6/6 [00:00<00:00, 21.50it/s]"
     ]
    },
    {
     "name": "stdout",
     "output_type": "stream",
     "text": [
      "                   all      0.954          1\n"
     ]
    },
    {
     "name": "stderr",
     "output_type": "stream",
     "text": [
      "\n"
     ]
    },
    {
     "name": "stdout",
     "output_type": "stream",
     "text": [
      "\n",
      "      Epoch    GPU_mem       loss  Instances       Size\n"
     ]
    },
    {
     "name": "stderr",
     "output_type": "stream",
     "text": [
      "     18/100      1.94G      0.126          7        640: 100%|██████████| 44/44 [00:03<00:00, 12.75it/s]\n",
      "               classes   top1_acc   top5_acc: 100%|██████████| 6/6 [00:00<00:00, 21.27it/s]"
     ]
    },
    {
     "name": "stdout",
     "output_type": "stream",
     "text": [
      "                   all      0.948          1\n"
     ]
    },
    {
     "name": "stderr",
     "output_type": "stream",
     "text": [
      "\n"
     ]
    },
    {
     "name": "stdout",
     "output_type": "stream",
     "text": [
      "\n",
      "      Epoch    GPU_mem       loss  Instances       Size\n"
     ]
    },
    {
     "name": "stderr",
     "output_type": "stream",
     "text": [
      "     19/100      1.94G    0.08381          7        640: 100%|██████████| 44/44 [00:03<00:00, 12.67it/s]\n",
      "               classes   top1_acc   top5_acc: 100%|██████████| 6/6 [00:00<00:00, 20.62it/s]"
     ]
    },
    {
     "name": "stdout",
     "output_type": "stream",
     "text": [
      "                   all      0.937          1\n"
     ]
    },
    {
     "name": "stderr",
     "output_type": "stream",
     "text": [
      "\n"
     ]
    },
    {
     "name": "stdout",
     "output_type": "stream",
     "text": [
      "\n",
      "      Epoch    GPU_mem       loss  Instances       Size\n"
     ]
    },
    {
     "name": "stderr",
     "output_type": "stream",
     "text": [
      "     20/100      1.94G    0.08839          7        640: 100%|██████████| 44/44 [00:03<00:00, 12.86it/s]\n",
      "               classes   top1_acc   top5_acc: 100%|██████████| 6/6 [00:00<00:00, 21.49it/s]"
     ]
    },
    {
     "name": "stdout",
     "output_type": "stream",
     "text": [
      "                   all      0.989          1\n"
     ]
    },
    {
     "name": "stderr",
     "output_type": "stream",
     "text": [
      "\n"
     ]
    },
    {
     "name": "stdout",
     "output_type": "stream",
     "text": [
      "\n",
      "      Epoch    GPU_mem       loss  Instances       Size\n"
     ]
    },
    {
     "name": "stderr",
     "output_type": "stream",
     "text": [
      "     21/100      1.94G    0.09583          7        640: 100%|██████████| 44/44 [00:03<00:00, 12.95it/s]\n",
      "               classes   top1_acc   top5_acc: 100%|██████████| 6/6 [00:00<00:00, 21.17it/s]"
     ]
    },
    {
     "name": "stdout",
     "output_type": "stream",
     "text": [
      "                   all      0.977          1\n"
     ]
    },
    {
     "name": "stderr",
     "output_type": "stream",
     "text": [
      "\n"
     ]
    },
    {
     "name": "stdout",
     "output_type": "stream",
     "text": [
      "\n",
      "      Epoch    GPU_mem       loss  Instances       Size\n"
     ]
    },
    {
     "name": "stderr",
     "output_type": "stream",
     "text": [
      "     22/100      1.94G    0.07716          7        640: 100%|██████████| 44/44 [00:03<00:00, 13.13it/s]\n",
      "               classes   top1_acc   top5_acc: 100%|██████████| 6/6 [00:00<00:00, 21.79it/s]"
     ]
    },
    {
     "name": "stdout",
     "output_type": "stream",
     "text": [
      "                   all      0.977          1\n"
     ]
    },
    {
     "name": "stderr",
     "output_type": "stream",
     "text": [
      "\n"
     ]
    },
    {
     "name": "stdout",
     "output_type": "stream",
     "text": [
      "\n",
      "      Epoch    GPU_mem       loss  Instances       Size\n"
     ]
    },
    {
     "name": "stderr",
     "output_type": "stream",
     "text": [
      "     23/100      1.94G    0.07535          7        640: 100%|██████████| 44/44 [00:03<00:00, 13.06it/s]\n",
      "               classes   top1_acc   top5_acc: 100%|██████████| 6/6 [00:00<00:00, 20.90it/s]"
     ]
    },
    {
     "name": "stdout",
     "output_type": "stream",
     "text": [
      "                   all      0.977          1\n"
     ]
    },
    {
     "name": "stderr",
     "output_type": "stream",
     "text": [
      "\n"
     ]
    },
    {
     "name": "stdout",
     "output_type": "stream",
     "text": [
      "\n",
      "      Epoch    GPU_mem       loss  Instances       Size\n"
     ]
    },
    {
     "name": "stderr",
     "output_type": "stream",
     "text": [
      "     24/100      1.94G    0.05964          7        640: 100%|██████████| 44/44 [00:03<00:00, 12.83it/s]\n",
      "               classes   top1_acc   top5_acc: 100%|██████████| 6/6 [00:00<00:00, 21.37it/s]"
     ]
    },
    {
     "name": "stdout",
     "output_type": "stream",
     "text": [
      "                   all      0.983          1\n"
     ]
    },
    {
     "name": "stderr",
     "output_type": "stream",
     "text": [
      "\n"
     ]
    },
    {
     "name": "stdout",
     "output_type": "stream",
     "text": [
      "\n",
      "      Epoch    GPU_mem       loss  Instances       Size\n"
     ]
    },
    {
     "name": "stderr",
     "output_type": "stream",
     "text": [
      "     25/100      1.94G    0.06243          7        640: 100%|██████████| 44/44 [00:03<00:00, 12.28it/s]\n",
      "               classes   top1_acc   top5_acc: 100%|██████████| 6/6 [00:00<00:00, 19.54it/s]"
     ]
    },
    {
     "name": "stdout",
     "output_type": "stream",
     "text": [
      "                   all      0.983          1\n"
     ]
    },
    {
     "name": "stderr",
     "output_type": "stream",
     "text": [
      "\n"
     ]
    },
    {
     "name": "stdout",
     "output_type": "stream",
     "text": [
      "\n",
      "      Epoch    GPU_mem       loss  Instances       Size\n"
     ]
    },
    {
     "name": "stderr",
     "output_type": "stream",
     "text": [
      "     26/100      1.94G    0.08078          7        640: 100%|██████████| 44/44 [00:03<00:00, 12.63it/s]\n",
      "               classes   top1_acc   top5_acc: 100%|██████████| 6/6 [00:00<00:00, 20.02it/s]"
     ]
    },
    {
     "name": "stdout",
     "output_type": "stream",
     "text": [
      "                   all       0.96          1\n"
     ]
    },
    {
     "name": "stderr",
     "output_type": "stream",
     "text": [
      "\n"
     ]
    },
    {
     "name": "stdout",
     "output_type": "stream",
     "text": [
      "\n",
      "      Epoch    GPU_mem       loss  Instances       Size\n"
     ]
    },
    {
     "name": "stderr",
     "output_type": "stream",
     "text": [
      "     27/100      1.94G    0.06438          7        640: 100%|██████████| 44/44 [00:03<00:00, 12.58it/s]\n",
      "               classes   top1_acc   top5_acc: 100%|██████████| 6/6 [00:00<00:00, 21.46it/s]"
     ]
    },
    {
     "name": "stdout",
     "output_type": "stream",
     "text": [
      "                   all      0.971          1\n"
     ]
    },
    {
     "name": "stderr",
     "output_type": "stream",
     "text": [
      "\n"
     ]
    },
    {
     "name": "stdout",
     "output_type": "stream",
     "text": [
      "\n",
      "      Epoch    GPU_mem       loss  Instances       Size\n"
     ]
    },
    {
     "name": "stderr",
     "output_type": "stream",
     "text": [
      "     28/100      1.94G    0.05695          7        640: 100%|██████████| 44/44 [00:03<00:00, 12.98it/s]\n",
      "               classes   top1_acc   top5_acc: 100%|██████████| 6/6 [00:00<00:00, 21.66it/s]"
     ]
    },
    {
     "name": "stdout",
     "output_type": "stream",
     "text": [
      "                   all      0.971          1\n"
     ]
    },
    {
     "name": "stderr",
     "output_type": "stream",
     "text": [
      "\n"
     ]
    },
    {
     "name": "stdout",
     "output_type": "stream",
     "text": [
      "\n",
      "      Epoch    GPU_mem       loss  Instances       Size\n"
     ]
    },
    {
     "name": "stderr",
     "output_type": "stream",
     "text": [
      "     29/100      1.94G    0.05919          7        640: 100%|██████████| 44/44 [00:03<00:00, 13.07it/s]\n",
      "               classes   top1_acc   top5_acc: 100%|██████████| 6/6 [00:00<00:00, 21.42it/s]"
     ]
    },
    {
     "name": "stdout",
     "output_type": "stream",
     "text": [
      "                   all      0.966          1\n"
     ]
    },
    {
     "name": "stderr",
     "output_type": "stream",
     "text": [
      "\n"
     ]
    },
    {
     "name": "stdout",
     "output_type": "stream",
     "text": [
      "\n",
      "      Epoch    GPU_mem       loss  Instances       Size\n"
     ]
    },
    {
     "name": "stderr",
     "output_type": "stream",
     "text": [
      "     30/100      1.94G    0.06352          7        640: 100%|██████████| 44/44 [00:03<00:00, 13.12it/s]\n",
      "               classes   top1_acc   top5_acc: 100%|██████████| 6/6 [00:00<00:00, 20.68it/s]"
     ]
    },
    {
     "name": "stdout",
     "output_type": "stream",
     "text": [
      "                   all      0.966          1\n"
     ]
    },
    {
     "name": "stderr",
     "output_type": "stream",
     "text": [
      "\n"
     ]
    },
    {
     "name": "stdout",
     "output_type": "stream",
     "text": [
      "\n",
      "      Epoch    GPU_mem       loss  Instances       Size\n"
     ]
    },
    {
     "name": "stderr",
     "output_type": "stream",
     "text": [
      "     31/100      1.94G    0.06562          7        640: 100%|██████████| 44/44 [00:03<00:00, 12.86it/s]\n",
      "               classes   top1_acc   top5_acc: 100%|██████████| 6/6 [00:00<00:00, 20.39it/s]"
     ]
    },
    {
     "name": "stdout",
     "output_type": "stream",
     "text": [
      "                   all      0.966          1\n"
     ]
    },
    {
     "name": "stderr",
     "output_type": "stream",
     "text": [
      "\n"
     ]
    },
    {
     "name": "stdout",
     "output_type": "stream",
     "text": [
      "\n",
      "      Epoch    GPU_mem       loss  Instances       Size\n"
     ]
    },
    {
     "name": "stderr",
     "output_type": "stream",
     "text": [
      "     32/100      1.94G    0.05304          7        640: 100%|██████████| 44/44 [00:03<00:00, 12.90it/s]\n",
      "               classes   top1_acc   top5_acc: 100%|██████████| 6/6 [00:00<00:00, 20.65it/s]"
     ]
    },
    {
     "name": "stdout",
     "output_type": "stream",
     "text": [
      "                   all       0.96          1\n"
     ]
    },
    {
     "name": "stderr",
     "output_type": "stream",
     "text": [
      "\n"
     ]
    },
    {
     "name": "stdout",
     "output_type": "stream",
     "text": [
      "\n",
      "      Epoch    GPU_mem       loss  Instances       Size\n"
     ]
    },
    {
     "name": "stderr",
     "output_type": "stream",
     "text": [
      "     33/100      1.94G    0.04376          7        640: 100%|██████████| 44/44 [00:03<00:00, 13.11it/s]\n",
      "               classes   top1_acc   top5_acc: 100%|██████████| 6/6 [00:00<00:00, 20.81it/s]"
     ]
    },
    {
     "name": "stdout",
     "output_type": "stream",
     "text": [
      "                   all      0.954          1\n"
     ]
    },
    {
     "name": "stderr",
     "output_type": "stream",
     "text": [
      "\n"
     ]
    },
    {
     "name": "stdout",
     "output_type": "stream",
     "text": [
      "\n",
      "      Epoch    GPU_mem       loss  Instances       Size\n"
     ]
    },
    {
     "name": "stderr",
     "output_type": "stream",
     "text": [
      "     34/100      1.94G    0.07889          7        640: 100%|██████████| 44/44 [00:03<00:00, 13.12it/s]\n",
      "               classes   top1_acc   top5_acc: 100%|██████████| 6/6 [00:00<00:00, 20.61it/s]"
     ]
    },
    {
     "name": "stdout",
     "output_type": "stream",
     "text": [
      "                   all      0.966          1\n"
     ]
    },
    {
     "name": "stderr",
     "output_type": "stream",
     "text": [
      "\n"
     ]
    },
    {
     "name": "stdout",
     "output_type": "stream",
     "text": [
      "\n",
      "      Epoch    GPU_mem       loss  Instances       Size\n"
     ]
    },
    {
     "name": "stderr",
     "output_type": "stream",
     "text": [
      "     35/100      1.94G     0.0704          7        640: 100%|██████████| 44/44 [00:03<00:00, 12.15it/s]\n",
      "               classes   top1_acc   top5_acc: 100%|██████████| 6/6 [00:00<00:00, 19.23it/s]"
     ]
    },
    {
     "name": "stdout",
     "output_type": "stream",
     "text": [
      "                   all      0.989          1\n"
     ]
    },
    {
     "name": "stderr",
     "output_type": "stream",
     "text": [
      "\n"
     ]
    },
    {
     "name": "stdout",
     "output_type": "stream",
     "text": [
      "\n",
      "      Epoch    GPU_mem       loss  Instances       Size\n"
     ]
    },
    {
     "name": "stderr",
     "output_type": "stream",
     "text": [
      "     36/100      1.94G    0.05944          7        640: 100%|██████████| 44/44 [00:03<00:00, 12.79it/s]\n",
      "               classes   top1_acc   top5_acc: 100%|██████████| 6/6 [00:00<00:00, 21.04it/s]"
     ]
    },
    {
     "name": "stdout",
     "output_type": "stream",
     "text": [
      "                   all      0.971          1\n"
     ]
    },
    {
     "name": "stderr",
     "output_type": "stream",
     "text": [
      "\n"
     ]
    },
    {
     "name": "stdout",
     "output_type": "stream",
     "text": [
      "\n",
      "      Epoch    GPU_mem       loss  Instances       Size\n"
     ]
    },
    {
     "name": "stderr",
     "output_type": "stream",
     "text": [
      "     37/100      1.94G    0.05199          7        640: 100%|██████████| 44/44 [00:03<00:00, 12.85it/s]\n",
      "               classes   top1_acc   top5_acc: 100%|██████████| 6/6 [00:00<00:00, 21.23it/s]"
     ]
    },
    {
     "name": "stdout",
     "output_type": "stream",
     "text": [
      "                   all      0.971          1\n"
     ]
    },
    {
     "name": "stderr",
     "output_type": "stream",
     "text": [
      "\n"
     ]
    },
    {
     "name": "stdout",
     "output_type": "stream",
     "text": [
      "\n",
      "      Epoch    GPU_mem       loss  Instances       Size\n"
     ]
    },
    {
     "name": "stderr",
     "output_type": "stream",
     "text": [
      "     38/100      1.94G     0.0514          7        640: 100%|██████████| 44/44 [00:03<00:00, 12.09it/s]\n",
      "               classes   top1_acc   top5_acc: 100%|██████████| 6/6 [00:00<00:00, 19.61it/s]"
     ]
    },
    {
     "name": "stdout",
     "output_type": "stream",
     "text": [
      "                   all      0.971          1\n"
     ]
    },
    {
     "name": "stderr",
     "output_type": "stream",
     "text": [
      "\n"
     ]
    },
    {
     "name": "stdout",
     "output_type": "stream",
     "text": [
      "\n",
      "      Epoch    GPU_mem       loss  Instances       Size\n"
     ]
    },
    {
     "name": "stderr",
     "output_type": "stream",
     "text": [
      "     39/100      1.94G    0.03863          7        640: 100%|██████████| 44/44 [00:03<00:00, 12.32it/s]\n",
      "               classes   top1_acc   top5_acc: 100%|██████████| 6/6 [00:00<00:00, 20.56it/s]"
     ]
    },
    {
     "name": "stdout",
     "output_type": "stream",
     "text": [
      "                   all      0.977          1\n"
     ]
    },
    {
     "name": "stderr",
     "output_type": "stream",
     "text": [
      "\n"
     ]
    },
    {
     "name": "stdout",
     "output_type": "stream",
     "text": [
      "\n",
      "      Epoch    GPU_mem       loss  Instances       Size\n"
     ]
    },
    {
     "name": "stderr",
     "output_type": "stream",
     "text": [
      "     40/100      1.94G    0.05625          7        640: 100%|██████████| 44/44 [00:03<00:00, 12.78it/s]\n",
      "               classes   top1_acc   top5_acc: 100%|██████████| 6/6 [00:00<00:00, 21.33it/s]"
     ]
    },
    {
     "name": "stdout",
     "output_type": "stream",
     "text": [
      "                   all      0.983          1\n"
     ]
    },
    {
     "name": "stderr",
     "output_type": "stream",
     "text": [
      "\n"
     ]
    },
    {
     "name": "stdout",
     "output_type": "stream",
     "text": [
      "\n",
      "      Epoch    GPU_mem       loss  Instances       Size\n"
     ]
    },
    {
     "name": "stderr",
     "output_type": "stream",
     "text": [
      "     41/100      1.94G    0.03484          7        640: 100%|██████████| 44/44 [00:03<00:00, 12.86it/s]\n",
      "               classes   top1_acc   top5_acc: 100%|██████████| 6/6 [00:00<00:00, 21.17it/s]"
     ]
    },
    {
     "name": "stdout",
     "output_type": "stream",
     "text": [
      "                   all      0.977          1\n"
     ]
    },
    {
     "name": "stderr",
     "output_type": "stream",
     "text": [
      "\n"
     ]
    },
    {
     "name": "stdout",
     "output_type": "stream",
     "text": [
      "\n",
      "      Epoch    GPU_mem       loss  Instances       Size\n"
     ]
    },
    {
     "name": "stderr",
     "output_type": "stream",
     "text": [
      "     42/100      1.94G    0.03542          7        640: 100%|██████████| 44/44 [00:03<00:00, 13.07it/s]\n",
      "               classes   top1_acc   top5_acc: 100%|██████████| 6/6 [00:00<00:00, 21.77it/s]"
     ]
    },
    {
     "name": "stdout",
     "output_type": "stream",
     "text": [
      "                   all      0.977          1\n"
     ]
    },
    {
     "name": "stderr",
     "output_type": "stream",
     "text": [
      "\n"
     ]
    },
    {
     "name": "stdout",
     "output_type": "stream",
     "text": [
      "\n",
      "      Epoch    GPU_mem       loss  Instances       Size\n"
     ]
    },
    {
     "name": "stderr",
     "output_type": "stream",
     "text": [
      "     43/100      1.94G    0.02507          7        640: 100%|██████████| 44/44 [00:03<00:00, 12.73it/s]\n",
      "               classes   top1_acc   top5_acc: 100%|██████████| 6/6 [00:00<00:00, 20.57it/s]"
     ]
    },
    {
     "name": "stdout",
     "output_type": "stream",
     "text": [
      "                   all      0.977          1\n"
     ]
    },
    {
     "name": "stderr",
     "output_type": "stream",
     "text": [
      "\n"
     ]
    },
    {
     "name": "stdout",
     "output_type": "stream",
     "text": [
      "\n",
      "      Epoch    GPU_mem       loss  Instances       Size\n"
     ]
    },
    {
     "name": "stderr",
     "output_type": "stream",
     "text": [
      "     44/100      1.94G    0.05954          7        640: 100%|██████████| 44/44 [00:03<00:00, 13.23it/s]\n",
      "               classes   top1_acc   top5_acc: 100%|██████████| 6/6 [00:00<00:00, 21.00it/s]"
     ]
    },
    {
     "name": "stdout",
     "output_type": "stream",
     "text": [
      "                   all       0.96          1\n"
     ]
    },
    {
     "name": "stderr",
     "output_type": "stream",
     "text": [
      "\n"
     ]
    },
    {
     "name": "stdout",
     "output_type": "stream",
     "text": [
      "\n",
      "      Epoch    GPU_mem       loss  Instances       Size\n"
     ]
    },
    {
     "name": "stderr",
     "output_type": "stream",
     "text": [
      "     45/100      1.94G    0.02039          7        640: 100%|██████████| 44/44 [00:03<00:00, 13.18it/s]\n",
      "               classes   top1_acc   top5_acc: 100%|██████████| 6/6 [00:00<00:00, 19.76it/s]"
     ]
    },
    {
     "name": "stdout",
     "output_type": "stream",
     "text": [
      "                   all      0.954          1\n",
      "\u001b[34m\u001b[1mEarlyStopping: \u001b[0mTraining stopped early as no improvement observed in last 25 epochs. Best results observed at epoch 20, best model saved as best.pt.\n",
      "To update EarlyStopping(patience=25) pass a new patience value, i.e. `patience=300` or use `patience=0` to disable EarlyStopping.\n"
     ]
    },
    {
     "name": "stderr",
     "output_type": "stream",
     "text": [
      "\n"
     ]
    },
    {
     "name": "stdout",
     "output_type": "stream",
     "text": [
      "\n",
      "45 epochs completed in 0.053 hours.\n",
      "Optimizer stripped from C:\\Users\\jazzb\\ImageDetection-Yolov11\\Road_Damage\\folds\\fold_1\\results3\\weights\\last.pt, 3.2MB\n",
      "Optimizer stripped from C:\\Users\\jazzb\\ImageDetection-Yolov11\\Road_Damage\\folds\\fold_1\\results3\\weights\\best.pt, 3.2MB\n",
      "\n",
      "Validating C:\\Users\\jazzb\\ImageDetection-Yolov11\\Road_Damage\\folds\\fold_1\\results3\\weights\\best.pt...\n",
      "Ultralytics 8.3.133  Python-3.9.21 torch-2.5.1+cu121 CUDA:0 (NVIDIA GeForce RTX 4060 Laptop GPU, 8188MiB)\n",
      "YOLO11n-cls summary (fused): 47 layers, 1,532,429 parameters, 0 gradients, 3.2 GFLOPs\n",
      "\u001b[34m\u001b[1mtrain:\u001b[0m C:\\Users\\jazzb\\ImageDetection-Yolov11\\Road_Damage\\folds\\fold_1\\train... found 695 images in 5 classes  \n",
      "\u001b[34m\u001b[1mval:\u001b[0m C:\\Users\\jazzb\\ImageDetection-Yolov11\\Road_Damage\\folds\\fold_1\\val... found 174 images in 5 classes  \n",
      "\u001b[34m\u001b[1mtest:\u001b[0m C:\\Users\\jazzb\\ImageDetection-Yolov11\\Road_Damage\\folds\\fold_1\\test... found 43 images in 5 classes  \n"
     ]
    },
    {
     "name": "stderr",
     "output_type": "stream",
     "text": [
      "               classes   top1_acc   top5_acc: 100%|██████████| 6/6 [00:00<00:00, 12.88it/s]\n"
     ]
    },
    {
     "name": "stdout",
     "output_type": "stream",
     "text": [
      "                   all      0.989          1\n",
      "Speed: 0.5ms preprocess, 1.9ms inference, 0.0ms loss, 0.0ms postprocess per image\n",
      "Results saved to \u001b[1mC:\\Users\\jazzb\\ImageDetection-Yolov11\\Road_Damage\\folds\\fold_1\\results3\u001b[0m\n",
      "--- Fold 1 complete. Best weights in C:\\Users\\jazzb\\ImageDetection-Yolov11\\Road_Damage\\folds\\fold_1/results ---\n",
      "\n",
      "=== Training Fold 2/5 on folder C:\\Users\\jazzb\\ImageDetection-Yolov11\\Road_Damage\\folds\\fold_2 ===\n",
      "New https://pypi.org/project/ultralytics/8.3.134 available  Update with 'pip install -U ultralytics'\n",
      "Ultralytics 8.3.133  Python-3.9.21 torch-2.5.1+cu121 CUDA:0 (NVIDIA GeForce RTX 4060 Laptop GPU, 8188MiB)\n",
      "\u001b[34m\u001b[1mengine\\trainer: \u001b[0magnostic_nms=False, amp=True, augment=False, auto_augment=randaugment, batch=16, bgr=0.0, box=7.5, cache=False, cfg=None, classes=None, close_mosaic=10, cls=0.5, conf=None, copy_paste=0.0, copy_paste_mode=flip, cos_lr=False, cutmix=0.0, data=C:\\Users\\jazzb\\ImageDetection-Yolov11\\Road_Damage\\folds\\fold_2, degrees=0.0, deterministic=True, device=0, dfl=1.5, dnn=False, dropout=0.0, dynamic=False, embed=None, epochs=100, erasing=0.4, exist_ok=False, fliplr=0.5, flipud=0.0, format=torchscript, fraction=1.0, freeze=None, half=False, hsv_h=0.015, hsv_s=0.7, hsv_v=0.4, imgsz=640, int8=False, iou=0.7, keras=False, kobj=1.0, line_width=None, lr0=0.01, lrf=0.01, mask_ratio=4, max_det=300, mixup=0.0, mode=train, model=models\\yolo11n-cls.pt, momentum=0.937, mosaic=1.0, multi_scale=False, name=results2, nbs=64, nms=False, opset=None, optimize=False, optimizer=auto, overlap_mask=True, patience=25, perspective=0.0, plots=True, pose=12.0, pretrained=True, profile=False, project=C:\\Users\\jazzb\\ImageDetection-Yolov11\\Road_Damage\\folds\\fold_2, rect=False, resume=False, retina_masks=False, save=True, save_conf=False, save_crop=False, save_dir=C:\\Users\\jazzb\\ImageDetection-Yolov11\\Road_Damage\\folds\\fold_2\\results2, save_frames=False, save_json=False, save_period=-1, save_txt=False, scale=0.5, seed=0, shear=0.0, show=False, show_boxes=True, show_conf=True, show_labels=True, simplify=True, single_cls=False, source=None, split=val, stream_buffer=False, task=classify, time=None, tracker=botsort.yaml, translate=0.1, val=True, verbose=True, vid_stride=1, visualize=False, warmup_bias_lr=0.1, warmup_epochs=3.0, warmup_momentum=0.8, weight_decay=0.0005, workers=8, workspace=None\n",
      "\u001b[34m\u001b[1mtrain:\u001b[0m C:\\Users\\jazzb\\ImageDetection-Yolov11\\Road_Damage\\folds\\fold_2\\train... found 695 images in 5 classes  \n",
      "\u001b[34m\u001b[1mval:\u001b[0m C:\\Users\\jazzb\\ImageDetection-Yolov11\\Road_Damage\\folds\\fold_2\\val... found 174 images in 5 classes  \n",
      "\u001b[34m\u001b[1mtest:\u001b[0m C:\\Users\\jazzb\\ImageDetection-Yolov11\\Road_Damage\\folds\\fold_2\\test... found 43 images in 5 classes  \n",
      "Overriding model.yaml nc=80 with nc=5\n",
      "\n",
      "                   from  n    params  module                                       arguments                     \n",
      "  0                  -1  1       464  ultralytics.nn.modules.conv.Conv             [3, 16, 3, 2]                 \n",
      "  1                  -1  1      4672  ultralytics.nn.modules.conv.Conv             [16, 32, 3, 2]                \n",
      "  2                  -1  1      6640  ultralytics.nn.modules.block.C3k2            [32, 64, 1, False, 0.25]      \n",
      "  3                  -1  1     36992  ultralytics.nn.modules.conv.Conv             [64, 64, 3, 2]                \n",
      "  4                  -1  1     26080  ultralytics.nn.modules.block.C3k2            [64, 128, 1, False, 0.25]     \n",
      "  5                  -1  1    147712  ultralytics.nn.modules.conv.Conv             [128, 128, 3, 2]              \n",
      "  6                  -1  1     87040  ultralytics.nn.modules.block.C3k2            [128, 128, 1, True]           \n",
      "  7                  -1  1    295424  ultralytics.nn.modules.conv.Conv             [128, 256, 3, 2]              \n",
      "  8                  -1  1    346112  ultralytics.nn.modules.block.C3k2            [256, 256, 1, True]           \n",
      "  9                  -1  1    249728  ultralytics.nn.modules.block.C2PSA           [256, 256, 1]                 \n",
      " 10                  -1  1    336645  ultralytics.nn.modules.head.Classify         [256, 5]                      \n",
      "YOLO11n-cls summary: 86 layers, 1,537,509 parameters, 1,537,509 gradients, 3.3 GFLOPs\n",
      "Transferred 234/236 items from pretrained weights\n",
      "\u001b[34m\u001b[1mAMP: \u001b[0mrunning Automatic Mixed Precision (AMP) checks...\n",
      "\u001b[34m\u001b[1mAMP: \u001b[0mchecks passed \n",
      "\u001b[34m\u001b[1mtrain: \u001b[0mFast image access  (ping: 0.20.1 ms, read: 346.173.2 MB/s, size: 177.5 KB)\n"
     ]
    },
    {
     "name": "stderr",
     "output_type": "stream",
     "text": [
      "\u001b[34m\u001b[1mtrain: \u001b[0mScanning C:\\Users\\jazzb\\ImageDetection-Yolov11\\Road_Damage\\folds\\fold_2\\train... 695 images, 0 corrupt: 100%|██████████| 695/695 [00:00<?, ?it/s]\n"
     ]
    },
    {
     "name": "stdout",
     "output_type": "stream",
     "text": [
      "\u001b[34m\u001b[1mval: \u001b[0mFast image access  (ping: 0.20.2 ms, read: 299.9110.1 MB/s, size: 158.5 KB)\n"
     ]
    },
    {
     "name": "stderr",
     "output_type": "stream",
     "text": [
      "\u001b[34m\u001b[1mval: \u001b[0mScanning C:\\Users\\jazzb\\ImageDetection-Yolov11\\Road_Damage\\folds\\fold_2\\val... 174 images, 0 corrupt: 100%|██████████| 174/174 [00:00<?, ?it/s]\n"
     ]
    },
    {
     "name": "stdout",
     "output_type": "stream",
     "text": [
      "\u001b[34m\u001b[1moptimizer:\u001b[0m 'optimizer=auto' found, ignoring 'lr0=0.01' and 'momentum=0.937' and determining best 'optimizer', 'lr0' and 'momentum' automatically... \n",
      "\u001b[34m\u001b[1moptimizer:\u001b[0m AdamW(lr=0.001111, momentum=0.9) with parameter groups 39 weight(decay=0.0), 40 weight(decay=0.0005), 40 bias(decay=0.0)\n",
      "Image sizes 640 train, 640 val\n",
      "Using 8 dataloader workers\n",
      "Logging results to \u001b[1mC:\\Users\\jazzb\\ImageDetection-Yolov11\\Road_Damage\\folds\\fold_2\\results2\u001b[0m\n",
      "Starting training for 100 epochs...\n",
      "\n",
      "      Epoch    GPU_mem       loss  Instances       Size\n"
     ]
    },
    {
     "name": "stderr",
     "output_type": "stream",
     "text": [
      "      1/100      1.71G      1.111          7        640: 100%|██████████| 44/44 [00:05<00:00,  8.24it/s]\n",
      "               classes   top1_acc   top5_acc: 100%|██████████| 6/6 [00:02<00:00,  2.65it/s]"
     ]
    },
    {
     "name": "stdout",
     "output_type": "stream",
     "text": [
      "                   all      0.856          1\n"
     ]
    },
    {
     "name": "stderr",
     "output_type": "stream",
     "text": [
      "\n"
     ]
    },
    {
     "name": "stdout",
     "output_type": "stream",
     "text": [
      "\n",
      "      Epoch    GPU_mem       loss  Instances       Size\n"
     ]
    },
    {
     "name": "stderr",
     "output_type": "stream",
     "text": [
      "      2/100      1.96G     0.3976          7        640: 100%|██████████| 44/44 [00:04<00:00, 10.86it/s]\n",
      "               classes   top1_acc   top5_acc: 100%|██████████| 6/6 [00:00<00:00, 20.56it/s]"
     ]
    },
    {
     "name": "stdout",
     "output_type": "stream",
     "text": [
      "                   all      0.891          1\n"
     ]
    },
    {
     "name": "stderr",
     "output_type": "stream",
     "text": [
      "\n"
     ]
    },
    {
     "name": "stdout",
     "output_type": "stream",
     "text": [
      "\n",
      "      Epoch    GPU_mem       loss  Instances       Size\n"
     ]
    },
    {
     "name": "stderr",
     "output_type": "stream",
     "text": [
      "      3/100      1.96G     0.2802          7        640: 100%|██████████| 44/44 [00:03<00:00, 11.96it/s]\n",
      "               classes   top1_acc   top5_acc: 100%|██████████| 6/6 [00:00<00:00, 19.97it/s]"
     ]
    },
    {
     "name": "stdout",
     "output_type": "stream",
     "text": [
      "                   all      0.931          1\n"
     ]
    },
    {
     "name": "stderr",
     "output_type": "stream",
     "text": [
      "\n"
     ]
    },
    {
     "name": "stdout",
     "output_type": "stream",
     "text": [
      "\n",
      "      Epoch    GPU_mem       loss  Instances       Size\n"
     ]
    },
    {
     "name": "stderr",
     "output_type": "stream",
     "text": [
      "      4/100      1.96G     0.2663          7        640: 100%|██████████| 44/44 [00:03<00:00, 12.48it/s]\n",
      "               classes   top1_acc   top5_acc: 100%|██████████| 6/6 [00:00<00:00, 19.11it/s]"
     ]
    },
    {
     "name": "stdout",
     "output_type": "stream",
     "text": [
      "                   all      0.931          1\n"
     ]
    },
    {
     "name": "stderr",
     "output_type": "stream",
     "text": [
      "\n"
     ]
    },
    {
     "name": "stdout",
     "output_type": "stream",
     "text": [
      "\n",
      "      Epoch    GPU_mem       loss  Instances       Size\n"
     ]
    },
    {
     "name": "stderr",
     "output_type": "stream",
     "text": [
      "      5/100      1.96G     0.2249          7        640: 100%|██████████| 44/44 [00:03<00:00, 12.93it/s]\n",
      "               classes   top1_acc   top5_acc: 100%|██████████| 6/6 [00:00<00:00, 20.63it/s]"
     ]
    },
    {
     "name": "stdout",
     "output_type": "stream",
     "text": [
      "                   all      0.954          1\n"
     ]
    },
    {
     "name": "stderr",
     "output_type": "stream",
     "text": [
      "\n"
     ]
    },
    {
     "name": "stdout",
     "output_type": "stream",
     "text": [
      "\n",
      "      Epoch    GPU_mem       loss  Instances       Size\n"
     ]
    },
    {
     "name": "stderr",
     "output_type": "stream",
     "text": [
      "      6/100      1.96G     0.2344          7        640: 100%|██████████| 44/44 [00:03<00:00, 12.73it/s]\n",
      "               classes   top1_acc   top5_acc: 100%|██████████| 6/6 [00:00<00:00, 20.30it/s]"
     ]
    },
    {
     "name": "stdout",
     "output_type": "stream",
     "text": [
      "                   all      0.948          1\n"
     ]
    },
    {
     "name": "stderr",
     "output_type": "stream",
     "text": [
      "\n"
     ]
    },
    {
     "name": "stdout",
     "output_type": "stream",
     "text": [
      "\n",
      "      Epoch    GPU_mem       loss  Instances       Size\n"
     ]
    },
    {
     "name": "stderr",
     "output_type": "stream",
     "text": [
      "      7/100      1.96G     0.1878          7        640: 100%|██████████| 44/44 [00:03<00:00, 12.66it/s]\n",
      "               classes   top1_acc   top5_acc: 100%|██████████| 6/6 [00:00<00:00, 20.62it/s]"
     ]
    },
    {
     "name": "stdout",
     "output_type": "stream",
     "text": [
      "                   all      0.914          1\n"
     ]
    },
    {
     "name": "stderr",
     "output_type": "stream",
     "text": [
      "\n"
     ]
    },
    {
     "name": "stdout",
     "output_type": "stream",
     "text": [
      "\n",
      "      Epoch    GPU_mem       loss  Instances       Size\n"
     ]
    },
    {
     "name": "stderr",
     "output_type": "stream",
     "text": [
      "      8/100      1.96G     0.1925          7        640: 100%|██████████| 44/44 [00:03<00:00, 12.79it/s]\n",
      "               classes   top1_acc   top5_acc: 100%|██████████| 6/6 [00:00<00:00, 20.25it/s]"
     ]
    },
    {
     "name": "stdout",
     "output_type": "stream",
     "text": [
      "                   all      0.943          1\n"
     ]
    },
    {
     "name": "stderr",
     "output_type": "stream",
     "text": [
      "\n"
     ]
    },
    {
     "name": "stdout",
     "output_type": "stream",
     "text": [
      "\n",
      "      Epoch    GPU_mem       loss  Instances       Size\n"
     ]
    },
    {
     "name": "stderr",
     "output_type": "stream",
     "text": [
      "      9/100      1.96G     0.1835          7        640: 100%|██████████| 44/44 [00:03<00:00, 12.42it/s]\n",
      "               classes   top1_acc   top5_acc: 100%|██████████| 6/6 [00:00<00:00, 20.48it/s]"
     ]
    },
    {
     "name": "stdout",
     "output_type": "stream",
     "text": [
      "                   all      0.954          1\n"
     ]
    },
    {
     "name": "stderr",
     "output_type": "stream",
     "text": [
      "\n"
     ]
    },
    {
     "name": "stdout",
     "output_type": "stream",
     "text": [
      "\n",
      "      Epoch    GPU_mem       loss  Instances       Size\n"
     ]
    },
    {
     "name": "stderr",
     "output_type": "stream",
     "text": [
      "     10/100      1.96G      0.143          7        640: 100%|██████████| 44/44 [00:03<00:00, 12.52it/s]\n",
      "               classes   top1_acc   top5_acc: 100%|██████████| 6/6 [00:00<00:00, 18.18it/s]"
     ]
    },
    {
     "name": "stdout",
     "output_type": "stream",
     "text": [
      "                   all      0.931          1\n"
     ]
    },
    {
     "name": "stderr",
     "output_type": "stream",
     "text": [
      "\n"
     ]
    },
    {
     "name": "stdout",
     "output_type": "stream",
     "text": [
      "\n",
      "      Epoch    GPU_mem       loss  Instances       Size\n"
     ]
    },
    {
     "name": "stderr",
     "output_type": "stream",
     "text": [
      "     11/100      1.96G     0.1511          7        640: 100%|██████████| 44/44 [00:03<00:00, 12.26it/s]\n",
      "               classes   top1_acc   top5_acc: 100%|██████████| 6/6 [00:00<00:00, 20.56it/s]"
     ]
    },
    {
     "name": "stdout",
     "output_type": "stream",
     "text": [
      "                   all      0.948          1\n"
     ]
    },
    {
     "name": "stderr",
     "output_type": "stream",
     "text": [
      "\n"
     ]
    },
    {
     "name": "stdout",
     "output_type": "stream",
     "text": [
      "\n",
      "      Epoch    GPU_mem       loss  Instances       Size\n"
     ]
    },
    {
     "name": "stderr",
     "output_type": "stream",
     "text": [
      "     12/100      1.96G      0.153          7        640: 100%|██████████| 44/44 [00:03<00:00, 12.34it/s]\n",
      "               classes   top1_acc   top5_acc: 100%|██████████| 6/6 [00:00<00:00, 20.94it/s]"
     ]
    },
    {
     "name": "stdout",
     "output_type": "stream",
     "text": [
      "                   all      0.966          1\n"
     ]
    },
    {
     "name": "stderr",
     "output_type": "stream",
     "text": [
      "\n"
     ]
    },
    {
     "name": "stdout",
     "output_type": "stream",
     "text": [
      "\n",
      "      Epoch    GPU_mem       loss  Instances       Size\n"
     ]
    },
    {
     "name": "stderr",
     "output_type": "stream",
     "text": [
      "     13/100      1.96G     0.1658          7        640: 100%|██████████| 44/44 [00:03<00:00, 12.87it/s]\n",
      "               classes   top1_acc   top5_acc: 100%|██████████| 6/6 [00:00<00:00, 20.97it/s]"
     ]
    },
    {
     "name": "stdout",
     "output_type": "stream",
     "text": [
      "                   all      0.989          1\n"
     ]
    },
    {
     "name": "stderr",
     "output_type": "stream",
     "text": [
      "\n"
     ]
    },
    {
     "name": "stdout",
     "output_type": "stream",
     "text": [
      "\n",
      "      Epoch    GPU_mem       loss  Instances       Size\n"
     ]
    },
    {
     "name": "stderr",
     "output_type": "stream",
     "text": [
      "     14/100      1.96G     0.1207          7        640: 100%|██████████| 44/44 [00:03<00:00, 12.49it/s]\n",
      "               classes   top1_acc   top5_acc: 100%|██████████| 6/6 [00:00<00:00, 20.67it/s]"
     ]
    },
    {
     "name": "stdout",
     "output_type": "stream",
     "text": [
      "                   all      0.983          1\n"
     ]
    },
    {
     "name": "stderr",
     "output_type": "stream",
     "text": [
      "\n"
     ]
    },
    {
     "name": "stdout",
     "output_type": "stream",
     "text": [
      "\n",
      "      Epoch    GPU_mem       loss  Instances       Size\n"
     ]
    },
    {
     "name": "stderr",
     "output_type": "stream",
     "text": [
      "     15/100      1.96G     0.1065          7        640: 100%|██████████| 44/44 [00:03<00:00, 12.57it/s]\n",
      "               classes   top1_acc   top5_acc: 100%|██████████| 6/6 [00:00<00:00, 20.75it/s]"
     ]
    },
    {
     "name": "stdout",
     "output_type": "stream",
     "text": [
      "                   all      0.931          1\n"
     ]
    },
    {
     "name": "stderr",
     "output_type": "stream",
     "text": [
      "\n"
     ]
    },
    {
     "name": "stdout",
     "output_type": "stream",
     "text": [
      "\n",
      "      Epoch    GPU_mem       loss  Instances       Size\n"
     ]
    },
    {
     "name": "stderr",
     "output_type": "stream",
     "text": [
      "     16/100      1.96G    0.09807          7        640: 100%|██████████| 44/44 [00:03<00:00, 12.63it/s]\n",
      "               classes   top1_acc   top5_acc: 100%|██████████| 6/6 [00:00<00:00, 21.19it/s]"
     ]
    },
    {
     "name": "stdout",
     "output_type": "stream",
     "text": [
      "                   all      0.971          1\n"
     ]
    },
    {
     "name": "stderr",
     "output_type": "stream",
     "text": [
      "\n"
     ]
    },
    {
     "name": "stdout",
     "output_type": "stream",
     "text": [
      "\n",
      "      Epoch    GPU_mem       loss  Instances       Size\n"
     ]
    },
    {
     "name": "stderr",
     "output_type": "stream",
     "text": [
      "     17/100      1.96G     0.0931          7        640: 100%|██████████| 44/44 [00:03<00:00, 12.71it/s]\n",
      "               classes   top1_acc   top5_acc: 100%|██████████| 6/6 [00:00<00:00, 19.53it/s]"
     ]
    },
    {
     "name": "stdout",
     "output_type": "stream",
     "text": [
      "                   all      0.966          1\n"
     ]
    },
    {
     "name": "stderr",
     "output_type": "stream",
     "text": [
      "\n"
     ]
    },
    {
     "name": "stdout",
     "output_type": "stream",
     "text": [
      "\n",
      "      Epoch    GPU_mem       loss  Instances       Size\n"
     ]
    },
    {
     "name": "stderr",
     "output_type": "stream",
     "text": [
      "     18/100      1.96G     0.1021          7        640: 100%|██████████| 44/44 [00:03<00:00, 12.18it/s]\n",
      "               classes   top1_acc   top5_acc: 100%|██████████| 6/6 [00:00<00:00, 19.29it/s]"
     ]
    },
    {
     "name": "stdout",
     "output_type": "stream",
     "text": [
      "                   all       0.96          1\n"
     ]
    },
    {
     "name": "stderr",
     "output_type": "stream",
     "text": [
      "\n"
     ]
    },
    {
     "name": "stdout",
     "output_type": "stream",
     "text": [
      "\n",
      "      Epoch    GPU_mem       loss  Instances       Size\n"
     ]
    },
    {
     "name": "stderr",
     "output_type": "stream",
     "text": [
      "     19/100      1.96G    0.09904          7        640: 100%|██████████| 44/44 [00:03<00:00, 12.70it/s]\n",
      "               classes   top1_acc   top5_acc: 100%|██████████| 6/6 [00:00<00:00, 22.13it/s]"
     ]
    },
    {
     "name": "stdout",
     "output_type": "stream",
     "text": [
      "                   all      0.966          1\n"
     ]
    },
    {
     "name": "stderr",
     "output_type": "stream",
     "text": [
      "\n"
     ]
    },
    {
     "name": "stdout",
     "output_type": "stream",
     "text": [
      "\n",
      "      Epoch    GPU_mem       loss  Instances       Size\n"
     ]
    },
    {
     "name": "stderr",
     "output_type": "stream",
     "text": [
      "     20/100      1.96G    0.06831          7        640: 100%|██████████| 44/44 [00:03<00:00, 12.39it/s]\n",
      "               classes   top1_acc   top5_acc: 100%|██████████| 6/6 [00:00<00:00, 20.57it/s]"
     ]
    },
    {
     "name": "stdout",
     "output_type": "stream",
     "text": [
      "                   all      0.977          1\n"
     ]
    },
    {
     "name": "stderr",
     "output_type": "stream",
     "text": [
      "\n"
     ]
    },
    {
     "name": "stdout",
     "output_type": "stream",
     "text": [
      "\n",
      "      Epoch    GPU_mem       loss  Instances       Size\n"
     ]
    },
    {
     "name": "stderr",
     "output_type": "stream",
     "text": [
      "     21/100      1.96G     0.1279          7        640: 100%|██████████| 44/44 [00:03<00:00, 12.52it/s]\n",
      "               classes   top1_acc   top5_acc: 100%|██████████| 6/6 [00:00<00:00, 20.27it/s]"
     ]
    },
    {
     "name": "stdout",
     "output_type": "stream",
     "text": [
      "                   all      0.977          1\n"
     ]
    },
    {
     "name": "stderr",
     "output_type": "stream",
     "text": [
      "\n"
     ]
    },
    {
     "name": "stdout",
     "output_type": "stream",
     "text": [
      "\n",
      "      Epoch    GPU_mem       loss  Instances       Size\n"
     ]
    },
    {
     "name": "stderr",
     "output_type": "stream",
     "text": [
      "     22/100      1.96G    0.08984          7        640: 100%|██████████| 44/44 [00:03<00:00, 12.16it/s]\n",
      "               classes   top1_acc   top5_acc: 100%|██████████| 6/6 [00:00<00:00, 20.00it/s]"
     ]
    },
    {
     "name": "stdout",
     "output_type": "stream",
     "text": [
      "                   all      0.983          1\n"
     ]
    },
    {
     "name": "stderr",
     "output_type": "stream",
     "text": [
      "\n"
     ]
    },
    {
     "name": "stdout",
     "output_type": "stream",
     "text": [
      "\n",
      "      Epoch    GPU_mem       loss  Instances       Size\n"
     ]
    },
    {
     "name": "stderr",
     "output_type": "stream",
     "text": [
      "     23/100      1.96G    0.06183          7        640: 100%|██████████| 44/44 [00:03<00:00, 12.33it/s]\n",
      "               classes   top1_acc   top5_acc: 100%|██████████| 6/6 [00:00<00:00, 20.75it/s]"
     ]
    },
    {
     "name": "stdout",
     "output_type": "stream",
     "text": [
      "                   all      0.971          1\n"
     ]
    },
    {
     "name": "stderr",
     "output_type": "stream",
     "text": [
      "\n"
     ]
    },
    {
     "name": "stdout",
     "output_type": "stream",
     "text": [
      "\n",
      "      Epoch    GPU_mem       loss  Instances       Size\n"
     ]
    },
    {
     "name": "stderr",
     "output_type": "stream",
     "text": [
      "     24/100      1.96G    0.08791          7        640: 100%|██████████| 44/44 [00:03<00:00, 12.49it/s]\n",
      "               classes   top1_acc   top5_acc: 100%|██████████| 6/6 [00:00<00:00, 19.62it/s]"
     ]
    },
    {
     "name": "stdout",
     "output_type": "stream",
     "text": [
      "                   all       0.96          1\n"
     ]
    },
    {
     "name": "stderr",
     "output_type": "stream",
     "text": [
      "\n"
     ]
    },
    {
     "name": "stdout",
     "output_type": "stream",
     "text": [
      "\n",
      "      Epoch    GPU_mem       loss  Instances       Size\n"
     ]
    },
    {
     "name": "stderr",
     "output_type": "stream",
     "text": [
      "     25/100      1.96G    0.08044          7        640: 100%|██████████| 44/44 [00:03<00:00, 12.44it/s]\n",
      "               classes   top1_acc   top5_acc: 100%|██████████| 6/6 [00:00<00:00, 20.71it/s]"
     ]
    },
    {
     "name": "stdout",
     "output_type": "stream",
     "text": [
      "                   all      0.977          1\n"
     ]
    },
    {
     "name": "stderr",
     "output_type": "stream",
     "text": [
      "\n"
     ]
    },
    {
     "name": "stdout",
     "output_type": "stream",
     "text": [
      "\n",
      "      Epoch    GPU_mem       loss  Instances       Size\n"
     ]
    },
    {
     "name": "stderr",
     "output_type": "stream",
     "text": [
      "     26/100      1.96G     0.0583          7        640: 100%|██████████| 44/44 [00:03<00:00, 11.67it/s]\n",
      "               classes   top1_acc   top5_acc: 100%|██████████| 6/6 [00:00<00:00, 18.10it/s]"
     ]
    },
    {
     "name": "stdout",
     "output_type": "stream",
     "text": [
      "                   all      0.989          1\n"
     ]
    },
    {
     "name": "stderr",
     "output_type": "stream",
     "text": [
      "\n"
     ]
    },
    {
     "name": "stdout",
     "output_type": "stream",
     "text": [
      "\n",
      "      Epoch    GPU_mem       loss  Instances       Size\n"
     ]
    },
    {
     "name": "stderr",
     "output_type": "stream",
     "text": [
      "     27/100      1.96G    0.07469          7        640: 100%|██████████| 44/44 [00:03<00:00, 11.59it/s]\n",
      "               classes   top1_acc   top5_acc: 100%|██████████| 6/6 [00:00<00:00, 20.71it/s]"
     ]
    },
    {
     "name": "stdout",
     "output_type": "stream",
     "text": [
      "                   all      0.977          1\n"
     ]
    },
    {
     "name": "stderr",
     "output_type": "stream",
     "text": [
      "\n"
     ]
    },
    {
     "name": "stdout",
     "output_type": "stream",
     "text": [
      "\n",
      "      Epoch    GPU_mem       loss  Instances       Size\n"
     ]
    },
    {
     "name": "stderr",
     "output_type": "stream",
     "text": [
      "     28/100      1.96G    0.06012          7        640: 100%|██████████| 44/44 [00:03<00:00, 12.86it/s]\n",
      "               classes   top1_acc   top5_acc: 100%|██████████| 6/6 [00:00<00:00, 21.64it/s]"
     ]
    },
    {
     "name": "stdout",
     "output_type": "stream",
     "text": [
      "                   all      0.966          1\n"
     ]
    },
    {
     "name": "stderr",
     "output_type": "stream",
     "text": [
      "\n"
     ]
    },
    {
     "name": "stdout",
     "output_type": "stream",
     "text": [
      "\n",
      "      Epoch    GPU_mem       loss  Instances       Size\n"
     ]
    },
    {
     "name": "stderr",
     "output_type": "stream",
     "text": [
      "     29/100      1.96G     0.0447          7        640: 100%|██████████| 44/44 [00:03<00:00, 12.71it/s]\n",
      "               classes   top1_acc   top5_acc: 100%|██████████| 6/6 [00:00<00:00, 20.87it/s]"
     ]
    },
    {
     "name": "stdout",
     "output_type": "stream",
     "text": [
      "                   all      0.966          1\n"
     ]
    },
    {
     "name": "stderr",
     "output_type": "stream",
     "text": [
      "\n"
     ]
    },
    {
     "name": "stdout",
     "output_type": "stream",
     "text": [
      "\n",
      "      Epoch    GPU_mem       loss  Instances       Size\n"
     ]
    },
    {
     "name": "stderr",
     "output_type": "stream",
     "text": [
      "     30/100      1.96G    0.07188          7        640: 100%|██████████| 44/44 [00:03<00:00, 12.82it/s]\n",
      "               classes   top1_acc   top5_acc: 100%|██████████| 6/6 [00:00<00:00, 19.18it/s]"
     ]
    },
    {
     "name": "stdout",
     "output_type": "stream",
     "text": [
      "                   all      0.977          1\n"
     ]
    },
    {
     "name": "stderr",
     "output_type": "stream",
     "text": [
      "\n"
     ]
    },
    {
     "name": "stdout",
     "output_type": "stream",
     "text": [
      "\n",
      "      Epoch    GPU_mem       loss  Instances       Size\n"
     ]
    },
    {
     "name": "stderr",
     "output_type": "stream",
     "text": [
      "     31/100      1.96G     0.0705          7        640: 100%|██████████| 44/44 [00:03<00:00, 12.93it/s]\n",
      "               classes   top1_acc   top5_acc: 100%|██████████| 6/6 [00:00<00:00, 20.77it/s]"
     ]
    },
    {
     "name": "stdout",
     "output_type": "stream",
     "text": [
      "                   all      0.989          1\n"
     ]
    },
    {
     "name": "stderr",
     "output_type": "stream",
     "text": [
      "\n"
     ]
    },
    {
     "name": "stdout",
     "output_type": "stream",
     "text": [
      "\n",
      "      Epoch    GPU_mem       loss  Instances       Size\n"
     ]
    },
    {
     "name": "stderr",
     "output_type": "stream",
     "text": [
      "     32/100      1.96G    0.08404          7        640: 100%|██████████| 44/44 [00:03<00:00, 13.14it/s]\n",
      "               classes   top1_acc   top5_acc: 100%|██████████| 6/6 [00:00<00:00, 20.99it/s]"
     ]
    },
    {
     "name": "stdout",
     "output_type": "stream",
     "text": [
      "                   all      0.989          1\n"
     ]
    },
    {
     "name": "stderr",
     "output_type": "stream",
     "text": [
      "\n"
     ]
    },
    {
     "name": "stdout",
     "output_type": "stream",
     "text": [
      "\n",
      "      Epoch    GPU_mem       loss  Instances       Size\n"
     ]
    },
    {
     "name": "stderr",
     "output_type": "stream",
     "text": [
      "     33/100      1.96G     0.0551          7        640: 100%|██████████| 44/44 [00:03<00:00, 12.85it/s]\n",
      "               classes   top1_acc   top5_acc: 100%|██████████| 6/6 [00:00<00:00, 19.69it/s]"
     ]
    },
    {
     "name": "stdout",
     "output_type": "stream",
     "text": [
      "                   all      0.994          1\n"
     ]
    },
    {
     "name": "stderr",
     "output_type": "stream",
     "text": [
      "\n"
     ]
    },
    {
     "name": "stdout",
     "output_type": "stream",
     "text": [
      "\n",
      "      Epoch    GPU_mem       loss  Instances       Size\n"
     ]
    },
    {
     "name": "stderr",
     "output_type": "stream",
     "text": [
      "     34/100      1.96G    0.06163          7        640: 100%|██████████| 44/44 [00:03<00:00, 13.09it/s]\n",
      "               classes   top1_acc   top5_acc: 100%|██████████| 6/6 [00:00<00:00, 19.62it/s]"
     ]
    },
    {
     "name": "stdout",
     "output_type": "stream",
     "text": [
      "                   all      0.983          1\n"
     ]
    },
    {
     "name": "stderr",
     "output_type": "stream",
     "text": [
      "\n"
     ]
    },
    {
     "name": "stdout",
     "output_type": "stream",
     "text": [
      "\n",
      "      Epoch    GPU_mem       loss  Instances       Size\n"
     ]
    },
    {
     "name": "stderr",
     "output_type": "stream",
     "text": [
      "     35/100      1.96G    0.03236          7        640: 100%|██████████| 44/44 [00:03<00:00, 13.08it/s]\n",
      "               classes   top1_acc   top5_acc: 100%|██████████| 6/6 [00:00<00:00, 21.56it/s]"
     ]
    },
    {
     "name": "stdout",
     "output_type": "stream",
     "text": [
      "                   all      0.989          1\n"
     ]
    },
    {
     "name": "stderr",
     "output_type": "stream",
     "text": [
      "\n"
     ]
    },
    {
     "name": "stdout",
     "output_type": "stream",
     "text": [
      "\n",
      "      Epoch    GPU_mem       loss  Instances       Size\n"
     ]
    },
    {
     "name": "stderr",
     "output_type": "stream",
     "text": [
      "     36/100      1.96G    0.03232          7        640: 100%|██████████| 44/44 [00:03<00:00, 13.28it/s]\n",
      "               classes   top1_acc   top5_acc: 100%|██████████| 6/6 [00:00<00:00, 20.98it/s]"
     ]
    },
    {
     "name": "stdout",
     "output_type": "stream",
     "text": [
      "                   all      0.994          1\n"
     ]
    },
    {
     "name": "stderr",
     "output_type": "stream",
     "text": [
      "\n"
     ]
    },
    {
     "name": "stdout",
     "output_type": "stream",
     "text": [
      "\n",
      "      Epoch    GPU_mem       loss  Instances       Size\n"
     ]
    },
    {
     "name": "stderr",
     "output_type": "stream",
     "text": [
      "     37/100      1.96G    0.03825          7        640: 100%|██████████| 44/44 [00:03<00:00, 12.80it/s]\n",
      "               classes   top1_acc   top5_acc: 100%|██████████| 6/6 [00:00<00:00, 20.90it/s]"
     ]
    },
    {
     "name": "stdout",
     "output_type": "stream",
     "text": [
      "                   all      0.994          1\n"
     ]
    },
    {
     "name": "stderr",
     "output_type": "stream",
     "text": [
      "\n"
     ]
    },
    {
     "name": "stdout",
     "output_type": "stream",
     "text": [
      "\n",
      "      Epoch    GPU_mem       loss  Instances       Size\n"
     ]
    },
    {
     "name": "stderr",
     "output_type": "stream",
     "text": [
      "     38/100      1.96G    0.04161          7        640: 100%|██████████| 44/44 [00:03<00:00, 12.98it/s]\n",
      "               classes   top1_acc   top5_acc: 100%|██████████| 6/6 [00:00<00:00, 21.07it/s]"
     ]
    },
    {
     "name": "stdout",
     "output_type": "stream",
     "text": [
      "                   all      0.989          1\n"
     ]
    },
    {
     "name": "stderr",
     "output_type": "stream",
     "text": [
      "\n"
     ]
    },
    {
     "name": "stdout",
     "output_type": "stream",
     "text": [
      "\n",
      "      Epoch    GPU_mem       loss  Instances       Size\n"
     ]
    },
    {
     "name": "stderr",
     "output_type": "stream",
     "text": [
      "     39/100      1.96G    0.06067          7        640: 100%|██████████| 44/44 [00:03<00:00, 13.04it/s]\n",
      "               classes   top1_acc   top5_acc: 100%|██████████| 6/6 [00:00<00:00, 21.67it/s]"
     ]
    },
    {
     "name": "stdout",
     "output_type": "stream",
     "text": [
      "                   all      0.994          1\n"
     ]
    },
    {
     "name": "stderr",
     "output_type": "stream",
     "text": [
      "\n"
     ]
    },
    {
     "name": "stdout",
     "output_type": "stream",
     "text": [
      "\n",
      "      Epoch    GPU_mem       loss  Instances       Size\n"
     ]
    },
    {
     "name": "stderr",
     "output_type": "stream",
     "text": [
      "     40/100      1.96G    0.05698          7        640: 100%|██████████| 44/44 [00:03<00:00, 12.80it/s]\n",
      "               classes   top1_acc   top5_acc: 100%|██████████| 6/6 [00:00<00:00, 21.16it/s]"
     ]
    },
    {
     "name": "stdout",
     "output_type": "stream",
     "text": [
      "                   all      0.994          1\n"
     ]
    },
    {
     "name": "stderr",
     "output_type": "stream",
     "text": [
      "\n"
     ]
    },
    {
     "name": "stdout",
     "output_type": "stream",
     "text": [
      "\n",
      "      Epoch    GPU_mem       loss  Instances       Size\n"
     ]
    },
    {
     "name": "stderr",
     "output_type": "stream",
     "text": [
      "     41/100      1.96G    0.04658          7        640: 100%|██████████| 44/44 [00:03<00:00, 12.70it/s]\n",
      "               classes   top1_acc   top5_acc: 100%|██████████| 6/6 [00:00<00:00, 20.89it/s]"
     ]
    },
    {
     "name": "stdout",
     "output_type": "stream",
     "text": [
      "                   all      0.989          1\n"
     ]
    },
    {
     "name": "stderr",
     "output_type": "stream",
     "text": [
      "\n"
     ]
    },
    {
     "name": "stdout",
     "output_type": "stream",
     "text": [
      "\n",
      "      Epoch    GPU_mem       loss  Instances       Size\n"
     ]
    },
    {
     "name": "stderr",
     "output_type": "stream",
     "text": [
      "     42/100      1.96G     0.0269          7        640: 100%|██████████| 44/44 [00:03<00:00, 12.79it/s]\n",
      "               classes   top1_acc   top5_acc: 100%|██████████| 6/6 [00:00<00:00, 19.83it/s]"
     ]
    },
    {
     "name": "stdout",
     "output_type": "stream",
     "text": [
      "                   all      0.989          1\n"
     ]
    },
    {
     "name": "stderr",
     "output_type": "stream",
     "text": [
      "\n"
     ]
    },
    {
     "name": "stdout",
     "output_type": "stream",
     "text": [
      "\n",
      "      Epoch    GPU_mem       loss  Instances       Size\n"
     ]
    },
    {
     "name": "stderr",
     "output_type": "stream",
     "text": [
      "     43/100      1.96G    0.03656          7        640: 100%|██████████| 44/44 [00:03<00:00, 12.46it/s]\n",
      "               classes   top1_acc   top5_acc: 100%|██████████| 6/6 [00:00<00:00, 21.48it/s]"
     ]
    },
    {
     "name": "stdout",
     "output_type": "stream",
     "text": [
      "                   all      0.994          1\n"
     ]
    },
    {
     "name": "stderr",
     "output_type": "stream",
     "text": [
      "\n"
     ]
    },
    {
     "name": "stdout",
     "output_type": "stream",
     "text": [
      "\n",
      "      Epoch    GPU_mem       loss  Instances       Size\n"
     ]
    },
    {
     "name": "stderr",
     "output_type": "stream",
     "text": [
      "     44/100      1.96G    0.05431          7        640: 100%|██████████| 44/44 [00:03<00:00, 12.68it/s]\n",
      "               classes   top1_acc   top5_acc: 100%|██████████| 6/6 [00:00<00:00, 20.68it/s]"
     ]
    },
    {
     "name": "stdout",
     "output_type": "stream",
     "text": [
      "                   all      0.983          1\n"
     ]
    },
    {
     "name": "stderr",
     "output_type": "stream",
     "text": [
      "\n"
     ]
    },
    {
     "name": "stdout",
     "output_type": "stream",
     "text": [
      "\n",
      "      Epoch    GPU_mem       loss  Instances       Size\n"
     ]
    },
    {
     "name": "stderr",
     "output_type": "stream",
     "text": [
      "     45/100      1.96G    0.05628          7        640: 100%|██████████| 44/44 [00:03<00:00, 12.26it/s]\n",
      "               classes   top1_acc   top5_acc: 100%|██████████| 6/6 [00:00<00:00, 21.14it/s]"
     ]
    },
    {
     "name": "stdout",
     "output_type": "stream",
     "text": [
      "                   all      0.989          1\n"
     ]
    },
    {
     "name": "stderr",
     "output_type": "stream",
     "text": [
      "\n"
     ]
    },
    {
     "name": "stdout",
     "output_type": "stream",
     "text": [
      "\n",
      "      Epoch    GPU_mem       loss  Instances       Size\n"
     ]
    },
    {
     "name": "stderr",
     "output_type": "stream",
     "text": [
      "     46/100      1.96G    0.04542          7        640: 100%|██████████| 44/44 [00:03<00:00, 12.62it/s]\n",
      "               classes   top1_acc   top5_acc: 100%|██████████| 6/6 [00:00<00:00, 20.26it/s]"
     ]
    },
    {
     "name": "stdout",
     "output_type": "stream",
     "text": [
      "                   all      0.994          1\n"
     ]
    },
    {
     "name": "stderr",
     "output_type": "stream",
     "text": [
      "\n"
     ]
    },
    {
     "name": "stdout",
     "output_type": "stream",
     "text": [
      "\n",
      "      Epoch    GPU_mem       loss  Instances       Size\n"
     ]
    },
    {
     "name": "stderr",
     "output_type": "stream",
     "text": [
      "     47/100      1.96G     0.0433          7        640: 100%|██████████| 44/44 [00:03<00:00, 12.50it/s]\n",
      "               classes   top1_acc   top5_acc: 100%|██████████| 6/6 [00:00<00:00, 20.26it/s]"
     ]
    },
    {
     "name": "stdout",
     "output_type": "stream",
     "text": [
      "                   all      0.994          1\n"
     ]
    },
    {
     "name": "stderr",
     "output_type": "stream",
     "text": [
      "\n"
     ]
    },
    {
     "name": "stdout",
     "output_type": "stream",
     "text": [
      "\n",
      "      Epoch    GPU_mem       loss  Instances       Size\n"
     ]
    },
    {
     "name": "stderr",
     "output_type": "stream",
     "text": [
      "     48/100      1.96G    0.04052          7        640: 100%|██████████| 44/44 [00:03<00:00, 13.05it/s]\n",
      "               classes   top1_acc   top5_acc: 100%|██████████| 6/6 [00:00<00:00, 20.52it/s]"
     ]
    },
    {
     "name": "stdout",
     "output_type": "stream",
     "text": [
      "                   all      0.994          1\n"
     ]
    },
    {
     "name": "stderr",
     "output_type": "stream",
     "text": [
      "\n"
     ]
    },
    {
     "name": "stdout",
     "output_type": "stream",
     "text": [
      "\n",
      "      Epoch    GPU_mem       loss  Instances       Size\n"
     ]
    },
    {
     "name": "stderr",
     "output_type": "stream",
     "text": [
      "     49/100      1.96G    0.02902          7        640: 100%|██████████| 44/44 [00:03<00:00, 12.78it/s]\n",
      "               classes   top1_acc   top5_acc: 100%|██████████| 6/6 [00:00<00:00, 21.28it/s]"
     ]
    },
    {
     "name": "stdout",
     "output_type": "stream",
     "text": [
      "                   all      0.994          1\n"
     ]
    },
    {
     "name": "stderr",
     "output_type": "stream",
     "text": [
      "\n"
     ]
    },
    {
     "name": "stdout",
     "output_type": "stream",
     "text": [
      "\n",
      "      Epoch    GPU_mem       loss  Instances       Size\n"
     ]
    },
    {
     "name": "stderr",
     "output_type": "stream",
     "text": [
      "     50/100      1.96G     0.0218          7        640: 100%|██████████| 44/44 [00:03<00:00, 12.88it/s]\n",
      "               classes   top1_acc   top5_acc: 100%|██████████| 6/6 [00:00<00:00, 21.35it/s]"
     ]
    },
    {
     "name": "stdout",
     "output_type": "stream",
     "text": [
      "                   all      0.994          1\n"
     ]
    },
    {
     "name": "stderr",
     "output_type": "stream",
     "text": [
      "\n"
     ]
    },
    {
     "name": "stdout",
     "output_type": "stream",
     "text": [
      "\n",
      "      Epoch    GPU_mem       loss  Instances       Size\n"
     ]
    },
    {
     "name": "stderr",
     "output_type": "stream",
     "text": [
      "     51/100      1.96G    0.02546          7        640: 100%|██████████| 44/44 [00:03<00:00, 12.92it/s]\n",
      "               classes   top1_acc   top5_acc: 100%|██████████| 6/6 [00:00<00:00, 21.15it/s]"
     ]
    },
    {
     "name": "stdout",
     "output_type": "stream",
     "text": [
      "                   all      0.994          1\n"
     ]
    },
    {
     "name": "stderr",
     "output_type": "stream",
     "text": [
      "\n"
     ]
    },
    {
     "name": "stdout",
     "output_type": "stream",
     "text": [
      "\n",
      "      Epoch    GPU_mem       loss  Instances       Size\n"
     ]
    },
    {
     "name": "stderr",
     "output_type": "stream",
     "text": [
      "     52/100      1.96G      0.031          7        640: 100%|██████████| 44/44 [00:03<00:00, 13.06it/s]\n",
      "               classes   top1_acc   top5_acc: 100%|██████████| 6/6 [00:00<00:00, 20.11it/s]"
     ]
    },
    {
     "name": "stdout",
     "output_type": "stream",
     "text": [
      "                   all      0.989          1\n"
     ]
    },
    {
     "name": "stderr",
     "output_type": "stream",
     "text": [
      "\n"
     ]
    },
    {
     "name": "stdout",
     "output_type": "stream",
     "text": [
      "\n",
      "      Epoch    GPU_mem       loss  Instances       Size\n"
     ]
    },
    {
     "name": "stderr",
     "output_type": "stream",
     "text": [
      "     53/100      1.96G    0.02715          7        640: 100%|██████████| 44/44 [00:03<00:00, 12.81it/s]\n",
      "               classes   top1_acc   top5_acc: 100%|██████████| 6/6 [00:00<00:00, 21.06it/s]"
     ]
    },
    {
     "name": "stdout",
     "output_type": "stream",
     "text": [
      "                   all      0.983          1\n"
     ]
    },
    {
     "name": "stderr",
     "output_type": "stream",
     "text": [
      "\n"
     ]
    },
    {
     "name": "stdout",
     "output_type": "stream",
     "text": [
      "\n",
      "      Epoch    GPU_mem       loss  Instances       Size\n"
     ]
    },
    {
     "name": "stderr",
     "output_type": "stream",
     "text": [
      "     54/100      1.96G    0.04621          7        640: 100%|██████████| 44/44 [00:03<00:00, 12.91it/s]\n",
      "               classes   top1_acc   top5_acc: 100%|██████████| 6/6 [00:00<00:00, 20.41it/s]"
     ]
    },
    {
     "name": "stdout",
     "output_type": "stream",
     "text": [
      "                   all      0.983          1\n"
     ]
    },
    {
     "name": "stderr",
     "output_type": "stream",
     "text": [
      "\n"
     ]
    },
    {
     "name": "stdout",
     "output_type": "stream",
     "text": [
      "\n",
      "      Epoch    GPU_mem       loss  Instances       Size\n"
     ]
    },
    {
     "name": "stderr",
     "output_type": "stream",
     "text": [
      "     55/100      1.96G    0.02468          7        640: 100%|██████████| 44/44 [00:03<00:00, 13.02it/s]\n",
      "               classes   top1_acc   top5_acc: 100%|██████████| 6/6 [00:00<00:00, 21.27it/s]"
     ]
    },
    {
     "name": "stdout",
     "output_type": "stream",
     "text": [
      "                   all      0.989          1\n"
     ]
    },
    {
     "name": "stderr",
     "output_type": "stream",
     "text": [
      "\n"
     ]
    },
    {
     "name": "stdout",
     "output_type": "stream",
     "text": [
      "\n",
      "      Epoch    GPU_mem       loss  Instances       Size\n"
     ]
    },
    {
     "name": "stderr",
     "output_type": "stream",
     "text": [
      "     56/100      1.96G    0.02728          7        640: 100%|██████████| 44/44 [00:03<00:00, 12.87it/s]\n",
      "               classes   top1_acc   top5_acc: 100%|██████████| 6/6 [00:00<00:00, 20.17it/s]"
     ]
    },
    {
     "name": "stdout",
     "output_type": "stream",
     "text": [
      "                   all      0.983          1\n"
     ]
    },
    {
     "name": "stderr",
     "output_type": "stream",
     "text": [
      "\n"
     ]
    },
    {
     "name": "stdout",
     "output_type": "stream",
     "text": [
      "\n",
      "      Epoch    GPU_mem       loss  Instances       Size\n"
     ]
    },
    {
     "name": "stderr",
     "output_type": "stream",
     "text": [
      "     57/100      1.96G     0.0159          7        640: 100%|██████████| 44/44 [00:03<00:00, 12.58it/s]\n",
      "               classes   top1_acc   top5_acc: 100%|██████████| 6/6 [00:00<00:00, 19.91it/s]"
     ]
    },
    {
     "name": "stdout",
     "output_type": "stream",
     "text": [
      "                   all      0.989          1\n"
     ]
    },
    {
     "name": "stderr",
     "output_type": "stream",
     "text": [
      "\n"
     ]
    },
    {
     "name": "stdout",
     "output_type": "stream",
     "text": [
      "\n",
      "      Epoch    GPU_mem       loss  Instances       Size\n"
     ]
    },
    {
     "name": "stderr",
     "output_type": "stream",
     "text": [
      "     58/100      1.96G    0.01642          7        640: 100%|██████████| 44/44 [00:03<00:00, 12.89it/s]\n",
      "               classes   top1_acc   top5_acc: 100%|██████████| 6/6 [00:00<00:00, 21.38it/s]"
     ]
    },
    {
     "name": "stdout",
     "output_type": "stream",
     "text": [
      "                   all      0.989          1\n",
      "\u001b[34m\u001b[1mEarlyStopping: \u001b[0mTraining stopped early as no improvement observed in last 25 epochs. Best results observed at epoch 33, best model saved as best.pt.\n",
      "To update EarlyStopping(patience=25) pass a new patience value, i.e. `patience=300` or use `patience=0` to disable EarlyStopping.\n"
     ]
    },
    {
     "name": "stderr",
     "output_type": "stream",
     "text": [
      "\n"
     ]
    },
    {
     "name": "stdout",
     "output_type": "stream",
     "text": [
      "\n",
      "58 epochs completed in 0.068 hours.\n",
      "Optimizer stripped from C:\\Users\\jazzb\\ImageDetection-Yolov11\\Road_Damage\\folds\\fold_2\\results2\\weights\\last.pt, 3.2MB\n",
      "Optimizer stripped from C:\\Users\\jazzb\\ImageDetection-Yolov11\\Road_Damage\\folds\\fold_2\\results2\\weights\\best.pt, 3.2MB\n",
      "\n",
      "Validating C:\\Users\\jazzb\\ImageDetection-Yolov11\\Road_Damage\\folds\\fold_2\\results2\\weights\\best.pt...\n",
      "Ultralytics 8.3.133  Python-3.9.21 torch-2.5.1+cu121 CUDA:0 (NVIDIA GeForce RTX 4060 Laptop GPU, 8188MiB)\n",
      "YOLO11n-cls summary (fused): 47 layers, 1,532,429 parameters, 0 gradients, 3.2 GFLOPs\n",
      "\u001b[34m\u001b[1mtrain:\u001b[0m C:\\Users\\jazzb\\ImageDetection-Yolov11\\Road_Damage\\folds\\fold_2\\train... found 695 images in 5 classes  \n",
      "\u001b[34m\u001b[1mval:\u001b[0m C:\\Users\\jazzb\\ImageDetection-Yolov11\\Road_Damage\\folds\\fold_2\\val... found 174 images in 5 classes  \n",
      "\u001b[34m\u001b[1mtest:\u001b[0m C:\\Users\\jazzb\\ImageDetection-Yolov11\\Road_Damage\\folds\\fold_2\\test... found 43 images in 5 classes  \n"
     ]
    },
    {
     "name": "stderr",
     "output_type": "stream",
     "text": [
      "               classes   top1_acc   top5_acc: 100%|██████████| 6/6 [00:00<00:00, 12.10it/s]\n"
     ]
    },
    {
     "name": "stdout",
     "output_type": "stream",
     "text": [
      "                   all      0.994          1\n",
      "Speed: 0.5ms preprocess, 2.1ms inference, 0.0ms loss, 0.0ms postprocess per image\n",
      "Results saved to \u001b[1mC:\\Users\\jazzb\\ImageDetection-Yolov11\\Road_Damage\\folds\\fold_2\\results2\u001b[0m\n",
      "--- Fold 2 complete. Best weights in C:\\Users\\jazzb\\ImageDetection-Yolov11\\Road_Damage\\folds\\fold_2/results ---\n",
      "\n",
      "=== Training Fold 3/5 on folder C:\\Users\\jazzb\\ImageDetection-Yolov11\\Road_Damage\\folds\\fold_3 ===\n",
      "New https://pypi.org/project/ultralytics/8.3.134 available  Update with 'pip install -U ultralytics'\n",
      "Ultralytics 8.3.133  Python-3.9.21 torch-2.5.1+cu121 CUDA:0 (NVIDIA GeForce RTX 4060 Laptop GPU, 8188MiB)\n",
      "\u001b[34m\u001b[1mengine\\trainer: \u001b[0magnostic_nms=False, amp=True, augment=False, auto_augment=randaugment, batch=16, bgr=0.0, box=7.5, cache=False, cfg=None, classes=None, close_mosaic=10, cls=0.5, conf=None, copy_paste=0.0, copy_paste_mode=flip, cos_lr=False, cutmix=0.0, data=C:\\Users\\jazzb\\ImageDetection-Yolov11\\Road_Damage\\folds\\fold_3, degrees=0.0, deterministic=True, device=0, dfl=1.5, dnn=False, dropout=0.0, dynamic=False, embed=None, epochs=100, erasing=0.4, exist_ok=False, fliplr=0.5, flipud=0.0, format=torchscript, fraction=1.0, freeze=None, half=False, hsv_h=0.015, hsv_s=0.7, hsv_v=0.4, imgsz=640, int8=False, iou=0.7, keras=False, kobj=1.0, line_width=None, lr0=0.01, lrf=0.01, mask_ratio=4, max_det=300, mixup=0.0, mode=train, model=models\\yolo11n-cls.pt, momentum=0.937, mosaic=1.0, multi_scale=False, name=results2, nbs=64, nms=False, opset=None, optimize=False, optimizer=auto, overlap_mask=True, patience=25, perspective=0.0, plots=True, pose=12.0, pretrained=True, profile=False, project=C:\\Users\\jazzb\\ImageDetection-Yolov11\\Road_Damage\\folds\\fold_3, rect=False, resume=False, retina_masks=False, save=True, save_conf=False, save_crop=False, save_dir=C:\\Users\\jazzb\\ImageDetection-Yolov11\\Road_Damage\\folds\\fold_3\\results2, save_frames=False, save_json=False, save_period=-1, save_txt=False, scale=0.5, seed=0, shear=0.0, show=False, show_boxes=True, show_conf=True, show_labels=True, simplify=True, single_cls=False, source=None, split=val, stream_buffer=False, task=classify, time=None, tracker=botsort.yaml, translate=0.1, val=True, verbose=True, vid_stride=1, visualize=False, warmup_bias_lr=0.1, warmup_epochs=3.0, warmup_momentum=0.8, weight_decay=0.0005, workers=8, workspace=None\n",
      "\u001b[34m\u001b[1mtrain:\u001b[0m C:\\Users\\jazzb\\ImageDetection-Yolov11\\Road_Damage\\folds\\fold_3\\train... found 695 images in 5 classes  \n",
      "\u001b[34m\u001b[1mval:\u001b[0m C:\\Users\\jazzb\\ImageDetection-Yolov11\\Road_Damage\\folds\\fold_3\\val... found 174 images in 5 classes  \n",
      "\u001b[34m\u001b[1mtest:\u001b[0m C:\\Users\\jazzb\\ImageDetection-Yolov11\\Road_Damage\\folds\\fold_3\\test... found 43 images in 5 classes  \n",
      "Overriding model.yaml nc=80 with nc=5\n",
      "\n",
      "                   from  n    params  module                                       arguments                     \n",
      "  0                  -1  1       464  ultralytics.nn.modules.conv.Conv             [3, 16, 3, 2]                 \n",
      "  1                  -1  1      4672  ultralytics.nn.modules.conv.Conv             [16, 32, 3, 2]                \n",
      "  2                  -1  1      6640  ultralytics.nn.modules.block.C3k2            [32, 64, 1, False, 0.25]      \n",
      "  3                  -1  1     36992  ultralytics.nn.modules.conv.Conv             [64, 64, 3, 2]                \n",
      "  4                  -1  1     26080  ultralytics.nn.modules.block.C3k2            [64, 128, 1, False, 0.25]     \n",
      "  5                  -1  1    147712  ultralytics.nn.modules.conv.Conv             [128, 128, 3, 2]              \n",
      "  6                  -1  1     87040  ultralytics.nn.modules.block.C3k2            [128, 128, 1, True]           \n",
      "  7                  -1  1    295424  ultralytics.nn.modules.conv.Conv             [128, 256, 3, 2]              \n",
      "  8                  -1  1    346112  ultralytics.nn.modules.block.C3k2            [256, 256, 1, True]           \n",
      "  9                  -1  1    249728  ultralytics.nn.modules.block.C2PSA           [256, 256, 1]                 \n",
      " 10                  -1  1    336645  ultralytics.nn.modules.head.Classify         [256, 5]                      \n",
      "YOLO11n-cls summary: 86 layers, 1,537,509 parameters, 1,537,509 gradients, 3.3 GFLOPs\n",
      "Transferred 234/236 items from pretrained weights\n",
      "\u001b[34m\u001b[1mAMP: \u001b[0mrunning Automatic Mixed Precision (AMP) checks...\n",
      "\u001b[34m\u001b[1mAMP: \u001b[0mchecks passed \n",
      "\u001b[34m\u001b[1mtrain: \u001b[0mFast image access  (ping: 0.10.1 ms, read: 373.388.8 MB/s, size: 166.1 KB)\n"
     ]
    },
    {
     "name": "stderr",
     "output_type": "stream",
     "text": [
      "\u001b[34m\u001b[1mtrain: \u001b[0mScanning C:\\Users\\jazzb\\ImageDetection-Yolov11\\Road_Damage\\folds\\fold_3\\train... 695 images, 0 corrupt: 100%|██████████| 695/695 [00:00<?, ?it/s]\n"
     ]
    },
    {
     "name": "stdout",
     "output_type": "stream",
     "text": [
      "\u001b[34m\u001b[1mval: \u001b[0mFast image access  (ping: 0.20.2 ms, read: 310.382.8 MB/s, size: 204.4 KB)\n"
     ]
    },
    {
     "name": "stderr",
     "output_type": "stream",
     "text": [
      "\u001b[34m\u001b[1mval: \u001b[0mScanning C:\\Users\\jazzb\\ImageDetection-Yolov11\\Road_Damage\\folds\\fold_3\\val... 174 images, 0 corrupt: 100%|██████████| 174/174 [00:00<?, ?it/s]\n"
     ]
    },
    {
     "name": "stdout",
     "output_type": "stream",
     "text": [
      "\u001b[34m\u001b[1moptimizer:\u001b[0m 'optimizer=auto' found, ignoring 'lr0=0.01' and 'momentum=0.937' and determining best 'optimizer', 'lr0' and 'momentum' automatically... \n",
      "\u001b[34m\u001b[1moptimizer:\u001b[0m AdamW(lr=0.001111, momentum=0.9) with parameter groups 39 weight(decay=0.0), 40 weight(decay=0.0005), 40 bias(decay=0.0)\n",
      "Image sizes 640 train, 640 val\n",
      "Using 8 dataloader workers\n",
      "Logging results to \u001b[1mC:\\Users\\jazzb\\ImageDetection-Yolov11\\Road_Damage\\folds\\fold_3\\results2\u001b[0m\n",
      "Starting training for 100 epochs...\n",
      "\n",
      "      Epoch    GPU_mem       loss  Instances       Size\n"
     ]
    },
    {
     "name": "stderr",
     "output_type": "stream",
     "text": [
      "      1/100      1.89G      1.114          7        640: 100%|██████████| 44/44 [00:10<00:00,  4.29it/s]\n",
      "               classes   top1_acc   top5_acc: 100%|██████████| 6/6 [00:00<00:00, 15.85it/s]"
     ]
    },
    {
     "name": "stdout",
     "output_type": "stream",
     "text": [
      "                   all      0.839          1\n"
     ]
    },
    {
     "name": "stderr",
     "output_type": "stream",
     "text": [
      "\n"
     ]
    },
    {
     "name": "stdout",
     "output_type": "stream",
     "text": [
      "\n",
      "      Epoch    GPU_mem       loss  Instances       Size\n"
     ]
    },
    {
     "name": "stderr",
     "output_type": "stream",
     "text": [
      "      2/100      2.13G     0.4016          7        640: 100%|██████████| 44/44 [00:04<00:00, 10.84it/s]\n",
      "               classes   top1_acc   top5_acc: 100%|██████████| 6/6 [00:00<00:00, 19.49it/s]"
     ]
    },
    {
     "name": "stdout",
     "output_type": "stream",
     "text": [
      "                   all       0.92          1\n"
     ]
    },
    {
     "name": "stderr",
     "output_type": "stream",
     "text": [
      "\n"
     ]
    },
    {
     "name": "stdout",
     "output_type": "stream",
     "text": [
      "\n",
      "      Epoch    GPU_mem       loss  Instances       Size\n"
     ]
    },
    {
     "name": "stderr",
     "output_type": "stream",
     "text": [
      "      3/100      2.14G     0.2896          7        640: 100%|██████████| 44/44 [00:03<00:00, 12.13it/s]\n",
      "               classes   top1_acc   top5_acc: 100%|██████████| 6/6 [00:00<00:00, 20.82it/s]"
     ]
    },
    {
     "name": "stdout",
     "output_type": "stream",
     "text": [
      "                   all      0.914          1\n"
     ]
    },
    {
     "name": "stderr",
     "output_type": "stream",
     "text": [
      "\n"
     ]
    },
    {
     "name": "stdout",
     "output_type": "stream",
     "text": [
      "\n",
      "      Epoch    GPU_mem       loss  Instances       Size\n"
     ]
    },
    {
     "name": "stderr",
     "output_type": "stream",
     "text": [
      "      4/100      2.14G     0.2636          7        640: 100%|██████████| 44/44 [00:03<00:00, 11.78it/s]\n",
      "               classes   top1_acc   top5_acc: 100%|██████████| 6/6 [00:00<00:00, 19.86it/s]"
     ]
    },
    {
     "name": "stdout",
     "output_type": "stream",
     "text": [
      "                   all       0.92          1\n"
     ]
    },
    {
     "name": "stderr",
     "output_type": "stream",
     "text": [
      "\n"
     ]
    },
    {
     "name": "stdout",
     "output_type": "stream",
     "text": [
      "\n",
      "      Epoch    GPU_mem       loss  Instances       Size\n"
     ]
    },
    {
     "name": "stderr",
     "output_type": "stream",
     "text": [
      "      5/100      2.14G     0.2187          7        640: 100%|██████████| 44/44 [00:03<00:00, 12.17it/s]\n",
      "               classes   top1_acc   top5_acc: 100%|██████████| 6/6 [00:00<00:00, 23.14it/s]"
     ]
    },
    {
     "name": "stdout",
     "output_type": "stream",
     "text": [
      "                   all      0.971          1\n"
     ]
    },
    {
     "name": "stderr",
     "output_type": "stream",
     "text": [
      "\n"
     ]
    },
    {
     "name": "stdout",
     "output_type": "stream",
     "text": [
      "\n",
      "      Epoch    GPU_mem       loss  Instances       Size\n"
     ]
    },
    {
     "name": "stderr",
     "output_type": "stream",
     "text": [
      "      6/100      2.14G     0.2303          7        640: 100%|██████████| 44/44 [00:03<00:00, 12.68it/s]\n",
      "               classes   top1_acc   top5_acc: 100%|██████████| 6/6 [00:00<00:00, 20.16it/s]"
     ]
    },
    {
     "name": "stdout",
     "output_type": "stream",
     "text": [
      "                   all      0.948          1\n"
     ]
    },
    {
     "name": "stderr",
     "output_type": "stream",
     "text": [
      "\n"
     ]
    },
    {
     "name": "stdout",
     "output_type": "stream",
     "text": [
      "\n",
      "      Epoch    GPU_mem       loss  Instances       Size\n"
     ]
    },
    {
     "name": "stderr",
     "output_type": "stream",
     "text": [
      "      7/100      2.14G     0.2181          7        640: 100%|██████████| 44/44 [00:03<00:00, 13.02it/s]\n",
      "               classes   top1_acc   top5_acc: 100%|██████████| 6/6 [00:00<00:00, 21.97it/s]"
     ]
    },
    {
     "name": "stdout",
     "output_type": "stream",
     "text": [
      "                   all       0.92          1\n"
     ]
    },
    {
     "name": "stderr",
     "output_type": "stream",
     "text": [
      "\n"
     ]
    },
    {
     "name": "stdout",
     "output_type": "stream",
     "text": [
      "\n",
      "      Epoch    GPU_mem       loss  Instances       Size\n"
     ]
    },
    {
     "name": "stderr",
     "output_type": "stream",
     "text": [
      "      8/100      2.14G     0.2003          7        640: 100%|██████████| 44/44 [00:03<00:00, 12.81it/s]\n",
      "               classes   top1_acc   top5_acc: 100%|██████████| 6/6 [00:00<00:00, 20.32it/s]"
     ]
    },
    {
     "name": "stdout",
     "output_type": "stream",
     "text": [
      "                   all      0.931          1\n"
     ]
    },
    {
     "name": "stderr",
     "output_type": "stream",
     "text": [
      "\n"
     ]
    },
    {
     "name": "stdout",
     "output_type": "stream",
     "text": [
      "\n",
      "      Epoch    GPU_mem       loss  Instances       Size\n"
     ]
    },
    {
     "name": "stderr",
     "output_type": "stream",
     "text": [
      "      9/100      2.14G     0.1925          7        640: 100%|██████████| 44/44 [00:03<00:00, 12.67it/s]\n",
      "               classes   top1_acc   top5_acc: 100%|██████████| 6/6 [00:00<00:00, 20.61it/s]"
     ]
    },
    {
     "name": "stdout",
     "output_type": "stream",
     "text": [
      "                   all      0.943          1\n"
     ]
    },
    {
     "name": "stderr",
     "output_type": "stream",
     "text": [
      "\n"
     ]
    },
    {
     "name": "stdout",
     "output_type": "stream",
     "text": [
      "\n",
      "      Epoch    GPU_mem       loss  Instances       Size\n"
     ]
    },
    {
     "name": "stderr",
     "output_type": "stream",
     "text": [
      "     10/100      2.14G     0.1694          7        640: 100%|██████████| 44/44 [00:03<00:00, 12.25it/s]\n",
      "               classes   top1_acc   top5_acc: 100%|██████████| 6/6 [00:00<00:00, 18.82it/s]\n"
     ]
    },
    {
     "name": "stdout",
     "output_type": "stream",
     "text": [
      "                   all      0.966          1\n",
      "\n",
      "      Epoch    GPU_mem       loss  Instances       Size\n"
     ]
    },
    {
     "name": "stderr",
     "output_type": "stream",
     "text": [
      "     11/100      2.14G     0.1706          7        640: 100%|██████████| 44/44 [00:03<00:00, 12.62it/s]\n",
      "               classes   top1_acc   top5_acc: 100%|██████████| 6/6 [00:00<00:00, 20.76it/s]"
     ]
    },
    {
     "name": "stdout",
     "output_type": "stream",
     "text": [
      "                   all      0.891          1\n"
     ]
    },
    {
     "name": "stderr",
     "output_type": "stream",
     "text": [
      "\n"
     ]
    },
    {
     "name": "stdout",
     "output_type": "stream",
     "text": [
      "\n",
      "      Epoch    GPU_mem       loss  Instances       Size\n"
     ]
    },
    {
     "name": "stderr",
     "output_type": "stream",
     "text": [
      "     12/100      2.14G     0.1926          7        640: 100%|██████████| 44/44 [00:03<00:00, 12.60it/s]\n",
      "               classes   top1_acc   top5_acc: 100%|██████████| 6/6 [00:00<00:00, 20.64it/s]"
     ]
    },
    {
     "name": "stdout",
     "output_type": "stream",
     "text": [
      "                   all       0.96          1\n"
     ]
    },
    {
     "name": "stderr",
     "output_type": "stream",
     "text": [
      "\n"
     ]
    },
    {
     "name": "stdout",
     "output_type": "stream",
     "text": [
      "\n",
      "      Epoch    GPU_mem       loss  Instances       Size\n"
     ]
    },
    {
     "name": "stderr",
     "output_type": "stream",
     "text": [
      "     13/100      2.14G     0.1563          7        640: 100%|██████████| 44/44 [00:03<00:00, 12.27it/s]\n",
      "               classes   top1_acc   top5_acc: 100%|██████████| 6/6 [00:00<00:00, 20.97it/s]"
     ]
    },
    {
     "name": "stdout",
     "output_type": "stream",
     "text": [
      "                   all          1          1\n"
     ]
    },
    {
     "name": "stderr",
     "output_type": "stream",
     "text": [
      "\n"
     ]
    },
    {
     "name": "stdout",
     "output_type": "stream",
     "text": [
      "\n",
      "      Epoch    GPU_mem       loss  Instances       Size\n"
     ]
    },
    {
     "name": "stderr",
     "output_type": "stream",
     "text": [
      "     14/100      2.14G     0.1401          7        640: 100%|██████████| 44/44 [00:03<00:00, 12.58it/s]\n",
      "               classes   top1_acc   top5_acc: 100%|██████████| 6/6 [00:00<00:00, 21.14it/s]"
     ]
    },
    {
     "name": "stdout",
     "output_type": "stream",
     "text": [
      "                   all      0.977          1\n"
     ]
    },
    {
     "name": "stderr",
     "output_type": "stream",
     "text": [
      "\n"
     ]
    },
    {
     "name": "stdout",
     "output_type": "stream",
     "text": [
      "\n",
      "      Epoch    GPU_mem       loss  Instances       Size\n"
     ]
    },
    {
     "name": "stderr",
     "output_type": "stream",
     "text": [
      "     15/100      2.14G    0.07857          7        640: 100%|██████████| 44/44 [00:03<00:00, 12.30it/s]\n",
      "               classes   top1_acc   top5_acc: 100%|██████████| 6/6 [00:00<00:00, 21.10it/s]"
     ]
    },
    {
     "name": "stdout",
     "output_type": "stream",
     "text": [
      "                   all       0.96          1\n"
     ]
    },
    {
     "name": "stderr",
     "output_type": "stream",
     "text": [
      "\n"
     ]
    },
    {
     "name": "stdout",
     "output_type": "stream",
     "text": [
      "\n",
      "      Epoch    GPU_mem       loss  Instances       Size\n"
     ]
    },
    {
     "name": "stderr",
     "output_type": "stream",
     "text": [
      "     16/100      2.14G    0.09385          7        640: 100%|██████████| 44/44 [00:03<00:00, 12.54it/s]\n",
      "               classes   top1_acc   top5_acc: 100%|██████████| 6/6 [00:00<00:00, 22.14it/s]"
     ]
    },
    {
     "name": "stdout",
     "output_type": "stream",
     "text": [
      "                   all      0.994          1\n"
     ]
    },
    {
     "name": "stderr",
     "output_type": "stream",
     "text": [
      "\n"
     ]
    },
    {
     "name": "stdout",
     "output_type": "stream",
     "text": [
      "\n",
      "      Epoch    GPU_mem       loss  Instances       Size\n"
     ]
    },
    {
     "name": "stderr",
     "output_type": "stream",
     "text": [
      "     17/100      2.14G     0.1091          7        640: 100%|██████████| 44/44 [00:03<00:00, 12.72it/s]\n",
      "               classes   top1_acc   top5_acc: 100%|██████████| 6/6 [00:00<00:00, 20.67it/s]"
     ]
    },
    {
     "name": "stdout",
     "output_type": "stream",
     "text": [
      "                   all      0.977          1\n"
     ]
    },
    {
     "name": "stderr",
     "output_type": "stream",
     "text": [
      "\n"
     ]
    },
    {
     "name": "stdout",
     "output_type": "stream",
     "text": [
      "\n",
      "      Epoch    GPU_mem       loss  Instances       Size\n"
     ]
    },
    {
     "name": "stderr",
     "output_type": "stream",
     "text": [
      "     18/100      2.14G     0.0701          7        640: 100%|██████████| 44/44 [00:03<00:00, 12.79it/s]\n",
      "               classes   top1_acc   top5_acc: 100%|██████████| 6/6 [00:00<00:00, 20.52it/s]"
     ]
    },
    {
     "name": "stdout",
     "output_type": "stream",
     "text": [
      "                   all      0.994          1\n"
     ]
    },
    {
     "name": "stderr",
     "output_type": "stream",
     "text": [
      "\n"
     ]
    },
    {
     "name": "stdout",
     "output_type": "stream",
     "text": [
      "\n",
      "      Epoch    GPU_mem       loss  Instances       Size\n"
     ]
    },
    {
     "name": "stderr",
     "output_type": "stream",
     "text": [
      "     19/100      2.14G     0.1127          7        640: 100%|██████████| 44/44 [00:03<00:00, 13.04it/s]\n",
      "               classes   top1_acc   top5_acc: 100%|██████████| 6/6 [00:00<00:00, 21.24it/s]"
     ]
    },
    {
     "name": "stdout",
     "output_type": "stream",
     "text": [
      "                   all      0.989          1\n"
     ]
    },
    {
     "name": "stderr",
     "output_type": "stream",
     "text": [
      "\n"
     ]
    },
    {
     "name": "stdout",
     "output_type": "stream",
     "text": [
      "\n",
      "      Epoch    GPU_mem       loss  Instances       Size\n"
     ]
    },
    {
     "name": "stderr",
     "output_type": "stream",
     "text": [
      "     20/100      2.14G    0.08098          7        640: 100%|██████████| 44/44 [00:03<00:00, 12.95it/s]\n",
      "               classes   top1_acc   top5_acc: 100%|██████████| 6/6 [00:00<00:00, 21.67it/s]"
     ]
    },
    {
     "name": "stdout",
     "output_type": "stream",
     "text": [
      "                   all      0.989          1\n"
     ]
    },
    {
     "name": "stderr",
     "output_type": "stream",
     "text": [
      "\n"
     ]
    },
    {
     "name": "stdout",
     "output_type": "stream",
     "text": [
      "\n",
      "      Epoch    GPU_mem       loss  Instances       Size\n"
     ]
    },
    {
     "name": "stderr",
     "output_type": "stream",
     "text": [
      "     21/100      2.14G     0.1013          7        640: 100%|██████████| 44/44 [00:03<00:00, 12.75it/s]\n",
      "               classes   top1_acc   top5_acc: 100%|██████████| 6/6 [00:00<00:00, 20.24it/s]"
     ]
    },
    {
     "name": "stdout",
     "output_type": "stream",
     "text": [
      "                   all      0.971          1\n"
     ]
    },
    {
     "name": "stderr",
     "output_type": "stream",
     "text": [
      "\n"
     ]
    },
    {
     "name": "stdout",
     "output_type": "stream",
     "text": [
      "\n",
      "      Epoch    GPU_mem       loss  Instances       Size\n"
     ]
    },
    {
     "name": "stderr",
     "output_type": "stream",
     "text": [
      "     22/100      2.14G     0.1027          7        640: 100%|██████████| 44/44 [00:03<00:00, 13.07it/s]\n",
      "               classes   top1_acc   top5_acc: 100%|██████████| 6/6 [00:00<00:00, 20.70it/s]"
     ]
    },
    {
     "name": "stdout",
     "output_type": "stream",
     "text": [
      "                   all      0.977          1\n"
     ]
    },
    {
     "name": "stderr",
     "output_type": "stream",
     "text": [
      "\n"
     ]
    },
    {
     "name": "stdout",
     "output_type": "stream",
     "text": [
      "\n",
      "      Epoch    GPU_mem       loss  Instances       Size\n"
     ]
    },
    {
     "name": "stderr",
     "output_type": "stream",
     "text": [
      "     23/100      2.14G    0.07943          7        640: 100%|██████████| 44/44 [00:03<00:00, 12.97it/s]\n",
      "               classes   top1_acc   top5_acc: 100%|██████████| 6/6 [00:00<00:00, 20.69it/s]"
     ]
    },
    {
     "name": "stdout",
     "output_type": "stream",
     "text": [
      "                   all      0.977          1\n"
     ]
    },
    {
     "name": "stderr",
     "output_type": "stream",
     "text": [
      "\n"
     ]
    },
    {
     "name": "stdout",
     "output_type": "stream",
     "text": [
      "\n",
      "      Epoch    GPU_mem       loss  Instances       Size\n"
     ]
    },
    {
     "name": "stderr",
     "output_type": "stream",
     "text": [
      "     24/100      2.14G    0.07861          7        640: 100%|██████████| 44/44 [00:03<00:00, 13.06it/s]\n",
      "               classes   top1_acc   top5_acc: 100%|██████████| 6/6 [00:00<00:00, 20.30it/s]"
     ]
    },
    {
     "name": "stdout",
     "output_type": "stream",
     "text": [
      "                   all      0.977          1\n"
     ]
    },
    {
     "name": "stderr",
     "output_type": "stream",
     "text": [
      "\n"
     ]
    },
    {
     "name": "stdout",
     "output_type": "stream",
     "text": [
      "\n",
      "      Epoch    GPU_mem       loss  Instances       Size\n"
     ]
    },
    {
     "name": "stderr",
     "output_type": "stream",
     "text": [
      "     25/100      2.14G    0.08162          7        640: 100%|██████████| 44/44 [00:03<00:00, 12.51it/s]\n",
      "               classes   top1_acc   top5_acc: 100%|██████████| 6/6 [00:00<00:00, 21.00it/s]"
     ]
    },
    {
     "name": "stdout",
     "output_type": "stream",
     "text": [
      "                   all      0.966          1\n"
     ]
    },
    {
     "name": "stderr",
     "output_type": "stream",
     "text": [
      "\n"
     ]
    },
    {
     "name": "stdout",
     "output_type": "stream",
     "text": [
      "\n",
      "      Epoch    GPU_mem       loss  Instances       Size\n"
     ]
    },
    {
     "name": "stderr",
     "output_type": "stream",
     "text": [
      "     26/100      2.14G    0.05994          7        640: 100%|██████████| 44/44 [00:03<00:00, 12.60it/s]\n",
      "               classes   top1_acc   top5_acc: 100%|██████████| 6/6 [00:00<00:00, 21.19it/s]"
     ]
    },
    {
     "name": "stdout",
     "output_type": "stream",
     "text": [
      "                   all      0.977          1\n"
     ]
    },
    {
     "name": "stderr",
     "output_type": "stream",
     "text": [
      "\n"
     ]
    },
    {
     "name": "stdout",
     "output_type": "stream",
     "text": [
      "\n",
      "      Epoch    GPU_mem       loss  Instances       Size\n"
     ]
    },
    {
     "name": "stderr",
     "output_type": "stream",
     "text": [
      "     27/100      2.14G    0.06697          7        640: 100%|██████████| 44/44 [00:03<00:00, 13.02it/s]\n",
      "               classes   top1_acc   top5_acc: 100%|██████████| 6/6 [00:00<00:00, 20.95it/s]"
     ]
    },
    {
     "name": "stdout",
     "output_type": "stream",
     "text": [
      "                   all      0.977          1\n"
     ]
    },
    {
     "name": "stderr",
     "output_type": "stream",
     "text": [
      "\n"
     ]
    },
    {
     "name": "stdout",
     "output_type": "stream",
     "text": [
      "\n",
      "      Epoch    GPU_mem       loss  Instances       Size\n"
     ]
    },
    {
     "name": "stderr",
     "output_type": "stream",
     "text": [
      "     28/100      2.14G    0.05307          7        640: 100%|██████████| 44/44 [00:03<00:00, 12.93it/s]\n",
      "               classes   top1_acc   top5_acc: 100%|██████████| 6/6 [00:00<00:00, 21.14it/s]"
     ]
    },
    {
     "name": "stdout",
     "output_type": "stream",
     "text": [
      "                   all      0.989          1\n"
     ]
    },
    {
     "name": "stderr",
     "output_type": "stream",
     "text": [
      "\n"
     ]
    },
    {
     "name": "stdout",
     "output_type": "stream",
     "text": [
      "\n",
      "      Epoch    GPU_mem       loss  Instances       Size\n"
     ]
    },
    {
     "name": "stderr",
     "output_type": "stream",
     "text": [
      "     29/100      2.14G     0.0497          7        640: 100%|██████████| 44/44 [00:03<00:00, 12.12it/s]\n",
      "               classes   top1_acc   top5_acc: 100%|██████████| 6/6 [00:00<00:00, 18.89it/s]"
     ]
    },
    {
     "name": "stdout",
     "output_type": "stream",
     "text": [
      "                   all      0.983          1\n"
     ]
    },
    {
     "name": "stderr",
     "output_type": "stream",
     "text": [
      "\n"
     ]
    },
    {
     "name": "stdout",
     "output_type": "stream",
     "text": [
      "\n",
      "      Epoch    GPU_mem       loss  Instances       Size\n"
     ]
    },
    {
     "name": "stderr",
     "output_type": "stream",
     "text": [
      "     30/100      2.14G    0.06176          7        640: 100%|██████████| 44/44 [00:03<00:00, 12.10it/s]\n",
      "               classes   top1_acc   top5_acc: 100%|██████████| 6/6 [00:00<00:00, 19.87it/s]"
     ]
    },
    {
     "name": "stdout",
     "output_type": "stream",
     "text": [
      "                   all      0.977          1\n"
     ]
    },
    {
     "name": "stderr",
     "output_type": "stream",
     "text": [
      "\n"
     ]
    },
    {
     "name": "stdout",
     "output_type": "stream",
     "text": [
      "\n",
      "      Epoch    GPU_mem       loss  Instances       Size\n"
     ]
    },
    {
     "name": "stderr",
     "output_type": "stream",
     "text": [
      "     31/100      2.14G    0.06013          7        640: 100%|██████████| 44/44 [00:03<00:00, 12.97it/s]\n",
      "               classes   top1_acc   top5_acc: 100%|██████████| 6/6 [00:00<00:00, 21.18it/s]"
     ]
    },
    {
     "name": "stdout",
     "output_type": "stream",
     "text": [
      "                   all       0.96          1\n"
     ]
    },
    {
     "name": "stderr",
     "output_type": "stream",
     "text": [
      "\n"
     ]
    },
    {
     "name": "stdout",
     "output_type": "stream",
     "text": [
      "\n",
      "      Epoch    GPU_mem       loss  Instances       Size\n"
     ]
    },
    {
     "name": "stderr",
     "output_type": "stream",
     "text": [
      "     32/100      2.14G    0.04484          7        640: 100%|██████████| 44/44 [00:03<00:00, 12.67it/s]\n",
      "               classes   top1_acc   top5_acc: 100%|██████████| 6/6 [00:00<00:00, 20.69it/s]"
     ]
    },
    {
     "name": "stdout",
     "output_type": "stream",
     "text": [
      "                   all      0.977          1\n"
     ]
    },
    {
     "name": "stderr",
     "output_type": "stream",
     "text": [
      "\n"
     ]
    },
    {
     "name": "stdout",
     "output_type": "stream",
     "text": [
      "\n",
      "      Epoch    GPU_mem       loss  Instances       Size\n"
     ]
    },
    {
     "name": "stderr",
     "output_type": "stream",
     "text": [
      "     33/100      2.14G    0.05005          7        640: 100%|██████████| 44/44 [00:03<00:00, 12.03it/s]\n",
      "               classes   top1_acc   top5_acc: 100%|██████████| 6/6 [00:00<00:00, 20.78it/s]"
     ]
    },
    {
     "name": "stdout",
     "output_type": "stream",
     "text": [
      "                   all      0.989          1\n"
     ]
    },
    {
     "name": "stderr",
     "output_type": "stream",
     "text": [
      "\n"
     ]
    },
    {
     "name": "stdout",
     "output_type": "stream",
     "text": [
      "\n",
      "      Epoch    GPU_mem       loss  Instances       Size\n"
     ]
    },
    {
     "name": "stderr",
     "output_type": "stream",
     "text": [
      "     34/100      2.14G    0.07195          7        640: 100%|██████████| 44/44 [00:03<00:00, 12.47it/s]\n",
      "               classes   top1_acc   top5_acc: 100%|██████████| 6/6 [00:00<00:00, 21.01it/s]"
     ]
    },
    {
     "name": "stdout",
     "output_type": "stream",
     "text": [
      "                   all      0.983          1\n"
     ]
    },
    {
     "name": "stderr",
     "output_type": "stream",
     "text": [
      "\n"
     ]
    },
    {
     "name": "stdout",
     "output_type": "stream",
     "text": [
      "\n",
      "      Epoch    GPU_mem       loss  Instances       Size\n"
     ]
    },
    {
     "name": "stderr",
     "output_type": "stream",
     "text": [
      "     35/100      2.14G    0.06117          7        640: 100%|██████████| 44/44 [00:03<00:00, 12.71it/s]\n",
      "               classes   top1_acc   top5_acc: 100%|██████████| 6/6 [00:00<00:00, 19.97it/s]"
     ]
    },
    {
     "name": "stdout",
     "output_type": "stream",
     "text": [
      "                   all      0.989          1\n"
     ]
    },
    {
     "name": "stderr",
     "output_type": "stream",
     "text": [
      "\n"
     ]
    },
    {
     "name": "stdout",
     "output_type": "stream",
     "text": [
      "\n",
      "      Epoch    GPU_mem       loss  Instances       Size\n"
     ]
    },
    {
     "name": "stderr",
     "output_type": "stream",
     "text": [
      "     36/100      2.14G    0.05391          7        640: 100%|██████████| 44/44 [00:03<00:00, 12.81it/s]\n",
      "               classes   top1_acc   top5_acc: 100%|██████████| 6/6 [00:00<00:00, 20.86it/s]"
     ]
    },
    {
     "name": "stdout",
     "output_type": "stream",
     "text": [
      "                   all      0.989          1\n"
     ]
    },
    {
     "name": "stderr",
     "output_type": "stream",
     "text": [
      "\n"
     ]
    },
    {
     "name": "stdout",
     "output_type": "stream",
     "text": [
      "\n",
      "      Epoch    GPU_mem       loss  Instances       Size\n"
     ]
    },
    {
     "name": "stderr",
     "output_type": "stream",
     "text": [
      "     37/100      2.14G    0.07588          7        640: 100%|██████████| 44/44 [00:03<00:00, 12.21it/s]\n",
      "               classes   top1_acc   top5_acc: 100%|██████████| 6/6 [00:00<00:00, 20.93it/s]"
     ]
    },
    {
     "name": "stdout",
     "output_type": "stream",
     "text": [
      "                   all      0.977          1\n"
     ]
    },
    {
     "name": "stderr",
     "output_type": "stream",
     "text": [
      "\n"
     ]
    },
    {
     "name": "stdout",
     "output_type": "stream",
     "text": [
      "\n",
      "      Epoch    GPU_mem       loss  Instances       Size\n"
     ]
    },
    {
     "name": "stderr",
     "output_type": "stream",
     "text": [
      "     38/100      2.14G    0.07418          7        640: 100%|██████████| 44/44 [00:03<00:00, 12.79it/s]\n",
      "               classes   top1_acc   top5_acc: 100%|██████████| 6/6 [00:00<00:00, 20.32it/s]"
     ]
    },
    {
     "name": "stdout",
     "output_type": "stream",
     "text": [
      "                   all      0.989          1\n",
      "\u001b[34m\u001b[1mEarlyStopping: \u001b[0mTraining stopped early as no improvement observed in last 25 epochs. Best results observed at epoch 13, best model saved as best.pt.\n",
      "To update EarlyStopping(patience=25) pass a new patience value, i.e. `patience=300` or use `patience=0` to disable EarlyStopping.\n"
     ]
    },
    {
     "name": "stderr",
     "output_type": "stream",
     "text": [
      "\n"
     ]
    },
    {
     "name": "stdout",
     "output_type": "stream",
     "text": [
      "\n",
      "38 epochs completed in 0.046 hours.\n",
      "Optimizer stripped from C:\\Users\\jazzb\\ImageDetection-Yolov11\\Road_Damage\\folds\\fold_3\\results2\\weights\\last.pt, 3.2MB\n",
      "Optimizer stripped from C:\\Users\\jazzb\\ImageDetection-Yolov11\\Road_Damage\\folds\\fold_3\\results2\\weights\\best.pt, 3.2MB\n",
      "\n",
      "Validating C:\\Users\\jazzb\\ImageDetection-Yolov11\\Road_Damage\\folds\\fold_3\\results2\\weights\\best.pt...\n",
      "Ultralytics 8.3.133  Python-3.9.21 torch-2.5.1+cu121 CUDA:0 (NVIDIA GeForce RTX 4060 Laptop GPU, 8188MiB)\n",
      "YOLO11n-cls summary (fused): 47 layers, 1,532,429 parameters, 0 gradients, 3.2 GFLOPs\n",
      "\u001b[34m\u001b[1mtrain:\u001b[0m C:\\Users\\jazzb\\ImageDetection-Yolov11\\Road_Damage\\folds\\fold_3\\train... found 695 images in 5 classes  \n",
      "\u001b[34m\u001b[1mval:\u001b[0m C:\\Users\\jazzb\\ImageDetection-Yolov11\\Road_Damage\\folds\\fold_3\\val... found 174 images in 5 classes  \n",
      "\u001b[34m\u001b[1mtest:\u001b[0m C:\\Users\\jazzb\\ImageDetection-Yolov11\\Road_Damage\\folds\\fold_3\\test... found 43 images in 5 classes  \n"
     ]
    },
    {
     "name": "stderr",
     "output_type": "stream",
     "text": [
      "               classes   top1_acc   top5_acc: 100%|██████████| 6/6 [00:00<00:00, 11.98it/s]\n"
     ]
    },
    {
     "name": "stdout",
     "output_type": "stream",
     "text": [
      "                   all          1          1\n",
      "Speed: 0.5ms preprocess, 2.0ms inference, 0.0ms loss, 0.0ms postprocess per image\n",
      "Results saved to \u001b[1mC:\\Users\\jazzb\\ImageDetection-Yolov11\\Road_Damage\\folds\\fold_3\\results2\u001b[0m\n",
      "--- Fold 3 complete. Best weights in C:\\Users\\jazzb\\ImageDetection-Yolov11\\Road_Damage\\folds\\fold_3/results ---\n",
      "\n",
      "=== Training Fold 4/5 on folder C:\\Users\\jazzb\\ImageDetection-Yolov11\\Road_Damage\\folds\\fold_4 ===\n",
      "New https://pypi.org/project/ultralytics/8.3.134 available  Update with 'pip install -U ultralytics'\n",
      "Ultralytics 8.3.133  Python-3.9.21 torch-2.5.1+cu121 CUDA:0 (NVIDIA GeForce RTX 4060 Laptop GPU, 8188MiB)\n",
      "\u001b[34m\u001b[1mengine\\trainer: \u001b[0magnostic_nms=False, amp=True, augment=False, auto_augment=randaugment, batch=16, bgr=0.0, box=7.5, cache=False, cfg=None, classes=None, close_mosaic=10, cls=0.5, conf=None, copy_paste=0.0, copy_paste_mode=flip, cos_lr=False, cutmix=0.0, data=C:\\Users\\jazzb\\ImageDetection-Yolov11\\Road_Damage\\folds\\fold_4, degrees=0.0, deterministic=True, device=0, dfl=1.5, dnn=False, dropout=0.0, dynamic=False, embed=None, epochs=100, erasing=0.4, exist_ok=False, fliplr=0.5, flipud=0.0, format=torchscript, fraction=1.0, freeze=None, half=False, hsv_h=0.015, hsv_s=0.7, hsv_v=0.4, imgsz=640, int8=False, iou=0.7, keras=False, kobj=1.0, line_width=None, lr0=0.01, lrf=0.01, mask_ratio=4, max_det=300, mixup=0.0, mode=train, model=models\\yolo11n-cls.pt, momentum=0.937, mosaic=1.0, multi_scale=False, name=results2, nbs=64, nms=False, opset=None, optimize=False, optimizer=auto, overlap_mask=True, patience=25, perspective=0.0, plots=True, pose=12.0, pretrained=True, profile=False, project=C:\\Users\\jazzb\\ImageDetection-Yolov11\\Road_Damage\\folds\\fold_4, rect=False, resume=False, retina_masks=False, save=True, save_conf=False, save_crop=False, save_dir=C:\\Users\\jazzb\\ImageDetection-Yolov11\\Road_Damage\\folds\\fold_4\\results2, save_frames=False, save_json=False, save_period=-1, save_txt=False, scale=0.5, seed=0, shear=0.0, show=False, show_boxes=True, show_conf=True, show_labels=True, simplify=True, single_cls=False, source=None, split=val, stream_buffer=False, task=classify, time=None, tracker=botsort.yaml, translate=0.1, val=True, verbose=True, vid_stride=1, visualize=False, warmup_bias_lr=0.1, warmup_epochs=3.0, warmup_momentum=0.8, weight_decay=0.0005, workers=8, workspace=None\n",
      "\u001b[34m\u001b[1mtrain:\u001b[0m C:\\Users\\jazzb\\ImageDetection-Yolov11\\Road_Damage\\folds\\fold_4\\train... found 695 images in 5 classes  \n",
      "\u001b[34m\u001b[1mval:\u001b[0m C:\\Users\\jazzb\\ImageDetection-Yolov11\\Road_Damage\\folds\\fold_4\\val... found 174 images in 5 classes  \n",
      "\u001b[34m\u001b[1mtest:\u001b[0m C:\\Users\\jazzb\\ImageDetection-Yolov11\\Road_Damage\\folds\\fold_4\\test... found 43 images in 5 classes  \n",
      "Overriding model.yaml nc=80 with nc=5\n",
      "\n",
      "                   from  n    params  module                                       arguments                     \n",
      "  0                  -1  1       464  ultralytics.nn.modules.conv.Conv             [3, 16, 3, 2]                 \n",
      "  1                  -1  1      4672  ultralytics.nn.modules.conv.Conv             [16, 32, 3, 2]                \n",
      "  2                  -1  1      6640  ultralytics.nn.modules.block.C3k2            [32, 64, 1, False, 0.25]      \n",
      "  3                  -1  1     36992  ultralytics.nn.modules.conv.Conv             [64, 64, 3, 2]                \n",
      "  4                  -1  1     26080  ultralytics.nn.modules.block.C3k2            [64, 128, 1, False, 0.25]     \n",
      "  5                  -1  1    147712  ultralytics.nn.modules.conv.Conv             [128, 128, 3, 2]              \n",
      "  6                  -1  1     87040  ultralytics.nn.modules.block.C3k2            [128, 128, 1, True]           \n",
      "  7                  -1  1    295424  ultralytics.nn.modules.conv.Conv             [128, 256, 3, 2]              \n",
      "  8                  -1  1    346112  ultralytics.nn.modules.block.C3k2            [256, 256, 1, True]           \n",
      "  9                  -1  1    249728  ultralytics.nn.modules.block.C2PSA           [256, 256, 1]                 \n",
      " 10                  -1  1    336645  ultralytics.nn.modules.head.Classify         [256, 5]                      \n",
      "YOLO11n-cls summary: 86 layers, 1,537,509 parameters, 1,537,509 gradients, 3.3 GFLOPs\n",
      "Transferred 234/236 items from pretrained weights\n",
      "\u001b[34m\u001b[1mAMP: \u001b[0mrunning Automatic Mixed Precision (AMP) checks...\n",
      "\u001b[34m\u001b[1mAMP: \u001b[0mchecks passed \n",
      "\u001b[34m\u001b[1mtrain: \u001b[0mFast image access  (ping: 0.20.2 ms, read: 287.398.5 MB/s, size: 165.4 KB)\n"
     ]
    },
    {
     "name": "stderr",
     "output_type": "stream",
     "text": [
      "\u001b[34m\u001b[1mtrain: \u001b[0mScanning C:\\Users\\jazzb\\ImageDetection-Yolov11\\Road_Damage\\folds\\fold_4\\train... 695 images, 0 corrupt: 100%|██████████| 695/695 [00:00<?, ?it/s]\n"
     ]
    },
    {
     "name": "stdout",
     "output_type": "stream",
     "text": [
      "\u001b[34m\u001b[1mval: \u001b[0mFast image access  (ping: 0.20.1 ms, read: 255.027.3 MB/s, size: 187.3 KB)\n"
     ]
    },
    {
     "name": "stderr",
     "output_type": "stream",
     "text": [
      "\u001b[34m\u001b[1mval: \u001b[0mScanning C:\\Users\\jazzb\\ImageDetection-Yolov11\\Road_Damage\\folds\\fold_4\\val... 174 images, 0 corrupt: 100%|██████████| 174/174 [00:00<?, ?it/s]\n"
     ]
    },
    {
     "name": "stdout",
     "output_type": "stream",
     "text": [
      "\u001b[34m\u001b[1moptimizer:\u001b[0m 'optimizer=auto' found, ignoring 'lr0=0.01' and 'momentum=0.937' and determining best 'optimizer', 'lr0' and 'momentum' automatically... \n",
      "\u001b[34m\u001b[1moptimizer:\u001b[0m AdamW(lr=0.001111, momentum=0.9) with parameter groups 39 weight(decay=0.0), 40 weight(decay=0.0005), 40 bias(decay=0.0)\n",
      "Image sizes 640 train, 640 val\n",
      "Using 8 dataloader workers\n",
      "Logging results to \u001b[1mC:\\Users\\jazzb\\ImageDetection-Yolov11\\Road_Damage\\folds\\fold_4\\results2\u001b[0m\n",
      "Starting training for 100 epochs...\n",
      "\n",
      "      Epoch    GPU_mem       loss  Instances       Size\n"
     ]
    },
    {
     "name": "stderr",
     "output_type": "stream",
     "text": [
      "      1/100      1.81G       1.11          7        640: 100%|██████████| 44/44 [00:05<00:00,  7.87it/s]\n",
      "               classes   top1_acc   top5_acc: 100%|██████████| 6/6 [00:03<00:00,  1.78it/s]"
     ]
    },
    {
     "name": "stdout",
     "output_type": "stream",
     "text": [
      "                   all      0.856          1\n"
     ]
    },
    {
     "name": "stderr",
     "output_type": "stream",
     "text": [
      "\n"
     ]
    },
    {
     "name": "stdout",
     "output_type": "stream",
     "text": [
      "\n",
      "      Epoch    GPU_mem       loss  Instances       Size\n"
     ]
    },
    {
     "name": "stderr",
     "output_type": "stream",
     "text": [
      "      2/100      2.05G       0.38          7        640: 100%|██████████| 44/44 [00:04<00:00, 10.01it/s]\n",
      "               classes   top1_acc   top5_acc: 100%|██████████| 6/6 [00:00<00:00, 19.26it/s]"
     ]
    },
    {
     "name": "stdout",
     "output_type": "stream",
     "text": [
      "                   all      0.902          1\n"
     ]
    },
    {
     "name": "stderr",
     "output_type": "stream",
     "text": [
      "\n"
     ]
    },
    {
     "name": "stdout",
     "output_type": "stream",
     "text": [
      "\n",
      "      Epoch    GPU_mem       loss  Instances       Size\n"
     ]
    },
    {
     "name": "stderr",
     "output_type": "stream",
     "text": [
      "      3/100      2.05G     0.2863          7        640: 100%|██████████| 44/44 [00:04<00:00, 10.80it/s]\n",
      "               classes   top1_acc   top5_acc: 100%|██████████| 6/6 [00:00<00:00, 20.69it/s]"
     ]
    },
    {
     "name": "stdout",
     "output_type": "stream",
     "text": [
      "                   all      0.868          1\n"
     ]
    },
    {
     "name": "stderr",
     "output_type": "stream",
     "text": [
      "\n"
     ]
    },
    {
     "name": "stdout",
     "output_type": "stream",
     "text": [
      "\n",
      "      Epoch    GPU_mem       loss  Instances       Size\n"
     ]
    },
    {
     "name": "stderr",
     "output_type": "stream",
     "text": [
      "      4/100      2.05G     0.2666          7        640: 100%|██████████| 44/44 [00:03<00:00, 11.98it/s]\n",
      "               classes   top1_acc   top5_acc: 100%|██████████| 6/6 [00:00<00:00, 19.20it/s]"
     ]
    },
    {
     "name": "stdout",
     "output_type": "stream",
     "text": [
      "                   all      0.851          1\n"
     ]
    },
    {
     "name": "stderr",
     "output_type": "stream",
     "text": [
      "\n"
     ]
    },
    {
     "name": "stdout",
     "output_type": "stream",
     "text": [
      "\n",
      "      Epoch    GPU_mem       loss  Instances       Size\n"
     ]
    },
    {
     "name": "stderr",
     "output_type": "stream",
     "text": [
      "      5/100      2.05G     0.2655          7        640: 100%|██████████| 44/44 [00:03<00:00, 11.66it/s]\n",
      "               classes   top1_acc   top5_acc: 100%|██████████| 6/6 [00:00<00:00, 19.89it/s]"
     ]
    },
    {
     "name": "stdout",
     "output_type": "stream",
     "text": [
      "                   all      0.977          1\n"
     ]
    },
    {
     "name": "stderr",
     "output_type": "stream",
     "text": [
      "\n"
     ]
    },
    {
     "name": "stdout",
     "output_type": "stream",
     "text": [
      "\n",
      "      Epoch    GPU_mem       loss  Instances       Size\n"
     ]
    },
    {
     "name": "stderr",
     "output_type": "stream",
     "text": [
      "      6/100      2.05G     0.2258          7        640: 100%|██████████| 44/44 [00:03<00:00, 11.55it/s]\n",
      "               classes   top1_acc   top5_acc: 100%|██████████| 6/6 [00:00<00:00, 20.43it/s]"
     ]
    },
    {
     "name": "stdout",
     "output_type": "stream",
     "text": [
      "                   all      0.851          1\n"
     ]
    },
    {
     "name": "stderr",
     "output_type": "stream",
     "text": [
      "\n"
     ]
    },
    {
     "name": "stdout",
     "output_type": "stream",
     "text": [
      "\n",
      "      Epoch    GPU_mem       loss  Instances       Size\n"
     ]
    },
    {
     "name": "stderr",
     "output_type": "stream",
     "text": [
      "      7/100      2.05G      0.202          7        640: 100%|██████████| 44/44 [00:03<00:00, 12.14it/s]\n",
      "               classes   top1_acc   top5_acc: 100%|██████████| 6/6 [00:00<00:00, 19.85it/s]"
     ]
    },
    {
     "name": "stdout",
     "output_type": "stream",
     "text": [
      "                   all      0.943          1\n"
     ]
    },
    {
     "name": "stderr",
     "output_type": "stream",
     "text": [
      "\n"
     ]
    },
    {
     "name": "stdout",
     "output_type": "stream",
     "text": [
      "\n",
      "      Epoch    GPU_mem       loss  Instances       Size\n"
     ]
    },
    {
     "name": "stderr",
     "output_type": "stream",
     "text": [
      "      8/100      2.05G     0.2342          7        640: 100%|██████████| 44/44 [00:03<00:00, 12.59it/s]\n",
      "               classes   top1_acc   top5_acc: 100%|██████████| 6/6 [00:00<00:00, 20.17it/s]"
     ]
    },
    {
     "name": "stdout",
     "output_type": "stream",
     "text": [
      "                   all      0.931          1\n"
     ]
    },
    {
     "name": "stderr",
     "output_type": "stream",
     "text": [
      "\n"
     ]
    },
    {
     "name": "stdout",
     "output_type": "stream",
     "text": [
      "\n",
      "      Epoch    GPU_mem       loss  Instances       Size\n"
     ]
    },
    {
     "name": "stderr",
     "output_type": "stream",
     "text": [
      "      9/100      2.05G     0.2121          7        640: 100%|██████████| 44/44 [00:03<00:00, 12.59it/s]\n",
      "               classes   top1_acc   top5_acc: 100%|██████████| 6/6 [00:00<00:00, 21.23it/s]"
     ]
    },
    {
     "name": "stdout",
     "output_type": "stream",
     "text": [
      "                   all      0.937          1\n"
     ]
    },
    {
     "name": "stderr",
     "output_type": "stream",
     "text": [
      "\n"
     ]
    },
    {
     "name": "stdout",
     "output_type": "stream",
     "text": [
      "\n",
      "      Epoch    GPU_mem       loss  Instances       Size\n"
     ]
    },
    {
     "name": "stderr",
     "output_type": "stream",
     "text": [
      "     10/100      2.05G     0.1103          7        640: 100%|██████████| 44/44 [00:03<00:00, 12.37it/s]\n",
      "               classes   top1_acc   top5_acc: 100%|██████████| 6/6 [00:00<00:00, 20.09it/s]"
     ]
    },
    {
     "name": "stdout",
     "output_type": "stream",
     "text": [
      "                   all       0.96          1\n"
     ]
    },
    {
     "name": "stderr",
     "output_type": "stream",
     "text": [
      "\n"
     ]
    },
    {
     "name": "stdout",
     "output_type": "stream",
     "text": [
      "\n",
      "      Epoch    GPU_mem       loss  Instances       Size\n"
     ]
    },
    {
     "name": "stderr",
     "output_type": "stream",
     "text": [
      "     11/100      2.05G     0.1407          7        640: 100%|██████████| 44/44 [00:03<00:00, 12.81it/s]\n",
      "               classes   top1_acc   top5_acc: 100%|██████████| 6/6 [00:00<00:00, 20.17it/s]"
     ]
    },
    {
     "name": "stdout",
     "output_type": "stream",
     "text": [
      "                   all      0.937          1\n"
     ]
    },
    {
     "name": "stderr",
     "output_type": "stream",
     "text": [
      "\n"
     ]
    },
    {
     "name": "stdout",
     "output_type": "stream",
     "text": [
      "\n",
      "      Epoch    GPU_mem       loss  Instances       Size\n"
     ]
    },
    {
     "name": "stderr",
     "output_type": "stream",
     "text": [
      "     12/100      2.05G     0.1416          7        640: 100%|██████████| 44/44 [00:03<00:00, 12.87it/s]\n",
      "               classes   top1_acc   top5_acc: 100%|██████████| 6/6 [00:00<00:00, 21.80it/s]"
     ]
    },
    {
     "name": "stdout",
     "output_type": "stream",
     "text": [
      "                   all      0.983          1\n"
     ]
    },
    {
     "name": "stderr",
     "output_type": "stream",
     "text": [
      "\n"
     ]
    },
    {
     "name": "stdout",
     "output_type": "stream",
     "text": [
      "\n",
      "      Epoch    GPU_mem       loss  Instances       Size\n"
     ]
    },
    {
     "name": "stderr",
     "output_type": "stream",
     "text": [
      "     13/100      2.05G     0.1299          7        640: 100%|██████████| 44/44 [00:03<00:00, 12.80it/s]\n",
      "               classes   top1_acc   top5_acc: 100%|██████████| 6/6 [00:00<00:00, 20.84it/s]"
     ]
    },
    {
     "name": "stdout",
     "output_type": "stream",
     "text": [
      "                   all      0.983          1\n"
     ]
    },
    {
     "name": "stderr",
     "output_type": "stream",
     "text": [
      "\n"
     ]
    },
    {
     "name": "stdout",
     "output_type": "stream",
     "text": [
      "\n",
      "      Epoch    GPU_mem       loss  Instances       Size\n"
     ]
    },
    {
     "name": "stderr",
     "output_type": "stream",
     "text": [
      "     14/100      2.05G      0.119          7        640: 100%|██████████| 44/44 [00:03<00:00, 12.53it/s]\n",
      "               classes   top1_acc   top5_acc: 100%|██████████| 6/6 [00:00<00:00, 20.72it/s]"
     ]
    },
    {
     "name": "stdout",
     "output_type": "stream",
     "text": [
      "                   all      0.989          1\n"
     ]
    },
    {
     "name": "stderr",
     "output_type": "stream",
     "text": [
      "\n"
     ]
    },
    {
     "name": "stdout",
     "output_type": "stream",
     "text": [
      "\n",
      "      Epoch    GPU_mem       loss  Instances       Size\n"
     ]
    },
    {
     "name": "stderr",
     "output_type": "stream",
     "text": [
      "     15/100      2.05G     0.1413          7        640: 100%|██████████| 44/44 [00:03<00:00, 12.89it/s]\n",
      "               classes   top1_acc   top5_acc: 100%|██████████| 6/6 [00:00<00:00, 20.85it/s]"
     ]
    },
    {
     "name": "stdout",
     "output_type": "stream",
     "text": [
      "                   all       0.96          1\n"
     ]
    },
    {
     "name": "stderr",
     "output_type": "stream",
     "text": [
      "\n"
     ]
    },
    {
     "name": "stdout",
     "output_type": "stream",
     "text": [
      "\n",
      "      Epoch    GPU_mem       loss  Instances       Size\n"
     ]
    },
    {
     "name": "stderr",
     "output_type": "stream",
     "text": [
      "     16/100      2.05G    0.09455          7        640: 100%|██████████| 44/44 [00:03<00:00, 12.83it/s]\n",
      "               classes   top1_acc   top5_acc: 100%|██████████| 6/6 [00:00<00:00, 20.32it/s]"
     ]
    },
    {
     "name": "stdout",
     "output_type": "stream",
     "text": [
      "                   all       0.96          1\n"
     ]
    },
    {
     "name": "stderr",
     "output_type": "stream",
     "text": [
      "\n"
     ]
    },
    {
     "name": "stdout",
     "output_type": "stream",
     "text": [
      "\n",
      "      Epoch    GPU_mem       loss  Instances       Size\n"
     ]
    },
    {
     "name": "stderr",
     "output_type": "stream",
     "text": [
      "     17/100      2.05G    0.09972          7        640: 100%|██████████| 44/44 [00:03<00:00, 11.84it/s]\n",
      "               classes   top1_acc   top5_acc: 100%|██████████| 6/6 [00:00<00:00, 19.86it/s]"
     ]
    },
    {
     "name": "stdout",
     "output_type": "stream",
     "text": [
      "                   all      0.966          1\n"
     ]
    },
    {
     "name": "stderr",
     "output_type": "stream",
     "text": [
      "\n"
     ]
    },
    {
     "name": "stdout",
     "output_type": "stream",
     "text": [
      "\n",
      "      Epoch    GPU_mem       loss  Instances       Size\n"
     ]
    },
    {
     "name": "stderr",
     "output_type": "stream",
     "text": [
      "     18/100      2.05G     0.1493          7        640: 100%|██████████| 44/44 [00:03<00:00, 12.37it/s]\n",
      "               classes   top1_acc   top5_acc: 100%|██████████| 6/6 [00:00<00:00, 21.08it/s]"
     ]
    },
    {
     "name": "stdout",
     "output_type": "stream",
     "text": [
      "                   all      0.989          1\n"
     ]
    },
    {
     "name": "stderr",
     "output_type": "stream",
     "text": [
      "\n"
     ]
    },
    {
     "name": "stdout",
     "output_type": "stream",
     "text": [
      "\n",
      "      Epoch    GPU_mem       loss  Instances       Size\n"
     ]
    },
    {
     "name": "stderr",
     "output_type": "stream",
     "text": [
      "     19/100      2.05G    0.08513          7        640: 100%|██████████| 44/44 [00:03<00:00, 12.48it/s]\n",
      "               classes   top1_acc   top5_acc: 100%|██████████| 6/6 [00:00<00:00, 20.31it/s]"
     ]
    },
    {
     "name": "stdout",
     "output_type": "stream",
     "text": [
      "                   all      0.977          1\n"
     ]
    },
    {
     "name": "stderr",
     "output_type": "stream",
     "text": [
      "\n"
     ]
    },
    {
     "name": "stdout",
     "output_type": "stream",
     "text": [
      "\n",
      "      Epoch    GPU_mem       loss  Instances       Size\n"
     ]
    },
    {
     "name": "stderr",
     "output_type": "stream",
     "text": [
      "     20/100      2.05G    0.08747          7        640: 100%|██████████| 44/44 [00:03<00:00, 12.39it/s]\n",
      "               classes   top1_acc   top5_acc: 100%|██████████| 6/6 [00:00<00:00, 20.51it/s]"
     ]
    },
    {
     "name": "stdout",
     "output_type": "stream",
     "text": [
      "                   all      0.977          1\n"
     ]
    },
    {
     "name": "stderr",
     "output_type": "stream",
     "text": [
      "\n"
     ]
    },
    {
     "name": "stdout",
     "output_type": "stream",
     "text": [
      "\n",
      "      Epoch    GPU_mem       loss  Instances       Size\n"
     ]
    },
    {
     "name": "stderr",
     "output_type": "stream",
     "text": [
      "     21/100      2.05G     0.1093          7        640: 100%|██████████| 44/44 [00:03<00:00, 12.27it/s]\n",
      "               classes   top1_acc   top5_acc: 100%|██████████| 6/6 [00:00<00:00, 19.14it/s]"
     ]
    },
    {
     "name": "stdout",
     "output_type": "stream",
     "text": [
      "                   all      0.983          1\n"
     ]
    },
    {
     "name": "stderr",
     "output_type": "stream",
     "text": [
      "\n"
     ]
    },
    {
     "name": "stdout",
     "output_type": "stream",
     "text": [
      "\n",
      "      Epoch    GPU_mem       loss  Instances       Size\n"
     ]
    },
    {
     "name": "stderr",
     "output_type": "stream",
     "text": [
      "     22/100      2.05G    0.07612          7        640: 100%|██████████| 44/44 [00:03<00:00, 12.72it/s]\n",
      "               classes   top1_acc   top5_acc: 100%|██████████| 6/6 [00:00<00:00, 20.59it/s]"
     ]
    },
    {
     "name": "stdout",
     "output_type": "stream",
     "text": [
      "                   all      0.954          1\n"
     ]
    },
    {
     "name": "stderr",
     "output_type": "stream",
     "text": [
      "\n"
     ]
    },
    {
     "name": "stdout",
     "output_type": "stream",
     "text": [
      "\n",
      "      Epoch    GPU_mem       loss  Instances       Size\n"
     ]
    },
    {
     "name": "stderr",
     "output_type": "stream",
     "text": [
      "     23/100      2.05G     0.1201          7        640: 100%|██████████| 44/44 [00:03<00:00, 12.59it/s]\n",
      "               classes   top1_acc   top5_acc: 100%|██████████| 6/6 [00:00<00:00, 20.00it/s]"
     ]
    },
    {
     "name": "stdout",
     "output_type": "stream",
     "text": [
      "                   all       0.96          1\n"
     ]
    },
    {
     "name": "stderr",
     "output_type": "stream",
     "text": [
      "\n"
     ]
    },
    {
     "name": "stdout",
     "output_type": "stream",
     "text": [
      "\n",
      "      Epoch    GPU_mem       loss  Instances       Size\n"
     ]
    },
    {
     "name": "stderr",
     "output_type": "stream",
     "text": [
      "     24/100      2.05G     0.1094          7        640: 100%|██████████| 44/44 [00:03<00:00, 12.73it/s]\n",
      "               classes   top1_acc   top5_acc: 100%|██████████| 6/6 [00:00<00:00, 21.26it/s]"
     ]
    },
    {
     "name": "stdout",
     "output_type": "stream",
     "text": [
      "                   all      0.971          1\n"
     ]
    },
    {
     "name": "stderr",
     "output_type": "stream",
     "text": [
      "\n"
     ]
    },
    {
     "name": "stdout",
     "output_type": "stream",
     "text": [
      "\n",
      "      Epoch    GPU_mem       loss  Instances       Size\n"
     ]
    },
    {
     "name": "stderr",
     "output_type": "stream",
     "text": [
      "     25/100      2.05G    0.08291          7        640: 100%|██████████| 44/44 [00:03<00:00, 12.34it/s]\n",
      "               classes   top1_acc   top5_acc: 100%|██████████| 6/6 [00:00<00:00, 21.18it/s]"
     ]
    },
    {
     "name": "stdout",
     "output_type": "stream",
     "text": [
      "                   all      0.977          1\n"
     ]
    },
    {
     "name": "stderr",
     "output_type": "stream",
     "text": [
      "\n"
     ]
    },
    {
     "name": "stdout",
     "output_type": "stream",
     "text": [
      "\n",
      "      Epoch    GPU_mem       loss  Instances       Size\n"
     ]
    },
    {
     "name": "stderr",
     "output_type": "stream",
     "text": [
      "     26/100      2.05G    0.06472          7        640: 100%|██████████| 44/44 [00:03<00:00, 12.99it/s]\n",
      "               classes   top1_acc   top5_acc: 100%|██████████| 6/6 [00:00<00:00, 20.76it/s]"
     ]
    },
    {
     "name": "stdout",
     "output_type": "stream",
     "text": [
      "                   all      0.983          1\n"
     ]
    },
    {
     "name": "stderr",
     "output_type": "stream",
     "text": [
      "\n"
     ]
    },
    {
     "name": "stdout",
     "output_type": "stream",
     "text": [
      "\n",
      "      Epoch    GPU_mem       loss  Instances       Size\n"
     ]
    },
    {
     "name": "stderr",
     "output_type": "stream",
     "text": [
      "     27/100      2.05G    0.07182          7        640: 100%|██████████| 44/44 [00:03<00:00, 12.87it/s]\n",
      "               classes   top1_acc   top5_acc: 100%|██████████| 6/6 [00:00<00:00, 21.20it/s]"
     ]
    },
    {
     "name": "stdout",
     "output_type": "stream",
     "text": [
      "                   all      0.977          1\n"
     ]
    },
    {
     "name": "stderr",
     "output_type": "stream",
     "text": [
      "\n"
     ]
    },
    {
     "name": "stdout",
     "output_type": "stream",
     "text": [
      "\n",
      "      Epoch    GPU_mem       loss  Instances       Size\n"
     ]
    },
    {
     "name": "stderr",
     "output_type": "stream",
     "text": [
      "     28/100      2.05G    0.05922          7        640: 100%|██████████| 44/44 [00:03<00:00, 13.08it/s]\n",
      "               classes   top1_acc   top5_acc: 100%|██████████| 6/6 [00:00<00:00, 21.41it/s]"
     ]
    },
    {
     "name": "stdout",
     "output_type": "stream",
     "text": [
      "                   all      0.966          1\n"
     ]
    },
    {
     "name": "stderr",
     "output_type": "stream",
     "text": [
      "\n"
     ]
    },
    {
     "name": "stdout",
     "output_type": "stream",
     "text": [
      "\n",
      "      Epoch    GPU_mem       loss  Instances       Size\n"
     ]
    },
    {
     "name": "stderr",
     "output_type": "stream",
     "text": [
      "     29/100      2.05G    0.08745          7        640: 100%|██████████| 44/44 [00:03<00:00, 12.83it/s]\n",
      "               classes   top1_acc   top5_acc: 100%|██████████| 6/6 [00:00<00:00, 21.28it/s]"
     ]
    },
    {
     "name": "stdout",
     "output_type": "stream",
     "text": [
      "                   all      0.954          1\n"
     ]
    },
    {
     "name": "stderr",
     "output_type": "stream",
     "text": [
      "\n"
     ]
    },
    {
     "name": "stdout",
     "output_type": "stream",
     "text": [
      "\n",
      "      Epoch    GPU_mem       loss  Instances       Size\n"
     ]
    },
    {
     "name": "stderr",
     "output_type": "stream",
     "text": [
      "     30/100      2.05G    0.05555          7        640: 100%|██████████| 44/44 [00:03<00:00, 12.22it/s]\n",
      "               classes   top1_acc   top5_acc: 100%|██████████| 6/6 [00:00<00:00, 19.99it/s]"
     ]
    },
    {
     "name": "stdout",
     "output_type": "stream",
     "text": [
      "                   all      0.971          1\n"
     ]
    },
    {
     "name": "stderr",
     "output_type": "stream",
     "text": [
      "\n"
     ]
    },
    {
     "name": "stdout",
     "output_type": "stream",
     "text": [
      "\n",
      "      Epoch    GPU_mem       loss  Instances       Size\n"
     ]
    },
    {
     "name": "stderr",
     "output_type": "stream",
     "text": [
      "     31/100      2.05G    0.04172          7        640: 100%|██████████| 44/44 [00:03<00:00, 11.99it/s]\n",
      "               classes   top1_acc   top5_acc: 100%|██████████| 6/6 [00:00<00:00, 17.05it/s]"
     ]
    },
    {
     "name": "stdout",
     "output_type": "stream",
     "text": [
      "                   all      0.983          1\n"
     ]
    },
    {
     "name": "stderr",
     "output_type": "stream",
     "text": [
      "\n"
     ]
    },
    {
     "name": "stdout",
     "output_type": "stream",
     "text": [
      "\n",
      "      Epoch    GPU_mem       loss  Instances       Size\n"
     ]
    },
    {
     "name": "stderr",
     "output_type": "stream",
     "text": [
      "     32/100      2.05G    0.02427          7        640: 100%|██████████| 44/44 [00:03<00:00, 11.72it/s]\n",
      "               classes   top1_acc   top5_acc: 100%|██████████| 6/6 [00:00<00:00, 19.66it/s]"
     ]
    },
    {
     "name": "stdout",
     "output_type": "stream",
     "text": [
      "                   all      0.983          1\n"
     ]
    },
    {
     "name": "stderr",
     "output_type": "stream",
     "text": [
      "\n"
     ]
    },
    {
     "name": "stdout",
     "output_type": "stream",
     "text": [
      "\n",
      "      Epoch    GPU_mem       loss  Instances       Size\n"
     ]
    },
    {
     "name": "stderr",
     "output_type": "stream",
     "text": [
      "     33/100      2.05G    0.02955          7        640: 100%|██████████| 44/44 [00:03<00:00, 11.48it/s]\n",
      "               classes   top1_acc   top5_acc: 100%|██████████| 6/6 [00:00<00:00, 20.80it/s]"
     ]
    },
    {
     "name": "stdout",
     "output_type": "stream",
     "text": [
      "                   all      0.983          1\n"
     ]
    },
    {
     "name": "stderr",
     "output_type": "stream",
     "text": [
      "\n"
     ]
    },
    {
     "name": "stdout",
     "output_type": "stream",
     "text": [
      "\n",
      "      Epoch    GPU_mem       loss  Instances       Size\n"
     ]
    },
    {
     "name": "stderr",
     "output_type": "stream",
     "text": [
      "     34/100      2.05G    0.04212          7        640: 100%|██████████| 44/44 [00:03<00:00, 12.13it/s]\n",
      "               classes   top1_acc   top5_acc: 100%|██████████| 6/6 [00:00<00:00, 20.52it/s]"
     ]
    },
    {
     "name": "stdout",
     "output_type": "stream",
     "text": [
      "                   all      0.977          1\n"
     ]
    },
    {
     "name": "stderr",
     "output_type": "stream",
     "text": [
      "\n"
     ]
    },
    {
     "name": "stdout",
     "output_type": "stream",
     "text": [
      "\n",
      "      Epoch    GPU_mem       loss  Instances       Size\n"
     ]
    },
    {
     "name": "stderr",
     "output_type": "stream",
     "text": [
      "     35/100      2.05G    0.05375          7        640: 100%|██████████| 44/44 [00:03<00:00, 12.48it/s]\n",
      "               classes   top1_acc   top5_acc: 100%|██████████| 6/6 [00:00<00:00, 20.62it/s]"
     ]
    },
    {
     "name": "stdout",
     "output_type": "stream",
     "text": [
      "                   all      0.983          1\n"
     ]
    },
    {
     "name": "stderr",
     "output_type": "stream",
     "text": [
      "\n"
     ]
    },
    {
     "name": "stdout",
     "output_type": "stream",
     "text": [
      "\n",
      "      Epoch    GPU_mem       loss  Instances       Size\n"
     ]
    },
    {
     "name": "stderr",
     "output_type": "stream",
     "text": [
      "     36/100      2.05G     0.0639          7        640: 100%|██████████| 44/44 [00:03<00:00, 11.85it/s]\n",
      "               classes   top1_acc   top5_acc: 100%|██████████| 6/6 [00:00<00:00, 20.60it/s]"
     ]
    },
    {
     "name": "stdout",
     "output_type": "stream",
     "text": [
      "                   all      0.983          1\n"
     ]
    },
    {
     "name": "stderr",
     "output_type": "stream",
     "text": [
      "\n"
     ]
    },
    {
     "name": "stdout",
     "output_type": "stream",
     "text": [
      "\n",
      "      Epoch    GPU_mem       loss  Instances       Size\n"
     ]
    },
    {
     "name": "stderr",
     "output_type": "stream",
     "text": [
      "     37/100      2.05G    0.02721          7        640: 100%|██████████| 44/44 [00:03<00:00, 12.29it/s]\n",
      "               classes   top1_acc   top5_acc: 100%|██████████| 6/6 [00:00<00:00, 20.92it/s]"
     ]
    },
    {
     "name": "stdout",
     "output_type": "stream",
     "text": [
      "                   all      0.983          1\n"
     ]
    },
    {
     "name": "stderr",
     "output_type": "stream",
     "text": [
      "\n"
     ]
    },
    {
     "name": "stdout",
     "output_type": "stream",
     "text": [
      "\n",
      "      Epoch    GPU_mem       loss  Instances       Size\n"
     ]
    },
    {
     "name": "stderr",
     "output_type": "stream",
     "text": [
      "     38/100      2.05G    0.04147          7        640: 100%|██████████| 44/44 [00:03<00:00, 11.86it/s]\n",
      "               classes   top1_acc   top5_acc: 100%|██████████| 6/6 [00:00<00:00, 20.61it/s]"
     ]
    },
    {
     "name": "stdout",
     "output_type": "stream",
     "text": [
      "                   all      0.983          1\n"
     ]
    },
    {
     "name": "stderr",
     "output_type": "stream",
     "text": [
      "\n"
     ]
    },
    {
     "name": "stdout",
     "output_type": "stream",
     "text": [
      "\n",
      "      Epoch    GPU_mem       loss  Instances       Size\n"
     ]
    },
    {
     "name": "stderr",
     "output_type": "stream",
     "text": [
      "     39/100      2.05G     0.0259          7        640: 100%|██████████| 44/44 [00:03<00:00, 12.77it/s]\n",
      "               classes   top1_acc   top5_acc: 100%|██████████| 6/6 [00:00<00:00, 19.86it/s]"
     ]
    },
    {
     "name": "stdout",
     "output_type": "stream",
     "text": [
      "                   all      0.983          1\n",
      "\u001b[34m\u001b[1mEarlyStopping: \u001b[0mTraining stopped early as no improvement observed in last 25 epochs. Best results observed at epoch 14, best model saved as best.pt.\n",
      "To update EarlyStopping(patience=25) pass a new patience value, i.e. `patience=300` or use `patience=0` to disable EarlyStopping.\n"
     ]
    },
    {
     "name": "stderr",
     "output_type": "stream",
     "text": [
      "\n"
     ]
    },
    {
     "name": "stdout",
     "output_type": "stream",
     "text": [
      "\n",
      "39 epochs completed in 0.048 hours.\n",
      "Optimizer stripped from C:\\Users\\jazzb\\ImageDetection-Yolov11\\Road_Damage\\folds\\fold_4\\results2\\weights\\last.pt, 3.2MB\n",
      "Optimizer stripped from C:\\Users\\jazzb\\ImageDetection-Yolov11\\Road_Damage\\folds\\fold_4\\results2\\weights\\best.pt, 3.2MB\n",
      "\n",
      "Validating C:\\Users\\jazzb\\ImageDetection-Yolov11\\Road_Damage\\folds\\fold_4\\results2\\weights\\best.pt...\n",
      "Ultralytics 8.3.133  Python-3.9.21 torch-2.5.1+cu121 CUDA:0 (NVIDIA GeForce RTX 4060 Laptop GPU, 8188MiB)\n",
      "YOLO11n-cls summary (fused): 47 layers, 1,532,429 parameters, 0 gradients, 3.2 GFLOPs\n",
      "\u001b[34m\u001b[1mtrain:\u001b[0m C:\\Users\\jazzb\\ImageDetection-Yolov11\\Road_Damage\\folds\\fold_4\\train... found 695 images in 5 classes  \n",
      "\u001b[34m\u001b[1mval:\u001b[0m C:\\Users\\jazzb\\ImageDetection-Yolov11\\Road_Damage\\folds\\fold_4\\val... found 174 images in 5 classes  \n",
      "\u001b[34m\u001b[1mtest:\u001b[0m C:\\Users\\jazzb\\ImageDetection-Yolov11\\Road_Damage\\folds\\fold_4\\test... found 43 images in 5 classes  \n"
     ]
    },
    {
     "name": "stderr",
     "output_type": "stream",
     "text": [
      "               classes   top1_acc   top5_acc: 100%|██████████| 6/6 [00:00<00:00, 11.03it/s]\n"
     ]
    },
    {
     "name": "stdout",
     "output_type": "stream",
     "text": [
      "                   all      0.989          1\n",
      "Speed: 0.6ms preprocess, 2.0ms inference, 0.0ms loss, 0.0ms postprocess per image\n",
      "Results saved to \u001b[1mC:\\Users\\jazzb\\ImageDetection-Yolov11\\Road_Damage\\folds\\fold_4\\results2\u001b[0m\n",
      "--- Fold 4 complete. Best weights in C:\\Users\\jazzb\\ImageDetection-Yolov11\\Road_Damage\\folds\\fold_4/results ---\n",
      "\n",
      "=== Training Fold 5/5 on folder C:\\Users\\jazzb\\ImageDetection-Yolov11\\Road_Damage\\folds\\fold_5 ===\n",
      "New https://pypi.org/project/ultralytics/8.3.134 available  Update with 'pip install -U ultralytics'\n",
      "Ultralytics 8.3.133  Python-3.9.21 torch-2.5.1+cu121 CUDA:0 (NVIDIA GeForce RTX 4060 Laptop GPU, 8188MiB)\n",
      "\u001b[34m\u001b[1mengine\\trainer: \u001b[0magnostic_nms=False, amp=True, augment=False, auto_augment=randaugment, batch=16, bgr=0.0, box=7.5, cache=False, cfg=None, classes=None, close_mosaic=10, cls=0.5, conf=None, copy_paste=0.0, copy_paste_mode=flip, cos_lr=False, cutmix=0.0, data=C:\\Users\\jazzb\\ImageDetection-Yolov11\\Road_Damage\\folds\\fold_5, degrees=0.0, deterministic=True, device=0, dfl=1.5, dnn=False, dropout=0.0, dynamic=False, embed=None, epochs=100, erasing=0.4, exist_ok=False, fliplr=0.5, flipud=0.0, format=torchscript, fraction=1.0, freeze=None, half=False, hsv_h=0.015, hsv_s=0.7, hsv_v=0.4, imgsz=640, int8=False, iou=0.7, keras=False, kobj=1.0, line_width=None, lr0=0.01, lrf=0.01, mask_ratio=4, max_det=300, mixup=0.0, mode=train, model=models\\yolo11n-cls.pt, momentum=0.937, mosaic=1.0, multi_scale=False, name=results2, nbs=64, nms=False, opset=None, optimize=False, optimizer=auto, overlap_mask=True, patience=25, perspective=0.0, plots=True, pose=12.0, pretrained=True, profile=False, project=C:\\Users\\jazzb\\ImageDetection-Yolov11\\Road_Damage\\folds\\fold_5, rect=False, resume=False, retina_masks=False, save=True, save_conf=False, save_crop=False, save_dir=C:\\Users\\jazzb\\ImageDetection-Yolov11\\Road_Damage\\folds\\fold_5\\results2, save_frames=False, save_json=False, save_period=-1, save_txt=False, scale=0.5, seed=0, shear=0.0, show=False, show_boxes=True, show_conf=True, show_labels=True, simplify=True, single_cls=False, source=None, split=val, stream_buffer=False, task=classify, time=None, tracker=botsort.yaml, translate=0.1, val=True, verbose=True, vid_stride=1, visualize=False, warmup_bias_lr=0.1, warmup_epochs=3.0, warmup_momentum=0.8, weight_decay=0.0005, workers=8, workspace=None\n",
      "\u001b[34m\u001b[1mtrain:\u001b[0m C:\\Users\\jazzb\\ImageDetection-Yolov11\\Road_Damage\\folds\\fold_5\\train... found 696 images in 5 classes  \n",
      "\u001b[34m\u001b[1mval:\u001b[0m C:\\Users\\jazzb\\ImageDetection-Yolov11\\Road_Damage\\folds\\fold_5\\val... found 173 images in 5 classes  \n",
      "\u001b[34m\u001b[1mtest:\u001b[0m C:\\Users\\jazzb\\ImageDetection-Yolov11\\Road_Damage\\folds\\fold_5\\test... found 43 images in 5 classes  \n",
      "Overriding model.yaml nc=80 with nc=5\n",
      "\n",
      "                   from  n    params  module                                       arguments                     \n",
      "  0                  -1  1       464  ultralytics.nn.modules.conv.Conv             [3, 16, 3, 2]                 \n",
      "  1                  -1  1      4672  ultralytics.nn.modules.conv.Conv             [16, 32, 3, 2]                \n",
      "  2                  -1  1      6640  ultralytics.nn.modules.block.C3k2            [32, 64, 1, False, 0.25]      \n",
      "  3                  -1  1     36992  ultralytics.nn.modules.conv.Conv             [64, 64, 3, 2]                \n",
      "  4                  -1  1     26080  ultralytics.nn.modules.block.C3k2            [64, 128, 1, False, 0.25]     \n",
      "  5                  -1  1    147712  ultralytics.nn.modules.conv.Conv             [128, 128, 3, 2]              \n",
      "  6                  -1  1     87040  ultralytics.nn.modules.block.C3k2            [128, 128, 1, True]           \n",
      "  7                  -1  1    295424  ultralytics.nn.modules.conv.Conv             [128, 256, 3, 2]              \n",
      "  8                  -1  1    346112  ultralytics.nn.modules.block.C3k2            [256, 256, 1, True]           \n",
      "  9                  -1  1    249728  ultralytics.nn.modules.block.C2PSA           [256, 256, 1]                 \n",
      " 10                  -1  1    336645  ultralytics.nn.modules.head.Classify         [256, 5]                      \n",
      "YOLO11n-cls summary: 86 layers, 1,537,509 parameters, 1,537,509 gradients, 3.3 GFLOPs\n",
      "Transferred 234/236 items from pretrained weights\n",
      "\u001b[34m\u001b[1mAMP: \u001b[0mrunning Automatic Mixed Precision (AMP) checks...\n",
      "\u001b[34m\u001b[1mAMP: \u001b[0mchecks passed \n",
      "\u001b[34m\u001b[1mtrain: \u001b[0mFast image access  (ping: 0.20.2 ms, read: 342.498.5 MB/s, size: 166.1 KB)\n"
     ]
    },
    {
     "name": "stderr",
     "output_type": "stream",
     "text": [
      "\u001b[34m\u001b[1mtrain: \u001b[0mScanning C:\\Users\\jazzb\\ImageDetection-Yolov11\\Road_Damage\\folds\\fold_5\\train... 696 images, 0 corrupt: 100%|██████████| 696/696 [00:00<?, ?it/s]\n"
     ]
    },
    {
     "name": "stdout",
     "output_type": "stream",
     "text": [
      "\u001b[34m\u001b[1mval: \u001b[0mFast image access  (ping: 0.20.2 ms, read: 363.871.6 MB/s, size: 204.5 KB)\n"
     ]
    },
    {
     "name": "stderr",
     "output_type": "stream",
     "text": [
      "\u001b[34m\u001b[1mval: \u001b[0mScanning C:\\Users\\jazzb\\ImageDetection-Yolov11\\Road_Damage\\folds\\fold_5\\val... 173 images, 0 corrupt: 100%|██████████| 173/173 [00:00<?, ?it/s]\n"
     ]
    },
    {
     "name": "stdout",
     "output_type": "stream",
     "text": [
      "\u001b[34m\u001b[1moptimizer:\u001b[0m 'optimizer=auto' found, ignoring 'lr0=0.01' and 'momentum=0.937' and determining best 'optimizer', 'lr0' and 'momentum' automatically... \n",
      "\u001b[34m\u001b[1moptimizer:\u001b[0m AdamW(lr=0.001111, momentum=0.9) with parameter groups 39 weight(decay=0.0), 40 weight(decay=0.0005), 40 bias(decay=0.0)\n",
      "Image sizes 640 train, 640 val\n",
      "Using 8 dataloader workers\n",
      "Logging results to \u001b[1mC:\\Users\\jazzb\\ImageDetection-Yolov11\\Road_Damage\\folds\\fold_5\\results2\u001b[0m\n",
      "Starting training for 100 epochs...\n",
      "\n",
      "      Epoch    GPU_mem       loss  Instances       Size\n"
     ]
    },
    {
     "name": "stderr",
     "output_type": "stream",
     "text": [
      "      1/100      1.81G      1.097          8        640: 100%|██████████| 44/44 [00:05<00:00,  8.25it/s]\n",
      "               classes   top1_acc   top5_acc: 100%|██████████| 6/6 [00:01<00:00,  3.56it/s]"
     ]
    },
    {
     "name": "stdout",
     "output_type": "stream",
     "text": [
      "                   all      0.832          1\n"
     ]
    },
    {
     "name": "stderr",
     "output_type": "stream",
     "text": [
      "\n"
     ]
    },
    {
     "name": "stdout",
     "output_type": "stream",
     "text": [
      "\n",
      "      Epoch    GPU_mem       loss  Instances       Size\n"
     ]
    },
    {
     "name": "stderr",
     "output_type": "stream",
     "text": [
      "      2/100      2.05G     0.4108          8        640: 100%|██████████| 44/44 [00:04<00:00, 10.56it/s]\n",
      "               classes   top1_acc   top5_acc: 100%|██████████| 6/6 [00:00<00:00, 21.32it/s]"
     ]
    },
    {
     "name": "stdout",
     "output_type": "stream",
     "text": [
      "                   all      0.879          1\n"
     ]
    },
    {
     "name": "stderr",
     "output_type": "stream",
     "text": [
      "\n"
     ]
    },
    {
     "name": "stdout",
     "output_type": "stream",
     "text": [
      "\n",
      "      Epoch    GPU_mem       loss  Instances       Size\n"
     ]
    },
    {
     "name": "stderr",
     "output_type": "stream",
     "text": [
      "      3/100      2.05G     0.2973          8        640: 100%|██████████| 44/44 [00:03<00:00, 11.94it/s]\n",
      "               classes   top1_acc   top5_acc: 100%|██████████| 6/6 [00:00<00:00, 21.42it/s]"
     ]
    },
    {
     "name": "stdout",
     "output_type": "stream",
     "text": [
      "                   all      0.844          1\n"
     ]
    },
    {
     "name": "stderr",
     "output_type": "stream",
     "text": [
      "\n"
     ]
    },
    {
     "name": "stdout",
     "output_type": "stream",
     "text": [
      "\n",
      "      Epoch    GPU_mem       loss  Instances       Size\n"
     ]
    },
    {
     "name": "stderr",
     "output_type": "stream",
     "text": [
      "      4/100      2.05G     0.2974          8        640: 100%|██████████| 44/44 [00:03<00:00, 12.18it/s]\n",
      "               classes   top1_acc   top5_acc: 100%|██████████| 6/6 [00:00<00:00, 20.19it/s]"
     ]
    },
    {
     "name": "stdout",
     "output_type": "stream",
     "text": [
      "                   all      0.913          1\n"
     ]
    },
    {
     "name": "stderr",
     "output_type": "stream",
     "text": [
      "\n"
     ]
    },
    {
     "name": "stdout",
     "output_type": "stream",
     "text": [
      "\n",
      "      Epoch    GPU_mem       loss  Instances       Size\n"
     ]
    },
    {
     "name": "stderr",
     "output_type": "stream",
     "text": [
      "      5/100      2.05G     0.2748          8        640: 100%|██████████| 44/44 [00:03<00:00, 12.12it/s]\n",
      "               classes   top1_acc   top5_acc: 100%|██████████| 6/6 [00:00<00:00, 21.52it/s]"
     ]
    },
    {
     "name": "stdout",
     "output_type": "stream",
     "text": [
      "                   all      0.954          1\n"
     ]
    },
    {
     "name": "stderr",
     "output_type": "stream",
     "text": [
      "\n"
     ]
    },
    {
     "name": "stdout",
     "output_type": "stream",
     "text": [
      "\n",
      "      Epoch    GPU_mem       loss  Instances       Size\n"
     ]
    },
    {
     "name": "stderr",
     "output_type": "stream",
     "text": [
      "      6/100      2.05G     0.2211          8        640: 100%|██████████| 44/44 [00:03<00:00, 11.72it/s]\n",
      "               classes   top1_acc   top5_acc: 100%|██████████| 6/6 [00:00<00:00, 21.76it/s]"
     ]
    },
    {
     "name": "stdout",
     "output_type": "stream",
     "text": [
      "                   all      0.954          1\n"
     ]
    },
    {
     "name": "stderr",
     "output_type": "stream",
     "text": [
      "\n"
     ]
    },
    {
     "name": "stdout",
     "output_type": "stream",
     "text": [
      "\n",
      "      Epoch    GPU_mem       loss  Instances       Size\n"
     ]
    },
    {
     "name": "stderr",
     "output_type": "stream",
     "text": [
      "      7/100      2.05G     0.1831          8        640: 100%|██████████| 44/44 [00:03<00:00, 12.02it/s]\n",
      "               classes   top1_acc   top5_acc: 100%|██████████| 6/6 [00:00<00:00, 21.27it/s]"
     ]
    },
    {
     "name": "stdout",
     "output_type": "stream",
     "text": [
      "                   all      0.948          1\n"
     ]
    },
    {
     "name": "stderr",
     "output_type": "stream",
     "text": [
      "\n"
     ]
    },
    {
     "name": "stdout",
     "output_type": "stream",
     "text": [
      "\n",
      "      Epoch    GPU_mem       loss  Instances       Size\n"
     ]
    },
    {
     "name": "stderr",
     "output_type": "stream",
     "text": [
      "      8/100      2.05G     0.1962          8        640: 100%|██████████| 44/44 [00:03<00:00, 11.89it/s]\n",
      "               classes   top1_acc   top5_acc: 100%|██████████| 6/6 [00:00<00:00, 20.88it/s]"
     ]
    },
    {
     "name": "stdout",
     "output_type": "stream",
     "text": [
      "                   all      0.919          1\n"
     ]
    },
    {
     "name": "stderr",
     "output_type": "stream",
     "text": [
      "\n"
     ]
    },
    {
     "name": "stdout",
     "output_type": "stream",
     "text": [
      "\n",
      "      Epoch    GPU_mem       loss  Instances       Size\n"
     ]
    },
    {
     "name": "stderr",
     "output_type": "stream",
     "text": [
      "      9/100      2.05G     0.2388          8        640: 100%|██████████| 44/44 [00:03<00:00, 12.21it/s]\n",
      "               classes   top1_acc   top5_acc: 100%|██████████| 6/6 [00:00<00:00, 21.06it/s]"
     ]
    },
    {
     "name": "stdout",
     "output_type": "stream",
     "text": [
      "                   all      0.936          1\n"
     ]
    },
    {
     "name": "stderr",
     "output_type": "stream",
     "text": [
      "\n"
     ]
    },
    {
     "name": "stdout",
     "output_type": "stream",
     "text": [
      "\n",
      "      Epoch    GPU_mem       loss  Instances       Size\n"
     ]
    },
    {
     "name": "stderr",
     "output_type": "stream",
     "text": [
      "     10/100      2.05G     0.1372          8        640: 100%|██████████| 44/44 [00:03<00:00, 12.39it/s]\n",
      "               classes   top1_acc   top5_acc: 100%|██████████| 6/6 [00:00<00:00, 20.77it/s]"
     ]
    },
    {
     "name": "stdout",
     "output_type": "stream",
     "text": [
      "                   all       0.96          1\n"
     ]
    },
    {
     "name": "stderr",
     "output_type": "stream",
     "text": [
      "\n"
     ]
    },
    {
     "name": "stdout",
     "output_type": "stream",
     "text": [
      "\n",
      "      Epoch    GPU_mem       loss  Instances       Size\n"
     ]
    },
    {
     "name": "stderr",
     "output_type": "stream",
     "text": [
      "     11/100      2.05G     0.1167          8        640: 100%|██████████| 44/44 [00:03<00:00, 12.30it/s]\n",
      "               classes   top1_acc   top5_acc: 100%|██████████| 6/6 [00:00<00:00, 20.82it/s]"
     ]
    },
    {
     "name": "stdout",
     "output_type": "stream",
     "text": [
      "                   all      0.948          1\n"
     ]
    },
    {
     "name": "stderr",
     "output_type": "stream",
     "text": [
      "\n"
     ]
    },
    {
     "name": "stdout",
     "output_type": "stream",
     "text": [
      "\n",
      "      Epoch    GPU_mem       loss  Instances       Size\n"
     ]
    },
    {
     "name": "stderr",
     "output_type": "stream",
     "text": [
      "     12/100      2.05G     0.1488          8        640: 100%|██████████| 44/44 [00:03<00:00, 11.83it/s]\n",
      "               classes   top1_acc   top5_acc: 100%|██████████| 6/6 [00:00<00:00, 21.17it/s]"
     ]
    },
    {
     "name": "stdout",
     "output_type": "stream",
     "text": [
      "                   all      0.948          1\n"
     ]
    },
    {
     "name": "stderr",
     "output_type": "stream",
     "text": [
      "\n"
     ]
    },
    {
     "name": "stdout",
     "output_type": "stream",
     "text": [
      "\n",
      "      Epoch    GPU_mem       loss  Instances       Size\n"
     ]
    },
    {
     "name": "stderr",
     "output_type": "stream",
     "text": [
      "     13/100      2.05G     0.1324          8        640: 100%|██████████| 44/44 [00:03<00:00, 11.59it/s]\n",
      "               classes   top1_acc   top5_acc: 100%|██████████| 6/6 [00:00<00:00, 21.00it/s]"
     ]
    },
    {
     "name": "stdout",
     "output_type": "stream",
     "text": [
      "                   all      0.948          1\n"
     ]
    },
    {
     "name": "stderr",
     "output_type": "stream",
     "text": [
      "\n"
     ]
    },
    {
     "name": "stdout",
     "output_type": "stream",
     "text": [
      "\n",
      "      Epoch    GPU_mem       loss  Instances       Size\n"
     ]
    },
    {
     "name": "stderr",
     "output_type": "stream",
     "text": [
      "     14/100      2.05G     0.1391          8        640: 100%|██████████| 44/44 [00:03<00:00, 11.30it/s]\n",
      "               classes   top1_acc   top5_acc: 100%|██████████| 6/6 [00:00<00:00, 20.49it/s]"
     ]
    },
    {
     "name": "stdout",
     "output_type": "stream",
     "text": [
      "                   all      0.971          1\n"
     ]
    },
    {
     "name": "stderr",
     "output_type": "stream",
     "text": [
      "\n"
     ]
    },
    {
     "name": "stdout",
     "output_type": "stream",
     "text": [
      "\n",
      "      Epoch    GPU_mem       loss  Instances       Size\n"
     ]
    },
    {
     "name": "stderr",
     "output_type": "stream",
     "text": [
      "     15/100      2.05G     0.1383          8        640: 100%|██████████| 44/44 [00:03<00:00, 11.53it/s]\n",
      "               classes   top1_acc   top5_acc: 100%|██████████| 6/6 [00:00<00:00, 19.62it/s]"
     ]
    },
    {
     "name": "stdout",
     "output_type": "stream",
     "text": [
      "                   all      0.977          1\n"
     ]
    },
    {
     "name": "stderr",
     "output_type": "stream",
     "text": [
      "\n"
     ]
    },
    {
     "name": "stdout",
     "output_type": "stream",
     "text": [
      "\n",
      "      Epoch    GPU_mem       loss  Instances       Size\n"
     ]
    },
    {
     "name": "stderr",
     "output_type": "stream",
     "text": [
      "     16/100      2.05G    0.08014          8        640: 100%|██████████| 44/44 [00:03<00:00, 11.46it/s]\n",
      "               classes   top1_acc   top5_acc: 100%|██████████| 6/6 [00:00<00:00, 19.80it/s]"
     ]
    },
    {
     "name": "stdout",
     "output_type": "stream",
     "text": [
      "                   all      0.942          1\n"
     ]
    },
    {
     "name": "stderr",
     "output_type": "stream",
     "text": [
      "\n"
     ]
    },
    {
     "name": "stdout",
     "output_type": "stream",
     "text": [
      "\n",
      "      Epoch    GPU_mem       loss  Instances       Size\n"
     ]
    },
    {
     "name": "stderr",
     "output_type": "stream",
     "text": [
      "     17/100      2.05G    0.07328          8        640: 100%|██████████| 44/44 [00:03<00:00, 11.93it/s]\n",
      "               classes   top1_acc   top5_acc: 100%|██████████| 6/6 [00:00<00:00, 21.22it/s]"
     ]
    },
    {
     "name": "stdout",
     "output_type": "stream",
     "text": [
      "                   all       0.96          1\n"
     ]
    },
    {
     "name": "stderr",
     "output_type": "stream",
     "text": [
      "\n"
     ]
    },
    {
     "name": "stdout",
     "output_type": "stream",
     "text": [
      "\n",
      "      Epoch    GPU_mem       loss  Instances       Size\n"
     ]
    },
    {
     "name": "stderr",
     "output_type": "stream",
     "text": [
      "     18/100      2.05G    0.07883          8        640: 100%|██████████| 44/44 [00:03<00:00, 11.98it/s]\n",
      "               classes   top1_acc   top5_acc: 100%|██████████| 6/6 [00:00<00:00, 20.47it/s]"
     ]
    },
    {
     "name": "stdout",
     "output_type": "stream",
     "text": [
      "                   all       0.96          1\n"
     ]
    },
    {
     "name": "stderr",
     "output_type": "stream",
     "text": [
      "\n"
     ]
    },
    {
     "name": "stdout",
     "output_type": "stream",
     "text": [
      "\n",
      "      Epoch    GPU_mem       loss  Instances       Size\n"
     ]
    },
    {
     "name": "stderr",
     "output_type": "stream",
     "text": [
      "     19/100      2.05G     0.1127          8        640: 100%|██████████| 44/44 [00:03<00:00, 11.43it/s]\n",
      "               classes   top1_acc   top5_acc: 100%|██████████| 6/6 [00:00<00:00, 19.09it/s]"
     ]
    },
    {
     "name": "stdout",
     "output_type": "stream",
     "text": [
      "                   all       0.96          1\n"
     ]
    },
    {
     "name": "stderr",
     "output_type": "stream",
     "text": [
      "\n"
     ]
    },
    {
     "name": "stdout",
     "output_type": "stream",
     "text": [
      "\n",
      "      Epoch    GPU_mem       loss  Instances       Size\n"
     ]
    },
    {
     "name": "stderr",
     "output_type": "stream",
     "text": [
      "     20/100      2.05G     0.1141          8        640: 100%|██████████| 44/44 [00:04<00:00,  9.54it/s]\n",
      "               classes   top1_acc   top5_acc: 100%|██████████| 6/6 [00:00<00:00, 15.22it/s]"
     ]
    },
    {
     "name": "stdout",
     "output_type": "stream",
     "text": [
      "                   all      0.965          1\n"
     ]
    },
    {
     "name": "stderr",
     "output_type": "stream",
     "text": [
      "\n"
     ]
    },
    {
     "name": "stdout",
     "output_type": "stream",
     "text": [
      "\n",
      "      Epoch    GPU_mem       loss  Instances       Size\n"
     ]
    },
    {
     "name": "stderr",
     "output_type": "stream",
     "text": [
      "     21/100      2.05G     0.1131          8        640: 100%|██████████| 44/44 [00:03<00:00, 11.34it/s]\n",
      "               classes   top1_acc   top5_acc: 100%|██████████| 6/6 [00:00<00:00, 20.41it/s]"
     ]
    },
    {
     "name": "stdout",
     "output_type": "stream",
     "text": [
      "                   all      0.948          1\n"
     ]
    },
    {
     "name": "stderr",
     "output_type": "stream",
     "text": [
      "\n"
     ]
    },
    {
     "name": "stdout",
     "output_type": "stream",
     "text": [
      "\n",
      "      Epoch    GPU_mem       loss  Instances       Size\n"
     ]
    },
    {
     "name": "stderr",
     "output_type": "stream",
     "text": [
      "     22/100      2.05G     0.1252          8        640: 100%|██████████| 44/44 [00:03<00:00, 11.77it/s]\n",
      "               classes   top1_acc   top5_acc: 100%|██████████| 6/6 [00:00<00:00, 19.74it/s]"
     ]
    },
    {
     "name": "stdout",
     "output_type": "stream",
     "text": [
      "                   all      0.971          1\n"
     ]
    },
    {
     "name": "stderr",
     "output_type": "stream",
     "text": [
      "\n"
     ]
    },
    {
     "name": "stdout",
     "output_type": "stream",
     "text": [
      "\n",
      "      Epoch    GPU_mem       loss  Instances       Size\n"
     ]
    },
    {
     "name": "stderr",
     "output_type": "stream",
     "text": [
      "     23/100      2.05G    0.07321          8        640: 100%|██████████| 44/44 [00:03<00:00, 11.64it/s]\n",
      "               classes   top1_acc   top5_acc: 100%|██████████| 6/6 [00:00<00:00, 20.68it/s]"
     ]
    },
    {
     "name": "stdout",
     "output_type": "stream",
     "text": [
      "                   all      0.971          1\n"
     ]
    },
    {
     "name": "stderr",
     "output_type": "stream",
     "text": [
      "\n"
     ]
    },
    {
     "name": "stdout",
     "output_type": "stream",
     "text": [
      "\n",
      "      Epoch    GPU_mem       loss  Instances       Size\n"
     ]
    },
    {
     "name": "stderr",
     "output_type": "stream",
     "text": [
      "     24/100      2.05G    0.07484          8        640: 100%|██████████| 44/44 [00:03<00:00, 11.70it/s]\n",
      "               classes   top1_acc   top5_acc: 100%|██████████| 6/6 [00:00<00:00, 21.30it/s]"
     ]
    },
    {
     "name": "stdout",
     "output_type": "stream",
     "text": [
      "                   all      0.965          1\n"
     ]
    },
    {
     "name": "stderr",
     "output_type": "stream",
     "text": [
      "\n"
     ]
    },
    {
     "name": "stdout",
     "output_type": "stream",
     "text": [
      "\n",
      "      Epoch    GPU_mem       loss  Instances       Size\n"
     ]
    },
    {
     "name": "stderr",
     "output_type": "stream",
     "text": [
      "     25/100      2.05G    0.06221          8        640: 100%|██████████| 44/44 [00:03<00:00, 11.14it/s]\n",
      "               classes   top1_acc   top5_acc: 100%|██████████| 6/6 [00:00<00:00, 20.92it/s]"
     ]
    },
    {
     "name": "stdout",
     "output_type": "stream",
     "text": [
      "                   all      0.983          1\n"
     ]
    },
    {
     "name": "stderr",
     "output_type": "stream",
     "text": [
      "\n"
     ]
    },
    {
     "name": "stdout",
     "output_type": "stream",
     "text": [
      "\n",
      "      Epoch    GPU_mem       loss  Instances       Size\n"
     ]
    },
    {
     "name": "stderr",
     "output_type": "stream",
     "text": [
      "     26/100      2.05G    0.06526          8        640: 100%|██████████| 44/44 [00:03<00:00, 11.88it/s]\n",
      "               classes   top1_acc   top5_acc: 100%|██████████| 6/6 [00:00<00:00, 18.36it/s]"
     ]
    },
    {
     "name": "stdout",
     "output_type": "stream",
     "text": [
      "                   all      0.983          1\n"
     ]
    },
    {
     "name": "stderr",
     "output_type": "stream",
     "text": [
      "\n"
     ]
    },
    {
     "name": "stdout",
     "output_type": "stream",
     "text": [
      "\n",
      "      Epoch    GPU_mem       loss  Instances       Size\n"
     ]
    },
    {
     "name": "stderr",
     "output_type": "stream",
     "text": [
      "     27/100      2.05G    0.07735          8        640: 100%|██████████| 44/44 [00:03<00:00, 11.90it/s]\n",
      "               classes   top1_acc   top5_acc: 100%|██████████| 6/6 [00:00<00:00, 20.13it/s]"
     ]
    },
    {
     "name": "stdout",
     "output_type": "stream",
     "text": [
      "                   all      0.954          1\n"
     ]
    },
    {
     "name": "stderr",
     "output_type": "stream",
     "text": [
      "\n"
     ]
    },
    {
     "name": "stdout",
     "output_type": "stream",
     "text": [
      "\n",
      "      Epoch    GPU_mem       loss  Instances       Size\n"
     ]
    },
    {
     "name": "stderr",
     "output_type": "stream",
     "text": [
      "     28/100      2.05G    0.07357          8        640: 100%|██████████| 44/44 [00:03<00:00, 11.71it/s]\n",
      "               classes   top1_acc   top5_acc: 100%|██████████| 6/6 [00:00<00:00, 20.74it/s]"
     ]
    },
    {
     "name": "stdout",
     "output_type": "stream",
     "text": [
      "                   all      0.977          1\n"
     ]
    },
    {
     "name": "stderr",
     "output_type": "stream",
     "text": [
      "\n"
     ]
    },
    {
     "name": "stdout",
     "output_type": "stream",
     "text": [
      "\n",
      "      Epoch    GPU_mem       loss  Instances       Size\n"
     ]
    },
    {
     "name": "stderr",
     "output_type": "stream",
     "text": [
      "     29/100      2.05G    0.07297          8        640: 100%|██████████| 44/44 [00:04<00:00, 10.89it/s]\n",
      "               classes   top1_acc   top5_acc: 100%|██████████| 6/6 [00:00<00:00, 17.76it/s]"
     ]
    },
    {
     "name": "stdout",
     "output_type": "stream",
     "text": [
      "                   all      0.954          1\n"
     ]
    },
    {
     "name": "stderr",
     "output_type": "stream",
     "text": [
      "\n"
     ]
    },
    {
     "name": "stdout",
     "output_type": "stream",
     "text": [
      "\n",
      "      Epoch    GPU_mem       loss  Instances       Size\n"
     ]
    },
    {
     "name": "stderr",
     "output_type": "stream",
     "text": [
      "     30/100      2.05G      0.045          8        640: 100%|██████████| 44/44 [00:04<00:00, 10.33it/s]\n",
      "               classes   top1_acc   top5_acc: 100%|██████████| 6/6 [00:00<00:00, 20.19it/s]"
     ]
    },
    {
     "name": "stdout",
     "output_type": "stream",
     "text": [
      "                   all      0.971          1\n"
     ]
    },
    {
     "name": "stderr",
     "output_type": "stream",
     "text": [
      "\n"
     ]
    },
    {
     "name": "stdout",
     "output_type": "stream",
     "text": [
      "\n",
      "      Epoch    GPU_mem       loss  Instances       Size\n"
     ]
    },
    {
     "name": "stderr",
     "output_type": "stream",
     "text": [
      "     31/100      2.05G    0.06846          8        640: 100%|██████████| 44/44 [00:04<00:00, 10.73it/s]\n",
      "               classes   top1_acc   top5_acc: 100%|██████████| 6/6 [00:00<00:00, 18.06it/s]"
     ]
    },
    {
     "name": "stdout",
     "output_type": "stream",
     "text": [
      "                   all      0.971          1\n"
     ]
    },
    {
     "name": "stderr",
     "output_type": "stream",
     "text": [
      "\n"
     ]
    },
    {
     "name": "stdout",
     "output_type": "stream",
     "text": [
      "\n",
      "      Epoch    GPU_mem       loss  Instances       Size\n"
     ]
    },
    {
     "name": "stderr",
     "output_type": "stream",
     "text": [
      "     32/100      2.05G    0.05469          8        640: 100%|██████████| 44/44 [00:03<00:00, 11.20it/s]\n",
      "               classes   top1_acc   top5_acc: 100%|██████████| 6/6 [00:00<00:00, 18.68it/s]\n"
     ]
    },
    {
     "name": "stdout",
     "output_type": "stream",
     "text": [
      "                   all      0.977          1\n",
      "\n",
      "      Epoch    GPU_mem       loss  Instances       Size\n"
     ]
    },
    {
     "name": "stderr",
     "output_type": "stream",
     "text": [
      "     33/100      2.05G    0.06594          8        640: 100%|██████████| 44/44 [00:03<00:00, 11.32it/s]\n",
      "               classes   top1_acc   top5_acc: 100%|██████████| 6/6 [00:00<00:00, 20.41it/s]"
     ]
    },
    {
     "name": "stdout",
     "output_type": "stream",
     "text": [
      "                   all       0.96          1\n"
     ]
    },
    {
     "name": "stderr",
     "output_type": "stream",
     "text": [
      "\n"
     ]
    },
    {
     "name": "stdout",
     "output_type": "stream",
     "text": [
      "\n",
      "      Epoch    GPU_mem       loss  Instances       Size\n"
     ]
    },
    {
     "name": "stderr",
     "output_type": "stream",
     "text": [
      "     34/100      2.05G    0.06904          8        640: 100%|██████████| 44/44 [00:03<00:00, 11.28it/s]\n",
      "               classes   top1_acc   top5_acc: 100%|██████████| 6/6 [00:00<00:00, 20.56it/s]"
     ]
    },
    {
     "name": "stdout",
     "output_type": "stream",
     "text": [
      "                   all      0.948          1\n"
     ]
    },
    {
     "name": "stderr",
     "output_type": "stream",
     "text": [
      "\n"
     ]
    },
    {
     "name": "stdout",
     "output_type": "stream",
     "text": [
      "\n",
      "      Epoch    GPU_mem       loss  Instances       Size\n"
     ]
    },
    {
     "name": "stderr",
     "output_type": "stream",
     "text": [
      "     35/100      2.05G    0.04487          8        640: 100%|██████████| 44/44 [00:03<00:00, 12.01it/s]\n",
      "               classes   top1_acc   top5_acc: 100%|██████████| 6/6 [00:00<00:00, 20.33it/s]"
     ]
    },
    {
     "name": "stdout",
     "output_type": "stream",
     "text": [
      "                   all      0.965          1\n"
     ]
    },
    {
     "name": "stderr",
     "output_type": "stream",
     "text": [
      "\n"
     ]
    },
    {
     "name": "stdout",
     "output_type": "stream",
     "text": [
      "\n",
      "      Epoch    GPU_mem       loss  Instances       Size\n"
     ]
    },
    {
     "name": "stderr",
     "output_type": "stream",
     "text": [
      "     36/100      2.05G    0.04677          8        640: 100%|██████████| 44/44 [00:03<00:00, 12.01it/s]\n",
      "               classes   top1_acc   top5_acc: 100%|██████████| 6/6 [00:00<00:00, 20.10it/s]"
     ]
    },
    {
     "name": "stdout",
     "output_type": "stream",
     "text": [
      "                   all      0.977          1\n"
     ]
    },
    {
     "name": "stderr",
     "output_type": "stream",
     "text": [
      "\n"
     ]
    },
    {
     "name": "stdout",
     "output_type": "stream",
     "text": [
      "\n",
      "      Epoch    GPU_mem       loss  Instances       Size\n"
     ]
    },
    {
     "name": "stderr",
     "output_type": "stream",
     "text": [
      "     37/100      2.05G    0.03856          8        640: 100%|██████████| 44/44 [00:03<00:00, 11.97it/s]\n",
      "               classes   top1_acc   top5_acc: 100%|██████████| 6/6 [00:00<00:00, 21.09it/s]"
     ]
    },
    {
     "name": "stdout",
     "output_type": "stream",
     "text": [
      "                   all      0.983          1\n"
     ]
    },
    {
     "name": "stderr",
     "output_type": "stream",
     "text": [
      "\n"
     ]
    },
    {
     "name": "stdout",
     "output_type": "stream",
     "text": [
      "\n",
      "      Epoch    GPU_mem       loss  Instances       Size\n"
     ]
    },
    {
     "name": "stderr",
     "output_type": "stream",
     "text": [
      "     38/100      2.05G    0.05396          8        640: 100%|██████████| 44/44 [00:03<00:00, 12.34it/s]\n",
      "               classes   top1_acc   top5_acc: 100%|██████████| 6/6 [00:00<00:00, 19.58it/s]"
     ]
    },
    {
     "name": "stdout",
     "output_type": "stream",
     "text": [
      "                   all      0.977          1\n"
     ]
    },
    {
     "name": "stderr",
     "output_type": "stream",
     "text": [
      "\n"
     ]
    },
    {
     "name": "stdout",
     "output_type": "stream",
     "text": [
      "\n",
      "      Epoch    GPU_mem       loss  Instances       Size\n"
     ]
    },
    {
     "name": "stderr",
     "output_type": "stream",
     "text": [
      "     39/100      2.05G    0.03566          8        640: 100%|██████████| 44/44 [00:03<00:00, 12.40it/s]\n",
      "               classes   top1_acc   top5_acc: 100%|██████████| 6/6 [00:00<00:00, 19.51it/s]"
     ]
    },
    {
     "name": "stdout",
     "output_type": "stream",
     "text": [
      "                   all      0.965          1\n"
     ]
    },
    {
     "name": "stderr",
     "output_type": "stream",
     "text": [
      "\n"
     ]
    },
    {
     "name": "stdout",
     "output_type": "stream",
     "text": [
      "\n",
      "      Epoch    GPU_mem       loss  Instances       Size\n"
     ]
    },
    {
     "name": "stderr",
     "output_type": "stream",
     "text": [
      "     40/100      2.05G    0.03831          8        640: 100%|██████████| 44/44 [00:03<00:00, 12.05it/s]\n",
      "               classes   top1_acc   top5_acc: 100%|██████████| 6/6 [00:00<00:00, 20.24it/s]"
     ]
    },
    {
     "name": "stdout",
     "output_type": "stream",
     "text": [
      "                   all      0.971          1\n"
     ]
    },
    {
     "name": "stderr",
     "output_type": "stream",
     "text": [
      "\n"
     ]
    },
    {
     "name": "stdout",
     "output_type": "stream",
     "text": [
      "\n",
      "      Epoch    GPU_mem       loss  Instances       Size\n"
     ]
    },
    {
     "name": "stderr",
     "output_type": "stream",
     "text": [
      "     41/100      2.05G    0.04364          8        640: 100%|██████████| 44/44 [00:03<00:00, 11.94it/s]\n",
      "               classes   top1_acc   top5_acc: 100%|██████████| 6/6 [00:00<00:00, 20.84it/s]"
     ]
    },
    {
     "name": "stdout",
     "output_type": "stream",
     "text": [
      "                   all      0.983          1\n"
     ]
    },
    {
     "name": "stderr",
     "output_type": "stream",
     "text": [
      "\n"
     ]
    },
    {
     "name": "stdout",
     "output_type": "stream",
     "text": [
      "\n",
      "      Epoch    GPU_mem       loss  Instances       Size\n"
     ]
    },
    {
     "name": "stderr",
     "output_type": "stream",
     "text": [
      "     42/100      2.05G    0.04484          8        640: 100%|██████████| 44/44 [00:03<00:00, 12.21it/s]\n",
      "               classes   top1_acc   top5_acc: 100%|██████████| 6/6 [00:00<00:00, 20.26it/s]"
     ]
    },
    {
     "name": "stdout",
     "output_type": "stream",
     "text": [
      "                   all      0.965          1\n"
     ]
    },
    {
     "name": "stderr",
     "output_type": "stream",
     "text": [
      "\n"
     ]
    },
    {
     "name": "stdout",
     "output_type": "stream",
     "text": [
      "\n",
      "      Epoch    GPU_mem       loss  Instances       Size\n"
     ]
    },
    {
     "name": "stderr",
     "output_type": "stream",
     "text": [
      "     43/100      2.05G    0.03261          8        640: 100%|██████████| 44/44 [00:03<00:00, 12.03it/s]\n",
      "               classes   top1_acc   top5_acc: 100%|██████████| 6/6 [00:00<00:00, 21.13it/s]"
     ]
    },
    {
     "name": "stdout",
     "output_type": "stream",
     "text": [
      "                   all      0.977          1\n"
     ]
    },
    {
     "name": "stderr",
     "output_type": "stream",
     "text": [
      "\n"
     ]
    },
    {
     "name": "stdout",
     "output_type": "stream",
     "text": [
      "\n",
      "      Epoch    GPU_mem       loss  Instances       Size\n"
     ]
    },
    {
     "name": "stderr",
     "output_type": "stream",
     "text": [
      "     44/100      2.05G     0.0361          8        640: 100%|██████████| 44/44 [00:03<00:00, 11.67it/s]\n",
      "               classes   top1_acc   top5_acc: 100%|██████████| 6/6 [00:00<00:00, 20.19it/s]"
     ]
    },
    {
     "name": "stdout",
     "output_type": "stream",
     "text": [
      "                   all      0.965          1\n"
     ]
    },
    {
     "name": "stderr",
     "output_type": "stream",
     "text": [
      "\n"
     ]
    },
    {
     "name": "stdout",
     "output_type": "stream",
     "text": [
      "\n",
      "      Epoch    GPU_mem       loss  Instances       Size\n"
     ]
    },
    {
     "name": "stderr",
     "output_type": "stream",
     "text": [
      "     45/100      2.05G    0.02551          8        640: 100%|██████████| 44/44 [00:03<00:00, 11.94it/s]\n",
      "               classes   top1_acc   top5_acc: 100%|██████████| 6/6 [00:00<00:00, 20.71it/s]"
     ]
    },
    {
     "name": "stdout",
     "output_type": "stream",
     "text": [
      "                   all       0.96          1\n"
     ]
    },
    {
     "name": "stderr",
     "output_type": "stream",
     "text": [
      "\n"
     ]
    },
    {
     "name": "stdout",
     "output_type": "stream",
     "text": [
      "\n",
      "      Epoch    GPU_mem       loss  Instances       Size\n"
     ]
    },
    {
     "name": "stderr",
     "output_type": "stream",
     "text": [
      "     46/100      2.05G    0.04668          8        640: 100%|██████████| 44/44 [00:03<00:00, 12.19it/s]\n",
      "               classes   top1_acc   top5_acc: 100%|██████████| 6/6 [00:00<00:00, 20.96it/s]"
     ]
    },
    {
     "name": "stdout",
     "output_type": "stream",
     "text": [
      "                   all      0.977          1\n"
     ]
    },
    {
     "name": "stderr",
     "output_type": "stream",
     "text": [
      "\n"
     ]
    },
    {
     "name": "stdout",
     "output_type": "stream",
     "text": [
      "\n",
      "      Epoch    GPU_mem       loss  Instances       Size\n"
     ]
    },
    {
     "name": "stderr",
     "output_type": "stream",
     "text": [
      "     47/100      2.05G    0.03038          8        640: 100%|██████████| 44/44 [00:03<00:00, 11.27it/s]\n",
      "               classes   top1_acc   top5_acc: 100%|██████████| 6/6 [00:00<00:00, 19.43it/s]"
     ]
    },
    {
     "name": "stdout",
     "output_type": "stream",
     "text": [
      "                   all      0.988          1\n"
     ]
    },
    {
     "name": "stderr",
     "output_type": "stream",
     "text": [
      "\n"
     ]
    },
    {
     "name": "stdout",
     "output_type": "stream",
     "text": [
      "\n",
      "      Epoch    GPU_mem       loss  Instances       Size\n"
     ]
    },
    {
     "name": "stderr",
     "output_type": "stream",
     "text": [
      "     48/100      2.05G    0.01885          8        640: 100%|██████████| 44/44 [00:04<00:00, 10.91it/s]\n",
      "               classes   top1_acc   top5_acc: 100%|██████████| 6/6 [00:00<00:00, 18.68it/s]"
     ]
    },
    {
     "name": "stdout",
     "output_type": "stream",
     "text": [
      "                   all      0.988          1\n"
     ]
    },
    {
     "name": "stderr",
     "output_type": "stream",
     "text": [
      "\n"
     ]
    },
    {
     "name": "stdout",
     "output_type": "stream",
     "text": [
      "\n",
      "      Epoch    GPU_mem       loss  Instances       Size\n"
     ]
    },
    {
     "name": "stderr",
     "output_type": "stream",
     "text": [
      "     49/100      2.05G    0.02807          8        640: 100%|██████████| 44/44 [00:03<00:00, 11.25it/s]\n",
      "               classes   top1_acc   top5_acc: 100%|██████████| 6/6 [00:00<00:00, 19.49it/s]"
     ]
    },
    {
     "name": "stdout",
     "output_type": "stream",
     "text": [
      "                   all      0.988          1\n"
     ]
    },
    {
     "name": "stderr",
     "output_type": "stream",
     "text": [
      "\n"
     ]
    },
    {
     "name": "stdout",
     "output_type": "stream",
     "text": [
      "\n",
      "      Epoch    GPU_mem       loss  Instances       Size\n"
     ]
    },
    {
     "name": "stderr",
     "output_type": "stream",
     "text": [
      "     50/100      2.05G    0.04631          8        640: 100%|██████████| 44/44 [00:04<00:00, 10.99it/s]\n",
      "               classes   top1_acc   top5_acc: 100%|██████████| 6/6 [00:00<00:00, 18.34it/s]"
     ]
    },
    {
     "name": "stdout",
     "output_type": "stream",
     "text": [
      "                   all      0.994          1\n"
     ]
    },
    {
     "name": "stderr",
     "output_type": "stream",
     "text": [
      "\n"
     ]
    },
    {
     "name": "stdout",
     "output_type": "stream",
     "text": [
      "\n",
      "      Epoch    GPU_mem       loss  Instances       Size\n"
     ]
    },
    {
     "name": "stderr",
     "output_type": "stream",
     "text": [
      "     51/100      2.05G    0.03588          8        640: 100%|██████████| 44/44 [00:03<00:00, 11.06it/s]\n",
      "               classes   top1_acc   top5_acc: 100%|██████████| 6/6 [00:00<00:00, 20.79it/s]"
     ]
    },
    {
     "name": "stdout",
     "output_type": "stream",
     "text": [
      "                   all      0.994          1\n"
     ]
    },
    {
     "name": "stderr",
     "output_type": "stream",
     "text": [
      "\n"
     ]
    },
    {
     "name": "stdout",
     "output_type": "stream",
     "text": [
      "\n",
      "      Epoch    GPU_mem       loss  Instances       Size\n"
     ]
    },
    {
     "name": "stderr",
     "output_type": "stream",
     "text": [
      "     52/100      2.05G    0.03332          8        640: 100%|██████████| 44/44 [00:03<00:00, 11.83it/s]\n",
      "               classes   top1_acc   top5_acc: 100%|██████████| 6/6 [00:00<00:00, 20.99it/s]"
     ]
    },
    {
     "name": "stdout",
     "output_type": "stream",
     "text": [
      "                   all      0.988          1\n"
     ]
    },
    {
     "name": "stderr",
     "output_type": "stream",
     "text": [
      "\n"
     ]
    },
    {
     "name": "stdout",
     "output_type": "stream",
     "text": [
      "\n",
      "      Epoch    GPU_mem       loss  Instances       Size\n"
     ]
    },
    {
     "name": "stderr",
     "output_type": "stream",
     "text": [
      "     53/100      2.05G    0.03928          8        640: 100%|██████████| 44/44 [00:03<00:00, 11.82it/s]\n",
      "               classes   top1_acc   top5_acc: 100%|██████████| 6/6 [00:00<00:00, 21.68it/s]"
     ]
    },
    {
     "name": "stdout",
     "output_type": "stream",
     "text": [
      "                   all      0.988          1\n"
     ]
    },
    {
     "name": "stderr",
     "output_type": "stream",
     "text": [
      "\n"
     ]
    },
    {
     "name": "stdout",
     "output_type": "stream",
     "text": [
      "\n",
      "      Epoch    GPU_mem       loss  Instances       Size\n"
     ]
    },
    {
     "name": "stderr",
     "output_type": "stream",
     "text": [
      "     54/100      2.05G    0.03049          8        640: 100%|██████████| 44/44 [00:03<00:00, 11.63it/s]\n",
      "               classes   top1_acc   top5_acc: 100%|██████████| 6/6 [00:00<00:00, 19.86it/s]"
     ]
    },
    {
     "name": "stdout",
     "output_type": "stream",
     "text": [
      "                   all      0.977          1\n"
     ]
    },
    {
     "name": "stderr",
     "output_type": "stream",
     "text": [
      "\n"
     ]
    },
    {
     "name": "stdout",
     "output_type": "stream",
     "text": [
      "\n",
      "      Epoch    GPU_mem       loss  Instances       Size\n"
     ]
    },
    {
     "name": "stderr",
     "output_type": "stream",
     "text": [
      "     55/100      2.05G    0.03147          8        640: 100%|██████████| 44/44 [00:03<00:00, 11.25it/s]\n",
      "               classes   top1_acc   top5_acc: 100%|██████████| 6/6 [00:00<00:00, 20.51it/s]"
     ]
    },
    {
     "name": "stdout",
     "output_type": "stream",
     "text": [
      "                   all      0.977          1\n"
     ]
    },
    {
     "name": "stderr",
     "output_type": "stream",
     "text": [
      "\n"
     ]
    },
    {
     "name": "stdout",
     "output_type": "stream",
     "text": [
      "\n",
      "      Epoch    GPU_mem       loss  Instances       Size\n"
     ]
    },
    {
     "name": "stderr",
     "output_type": "stream",
     "text": [
      "     56/100      2.05G    0.03164          8        640: 100%|██████████| 44/44 [00:03<00:00, 11.16it/s]\n",
      "               classes   top1_acc   top5_acc: 100%|██████████| 6/6 [00:00<00:00, 20.87it/s]"
     ]
    },
    {
     "name": "stdout",
     "output_type": "stream",
     "text": [
      "                   all      0.965          1\n"
     ]
    },
    {
     "name": "stderr",
     "output_type": "stream",
     "text": [
      "\n"
     ]
    },
    {
     "name": "stdout",
     "output_type": "stream",
     "text": [
      "\n",
      "      Epoch    GPU_mem       loss  Instances       Size\n"
     ]
    },
    {
     "name": "stderr",
     "output_type": "stream",
     "text": [
      "     57/100      2.05G    0.02832          8        640: 100%|██████████| 44/44 [00:04<00:00, 10.86it/s]\n",
      "               classes   top1_acc   top5_acc: 100%|██████████| 6/6 [00:00<00:00, 20.22it/s]"
     ]
    },
    {
     "name": "stdout",
     "output_type": "stream",
     "text": [
      "                   all      0.977          1\n"
     ]
    },
    {
     "name": "stderr",
     "output_type": "stream",
     "text": [
      "\n"
     ]
    },
    {
     "name": "stdout",
     "output_type": "stream",
     "text": [
      "\n",
      "      Epoch    GPU_mem       loss  Instances       Size\n"
     ]
    },
    {
     "name": "stderr",
     "output_type": "stream",
     "text": [
      "     58/100      2.05G    0.01895          8        640: 100%|██████████| 44/44 [00:04<00:00, 10.94it/s]\n",
      "               classes   top1_acc   top5_acc: 100%|██████████| 6/6 [00:00<00:00, 20.22it/s]"
     ]
    },
    {
     "name": "stdout",
     "output_type": "stream",
     "text": [
      "                   all      0.971          1\n"
     ]
    },
    {
     "name": "stderr",
     "output_type": "stream",
     "text": [
      "\n"
     ]
    },
    {
     "name": "stdout",
     "output_type": "stream",
     "text": [
      "\n",
      "      Epoch    GPU_mem       loss  Instances       Size\n"
     ]
    },
    {
     "name": "stderr",
     "output_type": "stream",
     "text": [
      "     59/100      2.05G    0.02188          8        640: 100%|██████████| 44/44 [00:03<00:00, 11.81it/s]\n",
      "               classes   top1_acc   top5_acc: 100%|██████████| 6/6 [00:00<00:00, 20.39it/s]"
     ]
    },
    {
     "name": "stdout",
     "output_type": "stream",
     "text": [
      "                   all      0.971          1\n"
     ]
    },
    {
     "name": "stderr",
     "output_type": "stream",
     "text": [
      "\n"
     ]
    },
    {
     "name": "stdout",
     "output_type": "stream",
     "text": [
      "\n",
      "      Epoch    GPU_mem       loss  Instances       Size\n"
     ]
    },
    {
     "name": "stderr",
     "output_type": "stream",
     "text": [
      "     60/100      2.05G     0.0308          8        640: 100%|██████████| 44/44 [00:03<00:00, 11.33it/s]\n",
      "               classes   top1_acc   top5_acc: 100%|██████████| 6/6 [00:00<00:00, 18.90it/s]"
     ]
    },
    {
     "name": "stdout",
     "output_type": "stream",
     "text": [
      "                   all      0.971          1\n"
     ]
    },
    {
     "name": "stderr",
     "output_type": "stream",
     "text": [
      "\n"
     ]
    },
    {
     "name": "stdout",
     "output_type": "stream",
     "text": [
      "\n",
      "      Epoch    GPU_mem       loss  Instances       Size\n"
     ]
    },
    {
     "name": "stderr",
     "output_type": "stream",
     "text": [
      "     61/100      2.05G    0.03044          8        640: 100%|██████████| 44/44 [00:03<00:00, 11.81it/s]\n",
      "               classes   top1_acc   top5_acc: 100%|██████████| 6/6 [00:00<00:00, 19.20it/s]"
     ]
    },
    {
     "name": "stdout",
     "output_type": "stream",
     "text": [
      "                   all      0.977          1\n"
     ]
    },
    {
     "name": "stderr",
     "output_type": "stream",
     "text": [
      "\n"
     ]
    },
    {
     "name": "stdout",
     "output_type": "stream",
     "text": [
      "\n",
      "      Epoch    GPU_mem       loss  Instances       Size\n"
     ]
    },
    {
     "name": "stderr",
     "output_type": "stream",
     "text": [
      "     62/100      2.05G     0.0291          8        640: 100%|██████████| 44/44 [00:03<00:00, 11.15it/s]\n",
      "               classes   top1_acc   top5_acc: 100%|██████████| 6/6 [00:00<00:00, 18.86it/s]"
     ]
    },
    {
     "name": "stdout",
     "output_type": "stream",
     "text": [
      "                   all      0.983          1\n"
     ]
    },
    {
     "name": "stderr",
     "output_type": "stream",
     "text": [
      "\n"
     ]
    },
    {
     "name": "stdout",
     "output_type": "stream",
     "text": [
      "\n",
      "      Epoch    GPU_mem       loss  Instances       Size\n"
     ]
    },
    {
     "name": "stderr",
     "output_type": "stream",
     "text": [
      "     63/100      2.05G    0.01802          8        640: 100%|██████████| 44/44 [00:03<00:00, 11.40it/s]\n",
      "               classes   top1_acc   top5_acc: 100%|██████████| 6/6 [00:00<00:00, 18.34it/s]"
     ]
    },
    {
     "name": "stdout",
     "output_type": "stream",
     "text": [
      "                   all      0.983          1\n"
     ]
    },
    {
     "name": "stderr",
     "output_type": "stream",
     "text": [
      "\n"
     ]
    },
    {
     "name": "stdout",
     "output_type": "stream",
     "text": [
      "\n",
      "      Epoch    GPU_mem       loss  Instances       Size\n"
     ]
    },
    {
     "name": "stderr",
     "output_type": "stream",
     "text": [
      "     64/100      2.05G    0.02361          8        640: 100%|██████████| 44/44 [00:03<00:00, 11.55it/s]\n",
      "               classes   top1_acc   top5_acc: 100%|██████████| 6/6 [00:00<00:00, 19.19it/s]"
     ]
    },
    {
     "name": "stdout",
     "output_type": "stream",
     "text": [
      "                   all      0.983          1\n"
     ]
    },
    {
     "name": "stderr",
     "output_type": "stream",
     "text": [
      "\n"
     ]
    },
    {
     "name": "stdout",
     "output_type": "stream",
     "text": [
      "\n",
      "      Epoch    GPU_mem       loss  Instances       Size\n"
     ]
    },
    {
     "name": "stderr",
     "output_type": "stream",
     "text": [
      "     65/100      2.05G    0.01383          8        640: 100%|██████████| 44/44 [00:03<00:00, 11.51it/s]\n",
      "               classes   top1_acc   top5_acc: 100%|██████████| 6/6 [00:00<00:00, 18.85it/s]"
     ]
    },
    {
     "name": "stdout",
     "output_type": "stream",
     "text": [
      "                   all      0.977          1\n"
     ]
    },
    {
     "name": "stderr",
     "output_type": "stream",
     "text": [
      "\n"
     ]
    },
    {
     "name": "stdout",
     "output_type": "stream",
     "text": [
      "\n",
      "      Epoch    GPU_mem       loss  Instances       Size\n"
     ]
    },
    {
     "name": "stderr",
     "output_type": "stream",
     "text": [
      "     66/100      2.05G    0.02064          8        640: 100%|██████████| 44/44 [00:03<00:00, 11.02it/s]\n",
      "               classes   top1_acc   top5_acc: 100%|██████████| 6/6 [00:00<00:00, 21.72it/s]"
     ]
    },
    {
     "name": "stdout",
     "output_type": "stream",
     "text": [
      "                   all      0.983          1\n"
     ]
    },
    {
     "name": "stderr",
     "output_type": "stream",
     "text": [
      "\n"
     ]
    },
    {
     "name": "stdout",
     "output_type": "stream",
     "text": [
      "\n",
      "      Epoch    GPU_mem       loss  Instances       Size\n"
     ]
    },
    {
     "name": "stderr",
     "output_type": "stream",
     "text": [
      "     67/100      2.05G    0.01497          8        640: 100%|██████████| 44/44 [00:03<00:00, 11.79it/s]\n",
      "               classes   top1_acc   top5_acc: 100%|██████████| 6/6 [00:00<00:00, 20.34it/s]"
     ]
    },
    {
     "name": "stdout",
     "output_type": "stream",
     "text": [
      "                   all      0.977          1\n"
     ]
    },
    {
     "name": "stderr",
     "output_type": "stream",
     "text": [
      "\n"
     ]
    },
    {
     "name": "stdout",
     "output_type": "stream",
     "text": [
      "\n",
      "      Epoch    GPU_mem       loss  Instances       Size\n"
     ]
    },
    {
     "name": "stderr",
     "output_type": "stream",
     "text": [
      "     68/100      2.05G    0.01623          8        640: 100%|██████████| 44/44 [00:03<00:00, 11.20it/s]\n",
      "               classes   top1_acc   top5_acc: 100%|██████████| 6/6 [00:00<00:00, 20.85it/s]"
     ]
    },
    {
     "name": "stdout",
     "output_type": "stream",
     "text": [
      "                   all      0.977          1\n"
     ]
    },
    {
     "name": "stderr",
     "output_type": "stream",
     "text": [
      "\n"
     ]
    },
    {
     "name": "stdout",
     "output_type": "stream",
     "text": [
      "\n",
      "      Epoch    GPU_mem       loss  Instances       Size\n"
     ]
    },
    {
     "name": "stderr",
     "output_type": "stream",
     "text": [
      "     69/100      2.05G     0.0147          8        640: 100%|██████████| 44/44 [00:04<00:00, 10.99it/s]\n",
      "               classes   top1_acc   top5_acc: 100%|██████████| 6/6 [00:00<00:00, 18.93it/s]"
     ]
    },
    {
     "name": "stdout",
     "output_type": "stream",
     "text": [
      "                   all      0.977          1\n"
     ]
    },
    {
     "name": "stderr",
     "output_type": "stream",
     "text": [
      "\n"
     ]
    },
    {
     "name": "stdout",
     "output_type": "stream",
     "text": [
      "\n",
      "      Epoch    GPU_mem       loss  Instances       Size\n"
     ]
    },
    {
     "name": "stderr",
     "output_type": "stream",
     "text": [
      "     70/100      2.05G    0.02182          8        640: 100%|██████████| 44/44 [00:03<00:00, 11.73it/s]\n",
      "               classes   top1_acc   top5_acc: 100%|██████████| 6/6 [00:00<00:00, 20.06it/s]"
     ]
    },
    {
     "name": "stdout",
     "output_type": "stream",
     "text": [
      "                   all      0.983          1\n"
     ]
    },
    {
     "name": "stderr",
     "output_type": "stream",
     "text": [
      "\n"
     ]
    },
    {
     "name": "stdout",
     "output_type": "stream",
     "text": [
      "\n",
      "      Epoch    GPU_mem       loss  Instances       Size\n"
     ]
    },
    {
     "name": "stderr",
     "output_type": "stream",
     "text": [
      "     71/100      2.05G    0.02183          8        640: 100%|██████████| 44/44 [00:03<00:00, 11.11it/s]\n",
      "               classes   top1_acc   top5_acc: 100%|██████████| 6/6 [00:00<00:00, 19.94it/s]"
     ]
    },
    {
     "name": "stdout",
     "output_type": "stream",
     "text": [
      "                   all      0.983          1\n"
     ]
    },
    {
     "name": "stderr",
     "output_type": "stream",
     "text": [
      "\n"
     ]
    },
    {
     "name": "stdout",
     "output_type": "stream",
     "text": [
      "\n",
      "      Epoch    GPU_mem       loss  Instances       Size\n"
     ]
    },
    {
     "name": "stderr",
     "output_type": "stream",
     "text": [
      "     72/100      2.05G    0.02124          8        640: 100%|██████████| 44/44 [00:03<00:00, 11.08it/s]\n",
      "               classes   top1_acc   top5_acc: 100%|██████████| 6/6 [00:00<00:00, 19.62it/s]"
     ]
    },
    {
     "name": "stdout",
     "output_type": "stream",
     "text": [
      "                   all      0.977          1\n"
     ]
    },
    {
     "name": "stderr",
     "output_type": "stream",
     "text": [
      "\n"
     ]
    },
    {
     "name": "stdout",
     "output_type": "stream",
     "text": [
      "\n",
      "      Epoch    GPU_mem       loss  Instances       Size\n"
     ]
    },
    {
     "name": "stderr",
     "output_type": "stream",
     "text": [
      "     73/100      2.05G     0.0192          8        640: 100%|██████████| 44/44 [00:03<00:00, 11.46it/s]\n",
      "               classes   top1_acc   top5_acc: 100%|██████████| 6/6 [00:00<00:00, 19.93it/s]"
     ]
    },
    {
     "name": "stdout",
     "output_type": "stream",
     "text": [
      "                   all      0.977          1\n"
     ]
    },
    {
     "name": "stderr",
     "output_type": "stream",
     "text": [
      "\n"
     ]
    },
    {
     "name": "stdout",
     "output_type": "stream",
     "text": [
      "\n",
      "      Epoch    GPU_mem       loss  Instances       Size\n"
     ]
    },
    {
     "name": "stderr",
     "output_type": "stream",
     "text": [
      "     74/100      2.05G    0.02166          8        640: 100%|██████████| 44/44 [00:03<00:00, 11.13it/s]\n",
      "               classes   top1_acc   top5_acc: 100%|██████████| 6/6 [00:00<00:00, 20.53it/s]"
     ]
    },
    {
     "name": "stdout",
     "output_type": "stream",
     "text": [
      "                   all      0.983          1\n"
     ]
    },
    {
     "name": "stderr",
     "output_type": "stream",
     "text": [
      "\n"
     ]
    },
    {
     "name": "stdout",
     "output_type": "stream",
     "text": [
      "\n",
      "      Epoch    GPU_mem       loss  Instances       Size\n"
     ]
    },
    {
     "name": "stderr",
     "output_type": "stream",
     "text": [
      "     75/100      2.05G     0.0149          8        640: 100%|██████████| 44/44 [00:03<00:00, 12.02it/s]\n",
      "               classes   top1_acc   top5_acc: 100%|██████████| 6/6 [00:00<00:00, 20.30it/s]"
     ]
    },
    {
     "name": "stdout",
     "output_type": "stream",
     "text": [
      "                   all      0.983          1\n",
      "\u001b[34m\u001b[1mEarlyStopping: \u001b[0mTraining stopped early as no improvement observed in last 25 epochs. Best results observed at epoch 50, best model saved as best.pt.\n",
      "To update EarlyStopping(patience=25) pass a new patience value, i.e. `patience=300` or use `patience=0` to disable EarlyStopping.\n"
     ]
    },
    {
     "name": "stderr",
     "output_type": "stream",
     "text": [
      "\n"
     ]
    },
    {
     "name": "stdout",
     "output_type": "stream",
     "text": [
      "\n",
      "75 epochs completed in 0.095 hours.\n",
      "Optimizer stripped from C:\\Users\\jazzb\\ImageDetection-Yolov11\\Road_Damage\\folds\\fold_5\\results2\\weights\\last.pt, 3.2MB\n",
      "Optimizer stripped from C:\\Users\\jazzb\\ImageDetection-Yolov11\\Road_Damage\\folds\\fold_5\\results2\\weights\\best.pt, 3.2MB\n",
      "\n",
      "Validating C:\\Users\\jazzb\\ImageDetection-Yolov11\\Road_Damage\\folds\\fold_5\\results2\\weights\\best.pt...\n",
      "Ultralytics 8.3.133  Python-3.9.21 torch-2.5.1+cu121 CUDA:0 (NVIDIA GeForce RTX 4060 Laptop GPU, 8188MiB)\n",
      "YOLO11n-cls summary (fused): 47 layers, 1,532,429 parameters, 0 gradients, 3.2 GFLOPs\n",
      "\u001b[34m\u001b[1mtrain:\u001b[0m C:\\Users\\jazzb\\ImageDetection-Yolov11\\Road_Damage\\folds\\fold_5\\train... found 696 images in 5 classes  \n",
      "\u001b[34m\u001b[1mval:\u001b[0m C:\\Users\\jazzb\\ImageDetection-Yolov11\\Road_Damage\\folds\\fold_5\\val... found 173 images in 5 classes  \n",
      "\u001b[34m\u001b[1mtest:\u001b[0m C:\\Users\\jazzb\\ImageDetection-Yolov11\\Road_Damage\\folds\\fold_5\\test... found 43 images in 5 classes  \n"
     ]
    },
    {
     "name": "stderr",
     "output_type": "stream",
     "text": [
      "               classes   top1_acc   top5_acc: 100%|██████████| 6/6 [00:00<00:00, 11.19it/s]\n"
     ]
    },
    {
     "name": "stdout",
     "output_type": "stream",
     "text": [
      "                   all      0.994          1\n",
      "Speed: 0.5ms preprocess, 2.1ms inference, 0.0ms loss, 0.0ms postprocess per image\n",
      "Results saved to \u001b[1mC:\\Users\\jazzb\\ImageDetection-Yolov11\\Road_Damage\\folds\\fold_5\\results2\u001b[0m\n",
      "--- Fold 5 complete. Best weights in C:\\Users\\jazzb\\ImageDetection-Yolov11\\Road_Damage\\folds\\fold_5/results ---\n"
     ]
    }
   ],
   "source": [
    "import os\n",
    "import gc\n",
    "import torch\n",
    "from ultralytics import YOLO\n",
    "\n",
    "# ---------------- CONFIG ----------------\n",
    "BASE_DIR = r\"C:\\Users\\jazzb\\ImageDetection-Yolov11\\Road_Damage\\folds\"  # root path where fold_1, …, fold_5 live\n",
    "MODEL_FILE = r\"models\\yolo11n-cls.pt\"  # pretrained classification model\n",
    "FOLDS = 5\n",
    "EPOCHS = 100\n",
    "IMGSZ = 640\n",
    "BATCH = 16  # reduced for lower VRAM usage\n",
    "PATIENCE = 25  # Reduced patience for earlier stopping\n",
    "DEVICE = \"cuda\" if torch.cuda.is_available() else \"cpu\"\n",
    "MEM_FRACTION = 0.6  # 60% GPU memory cap\n",
    "# ----------------------------------------\n",
    "\n",
    "print(f\"Using device: {DEVICE}\\n\")\n",
    "\n",
    "if DEVICE == \"cuda\":\n",
    "    torch.cuda.set_per_process_memory_fraction(MEM_FRACTION, device=0)\n",
    "\n",
    "for fold in range(1, FOLDS + 1):\n",
    "    gc.collect()\n",
    "    torch.cuda.empty_cache()\n",
    "\n",
    "    fold_dir = os.path.join(BASE_DIR, f\"fold_{fold}\")\n",
    "    if not os.path.isdir(os.path.join(fold_dir, 'train')):\n",
    "        raise FileNotFoundError(f\"{fold_dir}/train not found\")\n",
    "\n",
    "    print(f\"\\n=== Training Fold {fold}/{FOLDS} on folder {fold_dir} ===\")\n",
    "    model = YOLO(MODEL_FILE)\n",
    "    model.train(\n",
    "        data=fold_dir,\n",
    "        task='classify',\n",
    "        epochs=EPOCHS,\n",
    "        imgsz=IMGSZ,\n",
    "        batch=BATCH,\n",
    "        patience=PATIENCE,\n",
    "        device=DEVICE,\n",
    "        project=fold_dir,\n",
    "        name='results',\n",
    "    )\n",
    "\n",
    "    print(f\"--- Fold {fold} complete. Best weights in {fold_dir}/results ---\")\n"
   ]
  },
  {
   "cell_type": "code",
   "execution_count": null,
   "id": "e0709391-2bdf-4c06-b3b4-774d03ee2ff7",
   "metadata": {},
   "outputs": [],
   "source": [
    "from ultralytics import YOLO\n",
    "import torch\n",
    "\n",
    "BASE_DIR   = r\"C:\\Users\\jazzb\\ImageDetection-Yolov11\\Road_Damage\"\n",
    "MODEL_FILE = r\"models\\yolo11n-cls.pt\"\n",
    "\n",
    "# Train on ROAD_DAMAGE (which now has train/ and val/ with direct images)\n",
    "model = YOLO(MODEL_FILE)\n",
    "model.train(\n",
    "    data     = BASE_DIR,\n",
    "    task     = 'classify',\n",
    "    epochs   = 100,\n",
    "    imgsz    = 640,\n",
    "    batch    = 8,\n",
    "    patience = 5,                 # monitors REAL val/ now\n",
    "    device   = 'cuda' if torch.cuda.is_available() else 'cpu',\n",
    "    project  = BASE_DIR,\n",
    "    name     = 'single_train',\n",
    ")\n"
   ]
  },
  {
   "cell_type": "code",
   "execution_count": 7,
   "id": "1c812c2e-f402-46d7-9cc5-4f9834cee9e9",
   "metadata": {},
   "outputs": [
    {
     "name": "stdout",
     "output_type": "stream",
     "text": [
      "\n",
      "📊 Cross-Validation Summary:\n",
      "  Fold  Epoch  Accuracy  Train Loss  Val Loss  Loss Gap  Learning Rate  Accuracy Rank  Loss Gap Rank  Overall Score\n",
      "fold_1      5   0.97701     0.18850   0.12122   0.06728       0.001067            5.0            3.0            8.0\n",
      "fold_2     13   0.98851     0.16576   0.04024   0.12552       0.000979            2.5            4.0            6.5\n",
      "fold_3     13   1.00000     0.15628   0.01903   0.13725       0.000979            1.0            5.0            6.0\n",
      "fold_4     14   0.98851     0.11902   0.05456   0.06446       0.000968            2.5            2.0            4.5\n",
      "fold_5     25   0.98266     0.06221   0.04422   0.01799       0.000847            4.0            1.0            5.0\n",
      "\n",
      "🎯 Best Fold: fold_4 at Epoch 14\n",
      "📦 Copied model to C:\\Users\\jazzb\\ImageDetection-Yolov11\\Road_Damage\\final_model\\best_fold.pt\n"
     ]
    }
   ],
   "source": [
    "import os\n",
    "import pandas as pd\n",
    "import shutil\n",
    "\n",
    "# --- CONFIGURATION ---\n",
    "BASE_DIR = r\"C:\\Users\\jazzb\\ImageDetection-Yolov11\\Road_Damage\\folds\"\n",
    "RESULTS_SUBPATH = os.path.join(\"results\", \"results.csv\")\n",
    "WEIGHTS_SUBPATH = os.path.join(\"results\", \"weights\", \"best.pt\")\n",
    "FINAL_MODEL_DIR = os.path.abspath(os.path.join(BASE_DIR, os.pardir, \"final_model\"))\n",
    "\n",
    "# --- MAIN LOGIC ---\n",
    "def find_all_folds(base_dir):\n",
    "    \"\"\"\n",
    "    Read each fold's results.csv, extract key metrics, and return a summary DataFrame.\n",
    "    \"\"\"\n",
    "    fold_dirs = [d for d in os.listdir(base_dir)\n",
    "                 if os.path.isdir(os.path.join(base_dir, d)) and d.lower().startswith('fold_')]\n",
    "    records = []\n",
    "\n",
    "    for fold in sorted(fold_dirs):\n",
    "        csv_path = os.path.join(base_dir, fold, RESULTS_SUBPATH)\n",
    "        if not os.path.exists(csv_path):\n",
    "            continue\n",
    "\n",
    "        df = pd.read_csv(csv_path)\n",
    "        # Identify columns\n",
    "        acc_col = next((c for c in df.columns if 'accuracy' in c.lower()), None)\n",
    "        train_loss_col = next((c for c in df.columns if 'train/loss' in c.lower()), None)\n",
    "        val_loss_col = next((c for c in df.columns if 'val/loss' in c.lower()), None)\n",
    "        lr_col = next((c for c in df.columns if c.lower().startswith('lr/')), None)\n",
    "\n",
    "        if acc_col is None:\n",
    "            continue\n",
    "\n",
    "        # Best epoch by accuracy\n",
    "        best_idx = df[acc_col].idxmax()\n",
    "        best = df.loc[best_idx]\n",
    "\n",
    "        records.append({\n",
    "            'Fold': fold,\n",
    "            'Epoch': int(best.get('epoch', best_idx + 1)),\n",
    "            'Accuracy': best[acc_col],\n",
    "            'Train Loss': best.get(train_loss_col, pd.NA),\n",
    "            'Val Loss': best.get(val_loss_col, pd.NA),\n",
    "            'Loss Gap': abs(best.get(train_loss_col, 0) - best.get(val_loss_col, 0)),\n",
    "            'Learning Rate': best.get(lr_col, pd.NA)\n",
    "        })\n",
    "\n",
    "    if not records:\n",
    "        print(\"⚠️ No valid folds found.\")\n",
    "        return pd.DataFrame()\n",
    "\n",
    "    results_df = pd.DataFrame(records)\n",
    "    # Ranking\n",
    "    results_df['Accuracy Rank'] = results_df['Accuracy'].rank(ascending=False)\n",
    "    results_df['Loss Gap Rank'] = results_df['Loss Gap'].rank(ascending=True)\n",
    "    results_df['Overall Score'] = results_df['Accuracy Rank'] + results_df['Loss Gap Rank']\n",
    "    return results_df\n",
    "\n",
    "\n",
    "def select_and_copy_best(results_df, base_dir, final_dir):\n",
    "    \"\"\"\n",
    "    Select the best fold based on Overall Score and copy its best.pt to final_dir.\n",
    "    \"\"\"\n",
    "    if results_df.empty:\n",
    "        return\n",
    "\n",
    "    # Display all folds\n",
    "    print(\"\\n📊 Cross-Validation Summary:\")\n",
    "    print(results_df.to_string(index=False))\n",
    "\n",
    "    # Pick best\n",
    "    best_row = results_df.loc[results_df['Overall Score'].idxmin()]\n",
    "    print(f\"\\n🎯 Best Fold: {best_row['Fold']} at Epoch {best_row['Epoch']}\")\n",
    "\n",
    "    # Copy model\n",
    "    os.makedirs(final_dir, exist_ok=True)\n",
    "    source = os.path.join(base_dir, best_row['Fold'], WEIGHTS_SUBPATH)\n",
    "    dest = os.path.join(final_dir, \"best_fold.pt\")\n",
    "    if os.path.exists(source):\n",
    "        shutil.copy(source, dest)\n",
    "        print(f\"📦 Copied model to {dest}\")\n",
    "    else:\n",
    "        print(f\"❌ Model file missing at {source}\")\n",
    "\n",
    "\n",
    "if __name__ == '__main__':\n",
    "    df_summary = find_all_folds(BASE_DIR)\n",
    "    select_and_copy_best(df_summary, BASE_DIR, FINAL_MODEL_DIR)\n"
   ]
  },
  {
   "cell_type": "code",
   "execution_count": null,
   "id": "91275bcc-91d2-49a0-b023-a255783a76b7",
   "metadata": {},
   "outputs": [],
   "source": []
  },
  {
   "cell_type": "code",
   "execution_count": 4,
   "id": "c32b756c-5b8b-46ca-b2fe-cf5a2a1068f0",
   "metadata": {},
   "outputs": [
    {
     "name": "stdout",
     "output_type": "stream",
     "text": [
      "\n",
      "image 1/1 C:\\Users\\jazzb\\ImageDetection-Yolov11\\Road_Damage\\test\\potholes\\images\\4 -  Potholes (12).jpg: 640x640 potholes 1.00, crack_issues 0.00, ravelling 0.00, alligator_crack_issues 0.00, open_manhole 0.00, 26.2ms\n",
      "Speed: 28.1ms preprocess, 26.2ms inference, 0.1ms postprocess per image at shape (1, 3, 640, 640)\n",
      "\n",
      "image 1/1 C:\\Users\\jazzb\\ImageDetection-Yolov11\\Road_Damage\\test\\potholes\\images\\4 -  Potholes (13).jpg: 640x640 potholes 1.00, crack_issues 0.00, ravelling 0.00, alligator_crack_issues 0.00, open_manhole 0.00, 26.3ms\n",
      "Speed: 7.5ms preprocess, 26.3ms inference, 0.2ms postprocess per image at shape (1, 3, 640, 640)\n",
      "\n",
      "image 1/1 C:\\Users\\jazzb\\ImageDetection-Yolov11\\Road_Damage\\test\\potholes\\images\\4 -  Potholes (14).jpg: 640x640 potholes 1.00, crack_issues 0.00, ravelling 0.00, open_manhole 0.00, alligator_crack_issues 0.00, 24.2ms\n",
      "Speed: 6.7ms preprocess, 24.2ms inference, 0.2ms postprocess per image at shape (1, 3, 640, 640)\n",
      "\n",
      "image 1/1 C:\\Users\\jazzb\\ImageDetection-Yolov11\\Road_Damage\\test\\potholes\\images\\4 -  Potholes (2).jpg: 640x640 potholes 1.00, ravelling 0.00, crack_issues 0.00, alligator_crack_issues 0.00, open_manhole 0.00, 25.5ms\n",
      "Speed: 13.3ms preprocess, 25.5ms inference, 0.2ms postprocess per image at shape (1, 3, 640, 640)\n",
      "\n",
      "image 1/1 C:\\Users\\jazzb\\ImageDetection-Yolov11\\Road_Damage\\test\\potholes\\images\\4 -  Potholes (20).jpg: 640x640 crack_issues 0.75, ravelling 0.23, alligator_crack_issues 0.02, potholes 0.00, open_manhole 0.00, 25.0ms\n",
      "Speed: 6.6ms preprocess, 25.0ms inference, 0.1ms postprocess per image at shape (1, 3, 640, 640)\n",
      "\n",
      "image 1/1 C:\\Users\\jazzb\\ImageDetection-Yolov11\\Road_Damage\\test\\potholes\\images\\4 -  Potholes (22).jpg: 640x640 potholes 1.00, ravelling 0.00, crack_issues 0.00, open_manhole 0.00, alligator_crack_issues 0.00, 24.4ms\n",
      "Speed: 6.3ms preprocess, 24.4ms inference, 0.2ms postprocess per image at shape (1, 3, 640, 640)\n",
      "\n",
      "image 1/1 C:\\Users\\jazzb\\ImageDetection-Yolov11\\Road_Damage\\test\\potholes\\images\\4 -  Potholes (9).jpg: 640x640 potholes 0.99, crack_issues 0.01, ravelling 0.00, open_manhole 0.00, alligator_crack_issues 0.00, 24.4ms\n",
      "Speed: 9.6ms preprocess, 24.4ms inference, 0.1ms postprocess per image at shape (1, 3, 640, 640)\n",
      "\n",
      "image 1/1 C:\\Users\\jazzb\\ImageDetection-Yolov11\\Road_Damage\\test\\crack_issues\\images\\1 - Cracks (12).jpg: 640x640 crack_issues 1.00, alligator_crack_issues 0.00, potholes 0.00, ravelling 0.00, open_manhole 0.00, 24.6ms\n",
      "Speed: 6.8ms preprocess, 24.6ms inference, 0.2ms postprocess per image at shape (1, 3, 640, 640)\n",
      "\n",
      "image 1/1 C:\\Users\\jazzb\\ImageDetection-Yolov11\\Road_Damage\\test\\crack_issues\\images\\1 - Cracks (13).jpg: 640x640 crack_issues 1.00, alligator_crack_issues 0.00, potholes 0.00, ravelling 0.00, open_manhole 0.00, 24.1ms\n",
      "Speed: 8.6ms preprocess, 24.1ms inference, 0.1ms postprocess per image at shape (1, 3, 640, 640)\n",
      "\n",
      "image 1/1 C:\\Users\\jazzb\\ImageDetection-Yolov11\\Road_Damage\\test\\crack_issues\\images\\1 - Cracks (14).jpg: 640x640 crack_issues 0.99, potholes 0.01, alligator_crack_issues 0.00, open_manhole 0.00, ravelling 0.00, 21.4ms\n",
      "Speed: 7.0ms preprocess, 21.4ms inference, 0.1ms postprocess per image at shape (1, 3, 640, 640)\n",
      "\n",
      "image 1/1 C:\\Users\\jazzb\\ImageDetection-Yolov11\\Road_Damage\\test\\crack_issues\\images\\1 - Cracks (2).jpg: 640x640 ravelling 1.00, crack_issues 0.00, open_manhole 0.00, potholes 0.00, alligator_crack_issues 0.00, 10.0ms\n",
      "Speed: 5.8ms preprocess, 10.0ms inference, 0.1ms postprocess per image at shape (1, 3, 640, 640)\n",
      "\n",
      "image 1/1 C:\\Users\\jazzb\\ImageDetection-Yolov11\\Road_Damage\\test\\crack_issues\\images\\1 - Cracks (20).jpg: 640x640 crack_issues 1.00, alligator_crack_issues 0.00, open_manhole 0.00, ravelling 0.00, potholes 0.00, 9.8ms\n",
      "Speed: 5.3ms preprocess, 9.8ms inference, 0.1ms postprocess per image at shape (1, 3, 640, 640)\n",
      "\n",
      "image 1/1 C:\\Users\\jazzb\\ImageDetection-Yolov11\\Road_Damage\\test\\crack_issues\\images\\1 - Cracks (22).jpg: 640x640 crack_issues 1.00, alligator_crack_issues 0.00, open_manhole 0.00, potholes 0.00, ravelling 0.00, 10.2ms\n",
      "Speed: 6.5ms preprocess, 10.2ms inference, 0.1ms postprocess per image at shape (1, 3, 640, 640)\n",
      "\n",
      "image 1/1 C:\\Users\\jazzb\\ImageDetection-Yolov11\\Road_Damage\\test\\crack_issues\\images\\1 - Cracks (38).jpg: 640x640 crack_issues 1.00, potholes 0.00, alligator_crack_issues 0.00, ravelling 0.00, open_manhole 0.00, 9.8ms\n",
      "Speed: 5.4ms preprocess, 9.8ms inference, 0.1ms postprocess per image at shape (1, 3, 640, 640)\n",
      "\n",
      "image 1/1 C:\\Users\\jazzb\\ImageDetection-Yolov11\\Road_Damage\\test\\crack_issues\\images\\1 - Cracks (43).jpg: 640x640 crack_issues 1.00, alligator_crack_issues 0.00, potholes 0.00, open_manhole 0.00, ravelling 0.00, 10.5ms\n",
      "Speed: 5.6ms preprocess, 10.5ms inference, 0.1ms postprocess per image at shape (1, 3, 640, 640)\n",
      "\n",
      "image 1/1 C:\\Users\\jazzb\\ImageDetection-Yolov11\\Road_Damage\\test\\crack_issues\\images\\1 - Cracks (46).jpg: 640x640 crack_issues 1.00, potholes 0.00, alligator_crack_issues 0.00, open_manhole 0.00, ravelling 0.00, 10.4ms\n",
      "Speed: 5.3ms preprocess, 10.4ms inference, 0.1ms postprocess per image at shape (1, 3, 640, 640)\n",
      "\n",
      "image 1/1 C:\\Users\\jazzb\\ImageDetection-Yolov11\\Road_Damage\\test\\crack_issues\\images\\1 - Cracks (5).jpg: 640x640 crack_issues 1.00, alligator_crack_issues 0.00, open_manhole 0.00, potholes 0.00, ravelling 0.00, 11.1ms\n",
      "Speed: 6.2ms preprocess, 11.1ms inference, 0.1ms postprocess per image at shape (1, 3, 640, 640)\n",
      "\n",
      "image 1/1 C:\\Users\\jazzb\\ImageDetection-Yolov11\\Road_Damage\\test\\alligator_crack_issues\\images\\2 - Alligator Cracks (10).jpg: 640x640 crack_issues 0.80, alligator_crack_issues 0.18, potholes 0.01, open_manhole 0.01, ravelling 0.00, 9.5ms\n",
      "Speed: 5.3ms preprocess, 9.5ms inference, 0.1ms postprocess per image at shape (1, 3, 640, 640)\n",
      "\n",
      "image 1/1 C:\\Users\\jazzb\\ImageDetection-Yolov11\\Road_Damage\\test\\alligator_crack_issues\\images\\2 - Alligator Cracks (15).jpg: 640x640 alligator_crack_issues 1.00, ravelling 0.00, crack_issues 0.00, potholes 0.00, open_manhole 0.00, 9.4ms\n",
      "Speed: 5.2ms preprocess, 9.4ms inference, 0.1ms postprocess per image at shape (1, 3, 640, 640)\n",
      "\n",
      "image 1/1 C:\\Users\\jazzb\\ImageDetection-Yolov11\\Road_Damage\\test\\alligator_crack_issues\\images\\2 - Alligator Cracks (16).jpg: 640x640 alligator_crack_issues 0.94, ravelling 0.06, crack_issues 0.00, potholes 0.00, open_manhole 0.00, 10.3ms\n",
      "Speed: 5.3ms preprocess, 10.3ms inference, 0.1ms postprocess per image at shape (1, 3, 640, 640)\n",
      "\n",
      "image 1/1 C:\\Users\\jazzb\\ImageDetection-Yolov11\\Road_Damage\\test\\alligator_crack_issues\\images\\2 - Alligator Cracks (17).jpg: 640x640 crack_issues 0.66, ravelling 0.18, alligator_crack_issues 0.16, open_manhole 0.00, potholes 0.00, 9.0ms\n",
      "Speed: 4.6ms preprocess, 9.0ms inference, 0.1ms postprocess per image at shape (1, 3, 640, 640)\n",
      "\n",
      "image 1/1 C:\\Users\\jazzb\\ImageDetection-Yolov11\\Road_Damage\\test\\alligator_crack_issues\\images\\2 - Alligator Cracks (22).jpg: 640x640 alligator_crack_issues 0.99, ravelling 0.01, crack_issues 0.00, potholes 0.00, open_manhole 0.00, 9.3ms\n",
      "Speed: 5.3ms preprocess, 9.3ms inference, 0.1ms postprocess per image at shape (1, 3, 640, 640)\n",
      "\n",
      "image 1/1 C:\\Users\\jazzb\\ImageDetection-Yolov11\\Road_Damage\\test\\alligator_crack_issues\\images\\2 - Alligator Cracks (24).jpg: 640x640 ravelling 0.72, alligator_crack_issues 0.28, crack_issues 0.00, open_manhole 0.00, potholes 0.00, 10.0ms\n",
      "Speed: 5.1ms preprocess, 10.0ms inference, 0.1ms postprocess per image at shape (1, 3, 640, 640)\n",
      "\n",
      "image 1/1 C:\\Users\\jazzb\\ImageDetection-Yolov11\\Road_Damage\\test\\alligator_crack_issues\\images\\2 - Alligator Cracks (26).jpg: 640x640 alligator_crack_issues 1.00, potholes 0.00, ravelling 0.00, crack_issues 0.00, open_manhole 0.00, 9.2ms\n",
      "Speed: 6.1ms preprocess, 9.2ms inference, 0.1ms postprocess per image at shape (1, 3, 640, 640)\n",
      "\n",
      "image 1/1 C:\\Users\\jazzb\\ImageDetection-Yolov11\\Road_Damage\\test\\alligator_crack_issues\\images\\2 - Alligator Cracks (8).jpg: 640x640 ravelling 0.99, alligator_crack_issues 0.01, crack_issues 0.00, open_manhole 0.00, potholes 0.00, 9.4ms\n",
      "Speed: 6.0ms preprocess, 9.4ms inference, 0.1ms postprocess per image at shape (1, 3, 640, 640)\n",
      "\n",
      "image 1/1 C:\\Users\\jazzb\\ImageDetection-Yolov11\\Road_Damage\\test\\ravelling\\images\\IMG_20250508_133147.jpg: 640x640 ravelling 0.98, crack_issues 0.02, open_manhole 0.00, alligator_crack_issues 0.00, potholes 0.00, 9.6ms\n",
      "Speed: 5.3ms preprocess, 9.6ms inference, 0.1ms postprocess per image at shape (1, 3, 640, 640)\n",
      "\n",
      "image 1/1 C:\\Users\\jazzb\\ImageDetection-Yolov11\\Road_Damage\\test\\ravelling\\images\\IMG_20250508_133457.jpg: 640x640 ravelling 1.00, crack_issues 0.00, open_manhole 0.00, alligator_crack_issues 0.00, potholes 0.00, 11.2ms\n",
      "Speed: 6.4ms preprocess, 11.2ms inference, 0.1ms postprocess per image at shape (1, 3, 640, 640)\n",
      "\n",
      "image 1/1 C:\\Users\\jazzb\\ImageDetection-Yolov11\\Road_Damage\\test\\ravelling\\images\\IMG_20250508_133644.jpg: 640x640 ravelling 0.68, crack_issues 0.19, alligator_crack_issues 0.05, potholes 0.04, open_manhole 0.03, 9.2ms\n",
      "Speed: 5.4ms preprocess, 9.2ms inference, 0.1ms postprocess per image at shape (1, 3, 640, 640)\n",
      "\n",
      "image 1/1 C:\\Users\\jazzb\\ImageDetection-Yolov11\\Road_Damage\\test\\ravelling\\images\\IMG_20250508_133704.jpg: 640x640 ravelling 0.98, crack_issues 0.01, potholes 0.01, open_manhole 0.00, alligator_crack_issues 0.00, 9.4ms\n",
      "Speed: 6.0ms preprocess, 9.4ms inference, 0.1ms postprocess per image at shape (1, 3, 640, 640)\n",
      "\n",
      "image 1/1 C:\\Users\\jazzb\\ImageDetection-Yolov11\\Road_Damage\\test\\ravelling\\images\\IMG_20250508_134531.jpg: 640x640 ravelling 1.00, crack_issues 0.00, potholes 0.00, alligator_crack_issues 0.00, open_manhole 0.00, 10.8ms\n",
      "Speed: 7.6ms preprocess, 10.8ms inference, 0.1ms postprocess per image at shape (1, 3, 640, 640)\n",
      "\n",
      "image 1/1 C:\\Users\\jazzb\\ImageDetection-Yolov11\\Road_Damage\\test\\ravelling\\images\\IMG_20250508_134546.jpg: 640x640 ravelling 0.94, crack_issues 0.06, open_manhole 0.00, alligator_crack_issues 0.00, potholes 0.00, 9.6ms\n",
      "Speed: 12.0ms preprocess, 9.6ms inference, 0.1ms postprocess per image at shape (1, 3, 640, 640)\n",
      "\n",
      "image 1/1 C:\\Users\\jazzb\\ImageDetection-Yolov11\\Road_Damage\\test\\ravelling\\images\\IMG_20250508_134554.jpg: 640x640 ravelling 1.00, crack_issues 0.00, open_manhole 0.00, alligator_crack_issues 0.00, potholes 0.00, 9.2ms\n",
      "Speed: 5.2ms preprocess, 9.2ms inference, 0.1ms postprocess per image at shape (1, 3, 640, 640)\n",
      "\n",
      "image 1/1 C:\\Users\\jazzb\\ImageDetection-Yolov11\\Road_Damage\\test\\ravelling\\images\\ravelling w pothole.jpg: 640x640 ravelling 0.95, crack_issues 0.03, potholes 0.01, open_manhole 0.01, alligator_crack_issues 0.00, 8.6ms\n",
      "Speed: 5.8ms preprocess, 8.6ms inference, 0.1ms postprocess per image at shape (1, 3, 640, 640)\n",
      "\n",
      "image 1/1 C:\\Users\\jazzb\\ImageDetection-Yolov11\\Road_Damage\\test\\ravelling\\images\\ravelling14.jpg: 640x640 ravelling 0.96, crack_issues 0.03, open_manhole 0.00, potholes 0.00, alligator_crack_issues 0.00, 10.0ms\n",
      "Speed: 6.3ms preprocess, 10.0ms inference, 0.1ms postprocess per image at shape (1, 3, 640, 640)\n",
      "\n",
      "image 1/1 C:\\Users\\jazzb\\ImageDetection-Yolov11\\Road_Damage\\test\\open_manhole\\images\\3 - Open Manhole (10).jpg: 640x640 open_manhole 0.99, ravelling 0.01, alligator_crack_issues 0.00, crack_issues 0.00, potholes 0.00, 9.4ms\n",
      "Speed: 6.5ms preprocess, 9.4ms inference, 0.1ms postprocess per image at shape (1, 3, 640, 640)\n",
      "\n",
      "image 1/1 C:\\Users\\jazzb\\ImageDetection-Yolov11\\Road_Damage\\test\\open_manhole\\images\\3 - Open Manhole (16).jpg: 640x640 open_manhole 1.00, alligator_crack_issues 0.00, potholes 0.00, crack_issues 0.00, ravelling 0.00, 9.4ms\n",
      "Speed: 6.5ms preprocess, 9.4ms inference, 0.1ms postprocess per image at shape (1, 3, 640, 640)\n",
      "\n",
      "image 1/1 C:\\Users\\jazzb\\ImageDetection-Yolov11\\Road_Damage\\test\\open_manhole\\images\\3 - Open Manhole (17).jpg: 640x640 open_manhole 1.00, alligator_crack_issues 0.00, ravelling 0.00, crack_issues 0.00, potholes 0.00, 10.0ms\n",
      "Speed: 6.5ms preprocess, 10.0ms inference, 0.1ms postprocess per image at shape (1, 3, 640, 640)\n",
      "\n",
      "image 1/1 C:\\Users\\jazzb\\ImageDetection-Yolov11\\Road_Damage\\test\\open_manhole\\images\\3 - Open Manhole (18).jpg: 640x640 open_manhole 1.00, alligator_crack_issues 0.00, potholes 0.00, crack_issues 0.00, ravelling 0.00, 9.4ms\n",
      "Speed: 5.6ms preprocess, 9.4ms inference, 0.1ms postprocess per image at shape (1, 3, 640, 640)\n",
      "\n",
      "image 1/1 C:\\Users\\jazzb\\ImageDetection-Yolov11\\Road_Damage\\test\\open_manhole\\images\\3 - Open Manhole (23).jpg: 640x640 open_manhole 1.00, potholes 0.00, alligator_crack_issues 0.00, crack_issues 0.00, ravelling 0.00, 9.6ms\n",
      "Speed: 7.3ms preprocess, 9.6ms inference, 0.1ms postprocess per image at shape (1, 3, 640, 640)\n",
      "\n",
      "image 1/1 C:\\Users\\jazzb\\ImageDetection-Yolov11\\Road_Damage\\test\\open_manhole\\images\\3 - Open Manhole (24).jpg: 640x640 open_manhole 0.81, ravelling 0.13, crack_issues 0.05, potholes 0.01, alligator_crack_issues 0.00, 9.3ms\n",
      "Speed: 6.2ms preprocess, 9.3ms inference, 0.1ms postprocess per image at shape (1, 3, 640, 640)\n",
      "\n",
      "image 1/1 C:\\Users\\jazzb\\ImageDetection-Yolov11\\Road_Damage\\test\\open_manhole\\images\\3 - Open Manhole (26).jpg: 640x640 open_manhole 1.00, alligator_crack_issues 0.00, potholes 0.00, ravelling 0.00, crack_issues 0.00, 9.0ms\n",
      "Speed: 6.4ms preprocess, 9.0ms inference, 0.1ms postprocess per image at shape (1, 3, 640, 640)\n",
      "\n",
      "image 1/1 C:\\Users\\jazzb\\ImageDetection-Yolov11\\Road_Damage\\test\\open_manhole\\images\\3 - Open Manhole (41).jpg: 640x640 open_manhole 1.00, alligator_crack_issues 0.00, crack_issues 0.00, potholes 0.00, ravelling 0.00, 10.2ms\n",
      "Speed: 5.5ms preprocess, 10.2ms inference, 0.1ms postprocess per image at shape (1, 3, 640, 640)\n",
      "\n",
      "image 1/1 C:\\Users\\jazzb\\ImageDetection-Yolov11\\Road_Damage\\test\\open_manhole\\images\\3 - Open Manhole (47).jpg: 640x640 open_manhole 0.96, ravelling 0.03, crack_issues 0.00, potholes 0.00, alligator_crack_issues 0.00, 9.4ms\n",
      "Speed: 5.7ms preprocess, 9.4ms inference, 0.1ms postprocess per image at shape (1, 3, 640, 640)\n",
      "\n",
      "📊 Classification Report:\n",
      "                        precision    recall  f1-score   support\n",
      "\n",
      "alligator_crack_issues       1.00      0.50      0.67         8\n",
      "          crack_issues       0.75      0.90      0.82        10\n",
      "          open_manhole       1.00      1.00      1.00         9\n",
      "              potholes       1.00      0.86      0.92         7\n",
      "             ravelling       0.75      1.00      0.86         9\n",
      "             no_damage       0.00      0.00      0.00         0\n",
      "\n",
      "              accuracy                           0.86        43\n",
      "             macro avg       0.75      0.71      0.71        43\n",
      "          weighted avg       0.89      0.86      0.85        43\n",
      "\n",
      "Saved confusion matrix to confusion_matrix_with_no_damage.png\n"
     ]
    }
   ],
   "source": [
    "# CONFUSION MATRIX\n",
    "\n",
    "from ultralytics import YOLO\n",
    "from sklearn.metrics import classification_report, confusion_matrix, ConfusionMatrixDisplay\n",
    "import matplotlib.pyplot as plt\n",
    "import os\n",
    "\n",
    "# 1. Reload your trained classification weights\n",
    "weights = \"Road_Damage/final_model/best_fold.pt\"\n",
    "\n",
    "model   = YOLO(weights)\n",
    "\n",
    "# 2. Grab and extend the model's names dict\n",
    "names = model.names.copy()\n",
    "no_damage_idx = max(names.keys()) + 1\n",
    "names[no_damage_idx] = \"no_damage\"\n",
    "\n",
    "# 3. Validation setup\n",
    "val_root = \"Road_Damage/test\"\n",
    "folders  = [\n",
    "    \"potholes\",\n",
    "    \"crack_issues\",\n",
    "    \"alligator_crack_issues\",\n",
    "    \"ravelling\",\n",
    "    \"open_manhole\"\n",
    "]\n",
    "\n",
    "# 4. Invert for lookup\n",
    "name_to_idx = {v: k for k, v in names.items()}\n",
    "\n",
    "# 5. Choose a confidence threshold below which we call it \"no_damage\"\n",
    "CONF_THRESH = 0.3\n",
    "\n",
    "y_true, y_pred = [], []\n",
    "\n",
    "for folder in folders:\n",
    "    true_idx = name_to_idx[folder]\n",
    "    img_dir  = os.path.join(val_root, folder, \"images\")\n",
    "    for fn in os.listdir(img_dir):\n",
    "        if not fn.lower().endswith((\".jpg\", \".jpeg\", \".png\")):\n",
    "            continue\n",
    "\n",
    "        path = os.path.join(img_dir, fn)\n",
    "        y_true.append(true_idx)\n",
    "\n",
    "        # Run classification\n",
    "        res = model(path, imgsz=640)[0]\n",
    "\n",
    "        # Use top1 and top1conf directly\n",
    "        top_idx  = int(res.probs.top1)\n",
    "        top_conf = float(res.probs.top1conf)\n",
    "\n",
    "        # Assign no_damage if confidence is too low\n",
    "        if top_conf < CONF_THRESH:\n",
    "            pred_idx = no_damage_idx\n",
    "        else:\n",
    "            pred_idx = top_idx\n",
    "\n",
    "        y_pred.append(pred_idx)\n",
    "# 6. Print classification report (include labels for all classes)\n",
    "sorted_idx = sorted(name_to_idx.values())  # e.g. [0,1,2,3,4,5,6]\n",
    "\n",
    "print(\"\\n📊 Classification Report:\")\n",
    "print(classification_report(\n",
    "    y_true,\n",
    "    y_pred,\n",
    "    labels=sorted_idx,\n",
    "    target_names=[names[i] for i in sorted_idx],\n",
    "    zero_division=0\n",
    "))\n",
    "\n",
    "# 7. Build & save the confusion matrix\n",
    "cm = confusion_matrix(\n",
    "    y_true,\n",
    "    y_pred,\n",
    "    labels=sorted_idx\n",
    ")\n",
    "disp = ConfusionMatrixDisplay(\n",
    "    cm,\n",
    "    display_labels=[names[i] for i in sorted_idx]\n",
    ")\n",
    "\n",
    "fig, ax = plt.subplots(figsize=(8, 7))\n",
    "disp.plot(ax=ax, cmap=\"Blues\", xticks_rotation=\"vertical\")\n",
    "plt.title(\"Validation Confusion Matrix (incl. no_damage)\")\n",
    "plt.tight_layout()\n",
    "\n",
    "out_path = \"confusion_matrix_with_no_damage.png\"\n",
    "plt.savefig(out_path, dpi=150)\n",
    "print(f\"Saved confusion matrix to {out_path}\")\n",
    "plt.close(fig)\n"
   ]
  },
  {
   "cell_type": "code",
   "execution_count": null,
   "id": "90f09f7a-14c1-4807-858e-4d2b2173b242",
   "metadata": {},
   "outputs": [],
   "source": [
    "# CONFUSION MATRIX\n",
    "\n",
    "from ultralytics import YOLO\n",
    "from sklearn.metrics import classification_report, confusion_matrix, ConfusionMatrixDisplay\n",
    "import matplotlib.pyplot as plt\n",
    "import os\n",
    "\n",
    "# 1. Reload your trained classification weights\n",
    "weights = \"best_fold.pt\"\n",
    "\n",
    "model   = YOLO(weights)\n",
    "\n",
    "# 2. Grab and extend the model's names dict\n",
    "names = model.names.copy()\n",
    "no_damage_idx = max(names.keys()) + 1\n",
    "names[no_damage_idx] = \"no_damage\"\n",
    "\n",
    "# 3. Validation setup\n",
    "val_root = \"Road_Damage/test\"\n",
    "folders  = [\n",
    "    \"potholes\",\n",
    "    \"crack_issues\",\n",
    "    \"alligator_crack_issues\",\n",
    "    \"ravelling\",\n",
    "    \"open_manhole\"\n",
    "]\n",
    "\n",
    "# 4. Invert for lookup\n",
    "name_to_idx = {v: k for k, v in names.items()}\n",
    "\n",
    "# 5. Choose a confidence threshold below which we call it \"no_damage\"\n",
    "CONF_THRESH = 0.3\n",
    "\n",
    "y_true, y_pred = [], []\n",
    "\n",
    "for folder in folders:\n",
    "    true_idx = name_to_idx[folder]\n",
    "    img_dir  = os.path.join(val_root, folder, \"images\")\n",
    "    for fn in os.listdir(img_dir):\n",
    "        if not fn.lower().endswith((\".jpg\", \".jpeg\", \".png\")):\n",
    "            continue\n",
    "\n",
    "        path = os.path.join(img_dir, fn)\n",
    "        y_true.append(true_idx)\n",
    "\n",
    "        # Run classification\n",
    "        res = model(path, imgsz=640)[0]\n",
    "\n",
    "        # Use top1 and top1conf directly\n",
    "        top_idx  = int(res.probs.top1)\n",
    "        top_conf = float(res.probs.top1conf)\n",
    "\n",
    "        # Assign no_damage if confidence is too low\n",
    "        if top_conf < CONF_THRESH:\n",
    "            pred_idx = no_damage_idx\n",
    "        else:\n",
    "            pred_idx = top_idx\n",
    "\n",
    "        y_pred.append(pred_idx)\n",
    "# 6. Print classification report (include labels for all classes)\n",
    "sorted_idx = sorted(name_to_idx.values())  # e.g. [0,1,2,3,4,5,6]\n",
    "\n",
    "print(\"\\n📊 Classification Report:\")\n",
    "print(classification_report(\n",
    "    y_true,\n",
    "    y_pred,\n",
    "    labels=sorted_idx,\n",
    "    target_names=[names[i] for i in sorted_idx],\n",
    "    zero_division=0\n",
    "))\n",
    "\n",
    "# 7. Build & save the confusion matrix\n",
    "cm = confusion_matrix(\n",
    "    y_true,\n",
    "    y_pred,\n",
    "    labels=sorted_idx\n",
    ")\n",
    "disp = ConfusionMatrixDisplay(\n",
    "    cm,\n",
    "    display_labels=[names[i] for i in sorted_idx]\n",
    ")\n",
    "\n",
    "fig, ax = plt.subplots(figsize=(8, 7))\n",
    "disp.plot(ax=ax, cmap=\"Blues\", xticks_rotation=\"vertical\")\n",
    "plt.title(\"Validation Confusion Matrix (incl. no_damage)\")\n",
    "plt.tight_layout()\n",
    "\n",
    "out_path = \"confusion_matrix_with_no_damage.png\"\n",
    "plt.savefig(out_path, dpi=150)\n",
    "print(f\"Saved confusion matrix to {out_path}\")\n",
    "plt.close(fig)\n"
   ]
  },
  {
   "cell_type": "code",
   "execution_count": 24,
   "id": "de9f2b9f-d5c5-42bb-acfa-831398e1ad33",
   "metadata": {},
   "outputs": [
    {
     "name": "stdout",
     "output_type": "stream",
     "text": [
      "\n",
      "0: 640x640 alligator_crack_issues 0.49, ravelling 0.48, crack_issues 0.02, open_manhole 0.00, potholes 0.00, 25.7ms\n",
      "Speed: 25.5ms preprocess, 25.7ms inference, 0.1ms postprocess per image at shape (1, 3, 640, 640)\n",
      "Primary damage → alligator_crack_issues (0.49)\n",
      "\n",
      "0: 640x640 open_manhole 0.98, crack_issues 0.01, potholes 0.00, ravelling 0.00, alligator_crack_issues 0.00, 25.1ms\n",
      "Speed: 8.6ms preprocess, 25.1ms inference, 0.2ms postprocess per image at shape (1, 3, 640, 640)\n",
      "\n",
      "0: 640x640 open_manhole 0.96, crack_issues 0.04, potholes 0.00, alligator_crack_issues 0.00, ravelling 0.00, 25.9ms\n",
      "Speed: 9.0ms preprocess, 25.9ms inference, 0.2ms postprocess per image at shape (1, 3, 640, 640)\n",
      "\n",
      "0: 640x640 open_manhole 0.89, crack_issues 0.10, potholes 0.01, alligator_crack_issues 0.00, ravelling 0.00, 25.3ms\n",
      "Speed: 10.2ms preprocess, 25.3ms inference, 0.1ms postprocess per image at shape (1, 3, 640, 640)\n",
      "\n",
      "0: 640x640 open_manhole 0.80, crack_issues 0.20, alligator_crack_issues 0.00, potholes 0.00, ravelling 0.00, 25.6ms\n",
      "Speed: 8.5ms preprocess, 25.6ms inference, 0.2ms postprocess per image at shape (1, 3, 640, 640)\n",
      "\n",
      "0: 640x640 open_manhole 0.96, crack_issues 0.04, alligator_crack_issues 0.00, potholes 0.00, ravelling 0.00, 25.7ms\n",
      "Speed: 9.5ms preprocess, 25.7ms inference, 0.2ms postprocess per image at shape (1, 3, 640, 640)\n",
      "\n",
      "0: 640x640 open_manhole 0.94, crack_issues 0.05, alligator_crack_issues 0.00, potholes 0.00, ravelling 0.00, 25.2ms\n",
      "Speed: 10.5ms preprocess, 25.2ms inference, 0.1ms postprocess per image at shape (1, 3, 640, 640)\n",
      "\n",
      "0: 640x640 open_manhole 0.89, crack_issues 0.10, ravelling 0.00, potholes 0.00, alligator_crack_issues 0.00, 21.2ms\n",
      "Speed: 11.1ms preprocess, 21.2ms inference, 0.1ms postprocess per image at shape (1, 3, 640, 640)\n",
      "\n",
      "0: 640x640 open_manhole 0.93, crack_issues 0.06, ravelling 0.00, potholes 0.00, alligator_crack_issues 0.00, 23.2ms\n",
      "Speed: 9.2ms preprocess, 23.2ms inference, 0.2ms postprocess per image at shape (1, 3, 640, 640)\n",
      "\n",
      "0: 640x640 open_manhole 0.97, crack_issues 0.02, potholes 0.01, alligator_crack_issues 0.00, ravelling 0.00, 23.2ms\n",
      "Speed: 10.2ms preprocess, 23.2ms inference, 0.2ms postprocess per image at shape (1, 3, 640, 640)\n",
      "\n",
      "0: 640x640 open_manhole 0.96, crack_issues 0.03, potholes 0.01, alligator_crack_issues 0.00, ravelling 0.00, 23.3ms\n",
      "Speed: 11.7ms preprocess, 23.3ms inference, 0.2ms postprocess per image at shape (1, 3, 640, 640)\n",
      "\n",
      "0: 640x640 open_manhole 0.92, crack_issues 0.06, potholes 0.02, alligator_crack_issues 0.00, ravelling 0.00, 21.3ms\n",
      "Speed: 10.2ms preprocess, 21.3ms inference, 0.1ms postprocess per image at shape (1, 3, 640, 640)\n",
      "\n",
      "0: 640x640 open_manhole 0.93, crack_issues 0.07, potholes 0.00, alligator_crack_issues 0.00, ravelling 0.00, 9.7ms\n",
      "Speed: 9.5ms preprocess, 9.7ms inference, 0.1ms postprocess per image at shape (1, 3, 640, 640)\n",
      "\n",
      "0: 640x640 open_manhole 0.99, crack_issues 0.01, potholes 0.00, alligator_crack_issues 0.00, ravelling 0.00, 9.6ms\n",
      "Speed: 8.4ms preprocess, 9.6ms inference, 0.1ms postprocess per image at shape (1, 3, 640, 640)\n",
      "\n",
      "0: 640x640 open_manhole 0.96, crack_issues 0.03, potholes 0.00, ravelling 0.00, alligator_crack_issues 0.00, 10.2ms\n",
      "Speed: 9.2ms preprocess, 10.2ms inference, 0.1ms postprocess per image at shape (1, 3, 640, 640)\n",
      "\n",
      "0: 640x640 open_manhole 0.88, crack_issues 0.08, ravelling 0.03, potholes 0.01, alligator_crack_issues 0.01, 9.7ms\n",
      "Speed: 7.9ms preprocess, 9.7ms inference, 0.1ms postprocess per image at shape (1, 3, 640, 640)\n",
      "\n",
      "0: 640x640 open_manhole 0.82, crack_issues 0.15, ravelling 0.01, alligator_crack_issues 0.01, potholes 0.01, 9.3ms\n",
      "Speed: 7.7ms preprocess, 9.3ms inference, 0.1ms postprocess per image at shape (1, 3, 640, 640)\n",
      "\n",
      "0: 640x640 open_manhole 0.88, potholes 0.07, crack_issues 0.05, alligator_crack_issues 0.00, ravelling 0.00, 9.2ms\n",
      "Speed: 7.6ms preprocess, 9.2ms inference, 0.1ms postprocess per image at shape (1, 3, 640, 640)\n",
      "\n",
      "0: 640x640 open_manhole 0.96, crack_issues 0.03, potholes 0.01, alligator_crack_issues 0.00, ravelling 0.00, 9.7ms\n",
      "Speed: 8.8ms preprocess, 9.7ms inference, 0.1ms postprocess per image at shape (1, 3, 640, 640)\n",
      "\n",
      "0: 640x640 open_manhole 0.95, crack_issues 0.04, potholes 0.01, alligator_crack_issues 0.00, ravelling 0.00, 9.4ms\n",
      "Speed: 8.9ms preprocess, 9.4ms inference, 0.1ms postprocess per image at shape (1, 3, 640, 640)\n",
      "\n",
      "0: 640x640 open_manhole 0.96, crack_issues 0.03, potholes 0.00, alligator_crack_issues 0.00, ravelling 0.00, 9.3ms\n",
      "Speed: 8.1ms preprocess, 9.3ms inference, 0.1ms postprocess per image at shape (1, 3, 640, 640)\n",
      "\n",
      "0: 640x640 open_manhole 0.99, crack_issues 0.01, potholes 0.00, alligator_crack_issues 0.00, ravelling 0.00, 9.0ms\n",
      "Speed: 7.3ms preprocess, 9.0ms inference, 0.1ms postprocess per image at shape (1, 3, 640, 640)\n",
      "\n",
      "0: 640x640 open_manhole 0.97, crack_issues 0.03, alligator_crack_issues 0.00, potholes 0.00, ravelling 0.00, 9.0ms\n",
      "Speed: 8.1ms preprocess, 9.0ms inference, 0.1ms postprocess per image at shape (1, 3, 640, 640)\n",
      "\n",
      "0: 640x640 open_manhole 0.96, crack_issues 0.04, alligator_crack_issues 0.00, potholes 0.00, ravelling 0.00, 9.4ms\n",
      "Speed: 11.8ms preprocess, 9.4ms inference, 0.1ms postprocess per image at shape (1, 3, 640, 640)\n",
      "\n",
      "0: 640x640 open_manhole 0.91, crack_issues 0.08, alligator_crack_issues 0.01, ravelling 0.00, potholes 0.00, 9.9ms\n",
      "Speed: 8.3ms preprocess, 9.9ms inference, 0.1ms postprocess per image at shape (1, 3, 640, 640)\n",
      "\n",
      "0: 640x640 open_manhole 0.69, crack_issues 0.19, potholes 0.12, alligator_crack_issues 0.00, ravelling 0.00, 9.0ms\n",
      "Speed: 8.0ms preprocess, 9.0ms inference, 0.1ms postprocess per image at shape (1, 3, 640, 640)\n",
      "\n",
      "0: 640x640 open_manhole 0.94, crack_issues 0.04, potholes 0.02, alligator_crack_issues 0.00, ravelling 0.00, 9.3ms\n",
      "Speed: 8.0ms preprocess, 9.3ms inference, 0.1ms postprocess per image at shape (1, 3, 640, 640)\n",
      "\n",
      "0: 640x640 open_manhole 0.98, crack_issues 0.02, potholes 0.00, alligator_crack_issues 0.00, ravelling 0.00, 9.4ms\n",
      "Speed: 7.8ms preprocess, 9.4ms inference, 0.1ms postprocess per image at shape (1, 3, 640, 640)\n",
      "\n",
      "0: 640x640 open_manhole 0.97, crack_issues 0.03, potholes 0.00, alligator_crack_issues 0.00, ravelling 0.00, 9.0ms\n",
      "Speed: 7.5ms preprocess, 9.0ms inference, 0.1ms postprocess per image at shape (1, 3, 640, 640)\n",
      "\n",
      "0: 640x640 open_manhole 0.98, crack_issues 0.01, potholes 0.00, alligator_crack_issues 0.00, ravelling 0.00, 9.0ms\n",
      "Speed: 8.5ms preprocess, 9.0ms inference, 0.1ms postprocess per image at shape (1, 3, 640, 640)\n",
      "\n",
      "0: 640x640 open_manhole 0.96, crack_issues 0.04, potholes 0.00, alligator_crack_issues 0.00, ravelling 0.00, 11.7ms\n",
      "Speed: 8.0ms preprocess, 11.7ms inference, 0.2ms postprocess per image at shape (1, 3, 640, 640)\n",
      "\n",
      "0: 640x640 open_manhole 0.94, crack_issues 0.06, alligator_crack_issues 0.00, potholes 0.00, ravelling 0.00, 8.0ms\n",
      "Speed: 8.2ms preprocess, 8.0ms inference, 0.1ms postprocess per image at shape (1, 3, 640, 640)\n",
      "\n",
      "0: 640x640 open_manhole 0.95, crack_issues 0.05, potholes 0.00, alligator_crack_issues 0.00, ravelling 0.00, 8.6ms\n",
      "Speed: 8.3ms preprocess, 8.6ms inference, 0.1ms postprocess per image at shape (1, 3, 640, 640)\n",
      "\n",
      "0: 640x640 open_manhole 0.86, crack_issues 0.09, potholes 0.04, alligator_crack_issues 0.00, ravelling 0.00, 9.2ms\n",
      "Speed: 9.2ms preprocess, 9.2ms inference, 0.1ms postprocess per image at shape (1, 3, 640, 640)\n",
      "\n",
      "0: 640x640 open_manhole 0.99, crack_issues 0.01, potholes 0.00, alligator_crack_issues 0.00, ravelling 0.00, 9.4ms\n",
      "Speed: 7.2ms preprocess, 9.4ms inference, 0.1ms postprocess per image at shape (1, 3, 640, 640)\n",
      "\n",
      "0: 640x640 open_manhole 0.99, crack_issues 0.01, alligator_crack_issues 0.00, potholes 0.00, ravelling 0.00, 8.8ms\n",
      "Speed: 9.0ms preprocess, 8.8ms inference, 0.1ms postprocess per image at shape (1, 3, 640, 640)\n",
      "\n",
      "0: 640x640 open_manhole 0.99, crack_issues 0.01, alligator_crack_issues 0.00, potholes 0.00, ravelling 0.00, 9.2ms\n",
      "Speed: 8.5ms preprocess, 9.2ms inference, 0.1ms postprocess per image at shape (1, 3, 640, 640)\n",
      "\n",
      "0: 640x640 open_manhole 0.99, crack_issues 0.01, alligator_crack_issues 0.00, potholes 0.00, ravelling 0.00, 9.2ms\n",
      "Speed: 8.4ms preprocess, 9.2ms inference, 0.1ms postprocess per image at shape (1, 3, 640, 640)\n",
      "\n",
      "0: 640x640 open_manhole 0.99, crack_issues 0.01, alligator_crack_issues 0.00, potholes 0.00, ravelling 0.00, 9.4ms\n",
      "Speed: 8.8ms preprocess, 9.4ms inference, 0.1ms postprocess per image at shape (1, 3, 640, 640)\n",
      "\n",
      "0: 640x640 open_manhole 0.96, crack_issues 0.03, potholes 0.00, alligator_crack_issues 0.00, ravelling 0.00, 8.8ms\n",
      "Speed: 7.9ms preprocess, 8.8ms inference, 0.1ms postprocess per image at shape (1, 3, 640, 640)\n",
      "\n",
      "0: 640x640 open_manhole 0.91, crack_issues 0.09, alligator_crack_issues 0.00, potholes 0.00, ravelling 0.00, 10.4ms\n",
      "Speed: 8.4ms preprocess, 10.4ms inference, 0.1ms postprocess per image at shape (1, 3, 640, 640)\n",
      "\n",
      "0: 640x640 open_manhole 0.97, crack_issues 0.02, potholes 0.01, alligator_crack_issues 0.00, ravelling 0.00, 10.3ms\n",
      "Speed: 7.7ms preprocess, 10.3ms inference, 0.1ms postprocess per image at shape (1, 3, 640, 640)\n",
      "\n",
      "0: 640x640 open_manhole 0.99, crack_issues 0.01, alligator_crack_issues 0.00, potholes 0.00, ravelling 0.00, 8.7ms\n",
      "Speed: 7.9ms preprocess, 8.7ms inference, 0.1ms postprocess per image at shape (1, 3, 640, 640)\n",
      "\n",
      "0: 640x640 open_manhole 0.98, crack_issues 0.02, alligator_crack_issues 0.00, potholes 0.00, ravelling 0.00, 8.5ms\n",
      "Speed: 7.8ms preprocess, 8.5ms inference, 0.1ms postprocess per image at shape (1, 3, 640, 640)\n",
      "\n",
      "0: 640x640 open_manhole 0.98, crack_issues 0.01, alligator_crack_issues 0.00, potholes 0.00, ravelling 0.00, 8.8ms\n",
      "Speed: 8.1ms preprocess, 8.8ms inference, 0.1ms postprocess per image at shape (1, 3, 640, 640)\n",
      "\n",
      "0: 640x640 open_manhole 0.99, crack_issues 0.01, alligator_crack_issues 0.00, potholes 0.00, ravelling 0.00, 8.6ms\n",
      "Speed: 9.1ms preprocess, 8.6ms inference, 0.1ms postprocess per image at shape (1, 3, 640, 640)\n",
      "\n",
      "0: 640x640 open_manhole 0.99, crack_issues 0.01, alligator_crack_issues 0.00, potholes 0.00, ravelling 0.00, 9.2ms\n",
      "Speed: 9.4ms preprocess, 9.2ms inference, 0.1ms postprocess per image at shape (1, 3, 640, 640)\n",
      "\n",
      "0: 640x640 open_manhole 0.99, crack_issues 0.01, alligator_crack_issues 0.00, potholes 0.00, ravelling 0.00, 8.9ms\n",
      "Speed: 9.0ms preprocess, 8.9ms inference, 0.1ms postprocess per image at shape (1, 3, 640, 640)\n",
      "\n",
      "0: 640x640 open_manhole 0.97, crack_issues 0.02, alligator_crack_issues 0.00, potholes 0.00, ravelling 0.00, 4.7ms\n",
      "Speed: 7.1ms preprocess, 4.7ms inference, 0.0ms postprocess per image at shape (1, 3, 640, 640)\n",
      "\n",
      "0: 640x640 open_manhole 0.95, crack_issues 0.05, alligator_crack_issues 0.00, potholes 0.00, ravelling 0.00, 8.2ms\n",
      "Speed: 6.5ms preprocess, 8.2ms inference, 0.0ms postprocess per image at shape (1, 3, 640, 640)\n",
      "\n",
      "0: 640x640 open_manhole 0.94, crack_issues 0.06, alligator_crack_issues 0.00, potholes 0.00, ravelling 0.00, 4.3ms\n",
      "Speed: 6.8ms preprocess, 4.3ms inference, 0.0ms postprocess per image at shape (1, 3, 640, 640)\n",
      "\n",
      "0: 640x640 open_manhole 0.95, crack_issues 0.04, alligator_crack_issues 0.02, potholes 0.00, ravelling 0.00, 4.0ms\n",
      "Speed: 6.4ms preprocess, 4.0ms inference, 0.0ms postprocess per image at shape (1, 3, 640, 640)\n",
      "\n",
      "0: 640x640 open_manhole 0.92, crack_issues 0.04, alligator_crack_issues 0.03, potholes 0.02, ravelling 0.00, 4.2ms\n",
      "Speed: 7.3ms preprocess, 4.2ms inference, 0.0ms postprocess per image at shape (1, 3, 640, 640)\n",
      "\n",
      "0: 640x640 open_manhole 0.94, crack_issues 0.03, alligator_crack_issues 0.02, potholes 0.01, ravelling 0.00, 4.1ms\n",
      "Speed: 7.7ms preprocess, 4.1ms inference, 0.0ms postprocess per image at shape (1, 3, 640, 640)\n",
      "\n",
      "0: 640x640 open_manhole 0.98, crack_issues 0.01, alligator_crack_issues 0.01, potholes 0.00, ravelling 0.00, 4.4ms\n",
      "Speed: 6.5ms preprocess, 4.4ms inference, 0.1ms postprocess per image at shape (1, 3, 640, 640)\n",
      "\n",
      "0: 640x640 open_manhole 0.87, crack_issues 0.11, alligator_crack_issues 0.02, potholes 0.00, ravelling 0.00, 3.8ms\n",
      "Speed: 5.8ms preprocess, 3.8ms inference, 0.0ms postprocess per image at shape (1, 3, 640, 640)\n",
      "\n",
      "0: 640x640 open_manhole 0.88, crack_issues 0.11, alligator_crack_issues 0.01, potholes 0.00, ravelling 0.00, 4.2ms\n",
      "Speed: 6.1ms preprocess, 4.2ms inference, 0.0ms postprocess per image at shape (1, 3, 640, 640)\n",
      "\n",
      "0: 640x640 open_manhole 0.94, crack_issues 0.06, alligator_crack_issues 0.00, potholes 0.00, ravelling 0.00, 4.6ms\n",
      "Speed: 7.0ms preprocess, 4.6ms inference, 0.1ms postprocess per image at shape (1, 3, 640, 640)\n",
      "\n",
      "0: 640x640 open_manhole 0.89, crack_issues 0.10, alligator_crack_issues 0.00, potholes 0.00, ravelling 0.00, 4.3ms\n",
      "Speed: 5.6ms preprocess, 4.3ms inference, 0.1ms postprocess per image at shape (1, 3, 640, 640)\n",
      "\n",
      "0: 640x640 open_manhole 0.96, crack_issues 0.04, alligator_crack_issues 0.00, potholes 0.00, ravelling 0.00, 4.7ms\n",
      "Speed: 7.0ms preprocess, 4.7ms inference, 0.0ms postprocess per image at shape (1, 3, 640, 640)\n",
      "\n",
      "0: 640x640 open_manhole 0.94, crack_issues 0.04, alligator_crack_issues 0.01, potholes 0.00, ravelling 0.00, 4.0ms\n",
      "Speed: 6.2ms preprocess, 4.0ms inference, 0.0ms postprocess per image at shape (1, 3, 640, 640)\n",
      "\n",
      "0: 640x640 open_manhole 0.97, crack_issues 0.02, alligator_crack_issues 0.01, potholes 0.00, ravelling 0.00, 8.0ms\n",
      "Speed: 7.2ms preprocess, 8.0ms inference, 0.0ms postprocess per image at shape (1, 3, 640, 640)\n",
      "\n",
      "0: 640x640 open_manhole 0.99, crack_issues 0.01, alligator_crack_issues 0.00, potholes 0.00, ravelling 0.00, 4.4ms\n",
      "Speed: 6.5ms preprocess, 4.4ms inference, 0.0ms postprocess per image at shape (1, 3, 640, 640)\n",
      "\n",
      "0: 640x640 open_manhole 0.75, crack_issues 0.24, alligator_crack_issues 0.01, potholes 0.00, ravelling 0.00, 5.4ms\n",
      "Speed: 6.5ms preprocess, 5.4ms inference, 0.1ms postprocess per image at shape (1, 3, 640, 640)\n",
      "\n",
      "0: 640x640 open_manhole 0.91, crack_issues 0.09, alligator_crack_issues 0.00, potholes 0.00, ravelling 0.00, 4.2ms\n",
      "Speed: 6.3ms preprocess, 4.2ms inference, 0.0ms postprocess per image at shape (1, 3, 640, 640)\n",
      "\n",
      "0: 640x640 open_manhole 0.98, crack_issues 0.02, potholes 0.00, alligator_crack_issues 0.00, ravelling 0.00, 4.1ms\n",
      "Speed: 6.8ms preprocess, 4.1ms inference, 0.0ms postprocess per image at shape (1, 3, 640, 640)\n",
      "\n",
      "0: 640x640 open_manhole 0.97, crack_issues 0.03, alligator_crack_issues 0.00, potholes 0.00, ravelling 0.00, 4.4ms\n",
      "Speed: 6.7ms preprocess, 4.4ms inference, 0.0ms postprocess per image at shape (1, 3, 640, 640)\n",
      "\n",
      "0: 640x640 open_manhole 0.98, crack_issues 0.02, alligator_crack_issues 0.00, potholes 0.00, ravelling 0.00, 5.6ms\n",
      "Speed: 8.1ms preprocess, 5.6ms inference, 0.0ms postprocess per image at shape (1, 3, 640, 640)\n",
      "\n",
      "0: 640x640 open_manhole 0.97, crack_issues 0.02, alligator_crack_issues 0.00, potholes 0.00, ravelling 0.00, 3.8ms\n",
      "Speed: 6.6ms preprocess, 3.8ms inference, 0.0ms postprocess per image at shape (1, 3, 640, 640)\n",
      "\n",
      "0: 640x640 open_manhole 0.97, crack_issues 0.03, alligator_crack_issues 0.00, potholes 0.00, ravelling 0.00, 5.5ms\n",
      "Speed: 5.9ms preprocess, 5.5ms inference, 0.1ms postprocess per image at shape (1, 3, 640, 640)\n",
      "\n",
      "0: 640x640 open_manhole 0.97, crack_issues 0.03, alligator_crack_issues 0.00, potholes 0.00, ravelling 0.00, 4.4ms\n",
      "Speed: 7.0ms preprocess, 4.4ms inference, 0.0ms postprocess per image at shape (1, 3, 640, 640)\n",
      "\n",
      "0: 640x640 open_manhole 0.95, crack_issues 0.05, alligator_crack_issues 0.00, potholes 0.00, ravelling 0.00, 4.6ms\n",
      "Speed: 7.1ms preprocess, 4.6ms inference, 0.0ms postprocess per image at shape (1, 3, 640, 640)\n",
      "\n",
      "0: 640x640 open_manhole 0.89, crack_issues 0.11, alligator_crack_issues 0.00, potholes 0.00, ravelling 0.00, 4.5ms\n",
      "Speed: 5.9ms preprocess, 4.5ms inference, 0.1ms postprocess per image at shape (1, 3, 640, 640)\n",
      "\n",
      "0: 640x640 open_manhole 0.87, crack_issues 0.13, alligator_crack_issues 0.00, potholes 0.00, ravelling 0.00, 4.8ms\n",
      "Speed: 7.4ms preprocess, 4.8ms inference, 0.0ms postprocess per image at shape (1, 3, 640, 640)\n",
      "\n",
      "0: 640x640 open_manhole 0.98, crack_issues 0.02, alligator_crack_issues 0.00, potholes 0.00, ravelling 0.00, 5.3ms\n",
      "Speed: 8.0ms preprocess, 5.3ms inference, 0.0ms postprocess per image at shape (1, 3, 640, 640)\n",
      "\n",
      "0: 640x640 open_manhole 0.97, crack_issues 0.03, alligator_crack_issues 0.00, potholes 0.00, ravelling 0.00, 4.1ms\n",
      "Speed: 7.2ms preprocess, 4.1ms inference, 0.0ms postprocess per image at shape (1, 3, 640, 640)\n",
      "\n",
      "0: 640x640 open_manhole 0.96, crack_issues 0.03, alligator_crack_issues 0.00, potholes 0.00, ravelling 0.00, 4.7ms\n",
      "Speed: 8.8ms preprocess, 4.7ms inference, 0.0ms postprocess per image at shape (1, 3, 640, 640)\n",
      "\n",
      "0: 640x640 open_manhole 0.96, crack_issues 0.04, alligator_crack_issues 0.00, potholes 0.00, ravelling 0.00, 4.3ms\n",
      "Speed: 7.0ms preprocess, 4.3ms inference, 0.0ms postprocess per image at shape (1, 3, 640, 640)\n",
      "\n",
      "0: 640x640 open_manhole 0.95, crack_issues 0.04, alligator_crack_issues 0.00, potholes 0.00, ravelling 0.00, 5.5ms\n",
      "Speed: 6.9ms preprocess, 5.5ms inference, 0.1ms postprocess per image at shape (1, 3, 640, 640)\n",
      "\n",
      "0: 640x640 open_manhole 0.93, crack_issues 0.06, alligator_crack_issues 0.00, potholes 0.00, ravelling 0.00, 7.8ms\n",
      "Speed: 6.6ms preprocess, 7.8ms inference, 0.1ms postprocess per image at shape (1, 3, 640, 640)\n",
      "\n",
      "0: 640x640 open_manhole 0.92, crack_issues 0.07, alligator_crack_issues 0.00, potholes 0.00, ravelling 0.00, 7.5ms\n",
      "Speed: 7.4ms preprocess, 7.5ms inference, 0.0ms postprocess per image at shape (1, 3, 640, 640)\n",
      "\n",
      "0: 640x640 open_manhole 0.72, crack_issues 0.28, alligator_crack_issues 0.00, potholes 0.00, ravelling 0.00, 4.2ms\n",
      "Speed: 6.7ms preprocess, 4.2ms inference, 0.0ms postprocess per image at shape (1, 3, 640, 640)\n",
      "\n",
      "0: 640x640 open_manhole 0.97, crack_issues 0.03, alligator_crack_issues 0.00, potholes 0.00, ravelling 0.00, 4.2ms\n",
      "Speed: 7.8ms preprocess, 4.2ms inference, 0.0ms postprocess per image at shape (1, 3, 640, 640)\n",
      "\n",
      "0: 640x640 open_manhole 0.92, crack_issues 0.07, alligator_crack_issues 0.00, potholes 0.00, ravelling 0.00, 4.7ms\n",
      "Speed: 7.1ms preprocess, 4.7ms inference, 0.0ms postprocess per image at shape (1, 3, 640, 640)\n",
      "\n",
      "0: 640x640 open_manhole 0.93, crack_issues 0.06, alligator_crack_issues 0.00, potholes 0.00, ravelling 0.00, 8.0ms\n",
      "Speed: 7.1ms preprocess, 8.0ms inference, 0.1ms postprocess per image at shape (1, 3, 640, 640)\n",
      "\n",
      "0: 640x640 open_manhole 0.94, crack_issues 0.06, alligator_crack_issues 0.00, potholes 0.00, ravelling 0.00, 7.6ms\n",
      "Speed: 10.2ms preprocess, 7.6ms inference, 0.0ms postprocess per image at shape (1, 3, 640, 640)\n",
      "\n",
      "0: 640x640 open_manhole 0.91, crack_issues 0.09, alligator_crack_issues 0.00, potholes 0.00, ravelling 0.00, 4.6ms\n",
      "Speed: 7.2ms preprocess, 4.6ms inference, 0.0ms postprocess per image at shape (1, 3, 640, 640)\n",
      "\n",
      "0: 640x640 open_manhole 0.91, crack_issues 0.08, alligator_crack_issues 0.00, potholes 0.00, ravelling 0.00, 5.2ms\n",
      "Speed: 7.7ms preprocess, 5.2ms inference, 0.1ms postprocess per image at shape (1, 3, 640, 640)\n",
      "\n",
      "0: 640x640 open_manhole 0.94, crack_issues 0.05, alligator_crack_issues 0.00, potholes 0.00, ravelling 0.00, 5.6ms\n",
      "Speed: 7.9ms preprocess, 5.6ms inference, 0.1ms postprocess per image at shape (1, 3, 640, 640)\n",
      "\n",
      "0: 640x640 open_manhole 0.96, crack_issues 0.04, potholes 0.00, alligator_crack_issues 0.00, ravelling 0.00, 4.3ms\n",
      "Speed: 7.1ms preprocess, 4.3ms inference, 0.1ms postprocess per image at shape (1, 3, 640, 640)\n",
      "\n",
      "0: 640x640 open_manhole 0.95, crack_issues 0.05, alligator_crack_issues 0.00, potholes 0.00, ravelling 0.00, 4.3ms\n",
      "Speed: 7.0ms preprocess, 4.3ms inference, 0.0ms postprocess per image at shape (1, 3, 640, 640)\n",
      "\n",
      "0: 640x640 open_manhole 0.89, crack_issues 0.10, alligator_crack_issues 0.00, potholes 0.00, ravelling 0.00, 4.3ms\n",
      "Speed: 7.5ms preprocess, 4.3ms inference, 0.1ms postprocess per image at shape (1, 3, 640, 640)\n",
      "\n",
      "0: 640x640 open_manhole 0.95, crack_issues 0.05, alligator_crack_issues 0.00, potholes 0.00, ravelling 0.00, 4.2ms\n",
      "Speed: 6.1ms preprocess, 4.2ms inference, 0.1ms postprocess per image at shape (1, 3, 640, 640)\n",
      "\n",
      "0: 640x640 open_manhole 0.97, crack_issues 0.03, alligator_crack_issues 0.00, potholes 0.00, ravelling 0.00, 4.7ms\n",
      "Speed: 6.7ms preprocess, 4.7ms inference, 0.0ms postprocess per image at shape (1, 3, 640, 640)\n",
      "\n",
      "0: 640x640 open_manhole 0.94, crack_issues 0.06, alligator_crack_issues 0.00, potholes 0.00, ravelling 0.00, 4.4ms\n",
      "Speed: 6.5ms preprocess, 4.4ms inference, 0.0ms postprocess per image at shape (1, 3, 640, 640)\n",
      "\n",
      "0: 640x640 open_manhole 0.98, crack_issues 0.02, alligator_crack_issues 0.00, potholes 0.00, ravelling 0.00, 7.2ms\n",
      "Speed: 6.8ms preprocess, 7.2ms inference, 0.0ms postprocess per image at shape (1, 3, 640, 640)\n",
      "\n",
      "0: 640x640 open_manhole 0.94, crack_issues 0.06, alligator_crack_issues 0.00, potholes 0.00, ravelling 0.00, 4.5ms\n",
      "Speed: 6.7ms preprocess, 4.5ms inference, 0.1ms postprocess per image at shape (1, 3, 640, 640)\n",
      "\n",
      "0: 640x640 open_manhole 0.97, crack_issues 0.03, potholes 0.00, alligator_crack_issues 0.00, ravelling 0.00, 4.2ms\n",
      "Speed: 5.6ms preprocess, 4.2ms inference, 0.0ms postprocess per image at shape (1, 3, 640, 640)\n",
      "\n",
      "0: 640x640 open_manhole 0.98, crack_issues 0.02, potholes 0.00, alligator_crack_issues 0.00, ravelling 0.00, 4.1ms\n",
      "Speed: 6.8ms preprocess, 4.1ms inference, 0.0ms postprocess per image at shape (1, 3, 640, 640)\n",
      "\n",
      "0: 640x640 open_manhole 0.95, crack_issues 0.05, potholes 0.00, alligator_crack_issues 0.00, ravelling 0.00, 4.2ms\n",
      "Speed: 6.8ms preprocess, 4.2ms inference, 0.0ms postprocess per image at shape (1, 3, 640, 640)\n",
      "\n",
      "0: 640x640 open_manhole 0.93, crack_issues 0.07, alligator_crack_issues 0.00, potholes 0.00, ravelling 0.00, 6.4ms\n",
      "Speed: 6.3ms preprocess, 6.4ms inference, 0.1ms postprocess per image at shape (1, 3, 640, 640)\n",
      "\n",
      "0: 640x640 open_manhole 0.97, crack_issues 0.03, alligator_crack_issues 0.00, potholes 0.00, ravelling 0.00, 4.8ms\n",
      "Speed: 6.9ms preprocess, 4.8ms inference, 0.1ms postprocess per image at shape (1, 3, 640, 640)\n",
      "\n",
      "0: 640x640 open_manhole 0.97, crack_issues 0.02, alligator_crack_issues 0.00, potholes 0.00, ravelling 0.00, 4.2ms\n",
      "Speed: 6.1ms preprocess, 4.2ms inference, 0.0ms postprocess per image at shape (1, 3, 640, 640)\n",
      "\n",
      "0: 640x640 open_manhole 0.96, crack_issues 0.04, alligator_crack_issues 0.00, potholes 0.00, ravelling 0.00, 4.8ms\n",
      "Speed: 6.0ms preprocess, 4.8ms inference, 0.1ms postprocess per image at shape (1, 3, 640, 640)\n",
      "\n",
      "0: 640x640 open_manhole 0.67, crack_issues 0.32, alligator_crack_issues 0.01, potholes 0.00, ravelling 0.00, 3.9ms\n",
      "Speed: 7.5ms preprocess, 3.9ms inference, 0.0ms postprocess per image at shape (1, 3, 640, 640)\n",
      "\n",
      "0: 640x640 open_manhole 0.77, crack_issues 0.22, alligator_crack_issues 0.00, potholes 0.00, ravelling 0.00, 4.2ms\n",
      "Speed: 6.6ms preprocess, 4.2ms inference, 0.1ms postprocess per image at shape (1, 3, 640, 640)\n",
      "\n",
      "0: 640x640 open_manhole 0.80, crack_issues 0.20, alligator_crack_issues 0.00, potholes 0.00, ravelling 0.00, 4.9ms\n",
      "Speed: 6.9ms preprocess, 4.9ms inference, 0.1ms postprocess per image at shape (1, 3, 640, 640)\n",
      "\n",
      "0: 640x640 open_manhole 0.82, crack_issues 0.18, alligator_crack_issues 0.00, potholes 0.00, ravelling 0.00, 4.8ms\n",
      "Speed: 6.8ms preprocess, 4.8ms inference, 0.0ms postprocess per image at shape (1, 3, 640, 640)\n",
      "\n",
      "0: 640x640 open_manhole 0.67, crack_issues 0.32, alligator_crack_issues 0.00, potholes 0.00, ravelling 0.00, 4.3ms\n",
      "Speed: 5.9ms preprocess, 4.3ms inference, 0.1ms postprocess per image at shape (1, 3, 640, 640)\n",
      "\n",
      "0: 640x640 open_manhole 0.93, crack_issues 0.07, alligator_crack_issues 0.00, potholes 0.00, ravelling 0.00, 6.9ms\n",
      "Speed: 7.2ms preprocess, 6.9ms inference, 0.1ms postprocess per image at shape (1, 3, 640, 640)\n",
      "\n",
      "0: 640x640 open_manhole 0.93, crack_issues 0.07, alligator_crack_issues 0.00, potholes 0.00, ravelling 0.00, 4.0ms\n",
      "Speed: 6.5ms preprocess, 4.0ms inference, 0.0ms postprocess per image at shape (1, 3, 640, 640)\n",
      "\n",
      "0: 640x640 open_manhole 0.72, crack_issues 0.27, alligator_crack_issues 0.01, potholes 0.00, ravelling 0.00, 4.2ms\n",
      "Speed: 7.1ms preprocess, 4.2ms inference, 0.0ms postprocess per image at shape (1, 3, 640, 640)\n",
      "\n",
      "0: 640x640 crack_issues 0.63, open_manhole 0.26, alligator_crack_issues 0.10, potholes 0.00, ravelling 0.00, 4.2ms\n",
      "Speed: 6.4ms preprocess, 4.2ms inference, 0.1ms postprocess per image at shape (1, 3, 640, 640)\n",
      "\n",
      "0: 640x640 open_manhole 0.59, crack_issues 0.40, alligator_crack_issues 0.01, potholes 0.00, ravelling 0.00, 4.0ms\n",
      "Speed: 6.2ms preprocess, 4.0ms inference, 0.0ms postprocess per image at shape (1, 3, 640, 640)\n",
      "\n",
      "0: 640x640 open_manhole 0.59, crack_issues 0.40, alligator_crack_issues 0.01, potholes 0.00, ravelling 0.00, 4.1ms\n",
      "Speed: 6.8ms preprocess, 4.1ms inference, 0.0ms postprocess per image at shape (1, 3, 640, 640)\n",
      "\n",
      "0: 640x640 open_manhole 0.83, crack_issues 0.16, alligator_crack_issues 0.01, potholes 0.00, ravelling 0.00, 4.2ms\n",
      "Speed: 6.7ms preprocess, 4.2ms inference, 0.0ms postprocess per image at shape (1, 3, 640, 640)\n",
      "\n",
      "0: 640x640 open_manhole 0.73, crack_issues 0.26, alligator_crack_issues 0.01, potholes 0.00, ravelling 0.00, 4.2ms\n",
      "Speed: 6.6ms preprocess, 4.2ms inference, 0.0ms postprocess per image at shape (1, 3, 640, 640)\n",
      "\n",
      "0: 640x640 open_manhole 0.95, crack_issues 0.04, alligator_crack_issues 0.00, potholes 0.00, ravelling 0.00, 5.5ms\n",
      "Speed: 6.6ms preprocess, 5.5ms inference, 0.1ms postprocess per image at shape (1, 3, 640, 640)\n",
      "\n",
      "0: 640x640 open_manhole 0.88, crack_issues 0.10, alligator_crack_issues 0.01, potholes 0.00, ravelling 0.00, 8.5ms\n",
      "Speed: 8.8ms preprocess, 8.5ms inference, 0.1ms postprocess per image at shape (1, 3, 640, 640)\n",
      "\n",
      "0: 640x640 open_manhole 0.64, crack_issues 0.29, alligator_crack_issues 0.06, potholes 0.00, ravelling 0.00, 4.3ms\n",
      "Speed: 7.1ms preprocess, 4.3ms inference, 0.0ms postprocess per image at shape (1, 3, 640, 640)\n",
      "\n",
      "0: 640x640 crack_issues 0.64, open_manhole 0.19, alligator_crack_issues 0.17, potholes 0.00, ravelling 0.00, 4.1ms\n",
      "Speed: 6.7ms preprocess, 4.1ms inference, 0.0ms postprocess per image at shape (1, 3, 640, 640)\n",
      "Other possible damages (top 2): open_manhole, crack_issues\n"
     ]
    },
    {
     "data": {
      "text/plain": [
       "<Figure size 1200x1000 with 1 Axes>"
      ]
     },
     "metadata": {},
     "output_type": "display_data"
    }
   ],
   "source": [
    "import cv2\n",
    "from ultralytics import YOLO\n",
    "import matplotlib.pyplot as plt\n",
    "\n",
    "# 1. Load model\n",
    "model = YOLO(\"best.pt\")\n",
    "model.eval()\n",
    "\n",
    "# 2. Parameters\n",
    "image_path   = \"testing/4.jpg\"\n",
    "patch_size   = 256\n",
    "stride        = 128\n",
    "conf_thresh   = 0.6\n",
    "max_patches   = 4   # limit for “other” damages\n",
    "\n",
    "# 3. Read & classify the whole image\n",
    "img_bgr = cv2.imread(image_path)\n",
    "img_rgb = cv2.cvtColor(img_bgr, cv2.COLOR_BGR2RGB)\n",
    "whole_res = model(img_rgb, imgsz=640)[0]\n",
    "primary_idx  = int(whole_res.probs.top1)\n",
    "primary_conf = float(whole_res.probs.top1conf)\n",
    "primary_lbl  = model.names.get(primary_idx, str(primary_idx))\n",
    "print(f\"Primary damage → {primary_lbl} ({primary_conf:.2f})\")\n",
    "\n",
    "# 4. Sliding window & collect detections **excluding** primary\n",
    "h, w, _ = img_rgb.shape\n",
    "all_dets = []\n",
    "for y in range(0, h - patch_size + 1, stride):\n",
    "    for x in range(0, w - patch_size + 1, stride):\n",
    "        patch = img_rgb[y:y+patch_size, x:x+patch_size]\n",
    "        res   = model(patch, imgsz=patch_size)[0]\n",
    "        conf  = float(res.probs.top1conf)\n",
    "        cls   = int(res.probs.top1)\n",
    "        lbl   = model.names.get(cls, str(cls))\n",
    "        # only keep if above threshold and not the primary damage\n",
    "        if conf >= conf_thresh and lbl != primary_lbl:\n",
    "            all_dets.append({\"label\": lbl, \"conf\": conf, \"coords\": (x, y)})\n",
    "\n",
    "# 5. Keep best patch per remaining class\n",
    "best_per_class = {}\n",
    "for det in all_dets:\n",
    "    lbl = det[\"label\"]\n",
    "    if lbl not in best_per_class or det[\"conf\"] > best_per_class[lbl][\"conf\"]:\n",
    "        best_per_class[lbl] = det\n",
    "\n",
    "# 6. Sort & take up to max_patches “other” damages\n",
    "other_dets = sorted(best_per_class.values(), key=lambda d: d[\"conf\"], reverse=True)[:max_patches]\n",
    "other_labels = [d[\"label\"] for d in other_dets]\n",
    "\n",
    "# 7. Report “other possible damages”\n",
    "if other_labels:\n",
    "    print(f\"Other possible damages (top {len(other_labels)}): {', '.join(other_labels)}\")\n",
    "else:\n",
    "    print(\"No other damages detected above threshold.\")\n",
    "\n",
    "# 8. Visualization: annotate primary (full-image) and secondary patches\n",
    "vis = img_rgb.copy()\n",
    "# a) Draw a banner for primary damage\n",
    "banner = f\"Primary: {primary_lbl} ({primary_conf:.2f})\"\n",
    "cv2.rectangle(vis, (0, 0), (w, 30), (0, 0, 255), -1)\n",
    "cv2.putText(vis, banner, (5, 20),\n",
    "            cv2.FONT_HERSHEY_SIMPLEX, 0.7, (255, 255, 255), 2)\n",
    "\n",
    "# b) Draw boxes for each “other” patch\n",
    "for det in other_dets:\n",
    "    x, y   = det[\"coords\"]\n",
    "    label  = f\"{det['label']} ({det['conf']:.2f})\"\n",
    "    # patch box\n",
    "    cv2.rectangle(vis, (x, y), (x+patch_size, y+patch_size), (255, 0, 0), 2)\n",
    "    # label background\n",
    "    (tw, th), _ = cv2.getTextSize(label, cv2.FONT_HERSHEY_SIMPLEX, 0.6, 2)\n",
    "    cv2.rectangle(vis, (x, y-th-4), (x+tw+4, y), (255, 0, 0), -1)\n",
    "    # label text\n",
    "    cv2.putText(vis, label, (x+2, y-2),\n",
    "                cv2.FONT_HERSHEY_SIMPLEX, 0.6, (255, 255, 255), 2)\n",
    "\n",
    "# 9. Display result\n",
    "plt.figure(figsize=(12, 10))\n",
    "plt.imshow(vis)\n",
    "plt.axis(\"off\")\n",
    "plt.title(\"Primary damage (top banner) + Other possible damages\")\n",
    "plt.tight_layout()\n",
    "plt.show()\n"
   ]
  },
  {
   "cell_type": "code",
   "execution_count": null,
   "id": "e5edb7fd-1f9e-4a8f-ac7b-34732519e746",
   "metadata": {},
   "outputs": [],
   "source": [
    "from ultralytics import YOLO\n",
    "from sklearn.metrics import auc as sklearn_auc\n",
    "\n",
    "from sklearn.metrics import (\n",
    "    classification_report, confusion_matrix, ConfusionMatrixDisplay,\n",
    "    roc_auc_score\n",
    ")\n",
    "from sklearn.exceptions import UndefinedMetricWarning\n",
    "import matplotlib.pyplot as plt\n",
    "import numpy as np\n",
    "import os\n",
    "import warnings\n",
    "\n",
    "# 1. Load trained classification model\n",
    "weights = \"Road_Damage/single_train/weights/best.pt\"\n",
    "model = YOLO(weights)\n",
    "\n",
    "# 2. Get class names\n",
    "names = model.names.copy()\n",
    "\n",
    "# 3. Set up validation folders\n",
    "val_root = \"Road_Damage/test\"\n",
    "folders = [\n",
    "    \"potholes\",\n",
    "    \"crack_issues\",\n",
    "    \"alligator_crack_issues\",\n",
    "    \"ravelling\",\n",
    "    \"open_manhole\"\n",
    "]\n",
    "name_to_idx = {v: k for k, v in names.items()}\n",
    "\n",
    "# 4. Evaluate model\n",
    "y_true, y_pred, y_probs = [], [], []\n",
    "\n",
    "for folder in folders:\n",
    "    true_idx = name_to_idx[folder]\n",
    "    img_dir = os.path.join(val_root, folder, \"images\")\n",
    "\n",
    "    for fn in os.listdir(img_dir):\n",
    "        if not fn.lower().endswith((\".jpg\", \".jpeg\", \".png\")):\n",
    "            continue\n",
    "\n",
    "        path = os.path.join(img_dir, fn)\n",
    "        y_true.append(true_idx)\n",
    "\n",
    "        res = model(path, imgsz=640)[0]\n",
    "        top_idx = int(res.probs.top1)\n",
    "\n",
    "        # Collect raw prediction and probs\n",
    "        y_pred.append(top_idx)\n",
    "        y_probs.append(res.probs.data.tolist())\n",
    "\n",
    "# 5. Sorted class indices and labels\n",
    "sorted_idx = sorted(set(y_true + y_pred))\n",
    "label_names = [names[i] for i in sorted_idx]\n",
    "\n",
    "# 6. Print classification report\n",
    "print(\"\\n📊 Classification Report:\")\n",
    "print(classification_report(\n",
    "    y_true,\n",
    "    y_pred,\n",
    "    labels=sorted_idx,\n",
    "    target_names=label_names,\n",
    "    zero_division=0\n",
    "))\n",
    "\n",
    "# 7. Confusion Matrix\n",
    "cm = confusion_matrix(y_true, y_pred, labels=sorted_idx)\n",
    "disp = ConfusionMatrixDisplay(cm, display_labels=label_names)\n",
    "fig, ax = plt.subplots(figsize=(9, 7))\n",
    "disp.plot(ax=ax, cmap=\"Blues\", xticks_rotation=\"vertical\")\n",
    "plt.title(\"Confusion Matrix (Only Damage Classes)\")\n",
    "plt.tight_layout()\n",
    "plt.savefig(\"confusion_matrix_no_no_damage.png\", dpi=150)\n",
    "print(\"✅ Saved confusion matrix to 'confusion_matrix_no_no_damage.png'\")\n",
    "plt.show()\n",
    "\n",
    "# 8. ROC-AUC (One-vs-Rest)\n",
    "print(\"\\n📈 ROC-AUC Scores (One-vs-Rest):\")\n",
    "y_true_bin = np.zeros((len(y_true), len(sorted_idx)))\n",
    "for i, cls in enumerate(y_true):\n",
    "    y_true_bin[i][sorted_idx.index(cls)] = 1\n",
    "\n",
    "y_probs_trimmed = np.array(y_probs)[:, sorted_idx]\n",
    "\n",
    "try:\n",
    "    with warnings.catch_warnings():\n",
    "        warnings.simplefilter(\"ignore\", UndefinedMetricWarning)\n",
    "\n",
    "        per_class_auc = roc_auc_score(\n",
    "            y_true_bin,\n",
    "            y_probs_trimmed,\n",
    "            average=None,\n",
    "            multi_class=\"ovr\"\n",
    "        )\n",
    "        macro_auc = roc_auc_score(\n",
    "            y_true_bin,\n",
    "            y_probs_trimmed,\n",
    "            average=\"macro\",\n",
    "            multi_class=\"ovr\"\n",
    "        )\n",
    "\n",
    "        print(f\"{'Class':<25}  ROC-AUC\")\n",
    "        print(\"-\" * 38)\n",
    "        for i, auc in zip(sorted_idx, per_class_auc):\n",
    "            print(f\"{names[i]:<25}  {auc:.3f}\")\n",
    "        print(\"-\" * 38)\n",
    "        print(f\"{'Macro average':<25}  {macro_auc:.3f}\")\n",
    "\n",
    "except ValueError as e:\n",
    "    print(f\"⚠️ ROC-AUC could not be computed: {e}\")\n",
    "\n",
    "# 9. Note on unsupported metrics\n",
    "print(\"\\n📉 Plotting ROC Curves per class...\")\n",
    "fig, ax = plt.subplots(figsize=(8, 6))\n",
    "\n",
    "for i, class_idx in enumerate(sorted_idx):\n",
    "    fpr, tpr, _ = roc_curve(y_true_bin[:, i], y_probs_trimmed[:, i])\n",
    "    roc_auc = sklearn_auc(fpr, tpr)\n",
    "    ax.plot(fpr, tpr, lw=2, label=f\"{names[class_idx]} (AUC = {roc_auc:.2f})\")\n",
    "\n",
    "ax.plot([0, 1], [0, 1], linestyle=\"--\", color=\"gray\", label=\"Random\")\n",
    "\n",
    "ax.set_xlim([0.0, 1.0])\n",
    "ax.set_ylim([0.0, 1.05])\n",
    "ax.set_xlabel(\"False Positive Rate\")\n",
    "ax.set_ylabel(\"True Positive Rate\")\n",
    "ax.set_title(\"ROC Curves (One-vs-Rest)\")\n",
    "ax.legend(loc=\"lower right\", fontsize=\"small\")\n",
    "plt.tight_layout()\n",
    "plt.savefig(\"roc_curves_multiclass.png\", dpi=150)\n",
    "print(\"✅ ROC curve saved as 'roc_curves_multiclass.png'\")\n",
    "plt.show()"
   ]
  },
  {
   "cell_type": "code",
   "execution_count": null,
   "id": "e927ad80-9068-47d8-822f-810c13e4e423",
   "metadata": {},
   "outputs": [],
   "source": []
  }
 ],
 "metadata": {
  "kernelspec": {
   "display_name": "Python 3 (ipykernel)",
   "language": "python",
   "name": "python3"
  },
  "language_info": {
   "codemirror_mode": {
    "name": "ipython",
    "version": 3
   },
   "file_extension": ".py",
   "mimetype": "text/x-python",
   "name": "python",
   "nbconvert_exporter": "python",
   "pygments_lexer": "ipython3",
   "version": "3.9.21"
  }
 },
 "nbformat": 4,
 "nbformat_minor": 5
}
