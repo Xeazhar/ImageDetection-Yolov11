{
 "cells": [
  {
   "cell_type": "code",
   "execution_count": 1,
   "id": "a7232ab2-c43b-40fb-8cd3-919fd24cea5d",
   "metadata": {},
   "outputs": [
    {
     "name": "stdout",
     "output_type": "stream",
     "text": [
      "Collecting pnnx\n",
      "  Downloading pnnx-20250430-py3-none-win_amd64.whl.metadata (6.4 kB)\n",
      "Requirement already satisfied: onnx in c:\\users\\jazzb\\anaconda3\\envs\\yolov-env\\lib\\site-packages (1.17.0)\n",
      "Collecting onnxsim\n",
      "  Downloading onnxsim-0.4.36-cp39-cp39-win_amd64.whl.metadata (4.4 kB)\n",
      "Requirement already satisfied: torch in c:\\users\\jazzb\\anaconda3\\envs\\yolov-env\\lib\\site-packages (from pnnx) (2.5.1+cu121)\n",
      "Requirement already satisfied: numpy>=1.20 in c:\\users\\jazzb\\anaconda3\\envs\\yolov-env\\lib\\site-packages (from onnx) (1.26.3)\n",
      "Requirement already satisfied: protobuf>=3.20.2 in c:\\users\\jazzb\\anaconda3\\envs\\yolov-env\\lib\\site-packages (from onnx) (5.29.4)\n",
      "Requirement already satisfied: rich in c:\\users\\jazzb\\anaconda3\\envs\\yolov-env\\lib\\site-packages (from onnxsim) (14.0.0)\n",
      "Requirement already satisfied: markdown-it-py>=2.2.0 in c:\\users\\jazzb\\anaconda3\\envs\\yolov-env\\lib\\site-packages (from rich->onnxsim) (3.0.0)\n",
      "Requirement already satisfied: pygments<3.0.0,>=2.13.0 in c:\\users\\jazzb\\anaconda3\\envs\\yolov-env\\lib\\site-packages (from rich->onnxsim) (2.19.1)\n",
      "Requirement already satisfied: typing-extensions<5.0,>=4.0.0 in c:\\users\\jazzb\\anaconda3\\envs\\yolov-env\\lib\\site-packages (from rich->onnxsim) (4.12.2)\n",
      "Requirement already satisfied: mdurl~=0.1 in c:\\users\\jazzb\\anaconda3\\envs\\yolov-env\\lib\\site-packages (from markdown-it-py>=2.2.0->rich->onnxsim) (0.1.2)\n",
      "Requirement already satisfied: filelock in c:\\users\\jazzb\\anaconda3\\envs\\yolov-env\\lib\\site-packages (from torch->pnnx) (3.13.1)\n",
      "Requirement already satisfied: networkx in c:\\users\\jazzb\\anaconda3\\envs\\yolov-env\\lib\\site-packages (from torch->pnnx) (3.2.1)\n",
      "Requirement already satisfied: jinja2 in c:\\users\\jazzb\\anaconda3\\envs\\yolov-env\\lib\\site-packages (from torch->pnnx) (3.1.6)\n",
      "Requirement already satisfied: fsspec in c:\\users\\jazzb\\anaconda3\\envs\\yolov-env\\lib\\site-packages (from torch->pnnx) (2024.6.1)\n",
      "Requirement already satisfied: sympy==1.13.1 in c:\\users\\jazzb\\anaconda3\\envs\\yolov-env\\lib\\site-packages (from torch->pnnx) (1.13.1)\n",
      "Requirement already satisfied: mpmath<1.4,>=1.1.0 in c:\\users\\jazzb\\anaconda3\\envs\\yolov-env\\lib\\site-packages (from sympy==1.13.1->torch->pnnx) (1.3.0)\n",
      "Requirement already satisfied: MarkupSafe>=2.0 in c:\\users\\jazzb\\anaconda3\\envs\\yolov-env\\lib\\site-packages (from jinja2->torch->pnnx) (3.0.2)\n",
      "Downloading pnnx-20250430-py3-none-win_amd64.whl (17.7 MB)\n",
      "   ---------------------------------------- 0.0/17.7 MB ? eta -:--:--\n",
      "   - -------------------------------------- 0.8/17.7 MB 8.5 MB/s eta 0:00:03\n",
      "   --------------- ------------------------ 6.8/17.7 MB 28.0 MB/s eta 0:00:01\n",
      "   ----------------------- ---------------- 10.2/17.7 MB 22.0 MB/s eta 0:00:01\n",
      "   ----------------------------------- ---- 15.7/17.7 MB 22.5 MB/s eta 0:00:01\n",
      "   ---------------------------------------- 17.7/17.7 MB 21.9 MB/s eta 0:00:00\n",
      "Downloading onnxsim-0.4.36-cp39-cp39-win_amd64.whl (1.3 MB)\n",
      "   ---------------------------------------- 0.0/1.3 MB ? eta -:--:--\n",
      "   ---------------------------------------- 1.3/1.3 MB 64.1 MB/s eta 0:00:00\n",
      "Installing collected packages: pnnx, onnxsim\n",
      "\n",
      "   ---------------------------------------- 0/2 [pnnx]\n",
      "   ---------------------------------------- 2/2 [onnxsim]\n",
      "\n",
      "Successfully installed onnxsim-0.4.36 pnnx-20250430\n"
     ]
    }
   ],
   "source": [
    "!pip install pnnx onnx onnxsim"
   ]
  },
  {
   "cell_type": "code",
   "execution_count": 2,
   "id": "9f912f8c-6900-48e1-a03d-406d38cf2b89",
   "metadata": {},
   "outputs": [
    {
     "name": "stdout",
     "output_type": "stream",
     "text": [
      "Ultralytics 8.3.133  Python-3.9.21 torch-2.5.1+cu121 CPU (AMD Ryzen 9 8945HS w/ Radeon 780M Graphics)\n",
      "YOLO11n-cls summary (fused): 47 layers, 1,532,429 parameters, 0 gradients, 3.2 GFLOPs\n",
      "\n",
      "\u001b[34m\u001b[1mPyTorch:\u001b[0m starting from 'best_fold.pt' with input shape (1, 3, 640, 640) BCHW and output shape(s) (1, 5) (3.0 MB)\n",
      "\n",
      "\u001b[34m\u001b[1mONNX:\u001b[0m starting export with onnx 1.17.0 opset 19...\n",
      "\u001b[34m\u001b[1mONNX:\u001b[0m slimming with onnxslim 0.1.52...\n",
      "\u001b[34m\u001b[1mONNX:\u001b[0m export success  0.9s, saved as 'best_fold.onnx' (5.9 MB)\n",
      "\n",
      "Export complete (1.1s)\n",
      "Results saved to \u001b[1mC:\\Users\\jazzb\\ImageDetection-Yolov11\u001b[0m\n",
      "Predict:         yolo predict task=classify model=best_fold.onnx imgsz=640  \n",
      "Validate:        yolo val task=classify model=best_fold.onnx imgsz=640 data=C:\\Users\\jazzb\\ImageDetection-Yolov11\\Road_Damage\\folds\\fold_3  \n",
      "Visualize:       https://netron.app\n"
     ]
    },
    {
     "data": {
      "text/plain": [
       "'best_fold.onnx'"
      ]
     },
     "execution_count": 2,
     "metadata": {},
     "output_type": "execute_result"
    }
   ],
   "source": [
    "import torch\n",
    "from ultralytics import YOLO\n",
    "\n",
    "# Load your YOLOv11n-cls model\n",
    "model = YOLO('best_fold.pt')\n",
    "\n",
    "# Export to ONNX format\n",
    "model.export(format='onnx')\n"
   ]
  },
  {
   "cell_type": "code",
   "execution_count": 3,
   "id": "4b2149a0-67a4-43fc-984e-aaabb746f910",
   "metadata": {},
   "outputs": [],
   "source": [
    "import onnx\n",
    "from onnxsim import simplify\n",
    "\n",
    "# Load the ONNX model\n",
    "model = onnx.load(\"best_fold.onnx\")\n",
    "\n",
    "# Simplify the model\n",
    "model_simplified, check = simplify(model)\n",
    "\n",
    "# Save the simplified model\n",
    "onnx.save(model_simplified, \"best_simplified.onnx\")\n"
   ]
  },
  {
   "cell_type": "code",
   "execution_count": 5,
   "id": "c95e9dea-d9ef-45b1-afaa-9cbf03383640",
   "metadata": {},
   "outputs": [
    {
     "data": {
      "text/plain": [
       "Model(\n",
       "  (conv2d_0): Conv2d(3, 16, kernel_size=(3, 3), stride=(2, 2), padding=(1, 1))\n",
       "  (conv2d_1): Conv2d(16, 32, kernel_size=(3, 3), stride=(2, 2), padding=(1, 1))\n",
       "  (conv2d_2): Conv2d(32, 32, kernel_size=(1, 1), stride=(1, 1))\n",
       "  (conv2d_3): Conv2d(16, 8, kernel_size=(3, 3), stride=(1, 1), padding=(1, 1))\n",
       "  (conv2d_4): Conv2d(8, 16, kernel_size=(3, 3), stride=(1, 1), padding=(1, 1))\n",
       "  (conv2d_5): Conv2d(48, 64, kernel_size=(1, 1), stride=(1, 1))\n",
       "  (conv2d_6): Conv2d(64, 64, kernel_size=(3, 3), stride=(2, 2), padding=(1, 1))\n",
       "  (conv2d_7): Conv2d(64, 64, kernel_size=(1, 1), stride=(1, 1))\n",
       "  (conv2d_8): Conv2d(32, 16, kernel_size=(3, 3), stride=(1, 1), padding=(1, 1))\n",
       "  (conv2d_9): Conv2d(16, 32, kernel_size=(3, 3), stride=(1, 1), padding=(1, 1))\n",
       "  (conv2d_10): Conv2d(96, 128, kernel_size=(1, 1), stride=(1, 1))\n",
       "  (conv2d_11): Conv2d(128, 128, kernel_size=(3, 3), stride=(2, 2), padding=(1, 1))\n",
       "  (conv2d_12): Conv2d(128, 128, kernel_size=(1, 1), stride=(1, 1))\n",
       "  (conv2d_13): Conv2d(64, 32, kernel_size=(1, 1), stride=(1, 1))\n",
       "  (conv2d_14): Conv2d(64, 32, kernel_size=(1, 1), stride=(1, 1))\n",
       "  (conv2d_15): Conv2d(32, 32, kernel_size=(3, 3), stride=(1, 1), padding=(1, 1))\n",
       "  (conv2d_16): Conv2d(32, 32, kernel_size=(3, 3), stride=(1, 1), padding=(1, 1))\n",
       "  (conv2d_17): Conv2d(32, 32, kernel_size=(3, 3), stride=(1, 1), padding=(1, 1))\n",
       "  (conv2d_18): Conv2d(32, 32, kernel_size=(3, 3), stride=(1, 1), padding=(1, 1))\n",
       "  (conv2d_19): Conv2d(64, 64, kernel_size=(1, 1), stride=(1, 1))\n",
       "  (conv2d_20): Conv2d(192, 128, kernel_size=(1, 1), stride=(1, 1))\n",
       "  (conv2d_21): Conv2d(128, 256, kernel_size=(3, 3), stride=(2, 2), padding=(1, 1))\n",
       "  (conv2d_22): Conv2d(256, 256, kernel_size=(1, 1), stride=(1, 1))\n",
       "  (conv2d_23): Conv2d(128, 64, kernel_size=(1, 1), stride=(1, 1))\n",
       "  (conv2d_24): Conv2d(128, 64, kernel_size=(1, 1), stride=(1, 1))\n",
       "  (conv2d_25): Conv2d(64, 64, kernel_size=(3, 3), stride=(1, 1), padding=(1, 1))\n",
       "  (conv2d_26): Conv2d(64, 64, kernel_size=(3, 3), stride=(1, 1), padding=(1, 1))\n",
       "  (conv2d_27): Conv2d(64, 64, kernel_size=(3, 3), stride=(1, 1), padding=(1, 1))\n",
       "  (conv2d_28): Conv2d(64, 64, kernel_size=(3, 3), stride=(1, 1), padding=(1, 1))\n",
       "  (conv2d_29): Conv2d(128, 128, kernel_size=(1, 1), stride=(1, 1))\n",
       "  (conv2d_30): Conv2d(384, 256, kernel_size=(1, 1), stride=(1, 1))\n",
       "  (conv2d_31): Conv2d(256, 256, kernel_size=(1, 1), stride=(1, 1))\n",
       "  (conv2d_32): Conv2d(128, 256, kernel_size=(1, 1), stride=(1, 1))\n",
       "  (conv2d_33): Conv2d(128, 128, kernel_size=(3, 3), stride=(1, 1), padding=(1, 1), groups=128)\n",
       "  (conv2d_34): Conv2d(128, 128, kernel_size=(1, 1), stride=(1, 1))\n",
       "  (conv2d_35): Conv2d(128, 256, kernel_size=(1, 1), stride=(1, 1))\n",
       "  (conv2d_36): Conv2d(256, 128, kernel_size=(1, 1), stride=(1, 1))\n",
       "  (conv2d_37): Conv2d(256, 256, kernel_size=(1, 1), stride=(1, 1))\n",
       "  (conv2d_38): Conv2d(256, 1280, kernel_size=(1, 1), stride=(1, 1))\n",
       "  (linear_0): Linear(in_features=1280, out_features=5, bias=True)\n",
       ")"
      ]
     },
     "execution_count": 5,
     "metadata": {},
     "output_type": "execute_result"
    }
   ],
   "source": [
    "import pnnx\n",
    "import torch\n",
    "\n",
    "# Define the input shape\n",
    "input_shape = [1, 3, 640, 640]\n",
    "\n",
    "# Create a dummy PyTorch tensor with the input shape\n",
    "dummy_input = torch.randn(input_shape)\n",
    "\n",
    "# Convert the ONNX model to NCNN format\n",
    "pnnx.convert(\"best_simplified.onnx\", [dummy_input], ncnnparam=\"best.param\", ncnnbin=\"best.bin\")"
   ]
  },
  {
   "cell_type": "code",
   "execution_count": null,
   "id": "35002303-7a9b-4e58-beae-adcb6f4c121d",
   "metadata": {},
   "outputs": [],
   "source": []
  }
 ],
 "metadata": {
  "kernelspec": {
   "display_name": "Python 3 (ipykernel)",
   "language": "python",
   "name": "python3"
  },
  "language_info": {
   "codemirror_mode": {
    "name": "ipython",
    "version": 3
   },
   "file_extension": ".py",
   "mimetype": "text/x-python",
   "name": "python",
   "nbconvert_exporter": "python",
   "pygments_lexer": "ipython3",
   "version": "3.9.21"
  }
 },
 "nbformat": 4,
 "nbformat_minor": 5
}
